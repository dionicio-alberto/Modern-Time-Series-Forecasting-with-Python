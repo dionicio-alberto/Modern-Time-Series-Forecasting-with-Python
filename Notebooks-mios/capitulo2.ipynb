{
 "cells": [
  {
   "cell_type": "markdown",
   "metadata": {},
   "source": [
    "# Acquiring and Processing Time Series Data\n",
    " \n",
    "We are going to start working on the dataset we have chosen to work on throughout this book, process it in the right way, and learn about a few techniques for dealing with missing values.\n",
    "\n",
    "In this chapter, we will cover the following topics:\n",
    "- Understanding the time series dataset\n",
    "- pandas datetime operations, indexing, and slicing – a refresher\n",
    "- Handling missing data\n",
    "- Mapping additional information\n",
    "- Saving and loading files to disk\n",
    "- Handling longer periods of missing data"
   ]
  },
  {
   "cell_type": "code",
   "execution_count": 2,
   "metadata": {},
   "outputs": [
    {
     "name": "stderr",
     "output_type": "stream",
     "text": [
      "C:\\Users\\dioni\\AppData\\Local\\Temp\\ipykernel_14328\\996648543.py:11: TqdmExperimentalWarning:\n",
      "\n",
      "Using `tqdm.autonotebook.tqdm` in notebook mode. Use `tqdm.tqdm` instead to force console mode (e.g. in jupyter console)\n",
      "\n"
     ]
    }
   ],
   "source": [
    "import numpy as np\n",
    "import matplotlib.pyplot as plt\n",
    "import plotly.express as px\n",
    "import plotly.graph_objects as go\n",
    "import os\n",
    "import plotly.io as pio\n",
    "pio.templates.default = \"plotly_white\"\n",
    "pio.kaleido.scope.mathjax = None\n",
    "import pandas as pd\n",
    "from pathlib import Path\n",
    "from tqdm.autonotebook import tqdm\n",
    "from itertools import cycle\n",
    "%load_ext autoreload\n",
    "%autoreload 2\n",
    "np.random.seed()\n",
    "tqdm.pandas()"
   ]
  },
  {
   "cell_type": "code",
   "execution_count": 3,
   "metadata": {},
   "outputs": [],
   "source": [
    "os.makedirs(\"imgs/chapter_2\", exist_ok=True)"
   ]
  },
  {
   "cell_type": "markdown",
   "metadata": {},
   "source": [
    "-----"
   ]
  },
  {
   "cell_type": "code",
   "execution_count": 5,
   "metadata": {},
   "outputs": [
    {
     "name": "stderr",
     "output_type": "stream",
     "text": [
      "c:\\Users\\dioni\\anaconda3\\envs\\modern-ts\\lib\\site-packages\\openpyxl\\worksheet\\_read_only.py:79: UserWarning:\n",
      "\n",
      "Unknown extension is not supported and will be removed\n",
      "\n"
     ]
    },
    {
     "data": {
      "text/html": [
       "<div>\n",
       "<style scoped>\n",
       "    .dataframe tbody tr th:only-of-type {\n",
       "        vertical-align: middle;\n",
       "    }\n",
       "\n",
       "    .dataframe tbody tr th {\n",
       "        vertical-align: top;\n",
       "    }\n",
       "\n",
       "    .dataframe thead th {\n",
       "        text-align: right;\n",
       "    }\n",
       "</style>\n",
       "<table border=\"1\" class=\"dataframe\">\n",
       "  <thead>\n",
       "    <tr style=\"text-align: right;\">\n",
       "      <th></th>\n",
       "      <th>date</th>\n",
       "      <th>ISE</th>\n",
       "      <th>ISE.1</th>\n",
       "      <th>SP</th>\n",
       "      <th>DAX</th>\n",
       "      <th>FTSE</th>\n",
       "      <th>NIKKEI</th>\n",
       "      <th>BOVESPA</th>\n",
       "      <th>EU</th>\n",
       "      <th>EM</th>\n",
       "    </tr>\n",
       "  </thead>\n",
       "  <tbody>\n",
       "    <tr>\n",
       "      <th>0</th>\n",
       "      <td>2009-01-05</td>\n",
       "      <td>0.035754</td>\n",
       "      <td>0.038376</td>\n",
       "      <td>-0.004679</td>\n",
       "      <td>0.002193</td>\n",
       "      <td>0.003894</td>\n",
       "      <td>0.000000</td>\n",
       "      <td>0.031190</td>\n",
       "      <td>0.012698</td>\n",
       "      <td>0.028524</td>\n",
       "    </tr>\n",
       "    <tr>\n",
       "      <th>1</th>\n",
       "      <td>2009-01-06</td>\n",
       "      <td>0.025426</td>\n",
       "      <td>0.031813</td>\n",
       "      <td>0.007787</td>\n",
       "      <td>0.008455</td>\n",
       "      <td>0.012866</td>\n",
       "      <td>0.004162</td>\n",
       "      <td>0.018920</td>\n",
       "      <td>0.011341</td>\n",
       "      <td>0.008773</td>\n",
       "    </tr>\n",
       "    <tr>\n",
       "      <th>2</th>\n",
       "      <td>2009-01-07</td>\n",
       "      <td>-0.028862</td>\n",
       "      <td>-0.026353</td>\n",
       "      <td>-0.030469</td>\n",
       "      <td>-0.017833</td>\n",
       "      <td>-0.028735</td>\n",
       "      <td>0.017293</td>\n",
       "      <td>-0.035899</td>\n",
       "      <td>-0.017073</td>\n",
       "      <td>-0.020015</td>\n",
       "    </tr>\n",
       "    <tr>\n",
       "      <th>3</th>\n",
       "      <td>2009-01-08</td>\n",
       "      <td>-0.062208</td>\n",
       "      <td>-0.084716</td>\n",
       "      <td>0.003391</td>\n",
       "      <td>-0.011726</td>\n",
       "      <td>-0.000466</td>\n",
       "      <td>-0.040061</td>\n",
       "      <td>0.028283</td>\n",
       "      <td>-0.005561</td>\n",
       "      <td>-0.019424</td>\n",
       "    </tr>\n",
       "    <tr>\n",
       "      <th>4</th>\n",
       "      <td>2009-01-09</td>\n",
       "      <td>0.009860</td>\n",
       "      <td>0.009658</td>\n",
       "      <td>-0.021533</td>\n",
       "      <td>-0.019873</td>\n",
       "      <td>-0.012710</td>\n",
       "      <td>-0.004474</td>\n",
       "      <td>-0.009764</td>\n",
       "      <td>-0.010989</td>\n",
       "      <td>-0.007802</td>\n",
       "    </tr>\n",
       "  </tbody>\n",
       "</table>\n",
       "</div>"
      ],
      "text/plain": [
       "        date       ISE     ISE.1        SP       DAX      FTSE    NIKKEI  \\\n",
       "0 2009-01-05  0.035754  0.038376 -0.004679  0.002193  0.003894  0.000000   \n",
       "1 2009-01-06  0.025426  0.031813  0.007787  0.008455  0.012866  0.004162   \n",
       "2 2009-01-07 -0.028862 -0.026353 -0.030469 -0.017833 -0.028735  0.017293   \n",
       "3 2009-01-08 -0.062208 -0.084716  0.003391 -0.011726 -0.000466 -0.040061   \n",
       "4 2009-01-09  0.009860  0.009658 -0.021533 -0.019873 -0.012710 -0.004474   \n",
       "\n",
       "    BOVESPA        EU        EM  \n",
       "0  0.031190  0.012698  0.028524  \n",
       "1  0.018920  0.011341  0.008773  \n",
       "2 -0.035899 -0.017073 -0.020015  \n",
       "3  0.028283 -0.005561 -0.019424  \n",
       "4 -0.009764 -0.010989 -0.007802  "
      ]
     },
     "execution_count": 5,
     "metadata": {},
     "output_type": "execute_result"
    }
   ],
   "source": [
    "df = pd.read_excel(\"https://archive.ics.uci.edu/ml/machine-learning-databases/00247/data_akbilgic.xlsx\", skiprows=1)\n",
    "\n",
    "df.head()"
   ]
  },
  {
   "cell_type": "markdown",
   "metadata": {},
   "source": [
    "Converting the date columns into pd.Timestamp/DatetimeIndex"
   ]
  },
  {
   "cell_type": "code",
   "execution_count": 31,
   "metadata": {},
   "outputs": [
    {
     "data": {
      "text/plain": [
       "'13, April, 1987'"
      ]
     },
     "execution_count": 31,
     "metadata": {},
     "output_type": "execute_result"
    }
   ],
   "source": [
    "pd.to_datetime(\"13-4-1987\",dayfirst=True).strftime(\"%d, %B, %Y\")\n"
   ]
  },
  {
   "cell_type": "code",
   "execution_count": 32,
   "metadata": {},
   "outputs": [],
   "source": [
    "df['date'] = pd.to_datetime(df['date'], yearfirst=True)"
   ]
  },
  {
   "cell_type": "code",
   "execution_count": 37,
   "metadata": {},
   "outputs": [
    {
     "data": {
      "text/plain": [
       "dtype('<M8[ns]')"
      ]
     },
     "execution_count": 37,
     "metadata": {},
     "output_type": "execute_result"
    }
   ],
   "source": [
    "df.date.dtype"
   ]
  },
  {
   "cell_type": "code",
   "execution_count": 41,
   "metadata": {},
   "outputs": [
    {
     "data": {
      "text/plain": [
       "(Timestamp('2009-01-05 00:00:00'), Timestamp('2011-02-22 00:00:00'))"
      ]
     },
     "execution_count": 41,
     "metadata": {},
     "output_type": "execute_result"
    }
   ],
   "source": [
    "df.date.min(),df.date.max()"
   ]
  },
  {
   "cell_type": "markdown",
   "metadata": {},
   "source": [
    "----\n",
    "\n",
    "# Using the .dt accessor and datetime properties\n",
    "\n",
    "Since the column is now in date format, all the semantic information that is encoded in the date can be\n",
    "used through pandas datetime properties. We can access many datetime properties, such as month,\n",
    "day_of_week, day_of_year, and so on, using the .dt accessor:\n"
   ]
  },
  {
   "cell_type": "code",
   "execution_count": 71,
   "metadata": {},
   "outputs": [
    {
     "name": "stdout",
     "output_type": "stream",
     "text": [
      "\n",
      "Date: 2009-01-05 00:00:00\n",
      "Day of year: 5\n",
      "Day of week: 0\n",
      "Week of Year: 2\n",
      "Month: 1\n",
      "Month Name: January\n",
      "Quarter: 1\n",
      "Year: 2009\n",
      "ISO Week: 2\n",
      "\n"
     ]
    }
   ],
   "source": [
    "print(f\"\"\"\n",
    "Date: {df.date.iloc[0]}\n",
    "Day of year: {df.date.dt.day_of_year.iloc[0]}\n",
    "Day of week: {df.date.dt.dayofweek.iloc[0]}\n",
    "Week of Year: {df.date.dt.isocalendar().week[0]}\n",
    "Month: {df.date.dt.month.iloc[0]}\n",
    "Month Name: {df.date.dt.month_name().iloc[0]}\n",
    "Quarter: {df.date.dt.quarter.iloc[0]}\n",
    "Year: {df.date.dt.year.iloc[0]}\n",
    "ISO Week: {df.date.dt.isocalendar().week.iloc[0]}\n",
    "\"\"\")"
   ]
  },
  {
   "cell_type": "markdown",
   "metadata": {},
   "source": [
    "# Slicing and indexing"
   ]
  },
  {
   "cell_type": "code",
   "execution_count": 74,
   "metadata": {},
   "outputs": [
    {
     "ename": "KeyError",
     "evalue": "\"None of ['date'] are in the columns\"",
     "output_type": "error",
     "traceback": [
      "\u001b[1;31m---------------------------------------------------------------------------\u001b[0m",
      "\u001b[1;31mKeyError\u001b[0m                                  Traceback (most recent call last)",
      "\u001b[1;32m~\\AppData\\Local\\Temp\\ipykernel_14328\\1359229586.py\u001b[0m in \u001b[0;36m?\u001b[1;34m()\u001b[0m\n\u001b[1;32m----> 2\u001b[1;33m \u001b[1;31m# Setting the index as the datatime column\u001b[0m\u001b[1;33m\u001b[0m\u001b[1;33m\u001b[0m\u001b[0m\n\u001b[0m\u001b[0;32m      3\u001b[0m \u001b[0mdf\u001b[0m\u001b[1;33m.\u001b[0m\u001b[0mset_index\u001b[0m\u001b[1;33m(\u001b[0m\u001b[1;34m\"date\"\u001b[0m\u001b[1;33m,\u001b[0m \u001b[0minplace\u001b[0m\u001b[1;33m=\u001b[0m\u001b[1;32mTrue\u001b[0m\u001b[1;33m)\u001b[0m\u001b[1;33m\u001b[0m\u001b[1;33m\u001b[0m\u001b[0m\n\u001b[0;32m      4\u001b[0m \u001b[1;33m\u001b[0m\u001b[0m\n\u001b[0;32m      5\u001b[0m \u001b[1;31m# Select all data after 2010-01-04 (including)\u001b[0m\u001b[1;33m\u001b[0m\u001b[1;33m\u001b[0m\u001b[0m\n",
      "\u001b[1;32mc:\\Users\\dioni\\anaconda3\\envs\\modern-ts\\lib\\site-packages\\pandas\\core\\frame.py\u001b[0m in \u001b[0;36m?\u001b[1;34m(self, keys, drop, append, inplace, verify_integrity)\u001b[0m\n\u001b[0;32m   5869\u001b[0m                     \u001b[1;32mif\u001b[0m \u001b[1;32mnot\u001b[0m \u001b[0mfound\u001b[0m\u001b[1;33m:\u001b[0m\u001b[1;33m\u001b[0m\u001b[1;33m\u001b[0m\u001b[0m\n\u001b[0;32m   5870\u001b[0m                         \u001b[0mmissing\u001b[0m\u001b[1;33m.\u001b[0m\u001b[0mappend\u001b[0m\u001b[1;33m(\u001b[0m\u001b[0mcol\u001b[0m\u001b[1;33m)\u001b[0m\u001b[1;33m\u001b[0m\u001b[1;33m\u001b[0m\u001b[0m\n\u001b[0;32m   5871\u001b[0m \u001b[1;33m\u001b[0m\u001b[0m\n\u001b[0;32m   5872\u001b[0m         \u001b[1;32mif\u001b[0m \u001b[0mmissing\u001b[0m\u001b[1;33m:\u001b[0m\u001b[1;33m\u001b[0m\u001b[1;33m\u001b[0m\u001b[0m\n\u001b[1;32m-> 5873\u001b[1;33m             \u001b[1;32mraise\u001b[0m \u001b[0mKeyError\u001b[0m\u001b[1;33m(\u001b[0m\u001b[1;34mf\"None of {missing} are in the columns\"\u001b[0m\u001b[1;33m)\u001b[0m\u001b[1;33m\u001b[0m\u001b[1;33m\u001b[0m\u001b[0m\n\u001b[0m\u001b[0;32m   5874\u001b[0m \u001b[1;33m\u001b[0m\u001b[0m\n\u001b[0;32m   5875\u001b[0m         \u001b[1;32mif\u001b[0m \u001b[0minplace\u001b[0m\u001b[1;33m:\u001b[0m\u001b[1;33m\u001b[0m\u001b[1;33m\u001b[0m\u001b[0m\n\u001b[0;32m   5876\u001b[0m             \u001b[0mframe\u001b[0m \u001b[1;33m=\u001b[0m \u001b[0mself\u001b[0m\u001b[1;33m\u001b[0m\u001b[1;33m\u001b[0m\u001b[0m\n",
      "\u001b[1;31mKeyError\u001b[0m: \"None of ['date'] are in the columns\""
     ]
    }
   ],
   "source": [
    "# Setting the index as the datatime column\n",
    "df.set_index(\"date\", inplace=True)"
   ]
  },
  {
   "cell_type": "code",
   "execution_count": 75,
   "metadata": {},
   "outputs": [
    {
     "data": {
      "text/html": [
       "<div>\n",
       "<style scoped>\n",
       "    .dataframe tbody tr th:only-of-type {\n",
       "        vertical-align: middle;\n",
       "    }\n",
       "\n",
       "    .dataframe tbody tr th {\n",
       "        vertical-align: top;\n",
       "    }\n",
       "\n",
       "    .dataframe thead th {\n",
       "        text-align: right;\n",
       "    }\n",
       "</style>\n",
       "<table border=\"1\" class=\"dataframe\">\n",
       "  <thead>\n",
       "    <tr style=\"text-align: right;\">\n",
       "      <th></th>\n",
       "      <th>ISE</th>\n",
       "      <th>ISE.1</th>\n",
       "      <th>SP</th>\n",
       "      <th>DAX</th>\n",
       "      <th>FTSE</th>\n",
       "      <th>NIKKEI</th>\n",
       "      <th>BOVESPA</th>\n",
       "      <th>EU</th>\n",
       "      <th>EM</th>\n",
       "    </tr>\n",
       "    <tr>\n",
       "      <th>date</th>\n",
       "      <th></th>\n",
       "      <th></th>\n",
       "      <th></th>\n",
       "      <th></th>\n",
       "      <th></th>\n",
       "      <th></th>\n",
       "      <th></th>\n",
       "      <th></th>\n",
       "      <th></th>\n",
       "    </tr>\n",
       "  </thead>\n",
       "  <tbody>\n",
       "    <tr>\n",
       "      <th>2010-01-04</th>\n",
       "      <td>0.010229</td>\n",
       "      <td>0.014478</td>\n",
       "      <td>0.015916</td>\n",
       "      <td>0.000000</td>\n",
       "      <td>0.016018</td>\n",
       "      <td>0.000000</td>\n",
       "      <td>0.000000</td>\n",
       "      <td>0.016778</td>\n",
       "      <td>0.008399</td>\n",
       "    </tr>\n",
       "    <tr>\n",
       "      <th>2010-01-05</th>\n",
       "      <td>0.013898</td>\n",
       "      <td>0.024019</td>\n",
       "      <td>0.003111</td>\n",
       "      <td>-0.002722</td>\n",
       "      <td>0.004028</td>\n",
       "      <td>0.002535</td>\n",
       "      <td>0.002780</td>\n",
       "      <td>0.001316</td>\n",
       "      <td>0.008067</td>\n",
       "    </tr>\n",
       "    <tr>\n",
       "      <th>2010-01-06</th>\n",
       "      <td>0.007957</td>\n",
       "      <td>0.005706</td>\n",
       "      <td>0.000545</td>\n",
       "      <td>0.000409</td>\n",
       "      <td>0.001357</td>\n",
       "      <td>0.004635</td>\n",
       "      <td>0.006938</td>\n",
       "      <td>0.000586</td>\n",
       "      <td>0.005330</td>\n",
       "    </tr>\n",
       "    <tr>\n",
       "      <th>2010-01-07</th>\n",
       "      <td>0.007772</td>\n",
       "      <td>0.007498</td>\n",
       "      <td>0.003993</td>\n",
       "      <td>-0.002484</td>\n",
       "      <td>-0.000597</td>\n",
       "      <td>-0.004650</td>\n",
       "      <td>-0.003938</td>\n",
       "      <td>-0.000360</td>\n",
       "      <td>-0.006375</td>\n",
       "    </tr>\n",
       "    <tr>\n",
       "      <th>2010-01-08</th>\n",
       "      <td>-0.003189</td>\n",
       "      <td>0.000835</td>\n",
       "      <td>0.002878</td>\n",
       "      <td>0.003027</td>\n",
       "      <td>0.001356</td>\n",
       "      <td>0.010862</td>\n",
       "      <td>-0.002672</td>\n",
       "      <td>0.003554</td>\n",
       "      <td>0.001229</td>\n",
       "    </tr>\n",
       "    <tr>\n",
       "      <th>...</th>\n",
       "      <td>...</td>\n",
       "      <td>...</td>\n",
       "      <td>...</td>\n",
       "      <td>...</td>\n",
       "      <td>...</td>\n",
       "      <td>...</td>\n",
       "      <td>...</td>\n",
       "      <td>...</td>\n",
       "      <td>...</td>\n",
       "    </tr>\n",
       "    <tr>\n",
       "      <th>2011-02-16</th>\n",
       "      <td>0.008599</td>\n",
       "      <td>0.013400</td>\n",
       "      <td>0.006238</td>\n",
       "      <td>0.001925</td>\n",
       "      <td>0.007952</td>\n",
       "      <td>0.005717</td>\n",
       "      <td>0.018371</td>\n",
       "      <td>0.006975</td>\n",
       "      <td>0.003039</td>\n",
       "    </tr>\n",
       "    <tr>\n",
       "      <th>2011-02-17</th>\n",
       "      <td>0.009310</td>\n",
       "      <td>0.015977</td>\n",
       "      <td>0.003071</td>\n",
       "      <td>-0.001186</td>\n",
       "      <td>0.000345</td>\n",
       "      <td>0.002620</td>\n",
       "      <td>0.001686</td>\n",
       "      <td>-0.000581</td>\n",
       "      <td>0.001039</td>\n",
       "    </tr>\n",
       "    <tr>\n",
       "      <th>2011-02-18</th>\n",
       "      <td>0.000191</td>\n",
       "      <td>-0.001653</td>\n",
       "      <td>0.001923</td>\n",
       "      <td>0.002872</td>\n",
       "      <td>-0.000723</td>\n",
       "      <td>0.000568</td>\n",
       "      <td>0.005628</td>\n",
       "      <td>0.000572</td>\n",
       "      <td>0.006938</td>\n",
       "    </tr>\n",
       "    <tr>\n",
       "      <th>2011-02-21</th>\n",
       "      <td>-0.013069</td>\n",
       "      <td>-0.013706</td>\n",
       "      <td>-0.020742</td>\n",
       "      <td>-0.014239</td>\n",
       "      <td>-0.011275</td>\n",
       "      <td>0.001358</td>\n",
       "      <td>-0.011942</td>\n",
       "      <td>-0.012615</td>\n",
       "      <td>-0.000958</td>\n",
       "    </tr>\n",
       "    <tr>\n",
       "      <th>2011-02-22</th>\n",
       "      <td>-0.007246</td>\n",
       "      <td>-0.019442</td>\n",
       "      <td>0.000000</td>\n",
       "      <td>-0.000473</td>\n",
       "      <td>-0.002997</td>\n",
       "      <td>-0.017920</td>\n",
       "      <td>-0.012252</td>\n",
       "      <td>-0.005465</td>\n",
       "      <td>-0.014297</td>\n",
       "    </tr>\n",
       "  </tbody>\n",
       "</table>\n",
       "<p>286 rows × 9 columns</p>\n",
       "</div>"
      ],
      "text/plain": [
       "                 ISE     ISE.1        SP       DAX      FTSE    NIKKEI  \\\n",
       "date                                                                     \n",
       "2010-01-04  0.010229  0.014478  0.015916  0.000000  0.016018  0.000000   \n",
       "2010-01-05  0.013898  0.024019  0.003111 -0.002722  0.004028  0.002535   \n",
       "2010-01-06  0.007957  0.005706  0.000545  0.000409  0.001357  0.004635   \n",
       "2010-01-07  0.007772  0.007498  0.003993 -0.002484 -0.000597 -0.004650   \n",
       "2010-01-08 -0.003189  0.000835  0.002878  0.003027  0.001356  0.010862   \n",
       "...              ...       ...       ...       ...       ...       ...   \n",
       "2011-02-16  0.008599  0.013400  0.006238  0.001925  0.007952  0.005717   \n",
       "2011-02-17  0.009310  0.015977  0.003071 -0.001186  0.000345  0.002620   \n",
       "2011-02-18  0.000191 -0.001653  0.001923  0.002872 -0.000723  0.000568   \n",
       "2011-02-21 -0.013069 -0.013706 -0.020742 -0.014239 -0.011275  0.001358   \n",
       "2011-02-22 -0.007246 -0.019442  0.000000 -0.000473 -0.002997 -0.017920   \n",
       "\n",
       "             BOVESPA        EU        EM  \n",
       "date                                      \n",
       "2010-01-04  0.000000  0.016778  0.008399  \n",
       "2010-01-05  0.002780  0.001316  0.008067  \n",
       "2010-01-06  0.006938  0.000586  0.005330  \n",
       "2010-01-07 -0.003938 -0.000360 -0.006375  \n",
       "2010-01-08 -0.002672  0.003554  0.001229  \n",
       "...              ...       ...       ...  \n",
       "2011-02-16  0.018371  0.006975  0.003039  \n",
       "2011-02-17  0.001686 -0.000581  0.001039  \n",
       "2011-02-18  0.005628  0.000572  0.006938  \n",
       "2011-02-21 -0.011942 -0.012615 -0.000958  \n",
       "2011-02-22 -0.012252 -0.005465 -0.014297  \n",
       "\n",
       "[286 rows x 9 columns]"
      ]
     },
     "execution_count": 75,
     "metadata": {},
     "output_type": "execute_result"
    }
   ],
   "source": [
    "df[\"2010-01-04\":]"
   ]
  },
  {
   "cell_type": "code",
   "execution_count": 78,
   "metadata": {},
   "outputs": [
    {
     "data": {
      "text/html": [
       "<div>\n",
       "<style scoped>\n",
       "    .dataframe tbody tr th:only-of-type {\n",
       "        vertical-align: middle;\n",
       "    }\n",
       "\n",
       "    .dataframe tbody tr th {\n",
       "        vertical-align: top;\n",
       "    }\n",
       "\n",
       "    .dataframe thead th {\n",
       "        text-align: right;\n",
       "    }\n",
       "</style>\n",
       "<table border=\"1\" class=\"dataframe\">\n",
       "  <thead>\n",
       "    <tr style=\"text-align: right;\">\n",
       "      <th></th>\n",
       "      <th>ISE</th>\n",
       "      <th>ISE.1</th>\n",
       "      <th>SP</th>\n",
       "      <th>DAX</th>\n",
       "      <th>FTSE</th>\n",
       "      <th>NIKKEI</th>\n",
       "      <th>BOVESPA</th>\n",
       "      <th>EU</th>\n",
       "      <th>EM</th>\n",
       "    </tr>\n",
       "    <tr>\n",
       "      <th>date</th>\n",
       "      <th></th>\n",
       "      <th></th>\n",
       "      <th></th>\n",
       "      <th></th>\n",
       "      <th></th>\n",
       "      <th></th>\n",
       "      <th></th>\n",
       "      <th></th>\n",
       "      <th></th>\n",
       "    </tr>\n",
       "  </thead>\n",
       "  <tbody>\n",
       "    <tr>\n",
       "      <th>2010-01-04</th>\n",
       "      <td>0.010229</td>\n",
       "      <td>0.014478</td>\n",
       "      <td>0.015916</td>\n",
       "      <td>0.000000</td>\n",
       "      <td>0.016018</td>\n",
       "      <td>0.000000</td>\n",
       "      <td>0.000000</td>\n",
       "      <td>0.016778</td>\n",
       "      <td>0.008399</td>\n",
       "    </tr>\n",
       "    <tr>\n",
       "      <th>2010-01-05</th>\n",
       "      <td>0.013898</td>\n",
       "      <td>0.024019</td>\n",
       "      <td>0.003111</td>\n",
       "      <td>-0.002722</td>\n",
       "      <td>0.004028</td>\n",
       "      <td>0.002535</td>\n",
       "      <td>0.002780</td>\n",
       "      <td>0.001316</td>\n",
       "      <td>0.008067</td>\n",
       "    </tr>\n",
       "    <tr>\n",
       "      <th>2010-01-06</th>\n",
       "      <td>0.007957</td>\n",
       "      <td>0.005706</td>\n",
       "      <td>0.000545</td>\n",
       "      <td>0.000409</td>\n",
       "      <td>0.001357</td>\n",
       "      <td>0.004635</td>\n",
       "      <td>0.006938</td>\n",
       "      <td>0.000586</td>\n",
       "      <td>0.005330</td>\n",
       "    </tr>\n",
       "    <tr>\n",
       "      <th>2010-01-07</th>\n",
       "      <td>0.007772</td>\n",
       "      <td>0.007498</td>\n",
       "      <td>0.003993</td>\n",
       "      <td>-0.002484</td>\n",
       "      <td>-0.000597</td>\n",
       "      <td>-0.004650</td>\n",
       "      <td>-0.003938</td>\n",
       "      <td>-0.000360</td>\n",
       "      <td>-0.006375</td>\n",
       "    </tr>\n",
       "    <tr>\n",
       "      <th>2010-01-08</th>\n",
       "      <td>-0.003189</td>\n",
       "      <td>0.000835</td>\n",
       "      <td>0.002878</td>\n",
       "      <td>0.003027</td>\n",
       "      <td>0.001356</td>\n",
       "      <td>0.010862</td>\n",
       "      <td>-0.002672</td>\n",
       "      <td>0.003554</td>\n",
       "      <td>0.001229</td>\n",
       "    </tr>\n",
       "    <tr>\n",
       "      <th>2010-01-11</th>\n",
       "      <td>-0.016131</td>\n",
       "      <td>-0.006033</td>\n",
       "      <td>0.001745</td>\n",
       "      <td>0.000479</td>\n",
       "      <td>0.000704</td>\n",
       "      <td>0.007457</td>\n",
       "      <td>0.002417</td>\n",
       "      <td>-0.000498</td>\n",
       "      <td>0.005447</td>\n",
       "    </tr>\n",
       "    <tr>\n",
       "      <th>2010-01-12</th>\n",
       "      <td>-0.004549</td>\n",
       "      <td>-0.004339</td>\n",
       "      <td>-0.009425</td>\n",
       "      <td>-0.016273</td>\n",
       "      <td>-0.007140</td>\n",
       "      <td>0.000000</td>\n",
       "      <td>-0.005082</td>\n",
       "      <td>-0.009893</td>\n",
       "      <td>-0.003729</td>\n",
       "    </tr>\n",
       "    <tr>\n",
       "      <th>2010-01-13</th>\n",
       "      <td>0.017559</td>\n",
       "      <td>0.021362</td>\n",
       "      <td>0.008291</td>\n",
       "      <td>0.003383</td>\n",
       "      <td>-0.004593</td>\n",
       "      <td>-0.013335</td>\n",
       "      <td>0.004400</td>\n",
       "      <td>-0.000075</td>\n",
       "      <td>-0.007263</td>\n",
       "    </tr>\n",
       "    <tr>\n",
       "      <th>2010-01-14</th>\n",
       "      <td>0.002074</td>\n",
       "      <td>-0.002076</td>\n",
       "      <td>0.002424</td>\n",
       "      <td>0.004307</td>\n",
       "      <td>0.004503</td>\n",
       "      <td>0.015955</td>\n",
       "      <td>-0.008332</td>\n",
       "      <td>0.005500</td>\n",
       "      <td>0.002313</td>\n",
       "    </tr>\n",
       "  </tbody>\n",
       "</table>\n",
       "</div>"
      ],
      "text/plain": [
       "                 ISE     ISE.1        SP       DAX      FTSE    NIKKEI  \\\n",
       "date                                                                     \n",
       "2010-01-04  0.010229  0.014478  0.015916  0.000000  0.016018  0.000000   \n",
       "2010-01-05  0.013898  0.024019  0.003111 -0.002722  0.004028  0.002535   \n",
       "2010-01-06  0.007957  0.005706  0.000545  0.000409  0.001357  0.004635   \n",
       "2010-01-07  0.007772  0.007498  0.003993 -0.002484 -0.000597 -0.004650   \n",
       "2010-01-08 -0.003189  0.000835  0.002878  0.003027  0.001356  0.010862   \n",
       "2010-01-11 -0.016131 -0.006033  0.001745  0.000479  0.000704  0.007457   \n",
       "2010-01-12 -0.004549 -0.004339 -0.009425 -0.016273 -0.007140  0.000000   \n",
       "2010-01-13  0.017559  0.021362  0.008291  0.003383 -0.004593 -0.013335   \n",
       "2010-01-14  0.002074 -0.002076  0.002424  0.004307  0.004503  0.015955   \n",
       "\n",
       "             BOVESPA        EU        EM  \n",
       "date                                      \n",
       "2010-01-04  0.000000  0.016778  0.008399  \n",
       "2010-01-05  0.002780  0.001316  0.008067  \n",
       "2010-01-06  0.006938  0.000586  0.005330  \n",
       "2010-01-07 -0.003938 -0.000360 -0.006375  \n",
       "2010-01-08 -0.002672  0.003554  0.001229  \n",
       "2010-01-11  0.002417 -0.000498  0.005447  \n",
       "2010-01-12 -0.005082 -0.009893 -0.003729  \n",
       "2010-01-13  0.004400 -0.000075 -0.007263  \n",
       "2010-01-14 -0.008332  0.005500  0.002313  "
      ]
     },
     "execution_count": 78,
     "metadata": {},
     "output_type": "execute_result"
    }
   ],
   "source": [
    "# Select all data between 2010-01-04 and 2010-02-06(not including)\n",
    "df[\"2010-01-04\": \"2010-01-14\"]"
   ]
  },
  {
   "cell_type": "code",
   "execution_count": 79,
   "metadata": {},
   "outputs": [
    {
     "data": {
      "text/html": [
       "<div>\n",
       "<style scoped>\n",
       "    .dataframe tbody tr th:only-of-type {\n",
       "        vertical-align: middle;\n",
       "    }\n",
       "\n",
       "    .dataframe tbody tr th {\n",
       "        vertical-align: top;\n",
       "    }\n",
       "\n",
       "    .dataframe thead th {\n",
       "        text-align: right;\n",
       "    }\n",
       "</style>\n",
       "<table border=\"1\" class=\"dataframe\">\n",
       "  <thead>\n",
       "    <tr style=\"text-align: right;\">\n",
       "      <th></th>\n",
       "      <th>ISE</th>\n",
       "      <th>ISE.1</th>\n",
       "      <th>SP</th>\n",
       "      <th>DAX</th>\n",
       "      <th>FTSE</th>\n",
       "      <th>NIKKEI</th>\n",
       "      <th>BOVESPA</th>\n",
       "      <th>EU</th>\n",
       "      <th>EM</th>\n",
       "    </tr>\n",
       "    <tr>\n",
       "      <th>date</th>\n",
       "      <th></th>\n",
       "      <th></th>\n",
       "      <th></th>\n",
       "      <th></th>\n",
       "      <th></th>\n",
       "      <th></th>\n",
       "      <th></th>\n",
       "      <th></th>\n",
       "      <th></th>\n",
       "    </tr>\n",
       "  </thead>\n",
       "  <tbody>\n",
       "    <tr>\n",
       "      <th>2009-01-05</th>\n",
       "      <td>0.035754</td>\n",
       "      <td>0.038376</td>\n",
       "      <td>-0.004679</td>\n",
       "      <td>0.002193</td>\n",
       "      <td>0.003894</td>\n",
       "      <td>0.000000</td>\n",
       "      <td>0.031190</td>\n",
       "      <td>0.012698</td>\n",
       "      <td>0.028524</td>\n",
       "    </tr>\n",
       "    <tr>\n",
       "      <th>2009-01-06</th>\n",
       "      <td>0.025426</td>\n",
       "      <td>0.031813</td>\n",
       "      <td>0.007787</td>\n",
       "      <td>0.008455</td>\n",
       "      <td>0.012866</td>\n",
       "      <td>0.004162</td>\n",
       "      <td>0.018920</td>\n",
       "      <td>0.011341</td>\n",
       "      <td>0.008773</td>\n",
       "    </tr>\n",
       "    <tr>\n",
       "      <th>2009-01-07</th>\n",
       "      <td>-0.028862</td>\n",
       "      <td>-0.026353</td>\n",
       "      <td>-0.030469</td>\n",
       "      <td>-0.017833</td>\n",
       "      <td>-0.028735</td>\n",
       "      <td>0.017293</td>\n",
       "      <td>-0.035899</td>\n",
       "      <td>-0.017073</td>\n",
       "      <td>-0.020015</td>\n",
       "    </tr>\n",
       "    <tr>\n",
       "      <th>2009-01-08</th>\n",
       "      <td>-0.062208</td>\n",
       "      <td>-0.084716</td>\n",
       "      <td>0.003391</td>\n",
       "      <td>-0.011726</td>\n",
       "      <td>-0.000466</td>\n",
       "      <td>-0.040061</td>\n",
       "      <td>0.028283</td>\n",
       "      <td>-0.005561</td>\n",
       "      <td>-0.019424</td>\n",
       "    </tr>\n",
       "    <tr>\n",
       "      <th>2009-01-09</th>\n",
       "      <td>0.009860</td>\n",
       "      <td>0.009658</td>\n",
       "      <td>-0.021533</td>\n",
       "      <td>-0.019873</td>\n",
       "      <td>-0.012710</td>\n",
       "      <td>-0.004474</td>\n",
       "      <td>-0.009764</td>\n",
       "      <td>-0.010989</td>\n",
       "      <td>-0.007802</td>\n",
       "    </tr>\n",
       "    <tr>\n",
       "      <th>...</th>\n",
       "      <td>...</td>\n",
       "      <td>...</td>\n",
       "      <td>...</td>\n",
       "      <td>...</td>\n",
       "      <td>...</td>\n",
       "      <td>...</td>\n",
       "      <td>...</td>\n",
       "      <td>...</td>\n",
       "      <td>...</td>\n",
       "    </tr>\n",
       "    <tr>\n",
       "      <th>2010-12-27</th>\n",
       "      <td>0.001346</td>\n",
       "      <td>0.000634</td>\n",
       "      <td>0.000000</td>\n",
       "      <td>0.000000</td>\n",
       "      <td>-0.002082</td>\n",
       "      <td>0.007444</td>\n",
       "      <td>0.000000</td>\n",
       "      <td>-0.005861</td>\n",
       "      <td>-0.002417</td>\n",
       "    </tr>\n",
       "    <tr>\n",
       "      <th>2010-12-28</th>\n",
       "      <td>0.001285</td>\n",
       "      <td>0.000438</td>\n",
       "      <td>0.000771</td>\n",
       "      <td>0.000197</td>\n",
       "      <td>0.000000</td>\n",
       "      <td>-0.006137</td>\n",
       "      <td>0.003504</td>\n",
       "      <td>0.000209</td>\n",
       "      <td>-0.000196</td>\n",
       "    </tr>\n",
       "    <tr>\n",
       "      <th>2010-12-29</th>\n",
       "      <td>0.004171</td>\n",
       "      <td>-0.005582</td>\n",
       "      <td>0.001009</td>\n",
       "      <td>0.003346</td>\n",
       "      <td>0.000000</td>\n",
       "      <td>0.005031</td>\n",
       "      <td>0.013300</td>\n",
       "      <td>0.001923</td>\n",
       "      <td>0.007861</td>\n",
       "    </tr>\n",
       "    <tr>\n",
       "      <th>2010-12-30</th>\n",
       "      <td>0.001535</td>\n",
       "      <td>0.008438</td>\n",
       "      <td>-0.001509</td>\n",
       "      <td>-0.011687</td>\n",
       "      <td>-0.004245</td>\n",
       "      <td>-0.011240</td>\n",
       "      <td>0.005106</td>\n",
       "      <td>-0.009191</td>\n",
       "      <td>0.003314</td>\n",
       "    </tr>\n",
       "    <tr>\n",
       "      <th>2010-12-31</th>\n",
       "      <td>-0.012312</td>\n",
       "      <td>-0.006861</td>\n",
       "      <td>-0.000191</td>\n",
       "      <td>0.000000</td>\n",
       "      <td>-0.011979</td>\n",
       "      <td>0.016404</td>\n",
       "      <td>0.009435</td>\n",
       "      <td>-0.006158</td>\n",
       "      <td>0.002789</td>\n",
       "    </tr>\n",
       "  </tbody>\n",
       "</table>\n",
       "<p>499 rows × 9 columns</p>\n",
       "</div>"
      ],
      "text/plain": [
       "                 ISE     ISE.1        SP       DAX      FTSE    NIKKEI  \\\n",
       "date                                                                     \n",
       "2009-01-05  0.035754  0.038376 -0.004679  0.002193  0.003894  0.000000   \n",
       "2009-01-06  0.025426  0.031813  0.007787  0.008455  0.012866  0.004162   \n",
       "2009-01-07 -0.028862 -0.026353 -0.030469 -0.017833 -0.028735  0.017293   \n",
       "2009-01-08 -0.062208 -0.084716  0.003391 -0.011726 -0.000466 -0.040061   \n",
       "2009-01-09  0.009860  0.009658 -0.021533 -0.019873 -0.012710 -0.004474   \n",
       "...              ...       ...       ...       ...       ...       ...   \n",
       "2010-12-27  0.001346  0.000634  0.000000  0.000000 -0.002082  0.007444   \n",
       "2010-12-28  0.001285  0.000438  0.000771  0.000197  0.000000 -0.006137   \n",
       "2010-12-29  0.004171 -0.005582  0.001009  0.003346  0.000000  0.005031   \n",
       "2010-12-30  0.001535  0.008438 -0.001509 -0.011687 -0.004245 -0.011240   \n",
       "2010-12-31 -0.012312 -0.006861 -0.000191  0.000000 -0.011979  0.016404   \n",
       "\n",
       "             BOVESPA        EU        EM  \n",
       "date                                      \n",
       "2009-01-05  0.031190  0.012698  0.028524  \n",
       "2009-01-06  0.018920  0.011341  0.008773  \n",
       "2009-01-07 -0.035899 -0.017073 -0.020015  \n",
       "2009-01-08  0.028283 -0.005561 -0.019424  \n",
       "2009-01-09 -0.009764 -0.010989 -0.007802  \n",
       "...              ...       ...       ...  \n",
       "2010-12-27  0.000000 -0.005861 -0.002417  \n",
       "2010-12-28  0.003504  0.000209 -0.000196  \n",
       "2010-12-29  0.013300  0.001923  0.007861  \n",
       "2010-12-30  0.005106 -0.009191  0.003314  \n",
       "2010-12-31  0.009435 -0.006158  0.002789  \n",
       "\n",
       "[499 rows x 9 columns]"
      ]
     },
     "execution_count": 79,
     "metadata": {},
     "output_type": "execute_result"
    }
   ],
   "source": [
    "# Select data 2010 and before\n",
    "df[: \"2010\"]"
   ]
  },
  {
   "cell_type": "code",
   "execution_count": 81,
   "metadata": {},
   "outputs": [
    {
     "data": {
      "text/html": [
       "<div>\n",
       "<style scoped>\n",
       "    .dataframe tbody tr th:only-of-type {\n",
       "        vertical-align: middle;\n",
       "    }\n",
       "\n",
       "    .dataframe tbody tr th {\n",
       "        vertical-align: top;\n",
       "    }\n",
       "\n",
       "    .dataframe thead th {\n",
       "        text-align: right;\n",
       "    }\n",
       "</style>\n",
       "<table border=\"1\" class=\"dataframe\">\n",
       "  <thead>\n",
       "    <tr style=\"text-align: right;\">\n",
       "      <th></th>\n",
       "      <th>ISE</th>\n",
       "      <th>ISE.1</th>\n",
       "      <th>SP</th>\n",
       "      <th>DAX</th>\n",
       "      <th>FTSE</th>\n",
       "      <th>NIKKEI</th>\n",
       "      <th>BOVESPA</th>\n",
       "      <th>EU</th>\n",
       "      <th>EM</th>\n",
       "    </tr>\n",
       "    <tr>\n",
       "      <th>date</th>\n",
       "      <th></th>\n",
       "      <th></th>\n",
       "      <th></th>\n",
       "      <th></th>\n",
       "      <th></th>\n",
       "      <th></th>\n",
       "      <th></th>\n",
       "      <th></th>\n",
       "      <th></th>\n",
       "    </tr>\n",
       "  </thead>\n",
       "  <tbody>\n",
       "    <tr>\n",
       "      <th>2010-01-04</th>\n",
       "      <td>0.010229</td>\n",
       "      <td>0.014478</td>\n",
       "      <td>0.015916</td>\n",
       "      <td>0.000000</td>\n",
       "      <td>0.016018</td>\n",
       "      <td>0.000000</td>\n",
       "      <td>0.000000</td>\n",
       "      <td>0.016778</td>\n",
       "      <td>0.008399</td>\n",
       "    </tr>\n",
       "    <tr>\n",
       "      <th>2010-01-05</th>\n",
       "      <td>0.013898</td>\n",
       "      <td>0.024019</td>\n",
       "      <td>0.003111</td>\n",
       "      <td>-0.002722</td>\n",
       "      <td>0.004028</td>\n",
       "      <td>0.002535</td>\n",
       "      <td>0.002780</td>\n",
       "      <td>0.001316</td>\n",
       "      <td>0.008067</td>\n",
       "    </tr>\n",
       "    <tr>\n",
       "      <th>2010-01-06</th>\n",
       "      <td>0.007957</td>\n",
       "      <td>0.005706</td>\n",
       "      <td>0.000545</td>\n",
       "      <td>0.000409</td>\n",
       "      <td>0.001357</td>\n",
       "      <td>0.004635</td>\n",
       "      <td>0.006938</td>\n",
       "      <td>0.000586</td>\n",
       "      <td>0.005330</td>\n",
       "    </tr>\n",
       "    <tr>\n",
       "      <th>2010-01-07</th>\n",
       "      <td>0.007772</td>\n",
       "      <td>0.007498</td>\n",
       "      <td>0.003993</td>\n",
       "      <td>-0.002484</td>\n",
       "      <td>-0.000597</td>\n",
       "      <td>-0.004650</td>\n",
       "      <td>-0.003938</td>\n",
       "      <td>-0.000360</td>\n",
       "      <td>-0.006375</td>\n",
       "    </tr>\n",
       "    <tr>\n",
       "      <th>2010-01-08</th>\n",
       "      <td>-0.003189</td>\n",
       "      <td>0.000835</td>\n",
       "      <td>0.002878</td>\n",
       "      <td>0.003027</td>\n",
       "      <td>0.001356</td>\n",
       "      <td>0.010862</td>\n",
       "      <td>-0.002672</td>\n",
       "      <td>0.003554</td>\n",
       "      <td>0.001229</td>\n",
       "    </tr>\n",
       "    <tr>\n",
       "      <th>...</th>\n",
       "      <td>...</td>\n",
       "      <td>...</td>\n",
       "      <td>...</td>\n",
       "      <td>...</td>\n",
       "      <td>...</td>\n",
       "      <td>...</td>\n",
       "      <td>...</td>\n",
       "      <td>...</td>\n",
       "      <td>...</td>\n",
       "    </tr>\n",
       "    <tr>\n",
       "      <th>2010-06-24</th>\n",
       "      <td>0.000166</td>\n",
       "      <td>-0.008024</td>\n",
       "      <td>-0.016946</td>\n",
       "      <td>-0.014455</td>\n",
       "      <td>-0.015236</td>\n",
       "      <td>0.000467</td>\n",
       "      <td>-0.018948</td>\n",
       "      <td>-0.017801</td>\n",
       "      <td>-0.006717</td>\n",
       "    </tr>\n",
       "    <tr>\n",
       "      <th>2010-06-25</th>\n",
       "      <td>-0.000920</td>\n",
       "      <td>-0.003591</td>\n",
       "      <td>0.002855</td>\n",
       "      <td>-0.007366</td>\n",
       "      <td>-0.010585</td>\n",
       "      <td>-0.019411</td>\n",
       "      <td>0.013778</td>\n",
       "      <td>-0.007954</td>\n",
       "      <td>-0.002311</td>\n",
       "    </tr>\n",
       "    <tr>\n",
       "      <th>2010-06-28</th>\n",
       "      <td>0.010132</td>\n",
       "      <td>0.016951</td>\n",
       "      <td>-0.002036</td>\n",
       "      <td>0.014168</td>\n",
       "      <td>0.004981</td>\n",
       "      <td>-0.004481</td>\n",
       "      <td>-0.009283</td>\n",
       "      <td>0.009125</td>\n",
       "      <td>0.000540</td>\n",
       "    </tr>\n",
       "    <tr>\n",
       "      <th>2010-06-29</th>\n",
       "      <td>-0.021816</td>\n",
       "      <td>-0.028443</td>\n",
       "      <td>-0.031508</td>\n",
       "      <td>-0.033893</td>\n",
       "      <td>-0.031547</td>\n",
       "      <td>-0.012798</td>\n",
       "      <td>-0.035613</td>\n",
       "      <td>-0.034903</td>\n",
       "      <td>-0.021033</td>\n",
       "    </tr>\n",
       "    <tr>\n",
       "      <th>2010-06-30</th>\n",
       "      <td>-0.006830</td>\n",
       "      <td>-0.006195</td>\n",
       "      <td>-0.010164</td>\n",
       "      <td>0.002264</td>\n",
       "      <td>0.000549</td>\n",
       "      <td>-0.019842</td>\n",
       "      <td>-0.016955</td>\n",
       "      <td>0.002202</td>\n",
       "      <td>-0.006962</td>\n",
       "    </tr>\n",
       "  </tbody>\n",
       "</table>\n",
       "<p>126 rows × 9 columns</p>\n",
       "</div>"
      ],
      "text/plain": [
       "                 ISE     ISE.1        SP       DAX      FTSE    NIKKEI  \\\n",
       "date                                                                     \n",
       "2010-01-04  0.010229  0.014478  0.015916  0.000000  0.016018  0.000000   \n",
       "2010-01-05  0.013898  0.024019  0.003111 -0.002722  0.004028  0.002535   \n",
       "2010-01-06  0.007957  0.005706  0.000545  0.000409  0.001357  0.004635   \n",
       "2010-01-07  0.007772  0.007498  0.003993 -0.002484 -0.000597 -0.004650   \n",
       "2010-01-08 -0.003189  0.000835  0.002878  0.003027  0.001356  0.010862   \n",
       "...              ...       ...       ...       ...       ...       ...   \n",
       "2010-06-24  0.000166 -0.008024 -0.016946 -0.014455 -0.015236  0.000467   \n",
       "2010-06-25 -0.000920 -0.003591  0.002855 -0.007366 -0.010585 -0.019411   \n",
       "2010-06-28  0.010132  0.016951 -0.002036  0.014168  0.004981 -0.004481   \n",
       "2010-06-29 -0.021816 -0.028443 -0.031508 -0.033893 -0.031547 -0.012798   \n",
       "2010-06-30 -0.006830 -0.006195 -0.010164  0.002264  0.000549 -0.019842   \n",
       "\n",
       "             BOVESPA        EU        EM  \n",
       "date                                      \n",
       "2010-01-04  0.000000  0.016778  0.008399  \n",
       "2010-01-05  0.002780  0.001316  0.008067  \n",
       "2010-01-06  0.006938  0.000586  0.005330  \n",
       "2010-01-07 -0.003938 -0.000360 -0.006375  \n",
       "2010-01-08 -0.002672  0.003554  0.001229  \n",
       "...              ...       ...       ...  \n",
       "2010-06-24 -0.018948 -0.017801 -0.006717  \n",
       "2010-06-25  0.013778 -0.007954 -0.002311  \n",
       "2010-06-28 -0.009283  0.009125  0.000540  \n",
       "2010-06-29 -0.035613 -0.034903 -0.021033  \n",
       "2010-06-30 -0.016955  0.002202 -0.006962  \n",
       "\n",
       "[126 rows x 9 columns]"
      ]
     },
     "execution_count": 81,
     "metadata": {},
     "output_type": "execute_result"
    }
   ],
   "source": [
    "# Select data between 2010-01 and 2010-06(both including)\n",
    "df[\"2010-01\": \"2010-06\"]"
   ]
  },
  {
   "cell_type": "markdown",
   "metadata": {},
   "source": [
    "# Creating date sequences and managing date offsets \n",
    "\n",
    "Let’s look at a couple of ways of creating a sequence of dates:\n",
    "\n",
    "## Specifying start and end dates with frequency"
   ]
  },
  {
   "cell_type": "code",
   "execution_count": 93,
   "metadata": {},
   "outputs": [
    {
     "data": {
      "text/plain": [
       "['2018-01-20', '2018-01-21', '2018-01-22', '2018-01-23']"
      ]
     },
     "execution_count": 93,
     "metadata": {},
     "output_type": "execute_result"
    }
   ],
   "source": [
    "pd.date_range(start=\"2018-01-20\", end=\"2018-01-23\", freq=\"D\").astype(str).tolist()"
   ]
  },
  {
   "cell_type": "markdown",
   "metadata": {},
   "source": [
    "## Specifying start and number of periods to generate in the given frequency"
   ]
  },
  {
   "cell_type": "code",
   "execution_count": 97,
   "metadata": {},
   "outputs": [
    {
     "data": {
      "text/plain": [
       "['2018-01-20', '2018-01-21', '2018-01-22', '2018-01-23']"
      ]
     },
     "execution_count": 97,
     "metadata": {},
     "output_type": "execute_result"
    }
   ],
   "source": [
    "pd.date_range(start=\"2018-01-20\", periods=4, freq=\"d\").astype(str).tolist()"
   ]
  },
  {
   "cell_type": "markdown",
   "metadata": {},
   "source": [
    "##  Generating a date sequence with every 2 days"
   ]
  },
  {
   "cell_type": "code",
   "execution_count": 98,
   "metadata": {},
   "outputs": [
    {
     "data": {
      "text/plain": [
       "['2018-01-20', '2018-01-22', '2018-01-24', '2018-01-26']"
      ]
     },
     "execution_count": 98,
     "metadata": {},
     "output_type": "execute_result"
    }
   ],
   "source": [
    "pd.date_range(start=\"2018-01-20\", periods=4, freq=\"2d\").astype(str).tolist()"
   ]
  },
  {
   "cell_type": "markdown",
   "metadata": {},
   "source": [
    "## Generating a date sequence every month. By default it starts with Month end"
   ]
  },
  {
   "cell_type": "code",
   "execution_count": 99,
   "metadata": {},
   "outputs": [
    {
     "data": {
      "text/plain": [
       "['2018-01-31', '2018-02-28', '2018-03-31', '2018-04-30']"
      ]
     },
     "execution_count": 99,
     "metadata": {},
     "output_type": "execute_result"
    }
   ],
   "source": [
    "pd.date_range(start=\"2018-01-20\", periods=4, freq=\"m\").astype(str).tolist()"
   ]
  },
  {
   "cell_type": "markdown",
   "metadata": {},
   "source": [
    "## Generating a date sequence every month, but month start"
   ]
  },
  {
   "cell_type": "code",
   "execution_count": 105,
   "metadata": {},
   "outputs": [
    {
     "data": {
      "text/plain": [
       "['2018-02-01', '2018-03-01', '2018-04-01', '2018-05-01']"
      ]
     },
     "execution_count": 105,
     "metadata": {},
     "output_type": "execute_result"
    }
   ],
   "source": [
    "pd.date_range(start=\"2018-01-20\", periods=4, freq=\"MS\").astype(str).tolist()"
   ]
  },
  {
   "cell_type": "markdown",
   "metadata": {},
   "source": [
    "---- \n",
    "\n",
    "# Handling missing data"
   ]
  },
  {
   "cell_type": "code",
   "execution_count": 113,
   "metadata": {},
   "outputs": [
    {
     "data": {
      "text/html": [
       "<div>\n",
       "<style scoped>\n",
       "    .dataframe tbody tr th:only-of-type {\n",
       "        vertical-align: middle;\n",
       "    }\n",
       "\n",
       "    .dataframe tbody tr th {\n",
       "        vertical-align: top;\n",
       "    }\n",
       "\n",
       "    .dataframe thead th {\n",
       "        text-align: right;\n",
       "    }\n",
       "</style>\n",
       "<table border=\"1\" class=\"dataframe\">\n",
       "  <thead>\n",
       "    <tr style=\"text-align: right;\">\n",
       "      <th></th>\n",
       "      <th>pm2_5_1_hr</th>\n",
       "    </tr>\n",
       "    <tr>\n",
       "      <th>datetime</th>\n",
       "      <th></th>\n",
       "    </tr>\n",
       "  </thead>\n",
       "  <tbody>\n",
       "    <tr>\n",
       "      <th>2023-10-17 09:00:00</th>\n",
       "      <td>4.47</td>\n",
       "    </tr>\n",
       "    <tr>\n",
       "      <th>2023-10-17 10:00:00</th>\n",
       "      <td>5.70</td>\n",
       "    </tr>\n",
       "    <tr>\n",
       "      <th>2023-10-17 11:00:00</th>\n",
       "      <td>5.89</td>\n",
       "    </tr>\n",
       "    <tr>\n",
       "      <th>2023-10-17 12:00:00</th>\n",
       "      <td>2.85</td>\n",
       "    </tr>\n",
       "    <tr>\n",
       "      <th>2023-10-17 13:00:00</th>\n",
       "      <td>2.39</td>\n",
       "    </tr>\n",
       "  </tbody>\n",
       "</table>\n",
       "</div>"
      ],
      "text/plain": [
       "                     pm2_5_1_hr\n",
       "datetime                       \n",
       "2023-10-17 09:00:00        4.47\n",
       "2023-10-17 10:00:00        5.70\n",
       "2023-10-17 11:00:00        5.89\n",
       "2023-10-17 12:00:00        2.85\n",
       "2023-10-17 13:00:00        2.39"
      ]
     },
     "execution_count": 113,
     "metadata": {},
     "output_type": "execute_result"
    }
   ],
   "source": [
    "df = pd.read_csv(\"https://www.data.act.gov.au/resource/94a5-zqnn.csv\", sep=\",\")\n",
    "#Selecting one location and pm2.5\n",
    "df = df.loc[df.name==\"Monash\", ['datetime', 'pm2_5_1_hr']]\n",
    "df.datetime = pd.to_datetime(df.datetime)\n",
    "df.sort_values(\"datetime\", inplace=True)\n",
    "df.set_index(\"datetime\", inplace=True)\n",
    "# introducing a missing value by nulling out the values\n",
    "df.loc[\"2022-07-07 7:00\":\"2022-07-07 09:00\", \"pm2_5_1_hr\"] = np.nan\n",
    "df.head()"
   ]
  },
  {
   "cell_type": "code",
   "execution_count": 110,
   "metadata": {},
   "outputs": [],
   "source": [
    "def format_plot(fig, legends, font_size=15, title_font_size=20):\n",
    "    names = cycle(legends)\n",
    "    fig.for_each_trace(lambda t: t.update(name=next(names)))\n",
    "    fig.update_layout(\n",
    "        autosize=False,\n",
    "        width=900,\n",
    "        height=500,\n",
    "        title={\"x\": 0.5, \"xanchor\": \"center\", \"yanchor\": \"top\"},\n",
    "        titlefont={\"size\": title_font_size},\n",
    "        legend_title=None,\n",
    "        legend=dict(\n",
    "            font=dict(size=font_size),\n",
    "            orientation=\"h\",\n",
    "            yanchor=\"bottom\",\n",
    "            y=0.98,\n",
    "            xanchor=\"right\",\n",
    "            x=1,\n",
    "        ),\n",
    "        yaxis=dict(\n",
    "            title_text=\"Value\",\n",
    "            titlefont=dict(size=font_size),\n",
    "            tickfont=dict(size=font_size),\n",
    "        ),\n",
    "        xaxis=dict(\n",
    "            title_text=\"Day\",\n",
    "            titlefont=dict(size=font_size),\n",
    "            tickfont=dict(size=font_size),\n",
    "        ),\n",
    "    )\n",
    "    return fig"
   ]
  },
  {
   "cell_type": "code",
   "execution_count": 114,
   "metadata": {},
   "outputs": [
    {
     "name": "stderr",
     "output_type": "stream",
     "text": [
      "c:\\Users\\dioni\\anaconda3\\envs\\modern-ts\\lib\\site-packages\\_plotly_utils\\basevalidators.py:106: FutureWarning:\n",
      "\n",
      "The behavior of DatetimeProperties.to_pydatetime is deprecated, in a future version this will return a Series containing python datetime objects instead of an ndarray. To retain the old behavior, call `np.array` on the result\n",
      "\n"
     ]
    },
    {
     "data": {
      "application/vnd.plotly.v1+json": {
       "config": {
        "plotlyServerURL": "https://plot.ly"
       },
       "data": [
        {
         "hovertemplate": "datetime=%{x}<br>pm2_5_1_hr=%{y}<extra></extra>",
         "legendgroup": "",
         "line": {
          "color": "#636efa",
          "dash": "solid"
         },
         "marker": {
          "symbol": "circle"
         },
         "mode": "lines",
         "name": "Original",
         "orientation": "v",
         "showlegend": false,
         "type": "scatter",
         "x": [
          "2023-10-17T09:00:00",
          "2023-10-17T10:00:00",
          "2023-10-17T11:00:00",
          "2023-10-17T12:00:00",
          "2023-10-17T13:00:00",
          "2023-10-17T14:00:00",
          "2023-10-17T15:00:00",
          "2023-10-17T16:00:00",
          "2023-10-17T17:00:00",
          "2023-10-17T18:00:00",
          "2023-10-17T19:00:00",
          "2023-10-17T20:00:00",
          "2023-10-17T21:00:00",
          "2023-10-17T22:00:00",
          "2023-10-17T23:00:00",
          "2023-10-18T00:00:00",
          "2023-10-18T01:00:00",
          "2023-10-18T02:00:00",
          "2023-10-18T03:00:00",
          "2023-10-18T04:00:00",
          "2023-10-18T05:00:00",
          "2023-10-18T06:00:00",
          "2023-10-18T07:00:00",
          "2023-10-18T08:00:00",
          "2023-10-18T09:00:00",
          "2023-10-18T10:00:00",
          "2023-10-18T11:00:00",
          "2023-10-18T12:00:00",
          "2023-10-18T13:00:00",
          "2023-10-18T14:00:00",
          "2023-10-18T15:00:00",
          "2023-10-18T16:00:00",
          "2023-10-18T17:00:00",
          "2023-10-18T18:00:00",
          "2023-10-18T19:00:00",
          "2023-10-18T20:00:00",
          "2023-10-18T21:00:00",
          "2023-10-18T22:00:00",
          "2023-10-18T23:00:00",
          "2023-10-19T00:00:00",
          "2023-10-19T01:00:00",
          "2023-10-19T02:00:00",
          "2023-10-19T03:00:00",
          "2023-10-19T04:00:00",
          "2023-10-19T05:00:00",
          "2023-10-19T06:00:00",
          "2023-10-19T07:00:00",
          "2023-10-19T08:00:00",
          "2023-10-19T09:00:00",
          "2023-10-19T10:00:00",
          "2023-10-19T11:00:00",
          "2023-10-19T12:00:00",
          "2023-10-19T13:00:00",
          "2023-10-19T14:00:00",
          "2023-10-19T15:00:00",
          "2023-10-19T16:00:00",
          "2023-10-19T17:00:00",
          "2023-10-19T18:00:00",
          "2023-10-19T19:00:00",
          "2023-10-19T20:00:00",
          "2023-10-19T21:00:00",
          "2023-10-19T22:00:00",
          "2023-10-19T23:00:00",
          "2023-10-20T00:00:00",
          "2023-10-20T01:00:00",
          "2023-10-20T02:00:00",
          "2023-10-20T03:00:00",
          "2023-10-20T04:00:00",
          "2023-10-20T05:00:00",
          "2023-10-20T06:00:00",
          "2023-10-20T07:00:00",
          "2023-10-20T08:00:00",
          "2023-10-20T09:00:00",
          "2023-10-20T10:00:00",
          "2023-10-20T11:00:00",
          "2023-10-20T12:00:00",
          "2023-10-20T13:00:00",
          "2023-10-20T14:00:00",
          "2023-10-20T15:00:00",
          "2023-10-20T16:00:00",
          "2023-10-20T17:00:00",
          "2023-10-20T18:00:00",
          "2023-10-20T19:00:00",
          "2023-10-20T20:00:00",
          "2023-10-20T21:00:00",
          "2023-10-20T22:00:00",
          "2023-10-20T23:00:00",
          "2023-10-21T00:00:00",
          "2023-10-21T01:00:00",
          "2023-10-21T02:00:00",
          "2023-10-21T03:00:00",
          "2023-10-21T04:00:00",
          "2023-10-21T05:00:00",
          "2023-10-21T06:00:00",
          "2023-10-21T07:00:00",
          "2023-10-21T08:00:00",
          "2023-10-21T09:00:00",
          "2023-10-21T10:00:00",
          "2023-10-21T11:00:00",
          "2023-10-21T12:00:00",
          "2023-10-21T13:00:00",
          "2023-10-21T14:00:00",
          "2023-10-21T15:00:00",
          "2023-10-21T16:00:00",
          "2023-10-21T17:00:00",
          "2023-10-21T18:00:00",
          "2023-10-21T19:00:00",
          "2023-10-21T20:00:00",
          "2023-10-21T21:00:00",
          "2023-10-21T22:00:00",
          "2023-10-21T23:00:00",
          "2023-10-22T00:00:00",
          "2023-10-22T01:00:00",
          "2023-10-22T02:00:00",
          "2023-10-22T03:00:00",
          "2023-10-22T06:00:00",
          "2023-10-22T07:00:00",
          "2023-10-22T08:00:00",
          "2023-10-22T09:00:00",
          "2023-10-22T10:00:00",
          "2023-10-22T11:00:00",
          "2023-10-22T12:00:00",
          "2023-10-22T13:00:00",
          "2023-10-22T14:00:00",
          "2023-10-22T15:00:00",
          "2023-10-22T16:00:00",
          "2023-10-22T17:00:00",
          "2023-10-22T18:00:00",
          "2023-10-22T19:00:00",
          "2023-10-22T20:00:00",
          "2023-10-22T21:00:00",
          "2023-10-22T22:00:00",
          "2023-10-22T23:00:00",
          "2023-10-23T00:00:00",
          "2023-10-23T01:00:00",
          "2023-10-23T02:00:00",
          "2023-10-23T03:00:00",
          "2023-10-23T04:00:00",
          "2023-10-23T05:00:00",
          "2023-10-23T06:00:00",
          "2023-10-23T07:00:00",
          "2023-10-23T08:00:00",
          "2023-10-23T09:00:00",
          "2023-10-23T10:00:00",
          "2023-10-23T11:00:00",
          "2023-10-23T12:00:00",
          "2023-10-23T13:00:00",
          "2023-10-23T14:00:00",
          "2023-10-23T15:00:00",
          "2023-10-23T16:00:00",
          "2023-10-23T17:00:00",
          "2023-10-23T18:00:00",
          "2023-10-23T19:00:00",
          "2023-10-23T20:00:00",
          "2023-10-23T21:00:00",
          "2023-10-23T22:00:00",
          "2023-10-23T23:00:00",
          "2023-10-24T00:00:00",
          "2023-10-24T01:00:00",
          "2023-10-24T02:00:00",
          "2023-10-24T03:00:00",
          "2023-10-24T04:00:00",
          "2023-10-24T05:00:00",
          "2023-10-24T06:00:00",
          "2023-10-24T07:00:00",
          "2023-10-24T08:00:00",
          "2023-10-24T09:00:00",
          "2023-10-24T10:00:00",
          "2023-10-24T11:00:00",
          "2023-10-24T12:00:00",
          "2023-10-24T13:00:00",
          "2023-10-24T14:00:00",
          "2023-10-24T15:00:00",
          "2023-10-24T16:00:00",
          "2023-10-24T17:00:00",
          "2023-10-24T18:00:00",
          "2023-10-24T19:00:00",
          "2023-10-24T20:00:00",
          "2023-10-24T21:00:00",
          "2023-10-24T22:00:00",
          "2023-10-24T23:00:00",
          "2023-10-25T00:00:00",
          "2023-10-25T01:00:00",
          "2023-10-25T02:00:00",
          "2023-10-25T03:00:00",
          "2023-10-25T04:00:00",
          "2023-10-25T05:00:00",
          "2023-10-25T06:00:00",
          "2023-10-25T07:00:00",
          "2023-10-25T08:00:00",
          "2023-10-25T09:00:00",
          "2023-10-25T10:00:00",
          "2023-10-25T11:00:00",
          "2023-10-25T12:00:00",
          "2023-10-25T13:00:00",
          "2023-10-25T14:00:00",
          "2023-10-25T15:00:00",
          "2023-10-25T16:00:00",
          "2023-10-25T17:00:00",
          "2023-10-25T18:00:00",
          "2023-10-25T19:00:00",
          "2023-10-25T20:00:00",
          "2023-10-25T21:00:00",
          "2023-10-25T22:00:00",
          "2023-10-25T23:00:00",
          "2023-10-26T00:00:00",
          "2023-10-26T01:00:00",
          "2023-10-26T02:00:00",
          "2023-10-26T03:00:00",
          "2023-10-26T04:00:00",
          "2023-10-26T05:00:00",
          "2023-10-26T06:00:00",
          "2023-10-26T07:00:00",
          "2023-10-26T08:00:00",
          "2023-10-26T10:00:00",
          "2023-10-26T11:00:00",
          "2023-10-26T12:00:00",
          "2023-10-26T13:00:00",
          "2023-10-26T15:00:00",
          "2023-10-26T16:00:00",
          "2023-10-26T17:00:00",
          "2023-10-26T18:00:00",
          "2023-10-26T19:00:00",
          "2023-10-26T20:00:00",
          "2023-10-26T21:00:00",
          "2023-10-26T22:00:00",
          "2023-10-26T23:00:00",
          "2023-10-27T00:00:00",
          "2023-10-27T01:00:00",
          "2023-10-27T02:00:00",
          "2023-10-27T03:00:00",
          "2023-10-27T04:00:00",
          "2023-10-27T05:00:00",
          "2023-10-27T06:00:00",
          "2023-10-27T07:00:00",
          "2023-10-27T08:00:00",
          "2023-10-27T09:00:00",
          "2023-10-27T10:00:00",
          "2023-10-27T11:00:00",
          "2023-10-27T12:00:00",
          "2023-10-27T13:00:00",
          "2023-10-27T14:00:00",
          "2023-10-27T15:00:00",
          "2023-10-27T16:00:00",
          "2023-10-27T17:00:00",
          "2023-10-27T18:00:00",
          "2023-10-27T19:00:00",
          "2023-10-27T20:00:00",
          "2023-10-27T21:00:00",
          "2023-10-27T22:00:00",
          "2023-10-27T23:00:00",
          "2023-10-28T00:00:00",
          "2023-10-28T01:00:00",
          "2023-10-28T02:00:00",
          "2023-10-28T03:00:00",
          "2023-10-28T04:00:00",
          "2023-10-28T05:00:00",
          "2023-10-28T06:00:00",
          "2023-10-28T07:00:00",
          "2023-10-28T08:00:00",
          "2023-10-28T09:00:00",
          "2023-10-28T10:00:00",
          "2023-10-28T11:00:00",
          "2023-10-28T12:00:00",
          "2023-10-28T13:00:00",
          "2023-10-28T14:00:00",
          "2023-10-28T15:00:00",
          "2023-10-28T16:00:00",
          "2023-10-28T17:00:00",
          "2023-10-28T18:00:00",
          "2023-10-28T19:00:00",
          "2023-10-28T20:00:00",
          "2023-10-28T21:00:00",
          "2023-10-28T22:00:00",
          "2023-10-28T23:00:00",
          "2023-10-29T00:00:00",
          "2023-10-29T01:00:00",
          "2023-10-29T02:00:00",
          "2023-10-29T03:00:00",
          "2023-10-29T04:00:00",
          "2023-10-29T05:00:00",
          "2023-10-29T06:00:00",
          "2023-10-29T07:00:00",
          "2023-10-29T08:00:00",
          "2023-10-29T09:00:00",
          "2023-10-29T10:00:00",
          "2023-10-29T11:00:00",
          "2023-10-29T12:00:00",
          "2023-10-29T13:00:00",
          "2023-10-29T14:00:00",
          "2023-10-29T15:00:00",
          "2023-10-29T16:00:00",
          "2023-10-29T17:00:00",
          "2023-10-29T18:00:00",
          "2023-10-29T19:00:00",
          "2023-10-29T20:00:00",
          "2023-10-29T21:00:00",
          "2023-10-29T22:00:00",
          "2023-10-29T23:00:00",
          "2023-10-30T00:00:00",
          "2023-10-30T01:00:00",
          "2023-10-30T02:00:00",
          "2023-10-30T03:00:00",
          "2023-10-30T04:00:00",
          "2023-10-30T05:00:00",
          "2023-10-30T06:00:00",
          "2023-10-30T07:00:00",
          "2023-10-30T08:00:00",
          "2023-10-30T09:00:00",
          "2023-10-30T10:00:00",
          "2023-10-30T11:00:00",
          "2023-10-30T12:00:00",
          "2023-10-30T13:00:00",
          "2023-10-30T14:00:00",
          "2023-10-30T15:00:00",
          "2023-10-30T16:00:00",
          "2023-10-30T17:00:00",
          "2023-10-30T18:00:00",
          "2023-10-30T19:00:00",
          "2023-10-30T20:00:00",
          "2023-10-30T21:00:00",
          "2023-10-30T22:00:00",
          "2023-10-30T23:00:00",
          "2023-10-31T00:00:00",
          "2023-10-31T01:00:00",
          "2023-10-31T02:00:00",
          "2023-10-31T03:00:00",
          "2023-10-31T04:00:00",
          "2023-10-31T05:00:00",
          "2023-10-31T06:00:00",
          "2023-10-31T07:00:00",
          "2023-10-31T08:00:00",
          "2023-10-31T09:00:00"
         ],
         "xaxis": "x",
         "y": [
          4.47,
          5.7,
          5.89,
          2.85,
          2.39,
          2.42,
          3.68,
          2.95,
          4.02,
          1.75,
          1.36,
          3.01,
          4.14,
          6.96,
          6.28,
          3.99,
          3.97,
          1.72,
          2.12,
          2.32,
          1.86,
          1.06,
          1.45,
          5.21,
          6.71,
          7.08,
          7.74,
          6.49,
          5.41,
          4.56,
          5.5,
          4,
          3.61,
          3.18,
          3.23,
          3.16,
          4.12,
          5.6,
          4.93,
          4.54,
          3.74,
          3.81,
          3.94,
          2.54,
          2.59,
          1.87,
          1.53,
          3.11,
          2.79,
          3.55,
          null,
          null,
          null,
          null,
          null,
          null,
          null,
          null,
          null,
          null,
          null,
          null,
          null,
          null,
          null,
          null,
          null,
          null,
          null,
          null,
          7.48,
          6.23,
          6.29,
          8.72,
          10.33,
          7.15,
          5.89,
          6.25,
          6.36,
          6.63,
          5.83,
          9.62,
          14.03,
          13.59,
          12.11,
          11.94,
          12.7,
          11.38,
          12.27,
          9.99,
          8.36,
          7.83,
          7.71,
          8.61,
          8.64,
          6.69,
          7.24,
          8.3,
          9.89,
          8.74,
          7.52,
          7.79,
          9.69,
          9.75,
          9.45,
          7.9,
          8.74,
          10.41,
          8.78,
          9.32,
          10.2,
          9.72,
          8.28,
          9.51,
          9.25,
          5.52,
          5.79,
          3.55,
          0.85,
          2.73,
          6,
          4.74,
          3.76,
          4.44,
          4.8,
          3.15,
          3.15,
          2.6,
          2.75,
          3.58,
          2.57,
          3.88,
          2.94,
          3,
          2.8,
          3.79,
          6.25,
          5.56,
          4.28,
          3.35,
          2.82,
          2.54,
          1.36,
          2.09,
          2.53,
          3.17,
          1.32,
          0.94,
          1.36,
          2.02,
          2.08,
          0.29,
          0.59,
          1.71,
          2.02,
          4.26,
          2.75,
          2.55,
          3.17,
          3.08,
          4.36,
          5.46,
          3.16,
          1.38,
          1.47,
          2.38,
          3.12,
          3.24,
          4.43,
          4.02,
          3.94,
          4.09,
          2.34,
          2.69,
          2.97,
          6.6,
          9.13,
          6.14,
          4.98,
          3.55,
          3.54,
          3.86,
          4.57,
          4.53,
          3.94,
          3.7,
          5.4,
          4.69,
          5.6,
          4.62,
          4.36,
          5.11,
          5.99,
          5.92,
          5.47,
          4.78,
          4.52,
          2.45,
          2.44,
          1.98,
          1.56,
          2.98,
          3.21,
          4.08,
          2.98,
          3.13,
          3,
          1.48,
          0.57,
          1,
          2.66,
          2.61,
          3.14,
          4.05,
          3.22,
          0.97,
          1.77,
          2.4,
          2.25,
          2.89,
          3.98,
          2.2,
          1.81,
          4.43,
          7.02,
          8.77,
          7.68,
          6.39,
          4.98,
          3.14,
          3.03,
          3.98,
          4.61,
          4.41,
          5.45,
          5.56,
          4.6,
          4.34,
          3.29,
          3.19,
          3.47,
          2.43,
          2.73,
          1.76,
          2.35,
          3.63,
          5.96,
          5.8,
          5.51,
          4.49,
          3.93,
          2.95,
          3.19,
          2.58,
          2.24,
          2.01,
          2.55,
          4.03,
          4.11,
          3.59,
          2.23,
          0,
          0,
          0.56,
          0.59,
          0.95,
          1.25,
          1.2,
          1.69,
          2.25,
          3.29,
          3.62,
          4.07,
          5.67,
          8.75,
          8.64,
          8.25,
          10.12,
          12.4,
          9.87,
          7.94,
          7.81,
          7.77,
          7.17,
          7.54,
          6.21,
          4.35,
          2.76,
          4.76,
          2.87,
          3.16,
          4,
          2.96,
          2.28,
          2.29,
          2.58,
          4.53,
          5.76,
          6.7,
          6.75,
          7.52,
          9.47,
          8.24,
          6.95,
          6.63,
          5.28,
          5.4,
          6,
          6.55,
          7.3,
          9.97,
          10.25,
          7.32,
          6.11,
          5.47,
          5.07,
          5.47,
          5.14,
          3.88,
          4.4,
          5.77,
          5.79,
          4.72,
          4.73,
          3.34,
          6.72,
          9.53,
          9.55,
          8.76,
          7.35,
          5.61,
          3.49,
          2.25
         ],
         "yaxis": "y"
        }
       ],
       "layout": {
        "autosize": false,
        "height": 500,
        "legend": {
         "font": {
          "size": 15
         },
         "orientation": "h",
         "title": {},
         "tracegroupgap": 0,
         "x": 1,
         "xanchor": "right",
         "y": 0.98,
         "yanchor": "bottom"
        },
        "template": {
         "data": {
          "bar": [
           {
            "error_x": {
             "color": "#2a3f5f"
            },
            "error_y": {
             "color": "#2a3f5f"
            },
            "marker": {
             "line": {
              "color": "white",
              "width": 0.5
             },
             "pattern": {
              "fillmode": "overlay",
              "size": 10,
              "solidity": 0.2
             }
            },
            "type": "bar"
           }
          ],
          "barpolar": [
           {
            "marker": {
             "line": {
              "color": "white",
              "width": 0.5
             },
             "pattern": {
              "fillmode": "overlay",
              "size": 10,
              "solidity": 0.2
             }
            },
            "type": "barpolar"
           }
          ],
          "carpet": [
           {
            "aaxis": {
             "endlinecolor": "#2a3f5f",
             "gridcolor": "#C8D4E3",
             "linecolor": "#C8D4E3",
             "minorgridcolor": "#C8D4E3",
             "startlinecolor": "#2a3f5f"
            },
            "baxis": {
             "endlinecolor": "#2a3f5f",
             "gridcolor": "#C8D4E3",
             "linecolor": "#C8D4E3",
             "minorgridcolor": "#C8D4E3",
             "startlinecolor": "#2a3f5f"
            },
            "type": "carpet"
           }
          ],
          "choropleth": [
           {
            "colorbar": {
             "outlinewidth": 0,
             "ticks": ""
            },
            "type": "choropleth"
           }
          ],
          "contour": [
           {
            "colorbar": {
             "outlinewidth": 0,
             "ticks": ""
            },
            "colorscale": [
             [
              0,
              "#0d0887"
             ],
             [
              0.1111111111111111,
              "#46039f"
             ],
             [
              0.2222222222222222,
              "#7201a8"
             ],
             [
              0.3333333333333333,
              "#9c179e"
             ],
             [
              0.4444444444444444,
              "#bd3786"
             ],
             [
              0.5555555555555556,
              "#d8576b"
             ],
             [
              0.6666666666666666,
              "#ed7953"
             ],
             [
              0.7777777777777778,
              "#fb9f3a"
             ],
             [
              0.8888888888888888,
              "#fdca26"
             ],
             [
              1,
              "#f0f921"
             ]
            ],
            "type": "contour"
           }
          ],
          "contourcarpet": [
           {
            "colorbar": {
             "outlinewidth": 0,
             "ticks": ""
            },
            "type": "contourcarpet"
           }
          ],
          "heatmap": [
           {
            "colorbar": {
             "outlinewidth": 0,
             "ticks": ""
            },
            "colorscale": [
             [
              0,
              "#0d0887"
             ],
             [
              0.1111111111111111,
              "#46039f"
             ],
             [
              0.2222222222222222,
              "#7201a8"
             ],
             [
              0.3333333333333333,
              "#9c179e"
             ],
             [
              0.4444444444444444,
              "#bd3786"
             ],
             [
              0.5555555555555556,
              "#d8576b"
             ],
             [
              0.6666666666666666,
              "#ed7953"
             ],
             [
              0.7777777777777778,
              "#fb9f3a"
             ],
             [
              0.8888888888888888,
              "#fdca26"
             ],
             [
              1,
              "#f0f921"
             ]
            ],
            "type": "heatmap"
           }
          ],
          "heatmapgl": [
           {
            "colorbar": {
             "outlinewidth": 0,
             "ticks": ""
            },
            "colorscale": [
             [
              0,
              "#0d0887"
             ],
             [
              0.1111111111111111,
              "#46039f"
             ],
             [
              0.2222222222222222,
              "#7201a8"
             ],
             [
              0.3333333333333333,
              "#9c179e"
             ],
             [
              0.4444444444444444,
              "#bd3786"
             ],
             [
              0.5555555555555556,
              "#d8576b"
             ],
             [
              0.6666666666666666,
              "#ed7953"
             ],
             [
              0.7777777777777778,
              "#fb9f3a"
             ],
             [
              0.8888888888888888,
              "#fdca26"
             ],
             [
              1,
              "#f0f921"
             ]
            ],
            "type": "heatmapgl"
           }
          ],
          "histogram": [
           {
            "marker": {
             "pattern": {
              "fillmode": "overlay",
              "size": 10,
              "solidity": 0.2
             }
            },
            "type": "histogram"
           }
          ],
          "histogram2d": [
           {
            "colorbar": {
             "outlinewidth": 0,
             "ticks": ""
            },
            "colorscale": [
             [
              0,
              "#0d0887"
             ],
             [
              0.1111111111111111,
              "#46039f"
             ],
             [
              0.2222222222222222,
              "#7201a8"
             ],
             [
              0.3333333333333333,
              "#9c179e"
             ],
             [
              0.4444444444444444,
              "#bd3786"
             ],
             [
              0.5555555555555556,
              "#d8576b"
             ],
             [
              0.6666666666666666,
              "#ed7953"
             ],
             [
              0.7777777777777778,
              "#fb9f3a"
             ],
             [
              0.8888888888888888,
              "#fdca26"
             ],
             [
              1,
              "#f0f921"
             ]
            ],
            "type": "histogram2d"
           }
          ],
          "histogram2dcontour": [
           {
            "colorbar": {
             "outlinewidth": 0,
             "ticks": ""
            },
            "colorscale": [
             [
              0,
              "#0d0887"
             ],
             [
              0.1111111111111111,
              "#46039f"
             ],
             [
              0.2222222222222222,
              "#7201a8"
             ],
             [
              0.3333333333333333,
              "#9c179e"
             ],
             [
              0.4444444444444444,
              "#bd3786"
             ],
             [
              0.5555555555555556,
              "#d8576b"
             ],
             [
              0.6666666666666666,
              "#ed7953"
             ],
             [
              0.7777777777777778,
              "#fb9f3a"
             ],
             [
              0.8888888888888888,
              "#fdca26"
             ],
             [
              1,
              "#f0f921"
             ]
            ],
            "type": "histogram2dcontour"
           }
          ],
          "mesh3d": [
           {
            "colorbar": {
             "outlinewidth": 0,
             "ticks": ""
            },
            "type": "mesh3d"
           }
          ],
          "parcoords": [
           {
            "line": {
             "colorbar": {
              "outlinewidth": 0,
              "ticks": ""
             }
            },
            "type": "parcoords"
           }
          ],
          "pie": [
           {
            "automargin": true,
            "type": "pie"
           }
          ],
          "scatter": [
           {
            "fillpattern": {
             "fillmode": "overlay",
             "size": 10,
             "solidity": 0.2
            },
            "type": "scatter"
           }
          ],
          "scatter3d": [
           {
            "line": {
             "colorbar": {
              "outlinewidth": 0,
              "ticks": ""
             }
            },
            "marker": {
             "colorbar": {
              "outlinewidth": 0,
              "ticks": ""
             }
            },
            "type": "scatter3d"
           }
          ],
          "scattercarpet": [
           {
            "marker": {
             "colorbar": {
              "outlinewidth": 0,
              "ticks": ""
             }
            },
            "type": "scattercarpet"
           }
          ],
          "scattergeo": [
           {
            "marker": {
             "colorbar": {
              "outlinewidth": 0,
              "ticks": ""
             }
            },
            "type": "scattergeo"
           }
          ],
          "scattergl": [
           {
            "marker": {
             "colorbar": {
              "outlinewidth": 0,
              "ticks": ""
             }
            },
            "type": "scattergl"
           }
          ],
          "scattermapbox": [
           {
            "marker": {
             "colorbar": {
              "outlinewidth": 0,
              "ticks": ""
             }
            },
            "type": "scattermapbox"
           }
          ],
          "scatterpolar": [
           {
            "marker": {
             "colorbar": {
              "outlinewidth": 0,
              "ticks": ""
             }
            },
            "type": "scatterpolar"
           }
          ],
          "scatterpolargl": [
           {
            "marker": {
             "colorbar": {
              "outlinewidth": 0,
              "ticks": ""
             }
            },
            "type": "scatterpolargl"
           }
          ],
          "scatterternary": [
           {
            "marker": {
             "colorbar": {
              "outlinewidth": 0,
              "ticks": ""
             }
            },
            "type": "scatterternary"
           }
          ],
          "surface": [
           {
            "colorbar": {
             "outlinewidth": 0,
             "ticks": ""
            },
            "colorscale": [
             [
              0,
              "#0d0887"
             ],
             [
              0.1111111111111111,
              "#46039f"
             ],
             [
              0.2222222222222222,
              "#7201a8"
             ],
             [
              0.3333333333333333,
              "#9c179e"
             ],
             [
              0.4444444444444444,
              "#bd3786"
             ],
             [
              0.5555555555555556,
              "#d8576b"
             ],
             [
              0.6666666666666666,
              "#ed7953"
             ],
             [
              0.7777777777777778,
              "#fb9f3a"
             ],
             [
              0.8888888888888888,
              "#fdca26"
             ],
             [
              1,
              "#f0f921"
             ]
            ],
            "type": "surface"
           }
          ],
          "table": [
           {
            "cells": {
             "fill": {
              "color": "#EBF0F8"
             },
             "line": {
              "color": "white"
             }
            },
            "header": {
             "fill": {
              "color": "#C8D4E3"
             },
             "line": {
              "color": "white"
             }
            },
            "type": "table"
           }
          ]
         },
         "layout": {
          "annotationdefaults": {
           "arrowcolor": "#2a3f5f",
           "arrowhead": 0,
           "arrowwidth": 1
          },
          "autotypenumbers": "strict",
          "coloraxis": {
           "colorbar": {
            "outlinewidth": 0,
            "ticks": ""
           }
          },
          "colorscale": {
           "diverging": [
            [
             0,
             "#8e0152"
            ],
            [
             0.1,
             "#c51b7d"
            ],
            [
             0.2,
             "#de77ae"
            ],
            [
             0.3,
             "#f1b6da"
            ],
            [
             0.4,
             "#fde0ef"
            ],
            [
             0.5,
             "#f7f7f7"
            ],
            [
             0.6,
             "#e6f5d0"
            ],
            [
             0.7,
             "#b8e186"
            ],
            [
             0.8,
             "#7fbc41"
            ],
            [
             0.9,
             "#4d9221"
            ],
            [
             1,
             "#276419"
            ]
           ],
           "sequential": [
            [
             0,
             "#0d0887"
            ],
            [
             0.1111111111111111,
             "#46039f"
            ],
            [
             0.2222222222222222,
             "#7201a8"
            ],
            [
             0.3333333333333333,
             "#9c179e"
            ],
            [
             0.4444444444444444,
             "#bd3786"
            ],
            [
             0.5555555555555556,
             "#d8576b"
            ],
            [
             0.6666666666666666,
             "#ed7953"
            ],
            [
             0.7777777777777778,
             "#fb9f3a"
            ],
            [
             0.8888888888888888,
             "#fdca26"
            ],
            [
             1,
             "#f0f921"
            ]
           ],
           "sequentialminus": [
            [
             0,
             "#0d0887"
            ],
            [
             0.1111111111111111,
             "#46039f"
            ],
            [
             0.2222222222222222,
             "#7201a8"
            ],
            [
             0.3333333333333333,
             "#9c179e"
            ],
            [
             0.4444444444444444,
             "#bd3786"
            ],
            [
             0.5555555555555556,
             "#d8576b"
            ],
            [
             0.6666666666666666,
             "#ed7953"
            ],
            [
             0.7777777777777778,
             "#fb9f3a"
            ],
            [
             0.8888888888888888,
             "#fdca26"
            ],
            [
             1,
             "#f0f921"
            ]
           ]
          },
          "colorway": [
           "#636efa",
           "#EF553B",
           "#00cc96",
           "#ab63fa",
           "#FFA15A",
           "#19d3f3",
           "#FF6692",
           "#B6E880",
           "#FF97FF",
           "#FECB52"
          ],
          "font": {
           "color": "#2a3f5f"
          },
          "geo": {
           "bgcolor": "white",
           "lakecolor": "white",
           "landcolor": "white",
           "showlakes": true,
           "showland": true,
           "subunitcolor": "#C8D4E3"
          },
          "hoverlabel": {
           "align": "left"
          },
          "hovermode": "closest",
          "mapbox": {
           "style": "light"
          },
          "paper_bgcolor": "white",
          "plot_bgcolor": "white",
          "polar": {
           "angularaxis": {
            "gridcolor": "#EBF0F8",
            "linecolor": "#EBF0F8",
            "ticks": ""
           },
           "bgcolor": "white",
           "radialaxis": {
            "gridcolor": "#EBF0F8",
            "linecolor": "#EBF0F8",
            "ticks": ""
           }
          },
          "scene": {
           "xaxis": {
            "backgroundcolor": "white",
            "gridcolor": "#DFE8F3",
            "gridwidth": 2,
            "linecolor": "#EBF0F8",
            "showbackground": true,
            "ticks": "",
            "zerolinecolor": "#EBF0F8"
           },
           "yaxis": {
            "backgroundcolor": "white",
            "gridcolor": "#DFE8F3",
            "gridwidth": 2,
            "linecolor": "#EBF0F8",
            "showbackground": true,
            "ticks": "",
            "zerolinecolor": "#EBF0F8"
           },
           "zaxis": {
            "backgroundcolor": "white",
            "gridcolor": "#DFE8F3",
            "gridwidth": 2,
            "linecolor": "#EBF0F8",
            "showbackground": true,
            "ticks": "",
            "zerolinecolor": "#EBF0F8"
           }
          },
          "shapedefaults": {
           "line": {
            "color": "#2a3f5f"
           }
          },
          "ternary": {
           "aaxis": {
            "gridcolor": "#DFE8F3",
            "linecolor": "#A2B1C6",
            "ticks": ""
           },
           "baxis": {
            "gridcolor": "#DFE8F3",
            "linecolor": "#A2B1C6",
            "ticks": ""
           },
           "bgcolor": "white",
           "caxis": {
            "gridcolor": "#DFE8F3",
            "linecolor": "#A2B1C6",
            "ticks": ""
           }
          },
          "title": {
           "x": 0.05
          },
          "xaxis": {
           "automargin": true,
           "gridcolor": "#EBF0F8",
           "linecolor": "#EBF0F8",
           "ticks": "",
           "title": {
            "standoff": 15
           },
           "zerolinecolor": "#EBF0F8",
           "zerolinewidth": 2
          },
          "yaxis": {
           "automargin": true,
           "gridcolor": "#EBF0F8",
           "linecolor": "#EBF0F8",
           "ticks": "",
           "title": {
            "standoff": 15
           },
           "zerolinecolor": "#EBF0F8",
           "zerolinewidth": 2
          }
         }
        },
        "title": {
         "font": {
          "size": 20
         },
         "text": "Missing Values in PM2.5",
         "x": 0.5,
         "xanchor": "center",
         "yanchor": "top"
        },
        "width": 900,
        "xaxis": {
         "anchor": "y",
         "domain": [
          0,
          1
         ],
         "tickfont": {
          "size": 15
         },
         "title": {
          "font": {
           "size": 15
          },
          "text": "Day"
         }
        },
        "yaxis": {
         "anchor": "x",
         "domain": [
          0,
          1
         ],
         "tickfont": {
          "size": 15
         },
         "title": {
          "font": {
           "size": 15
          },
          "text": "Value"
         }
        }
       }
      }
     },
     "metadata": {},
     "output_type": "display_data"
    }
   ],
   "source": [
    "df = df.loc[\"2022-07-07\":\"2022-07-07 12:00\", \"pm2_5_1_hr\"].to_frame()\n",
    "fig = px.line(df, x=df.index, y=\"pm2_5_1_hr\", title=\"Missing Values in PM2.5\")\n",
    "fig = format_plot(fig, [\"Original\"])\n",
    "fig.write_image(\"imgs/chapter_2/missing_values.png\")\n",
    "fig.show()"
   ]
  },
  {
   "cell_type": "code",
   "execution_count": 121,
   "metadata": {},
   "outputs": [
    {
     "data": {
      "text/html": [
       "<div>\n",
       "<style scoped>\n",
       "    .dataframe tbody tr th:only-of-type {\n",
       "        vertical-align: middle;\n",
       "    }\n",
       "\n",
       "    .dataframe tbody tr th {\n",
       "        vertical-align: top;\n",
       "    }\n",
       "\n",
       "    .dataframe thead th {\n",
       "        text-align: right;\n",
       "    }\n",
       "</style>\n",
       "<table border=\"1\" class=\"dataframe\">\n",
       "  <thead>\n",
       "    <tr style=\"text-align: right;\">\n",
       "      <th></th>\n",
       "      <th>pm2_5_1_hr</th>\n",
       "    </tr>\n",
       "    <tr>\n",
       "      <th>datetime</th>\n",
       "      <th></th>\n",
       "    </tr>\n",
       "  </thead>\n",
       "  <tbody>\n",
       "    <tr>\n",
       "      <th>2023-10-17 09:00:00</th>\n",
       "      <td>4.47</td>\n",
       "    </tr>\n",
       "    <tr>\n",
       "      <th>2023-10-17 10:00:00</th>\n",
       "      <td>5.70</td>\n",
       "    </tr>\n",
       "    <tr>\n",
       "      <th>2023-10-17 11:00:00</th>\n",
       "      <td>5.89</td>\n",
       "    </tr>\n",
       "    <tr>\n",
       "      <th>2023-10-17 12:00:00</th>\n",
       "      <td>2.85</td>\n",
       "    </tr>\n",
       "    <tr>\n",
       "      <th>2023-10-17 13:00:00</th>\n",
       "      <td>2.39</td>\n",
       "    </tr>\n",
       "    <tr>\n",
       "      <th>...</th>\n",
       "      <td>...</td>\n",
       "    </tr>\n",
       "    <tr>\n",
       "      <th>2023-10-31 05:00:00</th>\n",
       "      <td>8.76</td>\n",
       "    </tr>\n",
       "    <tr>\n",
       "      <th>2023-10-31 06:00:00</th>\n",
       "      <td>7.35</td>\n",
       "    </tr>\n",
       "    <tr>\n",
       "      <th>2023-10-31 07:00:00</th>\n",
       "      <td>5.61</td>\n",
       "    </tr>\n",
       "    <tr>\n",
       "      <th>2023-10-31 08:00:00</th>\n",
       "      <td>3.49</td>\n",
       "    </tr>\n",
       "    <tr>\n",
       "      <th>2023-10-31 09:00:00</th>\n",
       "      <td>2.25</td>\n",
       "    </tr>\n",
       "  </tbody>\n",
       "</table>\n",
       "<p>333 rows × 1 columns</p>\n",
       "</div>"
      ],
      "text/plain": [
       "                     pm2_5_1_hr\n",
       "datetime                       \n",
       "2023-10-17 09:00:00        4.47\n",
       "2023-10-17 10:00:00        5.70\n",
       "2023-10-17 11:00:00        5.89\n",
       "2023-10-17 12:00:00        2.85\n",
       "2023-10-17 13:00:00        2.39\n",
       "...                         ...\n",
       "2023-10-31 05:00:00        8.76\n",
       "2023-10-31 06:00:00        7.35\n",
       "2023-10-31 07:00:00        5.61\n",
       "2023-10-31 08:00:00        3.49\n",
       "2023-10-31 09:00:00        2.25\n",
       "\n",
       "[333 rows x 1 columns]"
      ]
     },
     "execution_count": 121,
     "metadata": {},
     "output_type": "execute_result"
    }
   ],
   "source": [
    "df[]"
   ]
  },
  {
   "cell_type": "code",
   "execution_count": null,
   "metadata": {},
   "outputs": [],
   "source": []
  }
 ],
 "metadata": {
  "kernelspec": {
   "display_name": "modern-ts",
   "language": "python",
   "name": "python3"
  },
  "language_info": {
   "codemirror_mode": {
    "name": "ipython",
    "version": 3
   },
   "file_extension": ".py",
   "mimetype": "text/x-python",
   "name": "python",
   "nbconvert_exporter": "python",
   "pygments_lexer": "ipython3",
   "version": "3.9.18"
  }
 },
 "nbformat": 4,
 "nbformat_minor": 2
}
