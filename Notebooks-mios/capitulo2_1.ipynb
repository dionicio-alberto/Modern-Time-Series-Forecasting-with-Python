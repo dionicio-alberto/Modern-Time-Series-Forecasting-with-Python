{
 "cells": [
  {
   "cell_type": "markdown",
   "metadata": {},
   "source": [
    "# Acquiring and Processing Time Series Data\n",
    " \n",
    "We are going to start working on the dataset we have chosen to work on throughout this book, process it in the right way, and learn about a few techniques for dealing with missing values.\n",
    "\n",
    "In this chapter, we will cover the following topics:\n",
    "- Understanding the time series dataset\n",
    "- pandas datetime operations, indexing, and slicing – a refresher\n",
    "- Handling missing data\n",
    "- Mapping additional information\n",
    "- Saving and loading files to disk\n",
    "- Handling longer periods of missing data"
   ]
  },
  {
   "cell_type": "code",
   "execution_count": 2,
   "metadata": {},
   "outputs": [
    {
     "name": "stderr",
     "output_type": "stream",
     "text": [
      "C:\\Users\\dioni\\AppData\\Local\\Temp\\ipykernel_8216\\996648543.py:11: TqdmExperimentalWarning:\n",
      "\n",
      "Using `tqdm.autonotebook.tqdm` in notebook mode. Use `tqdm.tqdm` instead to force console mode (e.g. in jupyter console)\n",
      "\n"
     ]
    }
   ],
   "source": [
    "import numpy as np\n",
    "import matplotlib.pyplot as plt\n",
    "import plotly.express as px\n",
    "import plotly.graph_objects as go\n",
    "import os\n",
    "import plotly.io as pio\n",
    "pio.templates.default = \"plotly_white\"\n",
    "pio.kaleido.scope.mathjax = None\n",
    "import pandas as pd\n",
    "from pathlib import Path\n",
    "from tqdm.autonotebook import tqdm\n",
    "from itertools import cycle\n",
    "%load_ext autoreload\n",
    "%autoreload 2\n",
    "np.random.seed()\n",
    "tqdm.pandas()"
   ]
  },
  {
   "cell_type": "code",
   "execution_count": 3,
   "metadata": {},
   "outputs": [],
   "source": [
    "os.makedirs(\"imgs/chapter_2\", exist_ok=True)"
   ]
  },
  {
   "cell_type": "markdown",
   "metadata": {},
   "source": [
    "-----"
   ]
  },
  {
   "cell_type": "code",
   "execution_count": 4,
   "metadata": {},
   "outputs": [
    {
     "name": "stderr",
     "output_type": "stream",
     "text": [
      "c:\\Users\\dioni\\anaconda3\\envs\\modern-ts\\lib\\site-packages\\openpyxl\\worksheet\\_read_only.py:79: UserWarning:\n",
      "\n",
      "Unknown extension is not supported and will be removed\n",
      "\n"
     ]
    },
    {
     "data": {
      "text/html": [
       "<div>\n",
       "<style scoped>\n",
       "    .dataframe tbody tr th:only-of-type {\n",
       "        vertical-align: middle;\n",
       "    }\n",
       "\n",
       "    .dataframe tbody tr th {\n",
       "        vertical-align: top;\n",
       "    }\n",
       "\n",
       "    .dataframe thead th {\n",
       "        text-align: right;\n",
       "    }\n",
       "</style>\n",
       "<table border=\"1\" class=\"dataframe\">\n",
       "  <thead>\n",
       "    <tr style=\"text-align: right;\">\n",
       "      <th></th>\n",
       "      <th>date</th>\n",
       "      <th>ISE</th>\n",
       "      <th>ISE.1</th>\n",
       "      <th>SP</th>\n",
       "      <th>DAX</th>\n",
       "      <th>FTSE</th>\n",
       "      <th>NIKKEI</th>\n",
       "      <th>BOVESPA</th>\n",
       "      <th>EU</th>\n",
       "      <th>EM</th>\n",
       "    </tr>\n",
       "  </thead>\n",
       "  <tbody>\n",
       "    <tr>\n",
       "      <th>0</th>\n",
       "      <td>2009-01-05</td>\n",
       "      <td>0.035754</td>\n",
       "      <td>0.038376</td>\n",
       "      <td>-0.004679</td>\n",
       "      <td>0.002193</td>\n",
       "      <td>0.003894</td>\n",
       "      <td>0.000000</td>\n",
       "      <td>0.031190</td>\n",
       "      <td>0.012698</td>\n",
       "      <td>0.028524</td>\n",
       "    </tr>\n",
       "    <tr>\n",
       "      <th>1</th>\n",
       "      <td>2009-01-06</td>\n",
       "      <td>0.025426</td>\n",
       "      <td>0.031813</td>\n",
       "      <td>0.007787</td>\n",
       "      <td>0.008455</td>\n",
       "      <td>0.012866</td>\n",
       "      <td>0.004162</td>\n",
       "      <td>0.018920</td>\n",
       "      <td>0.011341</td>\n",
       "      <td>0.008773</td>\n",
       "    </tr>\n",
       "    <tr>\n",
       "      <th>2</th>\n",
       "      <td>2009-01-07</td>\n",
       "      <td>-0.028862</td>\n",
       "      <td>-0.026353</td>\n",
       "      <td>-0.030469</td>\n",
       "      <td>-0.017833</td>\n",
       "      <td>-0.028735</td>\n",
       "      <td>0.017293</td>\n",
       "      <td>-0.035899</td>\n",
       "      <td>-0.017073</td>\n",
       "      <td>-0.020015</td>\n",
       "    </tr>\n",
       "    <tr>\n",
       "      <th>3</th>\n",
       "      <td>2009-01-08</td>\n",
       "      <td>-0.062208</td>\n",
       "      <td>-0.084716</td>\n",
       "      <td>0.003391</td>\n",
       "      <td>-0.011726</td>\n",
       "      <td>-0.000466</td>\n",
       "      <td>-0.040061</td>\n",
       "      <td>0.028283</td>\n",
       "      <td>-0.005561</td>\n",
       "      <td>-0.019424</td>\n",
       "    </tr>\n",
       "    <tr>\n",
       "      <th>4</th>\n",
       "      <td>2009-01-09</td>\n",
       "      <td>0.009860</td>\n",
       "      <td>0.009658</td>\n",
       "      <td>-0.021533</td>\n",
       "      <td>-0.019873</td>\n",
       "      <td>-0.012710</td>\n",
       "      <td>-0.004474</td>\n",
       "      <td>-0.009764</td>\n",
       "      <td>-0.010989</td>\n",
       "      <td>-0.007802</td>\n",
       "    </tr>\n",
       "  </tbody>\n",
       "</table>\n",
       "</div>"
      ],
      "text/plain": [
       "        date       ISE     ISE.1        SP       DAX      FTSE    NIKKEI  \\\n",
       "0 2009-01-05  0.035754  0.038376 -0.004679  0.002193  0.003894  0.000000   \n",
       "1 2009-01-06  0.025426  0.031813  0.007787  0.008455  0.012866  0.004162   \n",
       "2 2009-01-07 -0.028862 -0.026353 -0.030469 -0.017833 -0.028735  0.017293   \n",
       "3 2009-01-08 -0.062208 -0.084716  0.003391 -0.011726 -0.000466 -0.040061   \n",
       "4 2009-01-09  0.009860  0.009658 -0.021533 -0.019873 -0.012710 -0.004474   \n",
       "\n",
       "    BOVESPA        EU        EM  \n",
       "0  0.031190  0.012698  0.028524  \n",
       "1  0.018920  0.011341  0.008773  \n",
       "2 -0.035899 -0.017073 -0.020015  \n",
       "3  0.028283 -0.005561 -0.019424  \n",
       "4 -0.009764 -0.010989 -0.007802  "
      ]
     },
     "execution_count": 4,
     "metadata": {},
     "output_type": "execute_result"
    }
   ],
   "source": [
    "df = pd.read_excel(\"https://archive.ics.uci.edu/ml/machine-learning-databases/00247/data_akbilgic.xlsx\", skiprows=1)\n",
    "\n",
    "df.head()"
   ]
  },
  {
   "cell_type": "markdown",
   "metadata": {},
   "source": [
    "Converting the date columns into pd.Timestamp/DatetimeIndex"
   ]
  },
  {
   "cell_type": "code",
   "execution_count": 5,
   "metadata": {},
   "outputs": [
    {
     "data": {
      "text/plain": [
       "'13, April, 1987'"
      ]
     },
     "execution_count": 5,
     "metadata": {},
     "output_type": "execute_result"
    }
   ],
   "source": [
    "pd.to_datetime(\"13-4-1987\",dayfirst=True).strftime(\"%d, %B, %Y\")\n"
   ]
  },
  {
   "cell_type": "code",
   "execution_count": 6,
   "metadata": {},
   "outputs": [],
   "source": [
    "df['date'] = pd.to_datetime(df['date'], yearfirst=True)"
   ]
  },
  {
   "cell_type": "code",
   "execution_count": 7,
   "metadata": {},
   "outputs": [
    {
     "data": {
      "text/plain": [
       "dtype('<M8[ns]')"
      ]
     },
     "execution_count": 7,
     "metadata": {},
     "output_type": "execute_result"
    }
   ],
   "source": [
    "df.date.dtype"
   ]
  },
  {
   "cell_type": "code",
   "execution_count": 8,
   "metadata": {},
   "outputs": [
    {
     "data": {
      "text/plain": [
       "(Timestamp('2009-01-05 00:00:00'), Timestamp('2011-02-22 00:00:00'))"
      ]
     },
     "execution_count": 8,
     "metadata": {},
     "output_type": "execute_result"
    }
   ],
   "source": [
    "df.date.min(),df.date.max()"
   ]
  },
  {
   "cell_type": "markdown",
   "metadata": {},
   "source": [
    "----\n",
    "\n",
    "# Using the .dt accessor and datetime properties\n",
    "\n",
    "Since the column is now in date format, all the semantic information that is encoded in the date can be\n",
    "used through pandas datetime properties. We can access many datetime properties, such as month,\n",
    "day_of_week, day_of_year, and so on, using the .dt accessor:\n"
   ]
  },
  {
   "cell_type": "code",
   "execution_count": 9,
   "metadata": {},
   "outputs": [
    {
     "name": "stdout",
     "output_type": "stream",
     "text": [
      "\n",
      "Date: 2009-01-05 00:00:00\n",
      "Day of year: 5\n",
      "Day of week: 0\n",
      "Week of Year: 2\n",
      "Month: 1\n",
      "Month Name: January\n",
      "Quarter: 1\n",
      "Year: 2009\n",
      "ISO Week: 2\n",
      "\n"
     ]
    }
   ],
   "source": [
    "print(f\"\"\"\n",
    "Date: {df.date.iloc[0]}\n",
    "Day of year: {df.date.dt.day_of_year.iloc[0]}\n",
    "Day of week: {df.date.dt.dayofweek.iloc[0]}\n",
    "Week of Year: {df.date.dt.isocalendar().week[0]}\n",
    "Month: {df.date.dt.month.iloc[0]}\n",
    "Month Name: {df.date.dt.month_name().iloc[0]}\n",
    "Quarter: {df.date.dt.quarter.iloc[0]}\n",
    "Year: {df.date.dt.year.iloc[0]}\n",
    "ISO Week: {df.date.dt.isocalendar().week.iloc[0]}\n",
    "\"\"\")"
   ]
  },
  {
   "cell_type": "markdown",
   "metadata": {},
   "source": [
    "# Slicing and indexing"
   ]
  },
  {
   "cell_type": "code",
   "execution_count": 10,
   "metadata": {},
   "outputs": [],
   "source": [
    "# Setting the index as the datatime column\n",
    "df.set_index(\"date\", inplace=True)"
   ]
  },
  {
   "cell_type": "code",
   "execution_count": 11,
   "metadata": {},
   "outputs": [
    {
     "data": {
      "text/html": [
       "<div>\n",
       "<style scoped>\n",
       "    .dataframe tbody tr th:only-of-type {\n",
       "        vertical-align: middle;\n",
       "    }\n",
       "\n",
       "    .dataframe tbody tr th {\n",
       "        vertical-align: top;\n",
       "    }\n",
       "\n",
       "    .dataframe thead th {\n",
       "        text-align: right;\n",
       "    }\n",
       "</style>\n",
       "<table border=\"1\" class=\"dataframe\">\n",
       "  <thead>\n",
       "    <tr style=\"text-align: right;\">\n",
       "      <th></th>\n",
       "      <th>ISE</th>\n",
       "      <th>ISE.1</th>\n",
       "      <th>SP</th>\n",
       "      <th>DAX</th>\n",
       "      <th>FTSE</th>\n",
       "      <th>NIKKEI</th>\n",
       "      <th>BOVESPA</th>\n",
       "      <th>EU</th>\n",
       "      <th>EM</th>\n",
       "    </tr>\n",
       "    <tr>\n",
       "      <th>date</th>\n",
       "      <th></th>\n",
       "      <th></th>\n",
       "      <th></th>\n",
       "      <th></th>\n",
       "      <th></th>\n",
       "      <th></th>\n",
       "      <th></th>\n",
       "      <th></th>\n",
       "      <th></th>\n",
       "    </tr>\n",
       "  </thead>\n",
       "  <tbody>\n",
       "    <tr>\n",
       "      <th>2010-01-04</th>\n",
       "      <td>0.010229</td>\n",
       "      <td>0.014478</td>\n",
       "      <td>0.015916</td>\n",
       "      <td>0.000000</td>\n",
       "      <td>0.016018</td>\n",
       "      <td>0.000000</td>\n",
       "      <td>0.000000</td>\n",
       "      <td>0.016778</td>\n",
       "      <td>0.008399</td>\n",
       "    </tr>\n",
       "    <tr>\n",
       "      <th>2010-01-05</th>\n",
       "      <td>0.013898</td>\n",
       "      <td>0.024019</td>\n",
       "      <td>0.003111</td>\n",
       "      <td>-0.002722</td>\n",
       "      <td>0.004028</td>\n",
       "      <td>0.002535</td>\n",
       "      <td>0.002780</td>\n",
       "      <td>0.001316</td>\n",
       "      <td>0.008067</td>\n",
       "    </tr>\n",
       "    <tr>\n",
       "      <th>2010-01-06</th>\n",
       "      <td>0.007957</td>\n",
       "      <td>0.005706</td>\n",
       "      <td>0.000545</td>\n",
       "      <td>0.000409</td>\n",
       "      <td>0.001357</td>\n",
       "      <td>0.004635</td>\n",
       "      <td>0.006938</td>\n",
       "      <td>0.000586</td>\n",
       "      <td>0.005330</td>\n",
       "    </tr>\n",
       "    <tr>\n",
       "      <th>2010-01-07</th>\n",
       "      <td>0.007772</td>\n",
       "      <td>0.007498</td>\n",
       "      <td>0.003993</td>\n",
       "      <td>-0.002484</td>\n",
       "      <td>-0.000597</td>\n",
       "      <td>-0.004650</td>\n",
       "      <td>-0.003938</td>\n",
       "      <td>-0.000360</td>\n",
       "      <td>-0.006375</td>\n",
       "    </tr>\n",
       "    <tr>\n",
       "      <th>2010-01-08</th>\n",
       "      <td>-0.003189</td>\n",
       "      <td>0.000835</td>\n",
       "      <td>0.002878</td>\n",
       "      <td>0.003027</td>\n",
       "      <td>0.001356</td>\n",
       "      <td>0.010862</td>\n",
       "      <td>-0.002672</td>\n",
       "      <td>0.003554</td>\n",
       "      <td>0.001229</td>\n",
       "    </tr>\n",
       "    <tr>\n",
       "      <th>...</th>\n",
       "      <td>...</td>\n",
       "      <td>...</td>\n",
       "      <td>...</td>\n",
       "      <td>...</td>\n",
       "      <td>...</td>\n",
       "      <td>...</td>\n",
       "      <td>...</td>\n",
       "      <td>...</td>\n",
       "      <td>...</td>\n",
       "    </tr>\n",
       "    <tr>\n",
       "      <th>2011-02-16</th>\n",
       "      <td>0.008599</td>\n",
       "      <td>0.013400</td>\n",
       "      <td>0.006238</td>\n",
       "      <td>0.001925</td>\n",
       "      <td>0.007952</td>\n",
       "      <td>0.005717</td>\n",
       "      <td>0.018371</td>\n",
       "      <td>0.006975</td>\n",
       "      <td>0.003039</td>\n",
       "    </tr>\n",
       "    <tr>\n",
       "      <th>2011-02-17</th>\n",
       "      <td>0.009310</td>\n",
       "      <td>0.015977</td>\n",
       "      <td>0.003071</td>\n",
       "      <td>-0.001186</td>\n",
       "      <td>0.000345</td>\n",
       "      <td>0.002620</td>\n",
       "      <td>0.001686</td>\n",
       "      <td>-0.000581</td>\n",
       "      <td>0.001039</td>\n",
       "    </tr>\n",
       "    <tr>\n",
       "      <th>2011-02-18</th>\n",
       "      <td>0.000191</td>\n",
       "      <td>-0.001653</td>\n",
       "      <td>0.001923</td>\n",
       "      <td>0.002872</td>\n",
       "      <td>-0.000723</td>\n",
       "      <td>0.000568</td>\n",
       "      <td>0.005628</td>\n",
       "      <td>0.000572</td>\n",
       "      <td>0.006938</td>\n",
       "    </tr>\n",
       "    <tr>\n",
       "      <th>2011-02-21</th>\n",
       "      <td>-0.013069</td>\n",
       "      <td>-0.013706</td>\n",
       "      <td>-0.020742</td>\n",
       "      <td>-0.014239</td>\n",
       "      <td>-0.011275</td>\n",
       "      <td>0.001358</td>\n",
       "      <td>-0.011942</td>\n",
       "      <td>-0.012615</td>\n",
       "      <td>-0.000958</td>\n",
       "    </tr>\n",
       "    <tr>\n",
       "      <th>2011-02-22</th>\n",
       "      <td>-0.007246</td>\n",
       "      <td>-0.019442</td>\n",
       "      <td>0.000000</td>\n",
       "      <td>-0.000473</td>\n",
       "      <td>-0.002997</td>\n",
       "      <td>-0.017920</td>\n",
       "      <td>-0.012252</td>\n",
       "      <td>-0.005465</td>\n",
       "      <td>-0.014297</td>\n",
       "    </tr>\n",
       "  </tbody>\n",
       "</table>\n",
       "<p>286 rows × 9 columns</p>\n",
       "</div>"
      ],
      "text/plain": [
       "                 ISE     ISE.1        SP       DAX      FTSE    NIKKEI  \\\n",
       "date                                                                     \n",
       "2010-01-04  0.010229  0.014478  0.015916  0.000000  0.016018  0.000000   \n",
       "2010-01-05  0.013898  0.024019  0.003111 -0.002722  0.004028  0.002535   \n",
       "2010-01-06  0.007957  0.005706  0.000545  0.000409  0.001357  0.004635   \n",
       "2010-01-07  0.007772  0.007498  0.003993 -0.002484 -0.000597 -0.004650   \n",
       "2010-01-08 -0.003189  0.000835  0.002878  0.003027  0.001356  0.010862   \n",
       "...              ...       ...       ...       ...       ...       ...   \n",
       "2011-02-16  0.008599  0.013400  0.006238  0.001925  0.007952  0.005717   \n",
       "2011-02-17  0.009310  0.015977  0.003071 -0.001186  0.000345  0.002620   \n",
       "2011-02-18  0.000191 -0.001653  0.001923  0.002872 -0.000723  0.000568   \n",
       "2011-02-21 -0.013069 -0.013706 -0.020742 -0.014239 -0.011275  0.001358   \n",
       "2011-02-22 -0.007246 -0.019442  0.000000 -0.000473 -0.002997 -0.017920   \n",
       "\n",
       "             BOVESPA        EU        EM  \n",
       "date                                      \n",
       "2010-01-04  0.000000  0.016778  0.008399  \n",
       "2010-01-05  0.002780  0.001316  0.008067  \n",
       "2010-01-06  0.006938  0.000586  0.005330  \n",
       "2010-01-07 -0.003938 -0.000360 -0.006375  \n",
       "2010-01-08 -0.002672  0.003554  0.001229  \n",
       "...              ...       ...       ...  \n",
       "2011-02-16  0.018371  0.006975  0.003039  \n",
       "2011-02-17  0.001686 -0.000581  0.001039  \n",
       "2011-02-18  0.005628  0.000572  0.006938  \n",
       "2011-02-21 -0.011942 -0.012615 -0.000958  \n",
       "2011-02-22 -0.012252 -0.005465 -0.014297  \n",
       "\n",
       "[286 rows x 9 columns]"
      ]
     },
     "execution_count": 11,
     "metadata": {},
     "output_type": "execute_result"
    }
   ],
   "source": [
    "df[\"2010-01-04\":]"
   ]
  },
  {
   "cell_type": "code",
   "execution_count": 12,
   "metadata": {},
   "outputs": [
    {
     "data": {
      "text/html": [
       "<div>\n",
       "<style scoped>\n",
       "    .dataframe tbody tr th:only-of-type {\n",
       "        vertical-align: middle;\n",
       "    }\n",
       "\n",
       "    .dataframe tbody tr th {\n",
       "        vertical-align: top;\n",
       "    }\n",
       "\n",
       "    .dataframe thead th {\n",
       "        text-align: right;\n",
       "    }\n",
       "</style>\n",
       "<table border=\"1\" class=\"dataframe\">\n",
       "  <thead>\n",
       "    <tr style=\"text-align: right;\">\n",
       "      <th></th>\n",
       "      <th>ISE</th>\n",
       "      <th>ISE.1</th>\n",
       "      <th>SP</th>\n",
       "      <th>DAX</th>\n",
       "      <th>FTSE</th>\n",
       "      <th>NIKKEI</th>\n",
       "      <th>BOVESPA</th>\n",
       "      <th>EU</th>\n",
       "      <th>EM</th>\n",
       "    </tr>\n",
       "    <tr>\n",
       "      <th>date</th>\n",
       "      <th></th>\n",
       "      <th></th>\n",
       "      <th></th>\n",
       "      <th></th>\n",
       "      <th></th>\n",
       "      <th></th>\n",
       "      <th></th>\n",
       "      <th></th>\n",
       "      <th></th>\n",
       "    </tr>\n",
       "  </thead>\n",
       "  <tbody>\n",
       "    <tr>\n",
       "      <th>2010-01-04</th>\n",
       "      <td>0.010229</td>\n",
       "      <td>0.014478</td>\n",
       "      <td>0.015916</td>\n",
       "      <td>0.000000</td>\n",
       "      <td>0.016018</td>\n",
       "      <td>0.000000</td>\n",
       "      <td>0.000000</td>\n",
       "      <td>0.016778</td>\n",
       "      <td>0.008399</td>\n",
       "    </tr>\n",
       "    <tr>\n",
       "      <th>2010-01-05</th>\n",
       "      <td>0.013898</td>\n",
       "      <td>0.024019</td>\n",
       "      <td>0.003111</td>\n",
       "      <td>-0.002722</td>\n",
       "      <td>0.004028</td>\n",
       "      <td>0.002535</td>\n",
       "      <td>0.002780</td>\n",
       "      <td>0.001316</td>\n",
       "      <td>0.008067</td>\n",
       "    </tr>\n",
       "    <tr>\n",
       "      <th>2010-01-06</th>\n",
       "      <td>0.007957</td>\n",
       "      <td>0.005706</td>\n",
       "      <td>0.000545</td>\n",
       "      <td>0.000409</td>\n",
       "      <td>0.001357</td>\n",
       "      <td>0.004635</td>\n",
       "      <td>0.006938</td>\n",
       "      <td>0.000586</td>\n",
       "      <td>0.005330</td>\n",
       "    </tr>\n",
       "    <tr>\n",
       "      <th>2010-01-07</th>\n",
       "      <td>0.007772</td>\n",
       "      <td>0.007498</td>\n",
       "      <td>0.003993</td>\n",
       "      <td>-0.002484</td>\n",
       "      <td>-0.000597</td>\n",
       "      <td>-0.004650</td>\n",
       "      <td>-0.003938</td>\n",
       "      <td>-0.000360</td>\n",
       "      <td>-0.006375</td>\n",
       "    </tr>\n",
       "    <tr>\n",
       "      <th>2010-01-08</th>\n",
       "      <td>-0.003189</td>\n",
       "      <td>0.000835</td>\n",
       "      <td>0.002878</td>\n",
       "      <td>0.003027</td>\n",
       "      <td>0.001356</td>\n",
       "      <td>0.010862</td>\n",
       "      <td>-0.002672</td>\n",
       "      <td>0.003554</td>\n",
       "      <td>0.001229</td>\n",
       "    </tr>\n",
       "    <tr>\n",
       "      <th>2010-01-11</th>\n",
       "      <td>-0.016131</td>\n",
       "      <td>-0.006033</td>\n",
       "      <td>0.001745</td>\n",
       "      <td>0.000479</td>\n",
       "      <td>0.000704</td>\n",
       "      <td>0.007457</td>\n",
       "      <td>0.002417</td>\n",
       "      <td>-0.000498</td>\n",
       "      <td>0.005447</td>\n",
       "    </tr>\n",
       "    <tr>\n",
       "      <th>2010-01-12</th>\n",
       "      <td>-0.004549</td>\n",
       "      <td>-0.004339</td>\n",
       "      <td>-0.009425</td>\n",
       "      <td>-0.016273</td>\n",
       "      <td>-0.007140</td>\n",
       "      <td>0.000000</td>\n",
       "      <td>-0.005082</td>\n",
       "      <td>-0.009893</td>\n",
       "      <td>-0.003729</td>\n",
       "    </tr>\n",
       "    <tr>\n",
       "      <th>2010-01-13</th>\n",
       "      <td>0.017559</td>\n",
       "      <td>0.021362</td>\n",
       "      <td>0.008291</td>\n",
       "      <td>0.003383</td>\n",
       "      <td>-0.004593</td>\n",
       "      <td>-0.013335</td>\n",
       "      <td>0.004400</td>\n",
       "      <td>-0.000075</td>\n",
       "      <td>-0.007263</td>\n",
       "    </tr>\n",
       "    <tr>\n",
       "      <th>2010-01-14</th>\n",
       "      <td>0.002074</td>\n",
       "      <td>-0.002076</td>\n",
       "      <td>0.002424</td>\n",
       "      <td>0.004307</td>\n",
       "      <td>0.004503</td>\n",
       "      <td>0.015955</td>\n",
       "      <td>-0.008332</td>\n",
       "      <td>0.005500</td>\n",
       "      <td>0.002313</td>\n",
       "    </tr>\n",
       "  </tbody>\n",
       "</table>\n",
       "</div>"
      ],
      "text/plain": [
       "                 ISE     ISE.1        SP       DAX      FTSE    NIKKEI  \\\n",
       "date                                                                     \n",
       "2010-01-04  0.010229  0.014478  0.015916  0.000000  0.016018  0.000000   \n",
       "2010-01-05  0.013898  0.024019  0.003111 -0.002722  0.004028  0.002535   \n",
       "2010-01-06  0.007957  0.005706  0.000545  0.000409  0.001357  0.004635   \n",
       "2010-01-07  0.007772  0.007498  0.003993 -0.002484 -0.000597 -0.004650   \n",
       "2010-01-08 -0.003189  0.000835  0.002878  0.003027  0.001356  0.010862   \n",
       "2010-01-11 -0.016131 -0.006033  0.001745  0.000479  0.000704  0.007457   \n",
       "2010-01-12 -0.004549 -0.004339 -0.009425 -0.016273 -0.007140  0.000000   \n",
       "2010-01-13  0.017559  0.021362  0.008291  0.003383 -0.004593 -0.013335   \n",
       "2010-01-14  0.002074 -0.002076  0.002424  0.004307  0.004503  0.015955   \n",
       "\n",
       "             BOVESPA        EU        EM  \n",
       "date                                      \n",
       "2010-01-04  0.000000  0.016778  0.008399  \n",
       "2010-01-05  0.002780  0.001316  0.008067  \n",
       "2010-01-06  0.006938  0.000586  0.005330  \n",
       "2010-01-07 -0.003938 -0.000360 -0.006375  \n",
       "2010-01-08 -0.002672  0.003554  0.001229  \n",
       "2010-01-11  0.002417 -0.000498  0.005447  \n",
       "2010-01-12 -0.005082 -0.009893 -0.003729  \n",
       "2010-01-13  0.004400 -0.000075 -0.007263  \n",
       "2010-01-14 -0.008332  0.005500  0.002313  "
      ]
     },
     "execution_count": 12,
     "metadata": {},
     "output_type": "execute_result"
    }
   ],
   "source": [
    "# Select all data between 2010-01-04 and 2010-02-06(not including)\n",
    "df[\"2010-01-04\": \"2010-01-14\"]"
   ]
  },
  {
   "cell_type": "code",
   "execution_count": 13,
   "metadata": {},
   "outputs": [
    {
     "data": {
      "text/html": [
       "<div>\n",
       "<style scoped>\n",
       "    .dataframe tbody tr th:only-of-type {\n",
       "        vertical-align: middle;\n",
       "    }\n",
       "\n",
       "    .dataframe tbody tr th {\n",
       "        vertical-align: top;\n",
       "    }\n",
       "\n",
       "    .dataframe thead th {\n",
       "        text-align: right;\n",
       "    }\n",
       "</style>\n",
       "<table border=\"1\" class=\"dataframe\">\n",
       "  <thead>\n",
       "    <tr style=\"text-align: right;\">\n",
       "      <th></th>\n",
       "      <th>ISE</th>\n",
       "      <th>ISE.1</th>\n",
       "      <th>SP</th>\n",
       "      <th>DAX</th>\n",
       "      <th>FTSE</th>\n",
       "      <th>NIKKEI</th>\n",
       "      <th>BOVESPA</th>\n",
       "      <th>EU</th>\n",
       "      <th>EM</th>\n",
       "    </tr>\n",
       "    <tr>\n",
       "      <th>date</th>\n",
       "      <th></th>\n",
       "      <th></th>\n",
       "      <th></th>\n",
       "      <th></th>\n",
       "      <th></th>\n",
       "      <th></th>\n",
       "      <th></th>\n",
       "      <th></th>\n",
       "      <th></th>\n",
       "    </tr>\n",
       "  </thead>\n",
       "  <tbody>\n",
       "    <tr>\n",
       "      <th>2009-01-05</th>\n",
       "      <td>0.035754</td>\n",
       "      <td>0.038376</td>\n",
       "      <td>-0.004679</td>\n",
       "      <td>0.002193</td>\n",
       "      <td>0.003894</td>\n",
       "      <td>0.000000</td>\n",
       "      <td>0.031190</td>\n",
       "      <td>0.012698</td>\n",
       "      <td>0.028524</td>\n",
       "    </tr>\n",
       "    <tr>\n",
       "      <th>2009-01-06</th>\n",
       "      <td>0.025426</td>\n",
       "      <td>0.031813</td>\n",
       "      <td>0.007787</td>\n",
       "      <td>0.008455</td>\n",
       "      <td>0.012866</td>\n",
       "      <td>0.004162</td>\n",
       "      <td>0.018920</td>\n",
       "      <td>0.011341</td>\n",
       "      <td>0.008773</td>\n",
       "    </tr>\n",
       "    <tr>\n",
       "      <th>2009-01-07</th>\n",
       "      <td>-0.028862</td>\n",
       "      <td>-0.026353</td>\n",
       "      <td>-0.030469</td>\n",
       "      <td>-0.017833</td>\n",
       "      <td>-0.028735</td>\n",
       "      <td>0.017293</td>\n",
       "      <td>-0.035899</td>\n",
       "      <td>-0.017073</td>\n",
       "      <td>-0.020015</td>\n",
       "    </tr>\n",
       "    <tr>\n",
       "      <th>2009-01-08</th>\n",
       "      <td>-0.062208</td>\n",
       "      <td>-0.084716</td>\n",
       "      <td>0.003391</td>\n",
       "      <td>-0.011726</td>\n",
       "      <td>-0.000466</td>\n",
       "      <td>-0.040061</td>\n",
       "      <td>0.028283</td>\n",
       "      <td>-0.005561</td>\n",
       "      <td>-0.019424</td>\n",
       "    </tr>\n",
       "    <tr>\n",
       "      <th>2009-01-09</th>\n",
       "      <td>0.009860</td>\n",
       "      <td>0.009658</td>\n",
       "      <td>-0.021533</td>\n",
       "      <td>-0.019873</td>\n",
       "      <td>-0.012710</td>\n",
       "      <td>-0.004474</td>\n",
       "      <td>-0.009764</td>\n",
       "      <td>-0.010989</td>\n",
       "      <td>-0.007802</td>\n",
       "    </tr>\n",
       "    <tr>\n",
       "      <th>...</th>\n",
       "      <td>...</td>\n",
       "      <td>...</td>\n",
       "      <td>...</td>\n",
       "      <td>...</td>\n",
       "      <td>...</td>\n",
       "      <td>...</td>\n",
       "      <td>...</td>\n",
       "      <td>...</td>\n",
       "      <td>...</td>\n",
       "    </tr>\n",
       "    <tr>\n",
       "      <th>2010-12-27</th>\n",
       "      <td>0.001346</td>\n",
       "      <td>0.000634</td>\n",
       "      <td>0.000000</td>\n",
       "      <td>0.000000</td>\n",
       "      <td>-0.002082</td>\n",
       "      <td>0.007444</td>\n",
       "      <td>0.000000</td>\n",
       "      <td>-0.005861</td>\n",
       "      <td>-0.002417</td>\n",
       "    </tr>\n",
       "    <tr>\n",
       "      <th>2010-12-28</th>\n",
       "      <td>0.001285</td>\n",
       "      <td>0.000438</td>\n",
       "      <td>0.000771</td>\n",
       "      <td>0.000197</td>\n",
       "      <td>0.000000</td>\n",
       "      <td>-0.006137</td>\n",
       "      <td>0.003504</td>\n",
       "      <td>0.000209</td>\n",
       "      <td>-0.000196</td>\n",
       "    </tr>\n",
       "    <tr>\n",
       "      <th>2010-12-29</th>\n",
       "      <td>0.004171</td>\n",
       "      <td>-0.005582</td>\n",
       "      <td>0.001009</td>\n",
       "      <td>0.003346</td>\n",
       "      <td>0.000000</td>\n",
       "      <td>0.005031</td>\n",
       "      <td>0.013300</td>\n",
       "      <td>0.001923</td>\n",
       "      <td>0.007861</td>\n",
       "    </tr>\n",
       "    <tr>\n",
       "      <th>2010-12-30</th>\n",
       "      <td>0.001535</td>\n",
       "      <td>0.008438</td>\n",
       "      <td>-0.001509</td>\n",
       "      <td>-0.011687</td>\n",
       "      <td>-0.004245</td>\n",
       "      <td>-0.011240</td>\n",
       "      <td>0.005106</td>\n",
       "      <td>-0.009191</td>\n",
       "      <td>0.003314</td>\n",
       "    </tr>\n",
       "    <tr>\n",
       "      <th>2010-12-31</th>\n",
       "      <td>-0.012312</td>\n",
       "      <td>-0.006861</td>\n",
       "      <td>-0.000191</td>\n",
       "      <td>0.000000</td>\n",
       "      <td>-0.011979</td>\n",
       "      <td>0.016404</td>\n",
       "      <td>0.009435</td>\n",
       "      <td>-0.006158</td>\n",
       "      <td>0.002789</td>\n",
       "    </tr>\n",
       "  </tbody>\n",
       "</table>\n",
       "<p>499 rows × 9 columns</p>\n",
       "</div>"
      ],
      "text/plain": [
       "                 ISE     ISE.1        SP       DAX      FTSE    NIKKEI  \\\n",
       "date                                                                     \n",
       "2009-01-05  0.035754  0.038376 -0.004679  0.002193  0.003894  0.000000   \n",
       "2009-01-06  0.025426  0.031813  0.007787  0.008455  0.012866  0.004162   \n",
       "2009-01-07 -0.028862 -0.026353 -0.030469 -0.017833 -0.028735  0.017293   \n",
       "2009-01-08 -0.062208 -0.084716  0.003391 -0.011726 -0.000466 -0.040061   \n",
       "2009-01-09  0.009860  0.009658 -0.021533 -0.019873 -0.012710 -0.004474   \n",
       "...              ...       ...       ...       ...       ...       ...   \n",
       "2010-12-27  0.001346  0.000634  0.000000  0.000000 -0.002082  0.007444   \n",
       "2010-12-28  0.001285  0.000438  0.000771  0.000197  0.000000 -0.006137   \n",
       "2010-12-29  0.004171 -0.005582  0.001009  0.003346  0.000000  0.005031   \n",
       "2010-12-30  0.001535  0.008438 -0.001509 -0.011687 -0.004245 -0.011240   \n",
       "2010-12-31 -0.012312 -0.006861 -0.000191  0.000000 -0.011979  0.016404   \n",
       "\n",
       "             BOVESPA        EU        EM  \n",
       "date                                      \n",
       "2009-01-05  0.031190  0.012698  0.028524  \n",
       "2009-01-06  0.018920  0.011341  0.008773  \n",
       "2009-01-07 -0.035899 -0.017073 -0.020015  \n",
       "2009-01-08  0.028283 -0.005561 -0.019424  \n",
       "2009-01-09 -0.009764 -0.010989 -0.007802  \n",
       "...              ...       ...       ...  \n",
       "2010-12-27  0.000000 -0.005861 -0.002417  \n",
       "2010-12-28  0.003504  0.000209 -0.000196  \n",
       "2010-12-29  0.013300  0.001923  0.007861  \n",
       "2010-12-30  0.005106 -0.009191  0.003314  \n",
       "2010-12-31  0.009435 -0.006158  0.002789  \n",
       "\n",
       "[499 rows x 9 columns]"
      ]
     },
     "execution_count": 13,
     "metadata": {},
     "output_type": "execute_result"
    }
   ],
   "source": [
    "# Select data 2010 and before\n",
    "df[: \"2010\"]"
   ]
  },
  {
   "cell_type": "code",
   "execution_count": 14,
   "metadata": {},
   "outputs": [
    {
     "data": {
      "text/html": [
       "<div>\n",
       "<style scoped>\n",
       "    .dataframe tbody tr th:only-of-type {\n",
       "        vertical-align: middle;\n",
       "    }\n",
       "\n",
       "    .dataframe tbody tr th {\n",
       "        vertical-align: top;\n",
       "    }\n",
       "\n",
       "    .dataframe thead th {\n",
       "        text-align: right;\n",
       "    }\n",
       "</style>\n",
       "<table border=\"1\" class=\"dataframe\">\n",
       "  <thead>\n",
       "    <tr style=\"text-align: right;\">\n",
       "      <th></th>\n",
       "      <th>ISE</th>\n",
       "      <th>ISE.1</th>\n",
       "      <th>SP</th>\n",
       "      <th>DAX</th>\n",
       "      <th>FTSE</th>\n",
       "      <th>NIKKEI</th>\n",
       "      <th>BOVESPA</th>\n",
       "      <th>EU</th>\n",
       "      <th>EM</th>\n",
       "    </tr>\n",
       "    <tr>\n",
       "      <th>date</th>\n",
       "      <th></th>\n",
       "      <th></th>\n",
       "      <th></th>\n",
       "      <th></th>\n",
       "      <th></th>\n",
       "      <th></th>\n",
       "      <th></th>\n",
       "      <th></th>\n",
       "      <th></th>\n",
       "    </tr>\n",
       "  </thead>\n",
       "  <tbody>\n",
       "    <tr>\n",
       "      <th>2010-01-04</th>\n",
       "      <td>0.010229</td>\n",
       "      <td>0.014478</td>\n",
       "      <td>0.015916</td>\n",
       "      <td>0.000000</td>\n",
       "      <td>0.016018</td>\n",
       "      <td>0.000000</td>\n",
       "      <td>0.000000</td>\n",
       "      <td>0.016778</td>\n",
       "      <td>0.008399</td>\n",
       "    </tr>\n",
       "    <tr>\n",
       "      <th>2010-01-05</th>\n",
       "      <td>0.013898</td>\n",
       "      <td>0.024019</td>\n",
       "      <td>0.003111</td>\n",
       "      <td>-0.002722</td>\n",
       "      <td>0.004028</td>\n",
       "      <td>0.002535</td>\n",
       "      <td>0.002780</td>\n",
       "      <td>0.001316</td>\n",
       "      <td>0.008067</td>\n",
       "    </tr>\n",
       "    <tr>\n",
       "      <th>2010-01-06</th>\n",
       "      <td>0.007957</td>\n",
       "      <td>0.005706</td>\n",
       "      <td>0.000545</td>\n",
       "      <td>0.000409</td>\n",
       "      <td>0.001357</td>\n",
       "      <td>0.004635</td>\n",
       "      <td>0.006938</td>\n",
       "      <td>0.000586</td>\n",
       "      <td>0.005330</td>\n",
       "    </tr>\n",
       "    <tr>\n",
       "      <th>2010-01-07</th>\n",
       "      <td>0.007772</td>\n",
       "      <td>0.007498</td>\n",
       "      <td>0.003993</td>\n",
       "      <td>-0.002484</td>\n",
       "      <td>-0.000597</td>\n",
       "      <td>-0.004650</td>\n",
       "      <td>-0.003938</td>\n",
       "      <td>-0.000360</td>\n",
       "      <td>-0.006375</td>\n",
       "    </tr>\n",
       "    <tr>\n",
       "      <th>2010-01-08</th>\n",
       "      <td>-0.003189</td>\n",
       "      <td>0.000835</td>\n",
       "      <td>0.002878</td>\n",
       "      <td>0.003027</td>\n",
       "      <td>0.001356</td>\n",
       "      <td>0.010862</td>\n",
       "      <td>-0.002672</td>\n",
       "      <td>0.003554</td>\n",
       "      <td>0.001229</td>\n",
       "    </tr>\n",
       "    <tr>\n",
       "      <th>...</th>\n",
       "      <td>...</td>\n",
       "      <td>...</td>\n",
       "      <td>...</td>\n",
       "      <td>...</td>\n",
       "      <td>...</td>\n",
       "      <td>...</td>\n",
       "      <td>...</td>\n",
       "      <td>...</td>\n",
       "      <td>...</td>\n",
       "    </tr>\n",
       "    <tr>\n",
       "      <th>2010-06-24</th>\n",
       "      <td>0.000166</td>\n",
       "      <td>-0.008024</td>\n",
       "      <td>-0.016946</td>\n",
       "      <td>-0.014455</td>\n",
       "      <td>-0.015236</td>\n",
       "      <td>0.000467</td>\n",
       "      <td>-0.018948</td>\n",
       "      <td>-0.017801</td>\n",
       "      <td>-0.006717</td>\n",
       "    </tr>\n",
       "    <tr>\n",
       "      <th>2010-06-25</th>\n",
       "      <td>-0.000920</td>\n",
       "      <td>-0.003591</td>\n",
       "      <td>0.002855</td>\n",
       "      <td>-0.007366</td>\n",
       "      <td>-0.010585</td>\n",
       "      <td>-0.019411</td>\n",
       "      <td>0.013778</td>\n",
       "      <td>-0.007954</td>\n",
       "      <td>-0.002311</td>\n",
       "    </tr>\n",
       "    <tr>\n",
       "      <th>2010-06-28</th>\n",
       "      <td>0.010132</td>\n",
       "      <td>0.016951</td>\n",
       "      <td>-0.002036</td>\n",
       "      <td>0.014168</td>\n",
       "      <td>0.004981</td>\n",
       "      <td>-0.004481</td>\n",
       "      <td>-0.009283</td>\n",
       "      <td>0.009125</td>\n",
       "      <td>0.000540</td>\n",
       "    </tr>\n",
       "    <tr>\n",
       "      <th>2010-06-29</th>\n",
       "      <td>-0.021816</td>\n",
       "      <td>-0.028443</td>\n",
       "      <td>-0.031508</td>\n",
       "      <td>-0.033893</td>\n",
       "      <td>-0.031547</td>\n",
       "      <td>-0.012798</td>\n",
       "      <td>-0.035613</td>\n",
       "      <td>-0.034903</td>\n",
       "      <td>-0.021033</td>\n",
       "    </tr>\n",
       "    <tr>\n",
       "      <th>2010-06-30</th>\n",
       "      <td>-0.006830</td>\n",
       "      <td>-0.006195</td>\n",
       "      <td>-0.010164</td>\n",
       "      <td>0.002264</td>\n",
       "      <td>0.000549</td>\n",
       "      <td>-0.019842</td>\n",
       "      <td>-0.016955</td>\n",
       "      <td>0.002202</td>\n",
       "      <td>-0.006962</td>\n",
       "    </tr>\n",
       "  </tbody>\n",
       "</table>\n",
       "<p>126 rows × 9 columns</p>\n",
       "</div>"
      ],
      "text/plain": [
       "                 ISE     ISE.1        SP       DAX      FTSE    NIKKEI  \\\n",
       "date                                                                     \n",
       "2010-01-04  0.010229  0.014478  0.015916  0.000000  0.016018  0.000000   \n",
       "2010-01-05  0.013898  0.024019  0.003111 -0.002722  0.004028  0.002535   \n",
       "2010-01-06  0.007957  0.005706  0.000545  0.000409  0.001357  0.004635   \n",
       "2010-01-07  0.007772  0.007498  0.003993 -0.002484 -0.000597 -0.004650   \n",
       "2010-01-08 -0.003189  0.000835  0.002878  0.003027  0.001356  0.010862   \n",
       "...              ...       ...       ...       ...       ...       ...   \n",
       "2010-06-24  0.000166 -0.008024 -0.016946 -0.014455 -0.015236  0.000467   \n",
       "2010-06-25 -0.000920 -0.003591  0.002855 -0.007366 -0.010585 -0.019411   \n",
       "2010-06-28  0.010132  0.016951 -0.002036  0.014168  0.004981 -0.004481   \n",
       "2010-06-29 -0.021816 -0.028443 -0.031508 -0.033893 -0.031547 -0.012798   \n",
       "2010-06-30 -0.006830 -0.006195 -0.010164  0.002264  0.000549 -0.019842   \n",
       "\n",
       "             BOVESPA        EU        EM  \n",
       "date                                      \n",
       "2010-01-04  0.000000  0.016778  0.008399  \n",
       "2010-01-05  0.002780  0.001316  0.008067  \n",
       "2010-01-06  0.006938  0.000586  0.005330  \n",
       "2010-01-07 -0.003938 -0.000360 -0.006375  \n",
       "2010-01-08 -0.002672  0.003554  0.001229  \n",
       "...              ...       ...       ...  \n",
       "2010-06-24 -0.018948 -0.017801 -0.006717  \n",
       "2010-06-25  0.013778 -0.007954 -0.002311  \n",
       "2010-06-28 -0.009283  0.009125  0.000540  \n",
       "2010-06-29 -0.035613 -0.034903 -0.021033  \n",
       "2010-06-30 -0.016955  0.002202 -0.006962  \n",
       "\n",
       "[126 rows x 9 columns]"
      ]
     },
     "execution_count": 14,
     "metadata": {},
     "output_type": "execute_result"
    }
   ],
   "source": [
    "# Select data between 2010-01 and 2010-06(both including)\n",
    "df[\"2010-01\": \"2010-06\"]"
   ]
  },
  {
   "cell_type": "markdown",
   "metadata": {},
   "source": [
    "# Creating date sequences and managing date offsets \n",
    "\n",
    "Let’s look at a couple of ways of creating a sequence of dates:\n",
    "\n",
    "## Specifying start and end dates with frequency"
   ]
  },
  {
   "cell_type": "code",
   "execution_count": 15,
   "metadata": {},
   "outputs": [
    {
     "data": {
      "text/plain": [
       "['2018-01-20', '2018-01-21', '2018-01-22', '2018-01-23']"
      ]
     },
     "execution_count": 15,
     "metadata": {},
     "output_type": "execute_result"
    }
   ],
   "source": [
    "pd.date_range(start=\"2018-01-20\", end=\"2018-01-23\", freq=\"D\").astype(str).tolist()"
   ]
  },
  {
   "cell_type": "markdown",
   "metadata": {},
   "source": [
    "## Specifying start and number of periods to generate in the given frequency"
   ]
  },
  {
   "cell_type": "code",
   "execution_count": 16,
   "metadata": {},
   "outputs": [
    {
     "data": {
      "text/plain": [
       "['2018-01-20', '2018-01-21', '2018-01-22', '2018-01-23']"
      ]
     },
     "execution_count": 16,
     "metadata": {},
     "output_type": "execute_result"
    }
   ],
   "source": [
    "pd.date_range(start=\"2018-01-20\", periods=4, freq=\"d\").astype(str).tolist()"
   ]
  },
  {
   "cell_type": "markdown",
   "metadata": {},
   "source": [
    "##  Generating a date sequence with every 2 days"
   ]
  },
  {
   "cell_type": "code",
   "execution_count": 17,
   "metadata": {},
   "outputs": [
    {
     "data": {
      "text/plain": [
       "['2018-01-20', '2018-01-22', '2018-01-24', '2018-01-26']"
      ]
     },
     "execution_count": 17,
     "metadata": {},
     "output_type": "execute_result"
    }
   ],
   "source": [
    "pd.date_range(start=\"2018-01-20\", periods=4, freq=\"2d\").astype(str).tolist()"
   ]
  },
  {
   "cell_type": "markdown",
   "metadata": {},
   "source": [
    "## Generating a date sequence every month. By default it starts with Month end"
   ]
  },
  {
   "cell_type": "code",
   "execution_count": 18,
   "metadata": {},
   "outputs": [
    {
     "data": {
      "text/plain": [
       "['2018-01-31', '2018-02-28', '2018-03-31', '2018-04-30']"
      ]
     },
     "execution_count": 18,
     "metadata": {},
     "output_type": "execute_result"
    }
   ],
   "source": [
    "pd.date_range(start=\"2018-01-20\", periods=4, freq=\"m\").astype(str).tolist()"
   ]
  },
  {
   "cell_type": "markdown",
   "metadata": {},
   "source": [
    "## Generating a date sequence every month, but month start"
   ]
  },
  {
   "cell_type": "code",
   "execution_count": 19,
   "metadata": {},
   "outputs": [
    {
     "data": {
      "text/plain": [
       "['2018-02-01', '2018-03-01', '2018-04-01', '2018-05-01']"
      ]
     },
     "execution_count": 19,
     "metadata": {},
     "output_type": "execute_result"
    }
   ],
   "source": [
    "pd.date_range(start=\"2018-01-20\", periods=4, freq=\"MS\").astype(str).tolist()"
   ]
  },
  {
   "cell_type": "markdown",
   "metadata": {},
   "source": [
    "---- \n",
    "\n",
    "# Handling missing data"
   ]
  },
  {
   "cell_type": "code",
   "execution_count": 54,
   "metadata": {},
   "outputs": [
    {
     "data": {
      "text/html": [
       "<div>\n",
       "<style scoped>\n",
       "    .dataframe tbody tr th:only-of-type {\n",
       "        vertical-align: middle;\n",
       "    }\n",
       "\n",
       "    .dataframe tbody tr th {\n",
       "        vertical-align: top;\n",
       "    }\n",
       "\n",
       "    .dataframe thead th {\n",
       "        text-align: right;\n",
       "    }\n",
       "</style>\n",
       "<table border=\"1\" class=\"dataframe\">\n",
       "  <thead>\n",
       "    <tr style=\"text-align: right;\">\n",
       "      <th></th>\n",
       "      <th>name</th>\n",
       "      <th>gps</th>\n",
       "      <th>datetime</th>\n",
       "      <th>no2</th>\n",
       "      <th>o3_1hr</th>\n",
       "      <th>o3_4hr</th>\n",
       "      <th>o3_8hr</th>\n",
       "      <th>co</th>\n",
       "      <th>pm10_1_hr</th>\n",
       "      <th>pm2_5_1_hr</th>\n",
       "      <th>...</th>\n",
       "      <th>aqi_co</th>\n",
       "      <th>aqi_no2</th>\n",
       "      <th>aqi_o3_1hr</th>\n",
       "      <th>aqi_o3_4hr</th>\n",
       "      <th>aqi_o3_8hr</th>\n",
       "      <th>aqi_pm10</th>\n",
       "      <th>aqi_pm2_5</th>\n",
       "      <th>aqi_site</th>\n",
       "      <th>date</th>\n",
       "      <th>time</th>\n",
       "    </tr>\n",
       "  </thead>\n",
       "  <tbody>\n",
       "    <tr>\n",
       "      <th>0</th>\n",
       "      <td>Civic</td>\n",
       "      <td>\\n,  \\n(-35.285307, 149.131579)</td>\n",
       "      <td>2023-11-01T03:00:00.000</td>\n",
       "      <td>NaN</td>\n",
       "      <td>0.015</td>\n",
       "      <td>0.019</td>\n",
       "      <td>0.020</td>\n",
       "      <td>0.00</td>\n",
       "      <td>15.99</td>\n",
       "      <td>5.36</td>\n",
       "      <td>...</td>\n",
       "      <td>0.0</td>\n",
       "      <td>0.0</td>\n",
       "      <td>15.0</td>\n",
       "      <td>24.0</td>\n",
       "      <td>31.0</td>\n",
       "      <td>23.0</td>\n",
       "      <td>17.0</td>\n",
       "      <td>24.0</td>\n",
       "      <td>2023-11-01T00:00:00.000</td>\n",
       "      <td>3:00:00</td>\n",
       "    </tr>\n",
       "    <tr>\n",
       "      <th>1</th>\n",
       "      <td>Florey</td>\n",
       "      <td>\\n,  \\n(-35.220606, 149.043539)</td>\n",
       "      <td>2023-11-01T03:00:00.000</td>\n",
       "      <td>0.001</td>\n",
       "      <td>0.012</td>\n",
       "      <td>0.020</td>\n",
       "      <td>0.021</td>\n",
       "      <td>0.10</td>\n",
       "      <td>13.15</td>\n",
       "      <td>0.77</td>\n",
       "      <td>...</td>\n",
       "      <td>1.0</td>\n",
       "      <td>1.0</td>\n",
       "      <td>12.0</td>\n",
       "      <td>25.0</td>\n",
       "      <td>33.0</td>\n",
       "      <td>25.0</td>\n",
       "      <td>22.0</td>\n",
       "      <td>33.0</td>\n",
       "      <td>2023-11-01T00:00:00.000</td>\n",
       "      <td>3:00:00</td>\n",
       "    </tr>\n",
       "    <tr>\n",
       "      <th>2</th>\n",
       "      <td>Monash</td>\n",
       "      <td>\\n,  \\n(-35.418302, 149.094018)</td>\n",
       "      <td>2023-11-01T03:00:00.000</td>\n",
       "      <td>0.000</td>\n",
       "      <td>0.018</td>\n",
       "      <td>0.018</td>\n",
       "      <td>0.016</td>\n",
       "      <td>0.37</td>\n",
       "      <td>10.54</td>\n",
       "      <td>4.84</td>\n",
       "      <td>...</td>\n",
       "      <td>4.0</td>\n",
       "      <td>0.0</td>\n",
       "      <td>18.0</td>\n",
       "      <td>23.0</td>\n",
       "      <td>25.0</td>\n",
       "      <td>17.0</td>\n",
       "      <td>14.0</td>\n",
       "      <td>23.0</td>\n",
       "      <td>2023-11-01T00:00:00.000</td>\n",
       "      <td>3:00:00</td>\n",
       "    </tr>\n",
       "  </tbody>\n",
       "</table>\n",
       "<p>3 rows × 22 columns</p>\n",
       "</div>"
      ],
      "text/plain": [
       "     name                              gps                 datetime    no2  \\\n",
       "0   Civic  \\n,  \\n(-35.285307, 149.131579)  2023-11-01T03:00:00.000    NaN   \n",
       "1  Florey  \\n,  \\n(-35.220606, 149.043539)  2023-11-01T03:00:00.000  0.001   \n",
       "2  Monash  \\n,  \\n(-35.418302, 149.094018)  2023-11-01T03:00:00.000  0.000   \n",
       "\n",
       "   o3_1hr  o3_4hr  o3_8hr    co  pm10_1_hr  pm2_5_1_hr  ...  aqi_co  aqi_no2  \\\n",
       "0   0.015   0.019   0.020  0.00      15.99        5.36  ...     0.0      0.0   \n",
       "1   0.012   0.020   0.021  0.10      13.15        0.77  ...     1.0      1.0   \n",
       "2   0.018   0.018   0.016  0.37      10.54        4.84  ...     4.0      0.0   \n",
       "\n",
       "   aqi_o3_1hr  aqi_o3_4hr  aqi_o3_8hr  aqi_pm10  aqi_pm2_5  aqi_site  \\\n",
       "0        15.0        24.0        31.0      23.0       17.0      24.0   \n",
       "1        12.0        25.0        33.0      25.0       22.0      33.0   \n",
       "2        18.0        23.0        25.0      17.0       14.0      23.0   \n",
       "\n",
       "                      date     time  \n",
       "0  2023-11-01T00:00:00.000  3:00:00  \n",
       "1  2023-11-01T00:00:00.000  3:00:00  \n",
       "2  2023-11-01T00:00:00.000  3:00:00  \n",
       "\n",
       "[3 rows x 22 columns]"
      ]
     },
     "execution_count": 54,
     "metadata": {},
     "output_type": "execute_result"
    }
   ],
   "source": [
    "df = pd.read_csv(\"https://www.data.act.gov.au/resource/94a5-zqnn.csv\", sep=\",\")\n",
    "#Selecting one location and pm2.5\n",
    "df.head(3)"
   ]
  },
  {
   "cell_type": "code",
   "execution_count": 55,
   "metadata": {},
   "outputs": [
    {
     "data": {
      "text/html": [
       "<div>\n",
       "<style scoped>\n",
       "    .dataframe tbody tr th:only-of-type {\n",
       "        vertical-align: middle;\n",
       "    }\n",
       "\n",
       "    .dataframe tbody tr th {\n",
       "        vertical-align: top;\n",
       "    }\n",
       "\n",
       "    .dataframe thead th {\n",
       "        text-align: right;\n",
       "    }\n",
       "</style>\n",
       "<table border=\"1\" class=\"dataframe\">\n",
       "  <thead>\n",
       "    <tr style=\"text-align: right;\">\n",
       "      <th></th>\n",
       "      <th>datetime</th>\n",
       "      <th>pm2_5_1_hr</th>\n",
       "    </tr>\n",
       "  </thead>\n",
       "  <tbody>\n",
       "    <tr>\n",
       "      <th>2</th>\n",
       "      <td>2023-11-01T03:00:00.000</td>\n",
       "      <td>4.84</td>\n",
       "    </tr>\n",
       "    <tr>\n",
       "      <th>4</th>\n",
       "      <td>2023-11-01T02:00:00.000</td>\n",
       "      <td>3.89</td>\n",
       "    </tr>\n",
       "    <tr>\n",
       "      <th>8</th>\n",
       "      <td>2023-11-01T01:00:00.000</td>\n",
       "      <td>5.10</td>\n",
       "    </tr>\n",
       "  </tbody>\n",
       "</table>\n",
       "</div>"
      ],
      "text/plain": [
       "                  datetime  pm2_5_1_hr\n",
       "2  2023-11-01T03:00:00.000        4.84\n",
       "4  2023-11-01T02:00:00.000        3.89\n",
       "8  2023-11-01T01:00:00.000        5.10"
      ]
     },
     "execution_count": 55,
     "metadata": {},
     "output_type": "execute_result"
    }
   ],
   "source": [
    "df = df.loc[df.name==\"Monash\", ['datetime', 'pm2_5_1_hr']]\n",
    "df.head(3)"
   ]
  },
  {
   "cell_type": "code",
   "execution_count": 56,
   "metadata": {},
   "outputs": [],
   "source": [
    "df.datetime = pd.to_datetime(df.datetime)"
   ]
  },
  {
   "cell_type": "code",
   "execution_count": 57,
   "metadata": {},
   "outputs": [
    {
     "data": {
      "text/plain": [
       "(Timestamp('2023-10-18 03:00:00'), Timestamp('2023-11-01 03:00:00'))"
      ]
     },
     "execution_count": 57,
     "metadata": {},
     "output_type": "execute_result"
    }
   ],
   "source": [
    "df.datetime.min(),df.datetime.max()"
   ]
  },
  {
   "cell_type": "code",
   "execution_count": 58,
   "metadata": {},
   "outputs": [],
   "source": [
    "df.sort_values(\"datetime\", inplace=True)\n",
    "df.set_index(\"datetime\", inplace=True)"
   ]
  },
  {
   "cell_type": "code",
   "execution_count": 59,
   "metadata": {},
   "outputs": [],
   "source": [
    "df.loc[\"2023-10-18 7:00\":\"2023-10-18 09:00\", \"pm2_5_1_hr\"] = np.nan"
   ]
  },
  {
   "cell_type": "code",
   "execution_count": 60,
   "metadata": {},
   "outputs": [
    {
     "data": {
      "text/html": [
       "<div>\n",
       "<style scoped>\n",
       "    .dataframe tbody tr th:only-of-type {\n",
       "        vertical-align: middle;\n",
       "    }\n",
       "\n",
       "    .dataframe tbody tr th {\n",
       "        vertical-align: top;\n",
       "    }\n",
       "\n",
       "    .dataframe thead th {\n",
       "        text-align: right;\n",
       "    }\n",
       "</style>\n",
       "<table border=\"1\" class=\"dataframe\">\n",
       "  <thead>\n",
       "    <tr style=\"text-align: right;\">\n",
       "      <th></th>\n",
       "      <th>pm2_5_1_hr</th>\n",
       "    </tr>\n",
       "    <tr>\n",
       "      <th>datetime</th>\n",
       "      <th></th>\n",
       "    </tr>\n",
       "  </thead>\n",
       "  <tbody>\n",
       "    <tr>\n",
       "      <th>2023-10-18 03:00:00</th>\n",
       "      <td>2.12</td>\n",
       "    </tr>\n",
       "    <tr>\n",
       "      <th>2023-10-18 04:00:00</th>\n",
       "      <td>2.32</td>\n",
       "    </tr>\n",
       "    <tr>\n",
       "      <th>2023-10-18 05:00:00</th>\n",
       "      <td>1.86</td>\n",
       "    </tr>\n",
       "    <tr>\n",
       "      <th>2023-10-18 06:00:00</th>\n",
       "      <td>1.06</td>\n",
       "    </tr>\n",
       "    <tr>\n",
       "      <th>2023-10-18 07:00:00</th>\n",
       "      <td>NaN</td>\n",
       "    </tr>\n",
       "  </tbody>\n",
       "</table>\n",
       "</div>"
      ],
      "text/plain": [
       "                     pm2_5_1_hr\n",
       "datetime                       \n",
       "2023-10-18 03:00:00        2.12\n",
       "2023-10-18 04:00:00        2.32\n",
       "2023-10-18 05:00:00        1.86\n",
       "2023-10-18 06:00:00        1.06\n",
       "2023-10-18 07:00:00         NaN"
      ]
     },
     "execution_count": 60,
     "metadata": {},
     "output_type": "execute_result"
    }
   ],
   "source": [
    "df.head()"
   ]
  },
  {
   "cell_type": "code",
   "execution_count": 61,
   "metadata": {},
   "outputs": [],
   "source": [
    "def format_plot(fig, legends, font_size=15, title_font_size=20):\n",
    "    names = cycle(legends)\n",
    "    fig.for_each_trace(lambda t: t.update(name=next(names)))\n",
    "    fig.update_layout(\n",
    "        autosize=False,\n",
    "        width=900,\n",
    "        height=500,\n",
    "        title={\"x\": 0.5, \"xanchor\": \"center\", \"yanchor\": \"top\"},\n",
    "        titlefont={\"size\": title_font_size},\n",
    "        legend_title=None,\n",
    "        legend=dict(\n",
    "            font=dict(size=font_size),\n",
    "            orientation=\"h\",\n",
    "            yanchor=\"bottom\",\n",
    "            y=0.98,\n",
    "            xanchor=\"right\",\n",
    "            x=1,\n",
    "        ),\n",
    "        yaxis=dict(\n",
    "            title_text=\"Value\",\n",
    "            titlefont=dict(size=font_size),\n",
    "            tickfont=dict(size=font_size),\n",
    "        ),\n",
    "        xaxis=dict(\n",
    "            title_text=\"Day\",\n",
    "            titlefont=dict(size=font_size),\n",
    "            tickfont=dict(size=font_size),\n",
    "        ),\n",
    "    )\n",
    "    return fig"
   ]
  },
  {
   "cell_type": "code",
   "execution_count": 62,
   "metadata": {},
   "outputs": [
    {
     "name": "stderr",
     "output_type": "stream",
     "text": [
      "c:\\Users\\dioni\\anaconda3\\envs\\modern-ts\\lib\\site-packages\\_plotly_utils\\basevalidators.py:106: FutureWarning:\n",
      "\n",
      "The behavior of DatetimeProperties.to_pydatetime is deprecated, in a future version this will return a Series containing python datetime objects instead of an ndarray. To retain the old behavior, call `np.array` on the result\n",
      "\n"
     ]
    },
    {
     "data": {
      "application/vnd.plotly.v1+json": {
       "config": {
        "plotlyServerURL": "https://plot.ly"
       },
       "data": [
        {
         "hovertemplate": "datetime=%{x}<br>pm2_5_1_hr=%{y}<extra></extra>",
         "legendgroup": "",
         "line": {
          "color": "#636efa",
          "dash": "solid"
         },
         "marker": {
          "symbol": "circle"
         },
         "mode": "lines",
         "name": "Original",
         "orientation": "v",
         "showlegend": false,
         "type": "scatter",
         "x": [
          "2023-10-18T03:00:00",
          "2023-10-18T04:00:00",
          "2023-10-18T05:00:00",
          "2023-10-18T06:00:00",
          "2023-10-18T07:00:00",
          "2023-10-18T08:00:00",
          "2023-10-18T09:00:00",
          "2023-10-18T10:00:00",
          "2023-10-18T11:00:00",
          "2023-10-18T12:00:00",
          "2023-10-18T13:00:00",
          "2023-10-18T14:00:00",
          "2023-10-18T15:00:00",
          "2023-10-18T16:00:00",
          "2023-10-18T17:00:00",
          "2023-10-18T18:00:00",
          "2023-10-18T19:00:00",
          "2023-10-18T20:00:00"
         ],
         "xaxis": "x",
         "y": [
          2.12,
          2.32,
          1.86,
          1.06,
          null,
          null,
          null,
          7.08,
          7.74,
          6.49,
          5.41,
          4.56,
          5.5,
          4,
          3.61,
          3.18,
          3.23,
          3.16
         ],
         "yaxis": "y"
        }
       ],
       "layout": {
        "autosize": false,
        "height": 500,
        "legend": {
         "font": {
          "size": 15
         },
         "orientation": "h",
         "title": {},
         "tracegroupgap": 0,
         "x": 1,
         "xanchor": "right",
         "y": 0.98,
         "yanchor": "bottom"
        },
        "template": {
         "data": {
          "bar": [
           {
            "error_x": {
             "color": "#2a3f5f"
            },
            "error_y": {
             "color": "#2a3f5f"
            },
            "marker": {
             "line": {
              "color": "white",
              "width": 0.5
             },
             "pattern": {
              "fillmode": "overlay",
              "size": 10,
              "solidity": 0.2
             }
            },
            "type": "bar"
           }
          ],
          "barpolar": [
           {
            "marker": {
             "line": {
              "color": "white",
              "width": 0.5
             },
             "pattern": {
              "fillmode": "overlay",
              "size": 10,
              "solidity": 0.2
             }
            },
            "type": "barpolar"
           }
          ],
          "carpet": [
           {
            "aaxis": {
             "endlinecolor": "#2a3f5f",
             "gridcolor": "#C8D4E3",
             "linecolor": "#C8D4E3",
             "minorgridcolor": "#C8D4E3",
             "startlinecolor": "#2a3f5f"
            },
            "baxis": {
             "endlinecolor": "#2a3f5f",
             "gridcolor": "#C8D4E3",
             "linecolor": "#C8D4E3",
             "minorgridcolor": "#C8D4E3",
             "startlinecolor": "#2a3f5f"
            },
            "type": "carpet"
           }
          ],
          "choropleth": [
           {
            "colorbar": {
             "outlinewidth": 0,
             "ticks": ""
            },
            "type": "choropleth"
           }
          ],
          "contour": [
           {
            "colorbar": {
             "outlinewidth": 0,
             "ticks": ""
            },
            "colorscale": [
             [
              0,
              "#0d0887"
             ],
             [
              0.1111111111111111,
              "#46039f"
             ],
             [
              0.2222222222222222,
              "#7201a8"
             ],
             [
              0.3333333333333333,
              "#9c179e"
             ],
             [
              0.4444444444444444,
              "#bd3786"
             ],
             [
              0.5555555555555556,
              "#d8576b"
             ],
             [
              0.6666666666666666,
              "#ed7953"
             ],
             [
              0.7777777777777778,
              "#fb9f3a"
             ],
             [
              0.8888888888888888,
              "#fdca26"
             ],
             [
              1,
              "#f0f921"
             ]
            ],
            "type": "contour"
           }
          ],
          "contourcarpet": [
           {
            "colorbar": {
             "outlinewidth": 0,
             "ticks": ""
            },
            "type": "contourcarpet"
           }
          ],
          "heatmap": [
           {
            "colorbar": {
             "outlinewidth": 0,
             "ticks": ""
            },
            "colorscale": [
             [
              0,
              "#0d0887"
             ],
             [
              0.1111111111111111,
              "#46039f"
             ],
             [
              0.2222222222222222,
              "#7201a8"
             ],
             [
              0.3333333333333333,
              "#9c179e"
             ],
             [
              0.4444444444444444,
              "#bd3786"
             ],
             [
              0.5555555555555556,
              "#d8576b"
             ],
             [
              0.6666666666666666,
              "#ed7953"
             ],
             [
              0.7777777777777778,
              "#fb9f3a"
             ],
             [
              0.8888888888888888,
              "#fdca26"
             ],
             [
              1,
              "#f0f921"
             ]
            ],
            "type": "heatmap"
           }
          ],
          "heatmapgl": [
           {
            "colorbar": {
             "outlinewidth": 0,
             "ticks": ""
            },
            "colorscale": [
             [
              0,
              "#0d0887"
             ],
             [
              0.1111111111111111,
              "#46039f"
             ],
             [
              0.2222222222222222,
              "#7201a8"
             ],
             [
              0.3333333333333333,
              "#9c179e"
             ],
             [
              0.4444444444444444,
              "#bd3786"
             ],
             [
              0.5555555555555556,
              "#d8576b"
             ],
             [
              0.6666666666666666,
              "#ed7953"
             ],
             [
              0.7777777777777778,
              "#fb9f3a"
             ],
             [
              0.8888888888888888,
              "#fdca26"
             ],
             [
              1,
              "#f0f921"
             ]
            ],
            "type": "heatmapgl"
           }
          ],
          "histogram": [
           {
            "marker": {
             "pattern": {
              "fillmode": "overlay",
              "size": 10,
              "solidity": 0.2
             }
            },
            "type": "histogram"
           }
          ],
          "histogram2d": [
           {
            "colorbar": {
             "outlinewidth": 0,
             "ticks": ""
            },
            "colorscale": [
             [
              0,
              "#0d0887"
             ],
             [
              0.1111111111111111,
              "#46039f"
             ],
             [
              0.2222222222222222,
              "#7201a8"
             ],
             [
              0.3333333333333333,
              "#9c179e"
             ],
             [
              0.4444444444444444,
              "#bd3786"
             ],
             [
              0.5555555555555556,
              "#d8576b"
             ],
             [
              0.6666666666666666,
              "#ed7953"
             ],
             [
              0.7777777777777778,
              "#fb9f3a"
             ],
             [
              0.8888888888888888,
              "#fdca26"
             ],
             [
              1,
              "#f0f921"
             ]
            ],
            "type": "histogram2d"
           }
          ],
          "histogram2dcontour": [
           {
            "colorbar": {
             "outlinewidth": 0,
             "ticks": ""
            },
            "colorscale": [
             [
              0,
              "#0d0887"
             ],
             [
              0.1111111111111111,
              "#46039f"
             ],
             [
              0.2222222222222222,
              "#7201a8"
             ],
             [
              0.3333333333333333,
              "#9c179e"
             ],
             [
              0.4444444444444444,
              "#bd3786"
             ],
             [
              0.5555555555555556,
              "#d8576b"
             ],
             [
              0.6666666666666666,
              "#ed7953"
             ],
             [
              0.7777777777777778,
              "#fb9f3a"
             ],
             [
              0.8888888888888888,
              "#fdca26"
             ],
             [
              1,
              "#f0f921"
             ]
            ],
            "type": "histogram2dcontour"
           }
          ],
          "mesh3d": [
           {
            "colorbar": {
             "outlinewidth": 0,
             "ticks": ""
            },
            "type": "mesh3d"
           }
          ],
          "parcoords": [
           {
            "line": {
             "colorbar": {
              "outlinewidth": 0,
              "ticks": ""
             }
            },
            "type": "parcoords"
           }
          ],
          "pie": [
           {
            "automargin": true,
            "type": "pie"
           }
          ],
          "scatter": [
           {
            "fillpattern": {
             "fillmode": "overlay",
             "size": 10,
             "solidity": 0.2
            },
            "type": "scatter"
           }
          ],
          "scatter3d": [
           {
            "line": {
             "colorbar": {
              "outlinewidth": 0,
              "ticks": ""
             }
            },
            "marker": {
             "colorbar": {
              "outlinewidth": 0,
              "ticks": ""
             }
            },
            "type": "scatter3d"
           }
          ],
          "scattercarpet": [
           {
            "marker": {
             "colorbar": {
              "outlinewidth": 0,
              "ticks": ""
             }
            },
            "type": "scattercarpet"
           }
          ],
          "scattergeo": [
           {
            "marker": {
             "colorbar": {
              "outlinewidth": 0,
              "ticks": ""
             }
            },
            "type": "scattergeo"
           }
          ],
          "scattergl": [
           {
            "marker": {
             "colorbar": {
              "outlinewidth": 0,
              "ticks": ""
             }
            },
            "type": "scattergl"
           }
          ],
          "scattermapbox": [
           {
            "marker": {
             "colorbar": {
              "outlinewidth": 0,
              "ticks": ""
             }
            },
            "type": "scattermapbox"
           }
          ],
          "scatterpolar": [
           {
            "marker": {
             "colorbar": {
              "outlinewidth": 0,
              "ticks": ""
             }
            },
            "type": "scatterpolar"
           }
          ],
          "scatterpolargl": [
           {
            "marker": {
             "colorbar": {
              "outlinewidth": 0,
              "ticks": ""
             }
            },
            "type": "scatterpolargl"
           }
          ],
          "scatterternary": [
           {
            "marker": {
             "colorbar": {
              "outlinewidth": 0,
              "ticks": ""
             }
            },
            "type": "scatterternary"
           }
          ],
          "surface": [
           {
            "colorbar": {
             "outlinewidth": 0,
             "ticks": ""
            },
            "colorscale": [
             [
              0,
              "#0d0887"
             ],
             [
              0.1111111111111111,
              "#46039f"
             ],
             [
              0.2222222222222222,
              "#7201a8"
             ],
             [
              0.3333333333333333,
              "#9c179e"
             ],
             [
              0.4444444444444444,
              "#bd3786"
             ],
             [
              0.5555555555555556,
              "#d8576b"
             ],
             [
              0.6666666666666666,
              "#ed7953"
             ],
             [
              0.7777777777777778,
              "#fb9f3a"
             ],
             [
              0.8888888888888888,
              "#fdca26"
             ],
             [
              1,
              "#f0f921"
             ]
            ],
            "type": "surface"
           }
          ],
          "table": [
           {
            "cells": {
             "fill": {
              "color": "#EBF0F8"
             },
             "line": {
              "color": "white"
             }
            },
            "header": {
             "fill": {
              "color": "#C8D4E3"
             },
             "line": {
              "color": "white"
             }
            },
            "type": "table"
           }
          ]
         },
         "layout": {
          "annotationdefaults": {
           "arrowcolor": "#2a3f5f",
           "arrowhead": 0,
           "arrowwidth": 1
          },
          "autotypenumbers": "strict",
          "coloraxis": {
           "colorbar": {
            "outlinewidth": 0,
            "ticks": ""
           }
          },
          "colorscale": {
           "diverging": [
            [
             0,
             "#8e0152"
            ],
            [
             0.1,
             "#c51b7d"
            ],
            [
             0.2,
             "#de77ae"
            ],
            [
             0.3,
             "#f1b6da"
            ],
            [
             0.4,
             "#fde0ef"
            ],
            [
             0.5,
             "#f7f7f7"
            ],
            [
             0.6,
             "#e6f5d0"
            ],
            [
             0.7,
             "#b8e186"
            ],
            [
             0.8,
             "#7fbc41"
            ],
            [
             0.9,
             "#4d9221"
            ],
            [
             1,
             "#276419"
            ]
           ],
           "sequential": [
            [
             0,
             "#0d0887"
            ],
            [
             0.1111111111111111,
             "#46039f"
            ],
            [
             0.2222222222222222,
             "#7201a8"
            ],
            [
             0.3333333333333333,
             "#9c179e"
            ],
            [
             0.4444444444444444,
             "#bd3786"
            ],
            [
             0.5555555555555556,
             "#d8576b"
            ],
            [
             0.6666666666666666,
             "#ed7953"
            ],
            [
             0.7777777777777778,
             "#fb9f3a"
            ],
            [
             0.8888888888888888,
             "#fdca26"
            ],
            [
             1,
             "#f0f921"
            ]
           ],
           "sequentialminus": [
            [
             0,
             "#0d0887"
            ],
            [
             0.1111111111111111,
             "#46039f"
            ],
            [
             0.2222222222222222,
             "#7201a8"
            ],
            [
             0.3333333333333333,
             "#9c179e"
            ],
            [
             0.4444444444444444,
             "#bd3786"
            ],
            [
             0.5555555555555556,
             "#d8576b"
            ],
            [
             0.6666666666666666,
             "#ed7953"
            ],
            [
             0.7777777777777778,
             "#fb9f3a"
            ],
            [
             0.8888888888888888,
             "#fdca26"
            ],
            [
             1,
             "#f0f921"
            ]
           ]
          },
          "colorway": [
           "#636efa",
           "#EF553B",
           "#00cc96",
           "#ab63fa",
           "#FFA15A",
           "#19d3f3",
           "#FF6692",
           "#B6E880",
           "#FF97FF",
           "#FECB52"
          ],
          "font": {
           "color": "#2a3f5f"
          },
          "geo": {
           "bgcolor": "white",
           "lakecolor": "white",
           "landcolor": "white",
           "showlakes": true,
           "showland": true,
           "subunitcolor": "#C8D4E3"
          },
          "hoverlabel": {
           "align": "left"
          },
          "hovermode": "closest",
          "mapbox": {
           "style": "light"
          },
          "paper_bgcolor": "white",
          "plot_bgcolor": "white",
          "polar": {
           "angularaxis": {
            "gridcolor": "#EBF0F8",
            "linecolor": "#EBF0F8",
            "ticks": ""
           },
           "bgcolor": "white",
           "radialaxis": {
            "gridcolor": "#EBF0F8",
            "linecolor": "#EBF0F8",
            "ticks": ""
           }
          },
          "scene": {
           "xaxis": {
            "backgroundcolor": "white",
            "gridcolor": "#DFE8F3",
            "gridwidth": 2,
            "linecolor": "#EBF0F8",
            "showbackground": true,
            "ticks": "",
            "zerolinecolor": "#EBF0F8"
           },
           "yaxis": {
            "backgroundcolor": "white",
            "gridcolor": "#DFE8F3",
            "gridwidth": 2,
            "linecolor": "#EBF0F8",
            "showbackground": true,
            "ticks": "",
            "zerolinecolor": "#EBF0F8"
           },
           "zaxis": {
            "backgroundcolor": "white",
            "gridcolor": "#DFE8F3",
            "gridwidth": 2,
            "linecolor": "#EBF0F8",
            "showbackground": true,
            "ticks": "",
            "zerolinecolor": "#EBF0F8"
           }
          },
          "shapedefaults": {
           "line": {
            "color": "#2a3f5f"
           }
          },
          "ternary": {
           "aaxis": {
            "gridcolor": "#DFE8F3",
            "linecolor": "#A2B1C6",
            "ticks": ""
           },
           "baxis": {
            "gridcolor": "#DFE8F3",
            "linecolor": "#A2B1C6",
            "ticks": ""
           },
           "bgcolor": "white",
           "caxis": {
            "gridcolor": "#DFE8F3",
            "linecolor": "#A2B1C6",
            "ticks": ""
           }
          },
          "title": {
           "x": 0.05
          },
          "xaxis": {
           "automargin": true,
           "gridcolor": "#EBF0F8",
           "linecolor": "#EBF0F8",
           "ticks": "",
           "title": {
            "standoff": 15
           },
           "zerolinecolor": "#EBF0F8",
           "zerolinewidth": 2
          },
          "yaxis": {
           "automargin": true,
           "gridcolor": "#EBF0F8",
           "linecolor": "#EBF0F8",
           "ticks": "",
           "title": {
            "standoff": 15
           },
           "zerolinecolor": "#EBF0F8",
           "zerolinewidth": 2
          }
         }
        },
        "title": {
         "font": {
          "size": 20
         },
         "text": "Missing Values in PM2.5",
         "x": 0.5,
         "xanchor": "center",
         "yanchor": "top"
        },
        "width": 900,
        "xaxis": {
         "anchor": "y",
         "domain": [
          0,
          1
         ],
         "tickfont": {
          "size": 15
         },
         "title": {
          "font": {
           "size": 15
          },
          "text": "Day"
         }
        },
        "yaxis": {
         "anchor": "x",
         "domain": [
          0,
          1
         ],
         "tickfont": {
          "size": 15
         },
         "title": {
          "font": {
           "size": 15
          },
          "text": "Value"
         }
        }
       }
      }
     },
     "metadata": {},
     "output_type": "display_data"
    }
   ],
   "source": [
    "df_2 = df.loc[\"2023-10-18\":\"2023-10-18 20:00\", \"pm2_5_1_hr\"].to_frame()\n",
    "fig = px.line(df_2, x=df_2.index, y=\"pm2_5_1_hr\", title=\"Missing Values in PM2.5\")\n",
    "fig = format_plot(fig, [\"Original\"])\n",
    "fig.write_image(\"imgs/chapter_2/missing_values.png\")\n",
    "fig.show()"
   ]
  },
  {
   "cell_type": "markdown",
   "metadata": {},
   "source": [
    "## Last Observation Carried Forward (Forward Fill), Next Observation Carried Backward (Backward Fill) and Mean Value Fill"
   ]
  },
  {
   "cell_type": "code",
   "execution_count": 70,
   "metadata": {},
   "outputs": [],
   "source": [
    "_df = df.copy()\n",
    "_df = _df.loc[\"2023-10-18\":\"2023-10-18 20:00\", \"pm2_5_1_hr\"].to_frame()\n",
    "#Forward Fill\n",
    "_df[\"ffill\"] = _df['pm2_5_1_hr'].ffill()\n",
    "# Backward Fill\n",
    "_df[\"bfill\"] = _df['pm2_5_1_hr'].bfill()\n",
    "# Mean Value Fil\n",
    "_df[\"mean_value\"] = _df['pm2_5_1_hr'].fillna(df['pm2_5_1_hr'].mean())"
   ]
  },
  {
   "cell_type": "code",
   "execution_count": 71,
   "metadata": {},
   "outputs": [
    {
     "name": "stderr",
     "output_type": "stream",
     "text": [
      "c:\\Users\\dioni\\anaconda3\\envs\\modern-ts\\lib\\site-packages\\_plotly_utils\\basevalidators.py:106: FutureWarning:\n",
      "\n",
      "The behavior of DatetimeProperties.to_pydatetime is deprecated, in a future version this will return a Series containing python datetime objects instead of an ndarray. To retain the old behavior, call `np.array` on the result\n",
      "\n"
     ]
    },
    {
     "data": {
      "application/vnd.plotly.v1+json": {
       "config": {
        "plotlyServerURL": "https://plot.ly"
       },
       "data": [
        {
         "hovertemplate": "variable=value<br>series=pm2_5_1_hr<br>datetime=%{x}<br>_value=%{y}<extra></extra>",
         "legendgroup": "value, pm2_5_1_hr",
         "line": {
          "color": "#636efa",
          "dash": "solid"
         },
         "marker": {
          "symbol": "circle"
         },
         "mode": "lines",
         "name": "Original",
         "orientation": "v",
         "showlegend": true,
         "type": "scatter",
         "x": [
          "2023-10-18T03:00:00",
          "2023-10-18T04:00:00",
          "2023-10-18T05:00:00",
          "2023-10-18T06:00:00",
          "2023-10-18T07:00:00",
          "2023-10-18T08:00:00",
          "2023-10-18T09:00:00",
          "2023-10-18T10:00:00",
          "2023-10-18T11:00:00",
          "2023-10-18T12:00:00",
          "2023-10-18T13:00:00",
          "2023-10-18T14:00:00",
          "2023-10-18T15:00:00",
          "2023-10-18T16:00:00",
          "2023-10-18T17:00:00",
          "2023-10-18T18:00:00",
          "2023-10-18T19:00:00",
          "2023-10-18T20:00:00"
         ],
         "xaxis": "x",
         "y": [
          2.12,
          2.32,
          1.86,
          1.06,
          null,
          null,
          null,
          7.08,
          7.74,
          6.49,
          5.41,
          4.56,
          5.5,
          4,
          3.61,
          3.18,
          3.23,
          3.16
         ],
         "yaxis": "y"
        },
        {
         "hovertemplate": "variable=value<br>series=ffill<br>datetime=%{x}<br>_value=%{y}<extra></extra>",
         "legendgroup": "value, ffill",
         "line": {
          "color": "#636efa",
          "dash": "dot"
         },
         "marker": {
          "symbol": "circle"
         },
         "mode": "lines",
         "name": "Forward Fill",
         "orientation": "v",
         "showlegend": true,
         "type": "scatter",
         "x": [
          "2023-10-18T03:00:00",
          "2023-10-18T04:00:00",
          "2023-10-18T05:00:00",
          "2023-10-18T06:00:00",
          "2023-10-18T07:00:00",
          "2023-10-18T08:00:00",
          "2023-10-18T09:00:00",
          "2023-10-18T10:00:00",
          "2023-10-18T11:00:00",
          "2023-10-18T12:00:00",
          "2023-10-18T13:00:00",
          "2023-10-18T14:00:00",
          "2023-10-18T15:00:00",
          "2023-10-18T16:00:00",
          "2023-10-18T17:00:00",
          "2023-10-18T18:00:00",
          "2023-10-18T19:00:00",
          "2023-10-18T20:00:00"
         ],
         "xaxis": "x",
         "y": [
          2.12,
          2.32,
          1.86,
          1.06,
          1.06,
          1.06,
          1.06,
          7.08,
          7.74,
          6.49,
          5.41,
          4.56,
          5.5,
          4,
          3.61,
          3.18,
          3.23,
          3.16
         ],
         "yaxis": "y"
        },
        {
         "hovertemplate": "variable=value<br>series=bfill<br>datetime=%{x}<br>_value=%{y}<extra></extra>",
         "legendgroup": "value, bfill",
         "line": {
          "color": "#636efa",
          "dash": "dash"
         },
         "marker": {
          "symbol": "circle"
         },
         "mode": "lines",
         "name": "Backward Fill",
         "orientation": "v",
         "showlegend": true,
         "type": "scatter",
         "x": [
          "2023-10-18T03:00:00",
          "2023-10-18T04:00:00",
          "2023-10-18T05:00:00",
          "2023-10-18T06:00:00",
          "2023-10-18T07:00:00",
          "2023-10-18T08:00:00",
          "2023-10-18T09:00:00",
          "2023-10-18T10:00:00",
          "2023-10-18T11:00:00",
          "2023-10-18T12:00:00",
          "2023-10-18T13:00:00",
          "2023-10-18T14:00:00",
          "2023-10-18T15:00:00",
          "2023-10-18T16:00:00",
          "2023-10-18T17:00:00",
          "2023-10-18T18:00:00",
          "2023-10-18T19:00:00",
          "2023-10-18T20:00:00"
         ],
         "xaxis": "x",
         "y": [
          2.12,
          2.32,
          1.86,
          1.06,
          7.08,
          7.08,
          7.08,
          7.08,
          7.74,
          6.49,
          5.41,
          4.56,
          5.5,
          4,
          3.61,
          3.18,
          3.23,
          3.16
         ],
         "yaxis": "y"
        },
        {
         "hovertemplate": "variable=value<br>series=mean_value<br>datetime=%{x}<br>_value=%{y}<extra></extra>",
         "legendgroup": "value, mean_value",
         "line": {
          "color": "#636efa",
          "dash": "longdash"
         },
         "marker": {
          "symbol": "circle"
         },
         "mode": "lines",
         "name": "Mean Value Fill",
         "orientation": "v",
         "showlegend": true,
         "type": "scatter",
         "x": [
          "2023-10-18T03:00:00",
          "2023-10-18T04:00:00",
          "2023-10-18T05:00:00",
          "2023-10-18T06:00:00",
          "2023-10-18T07:00:00",
          "2023-10-18T08:00:00",
          "2023-10-18T09:00:00",
          "2023-10-18T10:00:00",
          "2023-10-18T11:00:00",
          "2023-10-18T12:00:00",
          "2023-10-18T13:00:00",
          "2023-10-18T14:00:00",
          "2023-10-18T15:00:00",
          "2023-10-18T16:00:00",
          "2023-10-18T17:00:00",
          "2023-10-18T18:00:00",
          "2023-10-18T19:00:00",
          "2023-10-18T20:00:00"
         ],
         "xaxis": "x",
         "y": [
          2.12,
          2.32,
          1.86,
          1.06,
          4.765516129032258,
          4.765516129032258,
          4.765516129032258,
          7.08,
          7.74,
          6.49,
          5.41,
          4.56,
          5.5,
          4,
          3.61,
          3.18,
          3.23,
          3.16
         ],
         "yaxis": "y"
        }
       ],
       "layout": {
        "autosize": false,
        "height": 500,
        "legend": {
         "font": {
          "size": 15
         },
         "orientation": "h",
         "title": {},
         "tracegroupgap": 0,
         "x": 1,
         "xanchor": "right",
         "y": 0.98,
         "yanchor": "bottom"
        },
        "template": {
         "data": {
          "bar": [
           {
            "error_x": {
             "color": "#2a3f5f"
            },
            "error_y": {
             "color": "#2a3f5f"
            },
            "marker": {
             "line": {
              "color": "white",
              "width": 0.5
             },
             "pattern": {
              "fillmode": "overlay",
              "size": 10,
              "solidity": 0.2
             }
            },
            "type": "bar"
           }
          ],
          "barpolar": [
           {
            "marker": {
             "line": {
              "color": "white",
              "width": 0.5
             },
             "pattern": {
              "fillmode": "overlay",
              "size": 10,
              "solidity": 0.2
             }
            },
            "type": "barpolar"
           }
          ],
          "carpet": [
           {
            "aaxis": {
             "endlinecolor": "#2a3f5f",
             "gridcolor": "#C8D4E3",
             "linecolor": "#C8D4E3",
             "minorgridcolor": "#C8D4E3",
             "startlinecolor": "#2a3f5f"
            },
            "baxis": {
             "endlinecolor": "#2a3f5f",
             "gridcolor": "#C8D4E3",
             "linecolor": "#C8D4E3",
             "minorgridcolor": "#C8D4E3",
             "startlinecolor": "#2a3f5f"
            },
            "type": "carpet"
           }
          ],
          "choropleth": [
           {
            "colorbar": {
             "outlinewidth": 0,
             "ticks": ""
            },
            "type": "choropleth"
           }
          ],
          "contour": [
           {
            "colorbar": {
             "outlinewidth": 0,
             "ticks": ""
            },
            "colorscale": [
             [
              0,
              "#0d0887"
             ],
             [
              0.1111111111111111,
              "#46039f"
             ],
             [
              0.2222222222222222,
              "#7201a8"
             ],
             [
              0.3333333333333333,
              "#9c179e"
             ],
             [
              0.4444444444444444,
              "#bd3786"
             ],
             [
              0.5555555555555556,
              "#d8576b"
             ],
             [
              0.6666666666666666,
              "#ed7953"
             ],
             [
              0.7777777777777778,
              "#fb9f3a"
             ],
             [
              0.8888888888888888,
              "#fdca26"
             ],
             [
              1,
              "#f0f921"
             ]
            ],
            "type": "contour"
           }
          ],
          "contourcarpet": [
           {
            "colorbar": {
             "outlinewidth": 0,
             "ticks": ""
            },
            "type": "contourcarpet"
           }
          ],
          "heatmap": [
           {
            "colorbar": {
             "outlinewidth": 0,
             "ticks": ""
            },
            "colorscale": [
             [
              0,
              "#0d0887"
             ],
             [
              0.1111111111111111,
              "#46039f"
             ],
             [
              0.2222222222222222,
              "#7201a8"
             ],
             [
              0.3333333333333333,
              "#9c179e"
             ],
             [
              0.4444444444444444,
              "#bd3786"
             ],
             [
              0.5555555555555556,
              "#d8576b"
             ],
             [
              0.6666666666666666,
              "#ed7953"
             ],
             [
              0.7777777777777778,
              "#fb9f3a"
             ],
             [
              0.8888888888888888,
              "#fdca26"
             ],
             [
              1,
              "#f0f921"
             ]
            ],
            "type": "heatmap"
           }
          ],
          "heatmapgl": [
           {
            "colorbar": {
             "outlinewidth": 0,
             "ticks": ""
            },
            "colorscale": [
             [
              0,
              "#0d0887"
             ],
             [
              0.1111111111111111,
              "#46039f"
             ],
             [
              0.2222222222222222,
              "#7201a8"
             ],
             [
              0.3333333333333333,
              "#9c179e"
             ],
             [
              0.4444444444444444,
              "#bd3786"
             ],
             [
              0.5555555555555556,
              "#d8576b"
             ],
             [
              0.6666666666666666,
              "#ed7953"
             ],
             [
              0.7777777777777778,
              "#fb9f3a"
             ],
             [
              0.8888888888888888,
              "#fdca26"
             ],
             [
              1,
              "#f0f921"
             ]
            ],
            "type": "heatmapgl"
           }
          ],
          "histogram": [
           {
            "marker": {
             "pattern": {
              "fillmode": "overlay",
              "size": 10,
              "solidity": 0.2
             }
            },
            "type": "histogram"
           }
          ],
          "histogram2d": [
           {
            "colorbar": {
             "outlinewidth": 0,
             "ticks": ""
            },
            "colorscale": [
             [
              0,
              "#0d0887"
             ],
             [
              0.1111111111111111,
              "#46039f"
             ],
             [
              0.2222222222222222,
              "#7201a8"
             ],
             [
              0.3333333333333333,
              "#9c179e"
             ],
             [
              0.4444444444444444,
              "#bd3786"
             ],
             [
              0.5555555555555556,
              "#d8576b"
             ],
             [
              0.6666666666666666,
              "#ed7953"
             ],
             [
              0.7777777777777778,
              "#fb9f3a"
             ],
             [
              0.8888888888888888,
              "#fdca26"
             ],
             [
              1,
              "#f0f921"
             ]
            ],
            "type": "histogram2d"
           }
          ],
          "histogram2dcontour": [
           {
            "colorbar": {
             "outlinewidth": 0,
             "ticks": ""
            },
            "colorscale": [
             [
              0,
              "#0d0887"
             ],
             [
              0.1111111111111111,
              "#46039f"
             ],
             [
              0.2222222222222222,
              "#7201a8"
             ],
             [
              0.3333333333333333,
              "#9c179e"
             ],
             [
              0.4444444444444444,
              "#bd3786"
             ],
             [
              0.5555555555555556,
              "#d8576b"
             ],
             [
              0.6666666666666666,
              "#ed7953"
             ],
             [
              0.7777777777777778,
              "#fb9f3a"
             ],
             [
              0.8888888888888888,
              "#fdca26"
             ],
             [
              1,
              "#f0f921"
             ]
            ],
            "type": "histogram2dcontour"
           }
          ],
          "mesh3d": [
           {
            "colorbar": {
             "outlinewidth": 0,
             "ticks": ""
            },
            "type": "mesh3d"
           }
          ],
          "parcoords": [
           {
            "line": {
             "colorbar": {
              "outlinewidth": 0,
              "ticks": ""
             }
            },
            "type": "parcoords"
           }
          ],
          "pie": [
           {
            "automargin": true,
            "type": "pie"
           }
          ],
          "scatter": [
           {
            "fillpattern": {
             "fillmode": "overlay",
             "size": 10,
             "solidity": 0.2
            },
            "type": "scatter"
           }
          ],
          "scatter3d": [
           {
            "line": {
             "colorbar": {
              "outlinewidth": 0,
              "ticks": ""
             }
            },
            "marker": {
             "colorbar": {
              "outlinewidth": 0,
              "ticks": ""
             }
            },
            "type": "scatter3d"
           }
          ],
          "scattercarpet": [
           {
            "marker": {
             "colorbar": {
              "outlinewidth": 0,
              "ticks": ""
             }
            },
            "type": "scattercarpet"
           }
          ],
          "scattergeo": [
           {
            "marker": {
             "colorbar": {
              "outlinewidth": 0,
              "ticks": ""
             }
            },
            "type": "scattergeo"
           }
          ],
          "scattergl": [
           {
            "marker": {
             "colorbar": {
              "outlinewidth": 0,
              "ticks": ""
             }
            },
            "type": "scattergl"
           }
          ],
          "scattermapbox": [
           {
            "marker": {
             "colorbar": {
              "outlinewidth": 0,
              "ticks": ""
             }
            },
            "type": "scattermapbox"
           }
          ],
          "scatterpolar": [
           {
            "marker": {
             "colorbar": {
              "outlinewidth": 0,
              "ticks": ""
             }
            },
            "type": "scatterpolar"
           }
          ],
          "scatterpolargl": [
           {
            "marker": {
             "colorbar": {
              "outlinewidth": 0,
              "ticks": ""
             }
            },
            "type": "scatterpolargl"
           }
          ],
          "scatterternary": [
           {
            "marker": {
             "colorbar": {
              "outlinewidth": 0,
              "ticks": ""
             }
            },
            "type": "scatterternary"
           }
          ],
          "surface": [
           {
            "colorbar": {
             "outlinewidth": 0,
             "ticks": ""
            },
            "colorscale": [
             [
              0,
              "#0d0887"
             ],
             [
              0.1111111111111111,
              "#46039f"
             ],
             [
              0.2222222222222222,
              "#7201a8"
             ],
             [
              0.3333333333333333,
              "#9c179e"
             ],
             [
              0.4444444444444444,
              "#bd3786"
             ],
             [
              0.5555555555555556,
              "#d8576b"
             ],
             [
              0.6666666666666666,
              "#ed7953"
             ],
             [
              0.7777777777777778,
              "#fb9f3a"
             ],
             [
              0.8888888888888888,
              "#fdca26"
             ],
             [
              1,
              "#f0f921"
             ]
            ],
            "type": "surface"
           }
          ],
          "table": [
           {
            "cells": {
             "fill": {
              "color": "#EBF0F8"
             },
             "line": {
              "color": "white"
             }
            },
            "header": {
             "fill": {
              "color": "#C8D4E3"
             },
             "line": {
              "color": "white"
             }
            },
            "type": "table"
           }
          ]
         },
         "layout": {
          "annotationdefaults": {
           "arrowcolor": "#2a3f5f",
           "arrowhead": 0,
           "arrowwidth": 1
          },
          "autotypenumbers": "strict",
          "coloraxis": {
           "colorbar": {
            "outlinewidth": 0,
            "ticks": ""
           }
          },
          "colorscale": {
           "diverging": [
            [
             0,
             "#8e0152"
            ],
            [
             0.1,
             "#c51b7d"
            ],
            [
             0.2,
             "#de77ae"
            ],
            [
             0.3,
             "#f1b6da"
            ],
            [
             0.4,
             "#fde0ef"
            ],
            [
             0.5,
             "#f7f7f7"
            ],
            [
             0.6,
             "#e6f5d0"
            ],
            [
             0.7,
             "#b8e186"
            ],
            [
             0.8,
             "#7fbc41"
            ],
            [
             0.9,
             "#4d9221"
            ],
            [
             1,
             "#276419"
            ]
           ],
           "sequential": [
            [
             0,
             "#0d0887"
            ],
            [
             0.1111111111111111,
             "#46039f"
            ],
            [
             0.2222222222222222,
             "#7201a8"
            ],
            [
             0.3333333333333333,
             "#9c179e"
            ],
            [
             0.4444444444444444,
             "#bd3786"
            ],
            [
             0.5555555555555556,
             "#d8576b"
            ],
            [
             0.6666666666666666,
             "#ed7953"
            ],
            [
             0.7777777777777778,
             "#fb9f3a"
            ],
            [
             0.8888888888888888,
             "#fdca26"
            ],
            [
             1,
             "#f0f921"
            ]
           ],
           "sequentialminus": [
            [
             0,
             "#0d0887"
            ],
            [
             0.1111111111111111,
             "#46039f"
            ],
            [
             0.2222222222222222,
             "#7201a8"
            ],
            [
             0.3333333333333333,
             "#9c179e"
            ],
            [
             0.4444444444444444,
             "#bd3786"
            ],
            [
             0.5555555555555556,
             "#d8576b"
            ],
            [
             0.6666666666666666,
             "#ed7953"
            ],
            [
             0.7777777777777778,
             "#fb9f3a"
            ],
            [
             0.8888888888888888,
             "#fdca26"
            ],
            [
             1,
             "#f0f921"
            ]
           ]
          },
          "colorway": [
           "#636efa",
           "#EF553B",
           "#00cc96",
           "#ab63fa",
           "#FFA15A",
           "#19d3f3",
           "#FF6692",
           "#B6E880",
           "#FF97FF",
           "#FECB52"
          ],
          "font": {
           "color": "#2a3f5f"
          },
          "geo": {
           "bgcolor": "white",
           "lakecolor": "white",
           "landcolor": "white",
           "showlakes": true,
           "showland": true,
           "subunitcolor": "#C8D4E3"
          },
          "hoverlabel": {
           "align": "left"
          },
          "hovermode": "closest",
          "mapbox": {
           "style": "light"
          },
          "paper_bgcolor": "white",
          "plot_bgcolor": "white",
          "polar": {
           "angularaxis": {
            "gridcolor": "#EBF0F8",
            "linecolor": "#EBF0F8",
            "ticks": ""
           },
           "bgcolor": "white",
           "radialaxis": {
            "gridcolor": "#EBF0F8",
            "linecolor": "#EBF0F8",
            "ticks": ""
           }
          },
          "scene": {
           "xaxis": {
            "backgroundcolor": "white",
            "gridcolor": "#DFE8F3",
            "gridwidth": 2,
            "linecolor": "#EBF0F8",
            "showbackground": true,
            "ticks": "",
            "zerolinecolor": "#EBF0F8"
           },
           "yaxis": {
            "backgroundcolor": "white",
            "gridcolor": "#DFE8F3",
            "gridwidth": 2,
            "linecolor": "#EBF0F8",
            "showbackground": true,
            "ticks": "",
            "zerolinecolor": "#EBF0F8"
           },
           "zaxis": {
            "backgroundcolor": "white",
            "gridcolor": "#DFE8F3",
            "gridwidth": 2,
            "linecolor": "#EBF0F8",
            "showbackground": true,
            "ticks": "",
            "zerolinecolor": "#EBF0F8"
           }
          },
          "shapedefaults": {
           "line": {
            "color": "#2a3f5f"
           }
          },
          "ternary": {
           "aaxis": {
            "gridcolor": "#DFE8F3",
            "linecolor": "#A2B1C6",
            "ticks": ""
           },
           "baxis": {
            "gridcolor": "#DFE8F3",
            "linecolor": "#A2B1C6",
            "ticks": ""
           },
           "bgcolor": "white",
           "caxis": {
            "gridcolor": "#DFE8F3",
            "linecolor": "#A2B1C6",
            "ticks": ""
           }
          },
          "title": {
           "x": 0.05
          },
          "xaxis": {
           "automargin": true,
           "gridcolor": "#EBF0F8",
           "linecolor": "#EBF0F8",
           "ticks": "",
           "title": {
            "standoff": 15
           },
           "zerolinecolor": "#EBF0F8",
           "zerolinewidth": 2
          },
          "yaxis": {
           "automargin": true,
           "gridcolor": "#EBF0F8",
           "linecolor": "#EBF0F8",
           "ticks": "",
           "title": {
            "standoff": 15
           },
           "zerolinecolor": "#EBF0F8",
           "zerolinewidth": 2
          }
         }
        },
        "title": {
         "font": {
          "size": 20
         },
         "text": "Forward, Backward, and Mean Value Fill",
         "x": 0.5,
         "xanchor": "center",
         "yanchor": "top"
        },
        "width": 900,
        "xaxis": {
         "anchor": "y",
         "domain": [
          0,
          1
         ],
         "tickfont": {
          "size": 15
         },
         "title": {
          "font": {
           "size": 15
          },
          "text": "Day"
         }
        },
        "yaxis": {
         "anchor": "x",
         "domain": [
          0,
          1
         ],
         "tickfont": {
          "size": 15
         },
         "title": {
          "font": {
           "size": 15
          },
          "text": "Value"
         }
        }
       }
      }
     },
     "metadata": {},
     "output_type": "display_data"
    }
   ],
   "source": [
    "#Plotting\n",
    "plot_df = pd.melt(_df.reset_index(), id_vars=\"datetime\", var_name=\"series\")\n",
    "fig = px.line(plot_df, x=\"datetime\", y=[\"value\"], line_dash=\"series\", title=\"Forward, Backward, and Mean Value Fill\")\n",
    "fig = format_plot(fig, ['Original', 'Forward Fill', 'Backward Fill', \"Mean Value Fill\"])\n",
    "fig.write_image(\"imgs/chapter_2/ffill_bfill_mean_missing_values.png\")\n",
    "fig.show()"
   ]
  },
  {
   "cell_type": "code",
   "execution_count": 78,
   "metadata": {},
   "outputs": [],
   "source": [
    "_df = df.copy()\n",
    "_df = _df.loc[\"2023-10-18\":\"2023-10-18 20:00\", \"pm2_5_1_hr\"].to_frame()\n",
    "_df[\"Interpolate 'nearest'\"] = _df['pm2_5_1_hr'].interpolate(method=\"nearest\")\n",
    "_df[\"Spline\"] = _df['pm2_5_1_hr'].interpolate(method=\"spline\", order=4)\n",
    "_df[\"Polynomial\"] = _df['pm2_5_1_hr'].interpolate(method=\"polynomial\",\n",
    "order=5)"
   ]
  },
  {
   "cell_type": "code",
   "execution_count": 79,
   "metadata": {},
   "outputs": [
    {
     "name": "stderr",
     "output_type": "stream",
     "text": [
      "c:\\Users\\dioni\\anaconda3\\envs\\modern-ts\\lib\\site-packages\\_plotly_utils\\basevalidators.py:106: FutureWarning:\n",
      "\n",
      "The behavior of DatetimeProperties.to_pydatetime is deprecated, in a future version this will return a Series containing python datetime objects instead of an ndarray. To retain the old behavior, call `np.array` on the result\n",
      "\n"
     ]
    },
    {
     "data": {
      "application/vnd.plotly.v1+json": {
       "config": {
        "plotlyServerURL": "https://plot.ly"
       },
       "data": [
        {
         "hovertemplate": "variable=value<br>series=pm2_5_1_hr<br>datetime=%{x}<br>_value=%{y}<extra></extra>",
         "legendgroup": "value, pm2_5_1_hr",
         "line": {
          "color": "#636efa",
          "dash": "solid"
         },
         "marker": {
          "symbol": "circle"
         },
         "mode": "lines",
         "name": "Original",
         "orientation": "v",
         "showlegend": true,
         "type": "scatter",
         "x": [
          "2023-10-18T03:00:00",
          "2023-10-18T04:00:00",
          "2023-10-18T05:00:00",
          "2023-10-18T06:00:00",
          "2023-10-18T07:00:00",
          "2023-10-18T08:00:00",
          "2023-10-18T09:00:00",
          "2023-10-18T10:00:00",
          "2023-10-18T11:00:00",
          "2023-10-18T12:00:00",
          "2023-10-18T13:00:00",
          "2023-10-18T14:00:00",
          "2023-10-18T15:00:00",
          "2023-10-18T16:00:00",
          "2023-10-18T17:00:00",
          "2023-10-18T18:00:00",
          "2023-10-18T19:00:00",
          "2023-10-18T20:00:00"
         ],
         "xaxis": "x",
         "y": [
          2.12,
          2.32,
          1.86,
          1.06,
          null,
          null,
          null,
          7.08,
          7.74,
          6.49,
          5.41,
          4.56,
          5.5,
          4,
          3.61,
          3.18,
          3.23,
          3.16
         ],
         "yaxis": "y"
        },
        {
         "hovertemplate": "variable=value<br>series=Interpolate 'nearest'<br>datetime=%{x}<br>_value=%{y}<extra></extra>",
         "legendgroup": "value, Interpolate 'nearest'",
         "line": {
          "color": "#636efa",
          "dash": "dot"
         },
         "marker": {
          "symbol": "circle"
         },
         "mode": "lines",
         "name": "Interpolate Nearest",
         "orientation": "v",
         "showlegend": true,
         "type": "scatter",
         "x": [
          "2023-10-18T03:00:00",
          "2023-10-18T04:00:00",
          "2023-10-18T05:00:00",
          "2023-10-18T06:00:00",
          "2023-10-18T07:00:00",
          "2023-10-18T08:00:00",
          "2023-10-18T09:00:00",
          "2023-10-18T10:00:00",
          "2023-10-18T11:00:00",
          "2023-10-18T12:00:00",
          "2023-10-18T13:00:00",
          "2023-10-18T14:00:00",
          "2023-10-18T15:00:00",
          "2023-10-18T16:00:00",
          "2023-10-18T17:00:00",
          "2023-10-18T18:00:00",
          "2023-10-18T19:00:00",
          "2023-10-18T20:00:00"
         ],
         "xaxis": "x",
         "y": [
          2.12,
          2.32,
          1.86,
          1.06,
          1.06,
          1.06,
          7.08,
          7.08,
          7.74,
          6.49,
          5.41,
          4.56,
          5.5,
          4,
          3.61,
          3.18,
          3.23,
          3.16
         ],
         "yaxis": "y"
        },
        {
         "hovertemplate": "variable=value<br>series=Spline<br>datetime=%{x}<br>_value=%{y}<extra></extra>",
         "legendgroup": "value, Spline",
         "line": {
          "color": "#636efa",
          "dash": "dash"
         },
         "marker": {
          "symbol": "circle"
         },
         "mode": "lines",
         "name": "Spline",
         "orientation": "v",
         "showlegend": true,
         "type": "scatter",
         "x": [
          "2023-10-18T03:00:00",
          "2023-10-18T04:00:00",
          "2023-10-18T05:00:00",
          "2023-10-18T06:00:00",
          "2023-10-18T07:00:00",
          "2023-10-18T08:00:00",
          "2023-10-18T09:00:00",
          "2023-10-18T10:00:00",
          "2023-10-18T11:00:00",
          "2023-10-18T12:00:00",
          "2023-10-18T13:00:00",
          "2023-10-18T14:00:00",
          "2023-10-18T15:00:00",
          "2023-10-18T16:00:00",
          "2023-10-18T17:00:00",
          "2023-10-18T18:00:00",
          "2023-10-18T19:00:00",
          "2023-10-18T20:00:00"
         ],
         "xaxis": "x",
         "y": [
          2.12,
          2.32,
          1.86,
          1.06,
          3.3851421740601366,
          4.432402700952869,
          5.387724942213997,
          7.08,
          7.74,
          6.49,
          5.41,
          4.56,
          5.5,
          4,
          3.61,
          3.18,
          3.23,
          3.16
         ],
         "yaxis": "y"
        },
        {
         "hovertemplate": "variable=value<br>series=Polynomial<br>datetime=%{x}<br>_value=%{y}<extra></extra>",
         "legendgroup": "value, Polynomial",
         "line": {
          "color": "#636efa",
          "dash": "longdash"
         },
         "marker": {
          "symbol": "circle"
         },
         "mode": "lines",
         "name": "Polynomial",
         "orientation": "v",
         "showlegend": true,
         "type": "scatter",
         "x": [
          "2023-10-18T03:00:00",
          "2023-10-18T04:00:00",
          "2023-10-18T05:00:00",
          "2023-10-18T06:00:00",
          "2023-10-18T07:00:00",
          "2023-10-18T08:00:00",
          "2023-10-18T09:00:00",
          "2023-10-18T10:00:00",
          "2023-10-18T11:00:00",
          "2023-10-18T12:00:00",
          "2023-10-18T13:00:00",
          "2023-10-18T14:00:00",
          "2023-10-18T15:00:00",
          "2023-10-18T16:00:00",
          "2023-10-18T17:00:00",
          "2023-10-18T18:00:00",
          "2023-10-18T19:00:00",
          "2023-10-18T20:00:00"
         ],
         "xaxis": "x",
         "y": [
          2.12,
          2.32,
          1.86,
          1.06,
          1.019547679015921,
          2.3215479995025152,
          4.698832882257481,
          7.08,
          7.74,
          6.49,
          5.41,
          4.56,
          5.5,
          4,
          3.61,
          3.18,
          3.23,
          3.16
         ],
         "yaxis": "y"
        }
       ],
       "layout": {
        "autosize": false,
        "height": 500,
        "legend": {
         "font": {
          "size": 15
         },
         "orientation": "h",
         "title": {},
         "tracegroupgap": 0,
         "x": 1,
         "xanchor": "right",
         "y": 0.98,
         "yanchor": "bottom"
        },
        "template": {
         "data": {
          "bar": [
           {
            "error_x": {
             "color": "#2a3f5f"
            },
            "error_y": {
             "color": "#2a3f5f"
            },
            "marker": {
             "line": {
              "color": "white",
              "width": 0.5
             },
             "pattern": {
              "fillmode": "overlay",
              "size": 10,
              "solidity": 0.2
             }
            },
            "type": "bar"
           }
          ],
          "barpolar": [
           {
            "marker": {
             "line": {
              "color": "white",
              "width": 0.5
             },
             "pattern": {
              "fillmode": "overlay",
              "size": 10,
              "solidity": 0.2
             }
            },
            "type": "barpolar"
           }
          ],
          "carpet": [
           {
            "aaxis": {
             "endlinecolor": "#2a3f5f",
             "gridcolor": "#C8D4E3",
             "linecolor": "#C8D4E3",
             "minorgridcolor": "#C8D4E3",
             "startlinecolor": "#2a3f5f"
            },
            "baxis": {
             "endlinecolor": "#2a3f5f",
             "gridcolor": "#C8D4E3",
             "linecolor": "#C8D4E3",
             "minorgridcolor": "#C8D4E3",
             "startlinecolor": "#2a3f5f"
            },
            "type": "carpet"
           }
          ],
          "choropleth": [
           {
            "colorbar": {
             "outlinewidth": 0,
             "ticks": ""
            },
            "type": "choropleth"
           }
          ],
          "contour": [
           {
            "colorbar": {
             "outlinewidth": 0,
             "ticks": ""
            },
            "colorscale": [
             [
              0,
              "#0d0887"
             ],
             [
              0.1111111111111111,
              "#46039f"
             ],
             [
              0.2222222222222222,
              "#7201a8"
             ],
             [
              0.3333333333333333,
              "#9c179e"
             ],
             [
              0.4444444444444444,
              "#bd3786"
             ],
             [
              0.5555555555555556,
              "#d8576b"
             ],
             [
              0.6666666666666666,
              "#ed7953"
             ],
             [
              0.7777777777777778,
              "#fb9f3a"
             ],
             [
              0.8888888888888888,
              "#fdca26"
             ],
             [
              1,
              "#f0f921"
             ]
            ],
            "type": "contour"
           }
          ],
          "contourcarpet": [
           {
            "colorbar": {
             "outlinewidth": 0,
             "ticks": ""
            },
            "type": "contourcarpet"
           }
          ],
          "heatmap": [
           {
            "colorbar": {
             "outlinewidth": 0,
             "ticks": ""
            },
            "colorscale": [
             [
              0,
              "#0d0887"
             ],
             [
              0.1111111111111111,
              "#46039f"
             ],
             [
              0.2222222222222222,
              "#7201a8"
             ],
             [
              0.3333333333333333,
              "#9c179e"
             ],
             [
              0.4444444444444444,
              "#bd3786"
             ],
             [
              0.5555555555555556,
              "#d8576b"
             ],
             [
              0.6666666666666666,
              "#ed7953"
             ],
             [
              0.7777777777777778,
              "#fb9f3a"
             ],
             [
              0.8888888888888888,
              "#fdca26"
             ],
             [
              1,
              "#f0f921"
             ]
            ],
            "type": "heatmap"
           }
          ],
          "heatmapgl": [
           {
            "colorbar": {
             "outlinewidth": 0,
             "ticks": ""
            },
            "colorscale": [
             [
              0,
              "#0d0887"
             ],
             [
              0.1111111111111111,
              "#46039f"
             ],
             [
              0.2222222222222222,
              "#7201a8"
             ],
             [
              0.3333333333333333,
              "#9c179e"
             ],
             [
              0.4444444444444444,
              "#bd3786"
             ],
             [
              0.5555555555555556,
              "#d8576b"
             ],
             [
              0.6666666666666666,
              "#ed7953"
             ],
             [
              0.7777777777777778,
              "#fb9f3a"
             ],
             [
              0.8888888888888888,
              "#fdca26"
             ],
             [
              1,
              "#f0f921"
             ]
            ],
            "type": "heatmapgl"
           }
          ],
          "histogram": [
           {
            "marker": {
             "pattern": {
              "fillmode": "overlay",
              "size": 10,
              "solidity": 0.2
             }
            },
            "type": "histogram"
           }
          ],
          "histogram2d": [
           {
            "colorbar": {
             "outlinewidth": 0,
             "ticks": ""
            },
            "colorscale": [
             [
              0,
              "#0d0887"
             ],
             [
              0.1111111111111111,
              "#46039f"
             ],
             [
              0.2222222222222222,
              "#7201a8"
             ],
             [
              0.3333333333333333,
              "#9c179e"
             ],
             [
              0.4444444444444444,
              "#bd3786"
             ],
             [
              0.5555555555555556,
              "#d8576b"
             ],
             [
              0.6666666666666666,
              "#ed7953"
             ],
             [
              0.7777777777777778,
              "#fb9f3a"
             ],
             [
              0.8888888888888888,
              "#fdca26"
             ],
             [
              1,
              "#f0f921"
             ]
            ],
            "type": "histogram2d"
           }
          ],
          "histogram2dcontour": [
           {
            "colorbar": {
             "outlinewidth": 0,
             "ticks": ""
            },
            "colorscale": [
             [
              0,
              "#0d0887"
             ],
             [
              0.1111111111111111,
              "#46039f"
             ],
             [
              0.2222222222222222,
              "#7201a8"
             ],
             [
              0.3333333333333333,
              "#9c179e"
             ],
             [
              0.4444444444444444,
              "#bd3786"
             ],
             [
              0.5555555555555556,
              "#d8576b"
             ],
             [
              0.6666666666666666,
              "#ed7953"
             ],
             [
              0.7777777777777778,
              "#fb9f3a"
             ],
             [
              0.8888888888888888,
              "#fdca26"
             ],
             [
              1,
              "#f0f921"
             ]
            ],
            "type": "histogram2dcontour"
           }
          ],
          "mesh3d": [
           {
            "colorbar": {
             "outlinewidth": 0,
             "ticks": ""
            },
            "type": "mesh3d"
           }
          ],
          "parcoords": [
           {
            "line": {
             "colorbar": {
              "outlinewidth": 0,
              "ticks": ""
             }
            },
            "type": "parcoords"
           }
          ],
          "pie": [
           {
            "automargin": true,
            "type": "pie"
           }
          ],
          "scatter": [
           {
            "fillpattern": {
             "fillmode": "overlay",
             "size": 10,
             "solidity": 0.2
            },
            "type": "scatter"
           }
          ],
          "scatter3d": [
           {
            "line": {
             "colorbar": {
              "outlinewidth": 0,
              "ticks": ""
             }
            },
            "marker": {
             "colorbar": {
              "outlinewidth": 0,
              "ticks": ""
             }
            },
            "type": "scatter3d"
           }
          ],
          "scattercarpet": [
           {
            "marker": {
             "colorbar": {
              "outlinewidth": 0,
              "ticks": ""
             }
            },
            "type": "scattercarpet"
           }
          ],
          "scattergeo": [
           {
            "marker": {
             "colorbar": {
              "outlinewidth": 0,
              "ticks": ""
             }
            },
            "type": "scattergeo"
           }
          ],
          "scattergl": [
           {
            "marker": {
             "colorbar": {
              "outlinewidth": 0,
              "ticks": ""
             }
            },
            "type": "scattergl"
           }
          ],
          "scattermapbox": [
           {
            "marker": {
             "colorbar": {
              "outlinewidth": 0,
              "ticks": ""
             }
            },
            "type": "scattermapbox"
           }
          ],
          "scatterpolar": [
           {
            "marker": {
             "colorbar": {
              "outlinewidth": 0,
              "ticks": ""
             }
            },
            "type": "scatterpolar"
           }
          ],
          "scatterpolargl": [
           {
            "marker": {
             "colorbar": {
              "outlinewidth": 0,
              "ticks": ""
             }
            },
            "type": "scatterpolargl"
           }
          ],
          "scatterternary": [
           {
            "marker": {
             "colorbar": {
              "outlinewidth": 0,
              "ticks": ""
             }
            },
            "type": "scatterternary"
           }
          ],
          "surface": [
           {
            "colorbar": {
             "outlinewidth": 0,
             "ticks": ""
            },
            "colorscale": [
             [
              0,
              "#0d0887"
             ],
             [
              0.1111111111111111,
              "#46039f"
             ],
             [
              0.2222222222222222,
              "#7201a8"
             ],
             [
              0.3333333333333333,
              "#9c179e"
             ],
             [
              0.4444444444444444,
              "#bd3786"
             ],
             [
              0.5555555555555556,
              "#d8576b"
             ],
             [
              0.6666666666666666,
              "#ed7953"
             ],
             [
              0.7777777777777778,
              "#fb9f3a"
             ],
             [
              0.8888888888888888,
              "#fdca26"
             ],
             [
              1,
              "#f0f921"
             ]
            ],
            "type": "surface"
           }
          ],
          "table": [
           {
            "cells": {
             "fill": {
              "color": "#EBF0F8"
             },
             "line": {
              "color": "white"
             }
            },
            "header": {
             "fill": {
              "color": "#C8D4E3"
             },
             "line": {
              "color": "white"
             }
            },
            "type": "table"
           }
          ]
         },
         "layout": {
          "annotationdefaults": {
           "arrowcolor": "#2a3f5f",
           "arrowhead": 0,
           "arrowwidth": 1
          },
          "autotypenumbers": "strict",
          "coloraxis": {
           "colorbar": {
            "outlinewidth": 0,
            "ticks": ""
           }
          },
          "colorscale": {
           "diverging": [
            [
             0,
             "#8e0152"
            ],
            [
             0.1,
             "#c51b7d"
            ],
            [
             0.2,
             "#de77ae"
            ],
            [
             0.3,
             "#f1b6da"
            ],
            [
             0.4,
             "#fde0ef"
            ],
            [
             0.5,
             "#f7f7f7"
            ],
            [
             0.6,
             "#e6f5d0"
            ],
            [
             0.7,
             "#b8e186"
            ],
            [
             0.8,
             "#7fbc41"
            ],
            [
             0.9,
             "#4d9221"
            ],
            [
             1,
             "#276419"
            ]
           ],
           "sequential": [
            [
             0,
             "#0d0887"
            ],
            [
             0.1111111111111111,
             "#46039f"
            ],
            [
             0.2222222222222222,
             "#7201a8"
            ],
            [
             0.3333333333333333,
             "#9c179e"
            ],
            [
             0.4444444444444444,
             "#bd3786"
            ],
            [
             0.5555555555555556,
             "#d8576b"
            ],
            [
             0.6666666666666666,
             "#ed7953"
            ],
            [
             0.7777777777777778,
             "#fb9f3a"
            ],
            [
             0.8888888888888888,
             "#fdca26"
            ],
            [
             1,
             "#f0f921"
            ]
           ],
           "sequentialminus": [
            [
             0,
             "#0d0887"
            ],
            [
             0.1111111111111111,
             "#46039f"
            ],
            [
             0.2222222222222222,
             "#7201a8"
            ],
            [
             0.3333333333333333,
             "#9c179e"
            ],
            [
             0.4444444444444444,
             "#bd3786"
            ],
            [
             0.5555555555555556,
             "#d8576b"
            ],
            [
             0.6666666666666666,
             "#ed7953"
            ],
            [
             0.7777777777777778,
             "#fb9f3a"
            ],
            [
             0.8888888888888888,
             "#fdca26"
            ],
            [
             1,
             "#f0f921"
            ]
           ]
          },
          "colorway": [
           "#636efa",
           "#EF553B",
           "#00cc96",
           "#ab63fa",
           "#FFA15A",
           "#19d3f3",
           "#FF6692",
           "#B6E880",
           "#FF97FF",
           "#FECB52"
          ],
          "font": {
           "color": "#2a3f5f"
          },
          "geo": {
           "bgcolor": "white",
           "lakecolor": "white",
           "landcolor": "white",
           "showlakes": true,
           "showland": true,
           "subunitcolor": "#C8D4E3"
          },
          "hoverlabel": {
           "align": "left"
          },
          "hovermode": "closest",
          "mapbox": {
           "style": "light"
          },
          "paper_bgcolor": "white",
          "plot_bgcolor": "white",
          "polar": {
           "angularaxis": {
            "gridcolor": "#EBF0F8",
            "linecolor": "#EBF0F8",
            "ticks": ""
           },
           "bgcolor": "white",
           "radialaxis": {
            "gridcolor": "#EBF0F8",
            "linecolor": "#EBF0F8",
            "ticks": ""
           }
          },
          "scene": {
           "xaxis": {
            "backgroundcolor": "white",
            "gridcolor": "#DFE8F3",
            "gridwidth": 2,
            "linecolor": "#EBF0F8",
            "showbackground": true,
            "ticks": "",
            "zerolinecolor": "#EBF0F8"
           },
           "yaxis": {
            "backgroundcolor": "white",
            "gridcolor": "#DFE8F3",
            "gridwidth": 2,
            "linecolor": "#EBF0F8",
            "showbackground": true,
            "ticks": "",
            "zerolinecolor": "#EBF0F8"
           },
           "zaxis": {
            "backgroundcolor": "white",
            "gridcolor": "#DFE8F3",
            "gridwidth": 2,
            "linecolor": "#EBF0F8",
            "showbackground": true,
            "ticks": "",
            "zerolinecolor": "#EBF0F8"
           }
          },
          "shapedefaults": {
           "line": {
            "color": "#2a3f5f"
           }
          },
          "ternary": {
           "aaxis": {
            "gridcolor": "#DFE8F3",
            "linecolor": "#A2B1C6",
            "ticks": ""
           },
           "baxis": {
            "gridcolor": "#DFE8F3",
            "linecolor": "#A2B1C6",
            "ticks": ""
           },
           "bgcolor": "white",
           "caxis": {
            "gridcolor": "#DFE8F3",
            "linecolor": "#A2B1C6",
            "ticks": ""
           }
          },
          "title": {
           "x": 0.05
          },
          "xaxis": {
           "automargin": true,
           "gridcolor": "#EBF0F8",
           "linecolor": "#EBF0F8",
           "ticks": "",
           "title": {
            "standoff": 15
           },
           "zerolinecolor": "#EBF0F8",
           "zerolinewidth": 2
          },
          "yaxis": {
           "automargin": true,
           "gridcolor": "#EBF0F8",
           "linecolor": "#EBF0F8",
           "ticks": "",
           "title": {
            "standoff": 15
           },
           "zerolinecolor": "#EBF0F8",
           "zerolinewidth": 2
          }
         }
        },
        "title": {
         "font": {
          "size": 20
         },
         "text": "Forward, Backward, and Mean Value Fill",
         "x": 0.5,
         "xanchor": "center",
         "yanchor": "top"
        },
        "width": 900,
        "xaxis": {
         "anchor": "y",
         "domain": [
          0,
          1
         ],
         "tickfont": {
          "size": 15
         },
         "title": {
          "font": {
           "size": 15
          },
          "text": "Day"
         }
        },
        "yaxis": {
         "anchor": "x",
         "domain": [
          0,
          1
         ],
         "tickfont": {
          "size": 15
         },
         "title": {
          "font": {
           "size": 15
          },
          "text": "Value"
         }
        }
       }
      }
     },
     "metadata": {},
     "output_type": "display_data"
    }
   ],
   "source": [
    "#Plotting\n",
    "plot_df = pd.melt(_df.reset_index(), id_vars=\"datetime\", var_name=\"series\")\n",
    "fig = px.line(plot_df, x=\"datetime\", y=[\"value\"], line_dash=\"series\", title=\"Forward, Backward, and Mean Value Fill\")\n",
    "fig = format_plot(fig, ['Original', 'Interpolate Nearest','Spline','Polynomial'])\n",
    "fig.write_image(\"imgs/chapter_2/ffill_bfill_mean_missing_values.png\")\n",
    "fig.show()"
   ]
  },
  {
   "cell_type": "markdown",
   "metadata": {},
   "source": [
    "----\n",
    "\n",
    "# Converting the half-hourly block-level data (hhblock) into time series data"
   ]
  },
  {
   "cell_type": "markdown",
   "metadata": {},
   "source": [
    "## Compact, expanded, and wide forms of data\n",
    "\n",
    "There are many ways to format a time series dataset, especilly a dataset with many related time series, like the one we have now. Apart from the standard terminology of __wide__ data, we can also look at two non-standard ways of formatting time series data. \n",
    "\n",
    "Althoug there is no standard nomenclature for those, we will refer to them as __compact__ and __expanded__ in this book.\n",
    "\n",
    "### Compact\n",
    "\n",
    "Compact form data is when any particular time series occupies only a single row in the pandas DataFrame - this is, the time dimension is managed as an array within a DataFrame row. The time series identifiers and the metadata occupy the columns with scalar values and then the time series values; other time-varying features occupy the columns with an array. Two additional columns are inclued toextrapolate time `-start_datetime` and ´frequency´. If we know the start datetime and the frequency of the time series, we can easily construct the time and recover the time series from the DataFrame. This only works for regularly sampled time series. The advantage is that the DataFrames take up much less memory and are easy and faster to work with\n",
    "\n",
    "![imange](https://i.imgur.com/ZfG2Sxg.png)\n"
   ]
  },
  {
   "cell_type": "markdown",
   "metadata": {},
   "source": [
    "### Expanded form\n",
    "\n",
    "The expanded form is when the time series is expanded along the rows of a DataFrame. If there are $n$ steps in the time series, it occupies \"n\" rows in the DataFrame. The time series identifiers and the metadata get repeated along all the rows. The time-varying features also get expanded along the rows. And instead of the start date and frequency, we have the datatime as a column:\n",
    "\n",
    "![extended form](https://i.imgur.com/wgzPLco.png)\n",
    "\n"
   ]
  },
  {
   "cell_type": "code",
   "execution_count": null,
   "metadata": {},
   "outputs": [],
   "source": []
  }
 ],
 "metadata": {
  "kernelspec": {
   "display_name": "modern-ts",
   "language": "python",
   "name": "python3"
  },
  "language_info": {
   "codemirror_mode": {
    "name": "ipython",
    "version": 3
   },
   "file_extension": ".py",
   "mimetype": "text/x-python",
   "name": "python",
   "nbconvert_exporter": "python",
   "pygments_lexer": "ipython3",
   "version": "3.9.18"
  }
 },
 "nbformat": 4,
 "nbformat_minor": 2
}
