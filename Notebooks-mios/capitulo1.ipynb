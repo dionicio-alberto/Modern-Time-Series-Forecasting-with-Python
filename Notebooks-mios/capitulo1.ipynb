{
 "cells": [
  {
   "cell_type": "markdown",
   "metadata": {},
   "source": [
    "# Chapter 1"
   ]
  },
  {
   "cell_type": "code",
   "execution_count": 2,
   "metadata": {},
   "outputs": [
    {
     "name": "stdout",
     "output_type": "stream",
     "text": [
      "c:\\Users\\dioni\\Documents\\GitHub\n"
     ]
    }
   ],
   "source": [
    "#Changing the working directory to the root\n",
    "%cd ../.."
   ]
  },
  {
   "cell_type": "code",
   "execution_count": 90,
   "metadata": {},
   "outputs": [],
   "source": [
    "import numpy as np\n",
    "import matplotlib.pyplot as plt\n",
    "import os\n",
    "import plotly.express as px\n",
    "import plotly.io as pio\n",
    "pio.templates.default = \"plotly_white\"\n",
    "import timesynth as ts\n",
    "import pandas as pd\n",
    "np.random.seed()"
   ]
  },
  {
   "cell_type": "code",
   "execution_count": 74,
   "metadata": {},
   "outputs": [
    {
     "name": "stdout",
     "output_type": "stream",
     "text": [
      "The autoreload extension is already loaded. To reload it, use:\n",
      "  %reload_ext autoreload\n"
     ]
    }
   ],
   "source": [
    "%load_ext autoreload\n",
    "%autoreload 2"
   ]
  },
  {
   "cell_type": "markdown",
   "metadata": {},
   "source": [
    "-----\n",
    "\n",
    "Now, we make a function for plot our differents time series"
   ]
  },
  {
   "cell_type": "code",
   "execution_count": 75,
   "metadata": {},
   "outputs": [],
   "source": [
    "def plot_time_series(time, values, label, legends=None):\n",
    "    if legends is not None:\n",
    "        assert len(legends)==len(values)\n",
    "    if isinstance(values, list):\n",
    "        series_dict = {\"Time\": time}\n",
    "        for v, l in zip(values, legends):\n",
    "            series_dict[l] = v\n",
    "        plot_df = pd.DataFrame(series_dict)\n",
    "        plot_df = pd.melt(plot_df,id_vars=\"Time\",var_name=\"ts\", value_name=\"Value\")\n",
    "    else:\n",
    "        series_dict = {\"Time\": time, \"Value\": values, \"ts\":\"\"}\n",
    "        plot_df = pd.DataFrame(series_dict)\n",
    "    \n",
    "    if isinstance(values, list):\n",
    "        fig = px.line(plot_df, x=\"Time\", y=\"Value\", line_dash=\"ts\")\n",
    "    else:\n",
    "        fig = px.line(plot_df, x=\"Time\", y=\"Value\")\n",
    "    fig.update_layout(\n",
    "        autosize=False,\n",
    "        width=900,\n",
    "        height=500,\n",
    "        title={\n",
    "        'text': label,\n",
    "#         'y':0.9,\n",
    "        'x':0.5,\n",
    "        'xanchor': 'center',\n",
    "        'yanchor': 'top'},\n",
    "        titlefont={\n",
    "            \"size\": 25\n",
    "        },\n",
    "        yaxis=dict(\n",
    "            title_text=\"Value\",\n",
    "            titlefont=dict(size=12),\n",
    "        ),\n",
    "        xaxis=dict(\n",
    "            title_text=\"Time\",\n",
    "            titlefont=dict(size=12),\n",
    "        )\n",
    "    )\n",
    "    return fig\n",
    "    \n",
    "def generate_timeseries(signal, noise=None):\n",
    "    time_sampler = ts.TimeSampler(stop_time=20)\n",
    "    regular_time_samples = time_sampler.sample_regular_time(num_points=200)\n",
    "    timeseries = ts.TimeSeries(signal_generator=signal, noise_generator=noise)\n",
    "    samples, signals, errors = timeseries.sample(regular_time_samples)\n",
    "    return samples, regular_time_samples, signals, errors\n",
    "\n",
    "os.makedirs(\"imgs/chapter_1\", exist_ok=True)"
   ]
  },
  {
   "cell_type": "markdown",
   "metadata": {},
   "source": [
    "----\n",
    "\n",
    "# White Noise"
   ]
  },
  {
   "cell_type": "code",
   "execution_count": 76,
   "metadata": {},
   "outputs": [
    {
     "data": {
      "application/vnd.plotly.v1+json": {
       "config": {
        "plotlyServerURL": "https://plot.ly"
       },
       "data": [
        {
         "hovertemplate": "Time=%{x}<br>Value=%{y}<extra></extra>",
         "legendgroup": "",
         "line": {
          "color": "#636efa",
          "dash": "solid"
         },
         "marker": {
          "symbol": "circle"
         },
         "mode": "lines",
         "name": "",
         "orientation": "v",
         "showlegend": false,
         "type": "scatter",
         "x": [
          0,
          1,
          2,
          3,
          4,
          5,
          6,
          7,
          8,
          9,
          10,
          11,
          12,
          13,
          14,
          15,
          16,
          17,
          18,
          19,
          20,
          21,
          22,
          23,
          24,
          25,
          26,
          27,
          28,
          29,
          30,
          31,
          32,
          33,
          34,
          35,
          36,
          37,
          38,
          39,
          40,
          41,
          42,
          43,
          44,
          45,
          46,
          47,
          48,
          49,
          50,
          51,
          52,
          53,
          54,
          55,
          56,
          57,
          58,
          59,
          60,
          61,
          62,
          63,
          64,
          65,
          66,
          67,
          68,
          69,
          70,
          71,
          72,
          73,
          74,
          75,
          76,
          77,
          78,
          79,
          80,
          81,
          82,
          83,
          84,
          85,
          86,
          87,
          88,
          89,
          90,
          91,
          92,
          93,
          94,
          95,
          96,
          97,
          98,
          99,
          100,
          101,
          102,
          103,
          104,
          105,
          106,
          107,
          108,
          109,
          110,
          111,
          112,
          113,
          114,
          115,
          116,
          117,
          118,
          119,
          120,
          121,
          122,
          123,
          124,
          125,
          126,
          127,
          128,
          129,
          130,
          131,
          132,
          133,
          134,
          135,
          136,
          137,
          138,
          139,
          140,
          141,
          142,
          143,
          144,
          145,
          146,
          147,
          148,
          149,
          150,
          151,
          152,
          153,
          154,
          155,
          156,
          157,
          158,
          159,
          160,
          161,
          162,
          163,
          164,
          165,
          166,
          167,
          168,
          169,
          170,
          171,
          172,
          173,
          174,
          175,
          176,
          177,
          178,
          179,
          180,
          181,
          182,
          183,
          184,
          185,
          186,
          187,
          188,
          189,
          190,
          191,
          192,
          193,
          194,
          195,
          196,
          197,
          198,
          199
         ],
         "xaxis": "x",
         "y": [
          135.62933627035002,
          -54.537003640681334,
          38.25676544982555,
          217.71842935880326,
          29.36055874377546,
          -40.177387896922085,
          1.9453799158092553,
          -76.23789021411883,
          -134.68120618199336,
          133.88639235420484,
          120.99066338232637,
          -6.037965264409731,
          118.32338465754171,
          194.28687428842662,
          72.2970773695576,
          2.877346293641627,
          129.77330382756963,
          -36.34324309135042,
          -269.5010694793523,
          -102.90234668198437,
          -39.853068100488315,
          65.9088775989898,
          123.79761788398756,
          -65.55913487471109,
          53.61807178667996,
          96.44248585113655,
          -44.39556282725784,
          99.26985198370953,
          -146.64235568902134,
          6.816457481722948,
          -88.06699955062265,
          -294.83011648669196,
          -59.704779715326,
          -83.2378655871261,
          -13.856347290631929,
          203.48189053269002,
          -31.836542629424585,
          -56.17956250720775,
          16.622879226898295,
          -79.76497636765374,
          177.69003249644226,
          -38.682760411813085,
          -14.408598311139343,
          -56.4394809990446,
          -57.624174532495765,
          -106.95017327190921,
          -96.98987869646906,
          31.599114407429397,
          -141.62957787209405,
          -11.275981660519715,
          14.692707972293665,
          -86.1803756261364,
          -44.6458800201618,
          96.38187594229277,
          -43.34443391592606,
          49.11440304831695,
          -197.0533637906775,
          102.07433787143279,
          -24.27933015747116,
          65.15812029290153,
          124.94802232860849,
          8.24805653880977,
          86.19499183298103,
          168.01561459766774,
          -247.54377926441634,
          149.19099821951488,
          13.79956881588002,
          -48.73230203894429,
          135.05331173507844,
          -5.539814262048386,
          -271.9238552372309,
          7.702459968180491,
          -148.07510348476524,
          79.30800810468762,
          -25.523680930704252,
          89.0784485083964,
          -57.937799974303715,
          -121.70017466782726,
          -55.44163085353443,
          -65.46262902023781,
          194.7578864166998,
          55.07181967349284,
          -16.75427330953469,
          -33.230995738499175,
          104.73330891643951,
          -89.08881952389997,
          -12.741927370985229,
          208.40276253595874,
          -153.30427818238067,
          113.94917375893074,
          -79.15135493777173,
          -22.139063439047135,
          -238.4803548302973,
          84.89784753482216,
          -45.598432385769904,
          -190.46445501959573,
          -103.03223096498006,
          80.62622065935635,
          63.034527387023495,
          -57.300261644340466,
          -69.81700493751008,
          118.6390600732221,
          -164.80535671409743,
          -58.28890638454007,
          -9.300429287309948,
          -80.41135903894812,
          -76.11852009484149,
          -3.533573675221534,
          -85.58555684517934,
          -29.778063015949613,
          -101.26163342992594,
          -91.48863976431045,
          -45.64566604535196,
          -166.81048323054924,
          -4.909903455647372,
          -53.39652955184123,
          -146.17673613220916,
          -39.03661659346112,
          28.75627234237844,
          -197.50535696067456,
          -23.152583299070166,
          -38.631495525480126,
          -37.00303317271133,
          58.21522450293642,
          -115.30128620688392,
          -16.549515377307173,
          -18.79955176309352,
          13.077577102451416,
          -80.17006637121568,
          -150.72723860803535,
          -9.976774679943675,
          -85.1383740808905,
          46.366440320161,
          38.70676544714768,
          -73.65923137502615,
          -191.6338095225479,
          9.406072838128887,
          -67.4427336131737,
          117.66241410372513,
          29.31599913767836,
          -58.979553539900145,
          58.59406847650133,
          -18.259104002493377,
          170.76496481979424,
          135.22213937140216,
          -100.06226902614495,
          -182.3292601561881,
          -59.059529477946846,
          -178.5154812705549,
          8.72932898926098,
          134.29804390580577,
          -145.7095109517652,
          -69.37851843784603,
          -120.43924972819006,
          -69.07129774127513,
          51.67141830075141,
          213.0052541788464,
          -3.6667551093544026,
          8.444544516914883,
          73.58418836185218,
          -62.141912716354796,
          190.60232032574666,
          133.37425913757076,
          86.73123994920023,
          159.30213212289425,
          -59.87914347614315,
          -170.46201418722035,
          220.31285430855246,
          15.890119455946564,
          -161.82532228341574,
          -50.10293248006694,
          -107.50894473337394,
          19.53902997844018,
          44.841505101875974,
          -93.02587195566781,
          68.77349271128129,
          -23.52765807598571,
          147.59247706536158,
          -160.0402803156574,
          185.41117917199895,
          -113.81597745106676,
          95.21890762218955,
          -171.40694513661174,
          -98.7363265159486,
          7.659345290045002,
          111.41566363731681,
          -58.540002376503466,
          7.102819531426448,
          110.9203282221952,
          30.743843669097515,
          16.248302538580315,
          55.975483660732785,
          -24.92769018814925,
          -231.92937939161436,
          37.35015933676962,
          40.14321555120445,
          -106.9663366865717,
          -142.50097118650854,
          24.070705650538578,
          -221.40541571593027
         ],
         "yaxis": "y"
        }
       ],
       "layout": {
        "autosize": false,
        "height": 500,
        "legend": {
         "tracegroupgap": 0
        },
        "margin": {
         "t": 60
        },
        "template": {
         "data": {
          "bar": [
           {
            "error_x": {
             "color": "#2a3f5f"
            },
            "error_y": {
             "color": "#2a3f5f"
            },
            "marker": {
             "line": {
              "color": "white",
              "width": 0.5
             },
             "pattern": {
              "fillmode": "overlay",
              "size": 10,
              "solidity": 0.2
             }
            },
            "type": "bar"
           }
          ],
          "barpolar": [
           {
            "marker": {
             "line": {
              "color": "white",
              "width": 0.5
             },
             "pattern": {
              "fillmode": "overlay",
              "size": 10,
              "solidity": 0.2
             }
            },
            "type": "barpolar"
           }
          ],
          "carpet": [
           {
            "aaxis": {
             "endlinecolor": "#2a3f5f",
             "gridcolor": "#C8D4E3",
             "linecolor": "#C8D4E3",
             "minorgridcolor": "#C8D4E3",
             "startlinecolor": "#2a3f5f"
            },
            "baxis": {
             "endlinecolor": "#2a3f5f",
             "gridcolor": "#C8D4E3",
             "linecolor": "#C8D4E3",
             "minorgridcolor": "#C8D4E3",
             "startlinecolor": "#2a3f5f"
            },
            "type": "carpet"
           }
          ],
          "choropleth": [
           {
            "colorbar": {
             "outlinewidth": 0,
             "ticks": ""
            },
            "type": "choropleth"
           }
          ],
          "contour": [
           {
            "colorbar": {
             "outlinewidth": 0,
             "ticks": ""
            },
            "colorscale": [
             [
              0,
              "#0d0887"
             ],
             [
              0.1111111111111111,
              "#46039f"
             ],
             [
              0.2222222222222222,
              "#7201a8"
             ],
             [
              0.3333333333333333,
              "#9c179e"
             ],
             [
              0.4444444444444444,
              "#bd3786"
             ],
             [
              0.5555555555555556,
              "#d8576b"
             ],
             [
              0.6666666666666666,
              "#ed7953"
             ],
             [
              0.7777777777777778,
              "#fb9f3a"
             ],
             [
              0.8888888888888888,
              "#fdca26"
             ],
             [
              1,
              "#f0f921"
             ]
            ],
            "type": "contour"
           }
          ],
          "contourcarpet": [
           {
            "colorbar": {
             "outlinewidth": 0,
             "ticks": ""
            },
            "type": "contourcarpet"
           }
          ],
          "heatmap": [
           {
            "colorbar": {
             "outlinewidth": 0,
             "ticks": ""
            },
            "colorscale": [
             [
              0,
              "#0d0887"
             ],
             [
              0.1111111111111111,
              "#46039f"
             ],
             [
              0.2222222222222222,
              "#7201a8"
             ],
             [
              0.3333333333333333,
              "#9c179e"
             ],
             [
              0.4444444444444444,
              "#bd3786"
             ],
             [
              0.5555555555555556,
              "#d8576b"
             ],
             [
              0.6666666666666666,
              "#ed7953"
             ],
             [
              0.7777777777777778,
              "#fb9f3a"
             ],
             [
              0.8888888888888888,
              "#fdca26"
             ],
             [
              1,
              "#f0f921"
             ]
            ],
            "type": "heatmap"
           }
          ],
          "heatmapgl": [
           {
            "colorbar": {
             "outlinewidth": 0,
             "ticks": ""
            },
            "colorscale": [
             [
              0,
              "#0d0887"
             ],
             [
              0.1111111111111111,
              "#46039f"
             ],
             [
              0.2222222222222222,
              "#7201a8"
             ],
             [
              0.3333333333333333,
              "#9c179e"
             ],
             [
              0.4444444444444444,
              "#bd3786"
             ],
             [
              0.5555555555555556,
              "#d8576b"
             ],
             [
              0.6666666666666666,
              "#ed7953"
             ],
             [
              0.7777777777777778,
              "#fb9f3a"
             ],
             [
              0.8888888888888888,
              "#fdca26"
             ],
             [
              1,
              "#f0f921"
             ]
            ],
            "type": "heatmapgl"
           }
          ],
          "histogram": [
           {
            "marker": {
             "pattern": {
              "fillmode": "overlay",
              "size": 10,
              "solidity": 0.2
             }
            },
            "type": "histogram"
           }
          ],
          "histogram2d": [
           {
            "colorbar": {
             "outlinewidth": 0,
             "ticks": ""
            },
            "colorscale": [
             [
              0,
              "#0d0887"
             ],
             [
              0.1111111111111111,
              "#46039f"
             ],
             [
              0.2222222222222222,
              "#7201a8"
             ],
             [
              0.3333333333333333,
              "#9c179e"
             ],
             [
              0.4444444444444444,
              "#bd3786"
             ],
             [
              0.5555555555555556,
              "#d8576b"
             ],
             [
              0.6666666666666666,
              "#ed7953"
             ],
             [
              0.7777777777777778,
              "#fb9f3a"
             ],
             [
              0.8888888888888888,
              "#fdca26"
             ],
             [
              1,
              "#f0f921"
             ]
            ],
            "type": "histogram2d"
           }
          ],
          "histogram2dcontour": [
           {
            "colorbar": {
             "outlinewidth": 0,
             "ticks": ""
            },
            "colorscale": [
             [
              0,
              "#0d0887"
             ],
             [
              0.1111111111111111,
              "#46039f"
             ],
             [
              0.2222222222222222,
              "#7201a8"
             ],
             [
              0.3333333333333333,
              "#9c179e"
             ],
             [
              0.4444444444444444,
              "#bd3786"
             ],
             [
              0.5555555555555556,
              "#d8576b"
             ],
             [
              0.6666666666666666,
              "#ed7953"
             ],
             [
              0.7777777777777778,
              "#fb9f3a"
             ],
             [
              0.8888888888888888,
              "#fdca26"
             ],
             [
              1,
              "#f0f921"
             ]
            ],
            "type": "histogram2dcontour"
           }
          ],
          "mesh3d": [
           {
            "colorbar": {
             "outlinewidth": 0,
             "ticks": ""
            },
            "type": "mesh3d"
           }
          ],
          "parcoords": [
           {
            "line": {
             "colorbar": {
              "outlinewidth": 0,
              "ticks": ""
             }
            },
            "type": "parcoords"
           }
          ],
          "pie": [
           {
            "automargin": true,
            "type": "pie"
           }
          ],
          "scatter": [
           {
            "fillpattern": {
             "fillmode": "overlay",
             "size": 10,
             "solidity": 0.2
            },
            "type": "scatter"
           }
          ],
          "scatter3d": [
           {
            "line": {
             "colorbar": {
              "outlinewidth": 0,
              "ticks": ""
             }
            },
            "marker": {
             "colorbar": {
              "outlinewidth": 0,
              "ticks": ""
             }
            },
            "type": "scatter3d"
           }
          ],
          "scattercarpet": [
           {
            "marker": {
             "colorbar": {
              "outlinewidth": 0,
              "ticks": ""
             }
            },
            "type": "scattercarpet"
           }
          ],
          "scattergeo": [
           {
            "marker": {
             "colorbar": {
              "outlinewidth": 0,
              "ticks": ""
             }
            },
            "type": "scattergeo"
           }
          ],
          "scattergl": [
           {
            "marker": {
             "colorbar": {
              "outlinewidth": 0,
              "ticks": ""
             }
            },
            "type": "scattergl"
           }
          ],
          "scattermapbox": [
           {
            "marker": {
             "colorbar": {
              "outlinewidth": 0,
              "ticks": ""
             }
            },
            "type": "scattermapbox"
           }
          ],
          "scatterpolar": [
           {
            "marker": {
             "colorbar": {
              "outlinewidth": 0,
              "ticks": ""
             }
            },
            "type": "scatterpolar"
           }
          ],
          "scatterpolargl": [
           {
            "marker": {
             "colorbar": {
              "outlinewidth": 0,
              "ticks": ""
             }
            },
            "type": "scatterpolargl"
           }
          ],
          "scatterternary": [
           {
            "marker": {
             "colorbar": {
              "outlinewidth": 0,
              "ticks": ""
             }
            },
            "type": "scatterternary"
           }
          ],
          "surface": [
           {
            "colorbar": {
             "outlinewidth": 0,
             "ticks": ""
            },
            "colorscale": [
             [
              0,
              "#0d0887"
             ],
             [
              0.1111111111111111,
              "#46039f"
             ],
             [
              0.2222222222222222,
              "#7201a8"
             ],
             [
              0.3333333333333333,
              "#9c179e"
             ],
             [
              0.4444444444444444,
              "#bd3786"
             ],
             [
              0.5555555555555556,
              "#d8576b"
             ],
             [
              0.6666666666666666,
              "#ed7953"
             ],
             [
              0.7777777777777778,
              "#fb9f3a"
             ],
             [
              0.8888888888888888,
              "#fdca26"
             ],
             [
              1,
              "#f0f921"
             ]
            ],
            "type": "surface"
           }
          ],
          "table": [
           {
            "cells": {
             "fill": {
              "color": "#EBF0F8"
             },
             "line": {
              "color": "white"
             }
            },
            "header": {
             "fill": {
              "color": "#C8D4E3"
             },
             "line": {
              "color": "white"
             }
            },
            "type": "table"
           }
          ]
         },
         "layout": {
          "annotationdefaults": {
           "arrowcolor": "#2a3f5f",
           "arrowhead": 0,
           "arrowwidth": 1
          },
          "autotypenumbers": "strict",
          "coloraxis": {
           "colorbar": {
            "outlinewidth": 0,
            "ticks": ""
           }
          },
          "colorscale": {
           "diverging": [
            [
             0,
             "#8e0152"
            ],
            [
             0.1,
             "#c51b7d"
            ],
            [
             0.2,
             "#de77ae"
            ],
            [
             0.3,
             "#f1b6da"
            ],
            [
             0.4,
             "#fde0ef"
            ],
            [
             0.5,
             "#f7f7f7"
            ],
            [
             0.6,
             "#e6f5d0"
            ],
            [
             0.7,
             "#b8e186"
            ],
            [
             0.8,
             "#7fbc41"
            ],
            [
             0.9,
             "#4d9221"
            ],
            [
             1,
             "#276419"
            ]
           ],
           "sequential": [
            [
             0,
             "#0d0887"
            ],
            [
             0.1111111111111111,
             "#46039f"
            ],
            [
             0.2222222222222222,
             "#7201a8"
            ],
            [
             0.3333333333333333,
             "#9c179e"
            ],
            [
             0.4444444444444444,
             "#bd3786"
            ],
            [
             0.5555555555555556,
             "#d8576b"
            ],
            [
             0.6666666666666666,
             "#ed7953"
            ],
            [
             0.7777777777777778,
             "#fb9f3a"
            ],
            [
             0.8888888888888888,
             "#fdca26"
            ],
            [
             1,
             "#f0f921"
            ]
           ],
           "sequentialminus": [
            [
             0,
             "#0d0887"
            ],
            [
             0.1111111111111111,
             "#46039f"
            ],
            [
             0.2222222222222222,
             "#7201a8"
            ],
            [
             0.3333333333333333,
             "#9c179e"
            ],
            [
             0.4444444444444444,
             "#bd3786"
            ],
            [
             0.5555555555555556,
             "#d8576b"
            ],
            [
             0.6666666666666666,
             "#ed7953"
            ],
            [
             0.7777777777777778,
             "#fb9f3a"
            ],
            [
             0.8888888888888888,
             "#fdca26"
            ],
            [
             1,
             "#f0f921"
            ]
           ]
          },
          "colorway": [
           "#636efa",
           "#EF553B",
           "#00cc96",
           "#ab63fa",
           "#FFA15A",
           "#19d3f3",
           "#FF6692",
           "#B6E880",
           "#FF97FF",
           "#FECB52"
          ],
          "font": {
           "color": "#2a3f5f"
          },
          "geo": {
           "bgcolor": "white",
           "lakecolor": "white",
           "landcolor": "white",
           "showlakes": true,
           "showland": true,
           "subunitcolor": "#C8D4E3"
          },
          "hoverlabel": {
           "align": "left"
          },
          "hovermode": "closest",
          "mapbox": {
           "style": "light"
          },
          "paper_bgcolor": "white",
          "plot_bgcolor": "white",
          "polar": {
           "angularaxis": {
            "gridcolor": "#EBF0F8",
            "linecolor": "#EBF0F8",
            "ticks": ""
           },
           "bgcolor": "white",
           "radialaxis": {
            "gridcolor": "#EBF0F8",
            "linecolor": "#EBF0F8",
            "ticks": ""
           }
          },
          "scene": {
           "xaxis": {
            "backgroundcolor": "white",
            "gridcolor": "#DFE8F3",
            "gridwidth": 2,
            "linecolor": "#EBF0F8",
            "showbackground": true,
            "ticks": "",
            "zerolinecolor": "#EBF0F8"
           },
           "yaxis": {
            "backgroundcolor": "white",
            "gridcolor": "#DFE8F3",
            "gridwidth": 2,
            "linecolor": "#EBF0F8",
            "showbackground": true,
            "ticks": "",
            "zerolinecolor": "#EBF0F8"
           },
           "zaxis": {
            "backgroundcolor": "white",
            "gridcolor": "#DFE8F3",
            "gridwidth": 2,
            "linecolor": "#EBF0F8",
            "showbackground": true,
            "ticks": "",
            "zerolinecolor": "#EBF0F8"
           }
          },
          "shapedefaults": {
           "line": {
            "color": "#2a3f5f"
           }
          },
          "ternary": {
           "aaxis": {
            "gridcolor": "#DFE8F3",
            "linecolor": "#A2B1C6",
            "ticks": ""
           },
           "baxis": {
            "gridcolor": "#DFE8F3",
            "linecolor": "#A2B1C6",
            "ticks": ""
           },
           "bgcolor": "white",
           "caxis": {
            "gridcolor": "#DFE8F3",
            "linecolor": "#A2B1C6",
            "ticks": ""
           }
          },
          "title": {
           "x": 0.05
          },
          "xaxis": {
           "automargin": true,
           "gridcolor": "#EBF0F8",
           "linecolor": "#EBF0F8",
           "ticks": "",
           "title": {
            "standoff": 15
           },
           "zerolinecolor": "#EBF0F8",
           "zerolinewidth": 2
          },
          "yaxis": {
           "automargin": true,
           "gridcolor": "#EBF0F8",
           "linecolor": "#EBF0F8",
           "ticks": "",
           "title": {
            "standoff": 15
           },
           "zerolinecolor": "#EBF0F8",
           "zerolinewidth": 2
          }
         }
        },
        "title": {
         "font": {
          "size": 25
         },
         "text": "White Noise",
         "x": 0.5,
         "xanchor": "center",
         "yanchor": "top"
        },
        "width": 900,
        "xaxis": {
         "anchor": "y",
         "domain": [
          0,
          1
         ],
         "title": {
          "font": {
           "size": 12
          },
          "text": "Time"
         }
        },
        "yaxis": {
         "anchor": "x",
         "domain": [
          0,
          1
         ],
         "title": {
          "font": {
           "size": 12
          },
          "text": "Value"
         }
        }
       }
      }
     },
     "metadata": {},
     "output_type": "display_data"
    }
   ],
   "source": [
    "# Generate the time axis with sequential numbers upto 200\n",
    "time = np.arange(200)\n",
    "# Sample 200 hundred random values\n",
    "values = np.random.randn(200)*100\n",
    "fig = plot_time_series(time, values, \"White Noise\")\n",
    "fig.write_image(\"imgs/chapter_1/white_noise_process.png\")\n",
    "fig.show()"
   ]
  },
  {
   "cell_type": "markdown",
   "metadata": {},
   "source": [
    "---- \n",
    "# Red Noise\n",
    "\n",
    "Red noise has zero mean and constant variance but is serially correlated in time. This serial correlation or redness is parameterized by a correlation coefficient r, such that:\n",
    "$$x_{j+1}=r\\cdot x_j + (1-r^2)^{\\frac{1}{2}} \\cdot w$$\n",
    "\n",
    "where $w$ is a random sample from a white noise distribution."
   ]
  },
  {
   "cell_type": "code",
   "execution_count": 77,
   "metadata": {},
   "outputs": [
    {
     "data": {
      "application/vnd.plotly.v1+json": {
       "config": {
        "plotlyServerURL": "https://plot.ly"
       },
       "data": [
        {
         "hovertemplate": "Time=%{x}<br>Value=%{y}<extra></extra>",
         "legendgroup": "",
         "line": {
          "color": "#636efa",
          "dash": "solid"
         },
         "marker": {
          "symbol": "circle"
         },
         "mode": "lines",
         "name": "",
         "orientation": "v",
         "showlegend": false,
         "type": "scatter",
         "x": [
          0,
          1,
          2,
          3,
          4,
          5,
          6,
          7,
          8,
          9,
          10,
          11,
          12,
          13,
          14,
          15,
          16,
          17,
          18,
          19,
          20,
          21,
          22,
          23,
          24,
          25,
          26,
          27,
          28,
          29,
          30,
          31,
          32,
          33,
          34,
          35,
          36,
          37,
          38,
          39,
          40,
          41,
          42,
          43,
          44,
          45,
          46,
          47,
          48,
          49,
          50,
          51,
          52,
          53,
          54,
          55,
          56,
          57,
          58,
          59,
          60,
          61,
          62,
          63,
          64,
          65,
          66,
          67,
          68,
          69,
          70,
          71,
          72,
          73,
          74,
          75,
          76,
          77,
          78,
          79,
          80,
          81,
          82,
          83,
          84,
          85,
          86,
          87,
          88,
          89,
          90,
          91,
          92,
          93,
          94,
          95,
          96,
          97,
          98,
          99,
          100,
          101,
          102,
          103,
          104,
          105,
          106,
          107,
          108,
          109,
          110,
          111,
          112,
          113,
          114,
          115,
          116,
          117,
          118,
          119,
          120,
          121,
          122,
          123,
          124,
          125,
          126,
          127,
          128,
          129,
          130,
          131,
          132,
          133,
          134,
          135,
          136,
          137,
          138,
          139,
          140,
          141,
          142,
          143,
          144,
          145,
          146,
          147,
          148,
          149,
          150,
          151,
          152,
          153,
          154,
          155,
          156,
          157,
          158,
          159,
          160,
          161,
          162,
          163,
          164,
          165,
          166,
          167,
          168,
          169,
          170,
          171,
          172,
          173,
          174,
          175,
          176,
          177,
          178,
          179,
          180,
          181,
          182,
          183,
          184,
          185,
          186,
          187,
          188,
          189,
          190,
          191,
          192,
          193,
          194,
          195,
          196,
          197,
          198,
          199
         ],
         "xaxis": "x",
         "y": [
          -169.8395458058751,
          -226.8869329037533,
          -147.6360647929015,
          -134.51367281890515,
          -145.35112035680947,
          -148.11918519178232,
          -106.91980243966795,
          -70.87141027245278,
          -116.45129486762724,
          -136.99514415209154,
          -140.42975012475853,
          -69.52531462732026,
          -61.551560603803196,
          -83.53481629636315,
          -50.95254198830896,
          -64.67281252334878,
          -108.98730465877946,
          -73.82853459590453,
          -73.32153772598555,
          -72.7150143989928,
          -130.61218300692957,
          -119.87430283367198,
          -135.93442252829013,
          -108.1964523156573,
          -105.98196898010396,
          -83.541606091457,
          -110.98304132438955,
          -157.10109876939177,
          -129.45776240125852,
          -79.8318041722211,
          -64.38935916538604,
          -47.3656090752257,
          -42.010572092879414,
          -66.46769076799023,
          -124.87882699639815,
          -32.13977900924597,
          19.365805326033417,
          -1.6664425160957137,
          32.961213324383934,
          64.54831513567822,
          83.39873921578203,
          55.274082954783935,
          -30.316341970503487,
          -27.15480982132938,
          81.64890161379404,
          109.74559325401252,
          138.54115725970476,
          94.07230173061973,
          90.45692388663866,
          59.70185153526489,
          33.79388849283947,
          46.86649290730365,
          9.526762808485195,
          -44.07597155025596,
          -60.583669001454695,
          -59.42065357804805,
          -62.99213500980503,
          -48.8958605219815,
          -44.51714886923809,
          -104.36260723078703,
          -92.12398182521505,
          -121.97604910196992,
          -128.1234322815227,
          -122.2545379518086,
          -149.17977696301188,
          -137.11432396798864,
          -152.87286896405735,
          -111.99178591024425,
          -99.6405573239738,
          -71.522633155775,
          13.727107291807727,
          6.99822670612785,
          62.673923769452564,
          18.916379860007616,
          25.83142964896986,
          49.22627109437906,
          64.62626435810017,
          49.254081053569564,
          37.26515202894647,
          46.95143758789235,
          77.17872178081683,
          120.89177620212213,
          97.70513037631852,
          117.2761224207916,
          157.9407572452762,
          137.39632981607997,
          63.060774877020854,
          138.4389654232294,
          116.0351043682882,
          48.598489547323545,
          24.082191435130614,
          -15.231198430145533,
          49.01030930030957,
          -28.67411870843388,
          9.902904992307253,
          25.498339636472114,
          -18.097764772674058,
          -9.742971503663435,
          14.172147501604458,
          -17.229748009251214,
          8.315816444241696,
          75.85402484340732,
          50.77811417086261,
          142.2812763345269,
          38.77945793584668,
          72.59731645112682,
          28.383494400418037,
          46.39918943243849,
          94.60255506945208,
          115.95748516254466,
          84.5029217919983,
          72.99723822484565,
          84.60380461069099,
          155.87791991710242,
          105.6920469226913,
          128.45767885140475,
          154.8258467434864,
          217.21242451447586,
          212.48884346691315,
          255.7743736778367,
          254.50935115137722,
          214.9618235728575,
          272.0499897793509,
          194.56653368662893,
          153.15462950523124,
          102.52839893042115,
          104.38854043904091,
          143.10037210909397,
          77.99604988842023,
          133.18920238819732,
          40.964817411873184,
          2.5469715655694714,
          46.062245966248256,
          55.97139219337329,
          60.75355086820037,
          89.7414841277373,
          86.42253135208797,
          70.33292418539259,
          38.61150308619062,
          51.487223362304306,
          75.79531418202515,
          73.11878380957232,
          -3.2974578426829737,
          9.80489062954434,
          9.835010245186574,
          -54.21837400948397,
          -18.32630346086715,
          -34.13378679306241,
          -48.008088112427544,
          -93.01327915108953,
          -133.75236951108906,
          -77.18563438471521,
          -21.88482120138717,
          -68.5811004965928,
          -122.9642862721915,
          -208.33528803518027,
          -131.82184004317372,
          -63.22039876562189,
          -88.36197033212687,
          -122.47869273521282,
          -95.19094378957503,
          -86.30407812115364,
          -60.00557379114893,
          -20.95626628976163,
          31.398628068369376,
          15.945802356037856,
          19.722693722646003,
          65.20183110312293,
          80.44076325223855,
          76.34699232341649,
          125.51466330978495,
          111.26220748872173,
          85.64057474504213,
          124.46039776134823,
          74.4886186010459,
          80.48865375135638,
          31.9394143968194,
          9.37527139628056,
          45.40972229674426,
          33.345129347054645,
          -14.674059599916284,
          48.41085756077859,
          101.86950607644647,
          69.74925009703412,
          4.949563653620089,
          0.1554036213789729,
          12.586026467902567,
          23.426785255448962,
          15.336921259297291,
          -8.567910737207967,
          14.111349650361717,
          -63.3042403066264,
          -46.45535461690845,
          -13.689239929006863,
          -31.935970142460263,
          -12.848418039974666,
          23.59587467889221,
          -61.857984935099154,
          -25.442043060251226,
          30.910385223423983
         ],
         "yaxis": "y"
        }
       ],
       "layout": {
        "autosize": false,
        "height": 500,
        "legend": {
         "tracegroupgap": 0
        },
        "margin": {
         "t": 60
        },
        "template": {
         "data": {
          "bar": [
           {
            "error_x": {
             "color": "#2a3f5f"
            },
            "error_y": {
             "color": "#2a3f5f"
            },
            "marker": {
             "line": {
              "color": "white",
              "width": 0.5
             },
             "pattern": {
              "fillmode": "overlay",
              "size": 10,
              "solidity": 0.2
             }
            },
            "type": "bar"
           }
          ],
          "barpolar": [
           {
            "marker": {
             "line": {
              "color": "white",
              "width": 0.5
             },
             "pattern": {
              "fillmode": "overlay",
              "size": 10,
              "solidity": 0.2
             }
            },
            "type": "barpolar"
           }
          ],
          "carpet": [
           {
            "aaxis": {
             "endlinecolor": "#2a3f5f",
             "gridcolor": "#C8D4E3",
             "linecolor": "#C8D4E3",
             "minorgridcolor": "#C8D4E3",
             "startlinecolor": "#2a3f5f"
            },
            "baxis": {
             "endlinecolor": "#2a3f5f",
             "gridcolor": "#C8D4E3",
             "linecolor": "#C8D4E3",
             "minorgridcolor": "#C8D4E3",
             "startlinecolor": "#2a3f5f"
            },
            "type": "carpet"
           }
          ],
          "choropleth": [
           {
            "colorbar": {
             "outlinewidth": 0,
             "ticks": ""
            },
            "type": "choropleth"
           }
          ],
          "contour": [
           {
            "colorbar": {
             "outlinewidth": 0,
             "ticks": ""
            },
            "colorscale": [
             [
              0,
              "#0d0887"
             ],
             [
              0.1111111111111111,
              "#46039f"
             ],
             [
              0.2222222222222222,
              "#7201a8"
             ],
             [
              0.3333333333333333,
              "#9c179e"
             ],
             [
              0.4444444444444444,
              "#bd3786"
             ],
             [
              0.5555555555555556,
              "#d8576b"
             ],
             [
              0.6666666666666666,
              "#ed7953"
             ],
             [
              0.7777777777777778,
              "#fb9f3a"
             ],
             [
              0.8888888888888888,
              "#fdca26"
             ],
             [
              1,
              "#f0f921"
             ]
            ],
            "type": "contour"
           }
          ],
          "contourcarpet": [
           {
            "colorbar": {
             "outlinewidth": 0,
             "ticks": ""
            },
            "type": "contourcarpet"
           }
          ],
          "heatmap": [
           {
            "colorbar": {
             "outlinewidth": 0,
             "ticks": ""
            },
            "colorscale": [
             [
              0,
              "#0d0887"
             ],
             [
              0.1111111111111111,
              "#46039f"
             ],
             [
              0.2222222222222222,
              "#7201a8"
             ],
             [
              0.3333333333333333,
              "#9c179e"
             ],
             [
              0.4444444444444444,
              "#bd3786"
             ],
             [
              0.5555555555555556,
              "#d8576b"
             ],
             [
              0.6666666666666666,
              "#ed7953"
             ],
             [
              0.7777777777777778,
              "#fb9f3a"
             ],
             [
              0.8888888888888888,
              "#fdca26"
             ],
             [
              1,
              "#f0f921"
             ]
            ],
            "type": "heatmap"
           }
          ],
          "heatmapgl": [
           {
            "colorbar": {
             "outlinewidth": 0,
             "ticks": ""
            },
            "colorscale": [
             [
              0,
              "#0d0887"
             ],
             [
              0.1111111111111111,
              "#46039f"
             ],
             [
              0.2222222222222222,
              "#7201a8"
             ],
             [
              0.3333333333333333,
              "#9c179e"
             ],
             [
              0.4444444444444444,
              "#bd3786"
             ],
             [
              0.5555555555555556,
              "#d8576b"
             ],
             [
              0.6666666666666666,
              "#ed7953"
             ],
             [
              0.7777777777777778,
              "#fb9f3a"
             ],
             [
              0.8888888888888888,
              "#fdca26"
             ],
             [
              1,
              "#f0f921"
             ]
            ],
            "type": "heatmapgl"
           }
          ],
          "histogram": [
           {
            "marker": {
             "pattern": {
              "fillmode": "overlay",
              "size": 10,
              "solidity": 0.2
             }
            },
            "type": "histogram"
           }
          ],
          "histogram2d": [
           {
            "colorbar": {
             "outlinewidth": 0,
             "ticks": ""
            },
            "colorscale": [
             [
              0,
              "#0d0887"
             ],
             [
              0.1111111111111111,
              "#46039f"
             ],
             [
              0.2222222222222222,
              "#7201a8"
             ],
             [
              0.3333333333333333,
              "#9c179e"
             ],
             [
              0.4444444444444444,
              "#bd3786"
             ],
             [
              0.5555555555555556,
              "#d8576b"
             ],
             [
              0.6666666666666666,
              "#ed7953"
             ],
             [
              0.7777777777777778,
              "#fb9f3a"
             ],
             [
              0.8888888888888888,
              "#fdca26"
             ],
             [
              1,
              "#f0f921"
             ]
            ],
            "type": "histogram2d"
           }
          ],
          "histogram2dcontour": [
           {
            "colorbar": {
             "outlinewidth": 0,
             "ticks": ""
            },
            "colorscale": [
             [
              0,
              "#0d0887"
             ],
             [
              0.1111111111111111,
              "#46039f"
             ],
             [
              0.2222222222222222,
              "#7201a8"
             ],
             [
              0.3333333333333333,
              "#9c179e"
             ],
             [
              0.4444444444444444,
              "#bd3786"
             ],
             [
              0.5555555555555556,
              "#d8576b"
             ],
             [
              0.6666666666666666,
              "#ed7953"
             ],
             [
              0.7777777777777778,
              "#fb9f3a"
             ],
             [
              0.8888888888888888,
              "#fdca26"
             ],
             [
              1,
              "#f0f921"
             ]
            ],
            "type": "histogram2dcontour"
           }
          ],
          "mesh3d": [
           {
            "colorbar": {
             "outlinewidth": 0,
             "ticks": ""
            },
            "type": "mesh3d"
           }
          ],
          "parcoords": [
           {
            "line": {
             "colorbar": {
              "outlinewidth": 0,
              "ticks": ""
             }
            },
            "type": "parcoords"
           }
          ],
          "pie": [
           {
            "automargin": true,
            "type": "pie"
           }
          ],
          "scatter": [
           {
            "fillpattern": {
             "fillmode": "overlay",
             "size": 10,
             "solidity": 0.2
            },
            "type": "scatter"
           }
          ],
          "scatter3d": [
           {
            "line": {
             "colorbar": {
              "outlinewidth": 0,
              "ticks": ""
             }
            },
            "marker": {
             "colorbar": {
              "outlinewidth": 0,
              "ticks": ""
             }
            },
            "type": "scatter3d"
           }
          ],
          "scattercarpet": [
           {
            "marker": {
             "colorbar": {
              "outlinewidth": 0,
              "ticks": ""
             }
            },
            "type": "scattercarpet"
           }
          ],
          "scattergeo": [
           {
            "marker": {
             "colorbar": {
              "outlinewidth": 0,
              "ticks": ""
             }
            },
            "type": "scattergeo"
           }
          ],
          "scattergl": [
           {
            "marker": {
             "colorbar": {
              "outlinewidth": 0,
              "ticks": ""
             }
            },
            "type": "scattergl"
           }
          ],
          "scattermapbox": [
           {
            "marker": {
             "colorbar": {
              "outlinewidth": 0,
              "ticks": ""
             }
            },
            "type": "scattermapbox"
           }
          ],
          "scatterpolar": [
           {
            "marker": {
             "colorbar": {
              "outlinewidth": 0,
              "ticks": ""
             }
            },
            "type": "scatterpolar"
           }
          ],
          "scatterpolargl": [
           {
            "marker": {
             "colorbar": {
              "outlinewidth": 0,
              "ticks": ""
             }
            },
            "type": "scatterpolargl"
           }
          ],
          "scatterternary": [
           {
            "marker": {
             "colorbar": {
              "outlinewidth": 0,
              "ticks": ""
             }
            },
            "type": "scatterternary"
           }
          ],
          "surface": [
           {
            "colorbar": {
             "outlinewidth": 0,
             "ticks": ""
            },
            "colorscale": [
             [
              0,
              "#0d0887"
             ],
             [
              0.1111111111111111,
              "#46039f"
             ],
             [
              0.2222222222222222,
              "#7201a8"
             ],
             [
              0.3333333333333333,
              "#9c179e"
             ],
             [
              0.4444444444444444,
              "#bd3786"
             ],
             [
              0.5555555555555556,
              "#d8576b"
             ],
             [
              0.6666666666666666,
              "#ed7953"
             ],
             [
              0.7777777777777778,
              "#fb9f3a"
             ],
             [
              0.8888888888888888,
              "#fdca26"
             ],
             [
              1,
              "#f0f921"
             ]
            ],
            "type": "surface"
           }
          ],
          "table": [
           {
            "cells": {
             "fill": {
              "color": "#EBF0F8"
             },
             "line": {
              "color": "white"
             }
            },
            "header": {
             "fill": {
              "color": "#C8D4E3"
             },
             "line": {
              "color": "white"
             }
            },
            "type": "table"
           }
          ]
         },
         "layout": {
          "annotationdefaults": {
           "arrowcolor": "#2a3f5f",
           "arrowhead": 0,
           "arrowwidth": 1
          },
          "autotypenumbers": "strict",
          "coloraxis": {
           "colorbar": {
            "outlinewidth": 0,
            "ticks": ""
           }
          },
          "colorscale": {
           "diverging": [
            [
             0,
             "#8e0152"
            ],
            [
             0.1,
             "#c51b7d"
            ],
            [
             0.2,
             "#de77ae"
            ],
            [
             0.3,
             "#f1b6da"
            ],
            [
             0.4,
             "#fde0ef"
            ],
            [
             0.5,
             "#f7f7f7"
            ],
            [
             0.6,
             "#e6f5d0"
            ],
            [
             0.7,
             "#b8e186"
            ],
            [
             0.8,
             "#7fbc41"
            ],
            [
             0.9,
             "#4d9221"
            ],
            [
             1,
             "#276419"
            ]
           ],
           "sequential": [
            [
             0,
             "#0d0887"
            ],
            [
             0.1111111111111111,
             "#46039f"
            ],
            [
             0.2222222222222222,
             "#7201a8"
            ],
            [
             0.3333333333333333,
             "#9c179e"
            ],
            [
             0.4444444444444444,
             "#bd3786"
            ],
            [
             0.5555555555555556,
             "#d8576b"
            ],
            [
             0.6666666666666666,
             "#ed7953"
            ],
            [
             0.7777777777777778,
             "#fb9f3a"
            ],
            [
             0.8888888888888888,
             "#fdca26"
            ],
            [
             1,
             "#f0f921"
            ]
           ],
           "sequentialminus": [
            [
             0,
             "#0d0887"
            ],
            [
             0.1111111111111111,
             "#46039f"
            ],
            [
             0.2222222222222222,
             "#7201a8"
            ],
            [
             0.3333333333333333,
             "#9c179e"
            ],
            [
             0.4444444444444444,
             "#bd3786"
            ],
            [
             0.5555555555555556,
             "#d8576b"
            ],
            [
             0.6666666666666666,
             "#ed7953"
            ],
            [
             0.7777777777777778,
             "#fb9f3a"
            ],
            [
             0.8888888888888888,
             "#fdca26"
            ],
            [
             1,
             "#f0f921"
            ]
           ]
          },
          "colorway": [
           "#636efa",
           "#EF553B",
           "#00cc96",
           "#ab63fa",
           "#FFA15A",
           "#19d3f3",
           "#FF6692",
           "#B6E880",
           "#FF97FF",
           "#FECB52"
          ],
          "font": {
           "color": "#2a3f5f"
          },
          "geo": {
           "bgcolor": "white",
           "lakecolor": "white",
           "landcolor": "white",
           "showlakes": true,
           "showland": true,
           "subunitcolor": "#C8D4E3"
          },
          "hoverlabel": {
           "align": "left"
          },
          "hovermode": "closest",
          "mapbox": {
           "style": "light"
          },
          "paper_bgcolor": "white",
          "plot_bgcolor": "white",
          "polar": {
           "angularaxis": {
            "gridcolor": "#EBF0F8",
            "linecolor": "#EBF0F8",
            "ticks": ""
           },
           "bgcolor": "white",
           "radialaxis": {
            "gridcolor": "#EBF0F8",
            "linecolor": "#EBF0F8",
            "ticks": ""
           }
          },
          "scene": {
           "xaxis": {
            "backgroundcolor": "white",
            "gridcolor": "#DFE8F3",
            "gridwidth": 2,
            "linecolor": "#EBF0F8",
            "showbackground": true,
            "ticks": "",
            "zerolinecolor": "#EBF0F8"
           },
           "yaxis": {
            "backgroundcolor": "white",
            "gridcolor": "#DFE8F3",
            "gridwidth": 2,
            "linecolor": "#EBF0F8",
            "showbackground": true,
            "ticks": "",
            "zerolinecolor": "#EBF0F8"
           },
           "zaxis": {
            "backgroundcolor": "white",
            "gridcolor": "#DFE8F3",
            "gridwidth": 2,
            "linecolor": "#EBF0F8",
            "showbackground": true,
            "ticks": "",
            "zerolinecolor": "#EBF0F8"
           }
          },
          "shapedefaults": {
           "line": {
            "color": "#2a3f5f"
           }
          },
          "ternary": {
           "aaxis": {
            "gridcolor": "#DFE8F3",
            "linecolor": "#A2B1C6",
            "ticks": ""
           },
           "baxis": {
            "gridcolor": "#DFE8F3",
            "linecolor": "#A2B1C6",
            "ticks": ""
           },
           "bgcolor": "white",
           "caxis": {
            "gridcolor": "#DFE8F3",
            "linecolor": "#A2B1C6",
            "ticks": ""
           }
          },
          "title": {
           "x": 0.05
          },
          "xaxis": {
           "automargin": true,
           "gridcolor": "#EBF0F8",
           "linecolor": "#EBF0F8",
           "ticks": "",
           "title": {
            "standoff": 15
           },
           "zerolinecolor": "#EBF0F8",
           "zerolinewidth": 2
          },
          "yaxis": {
           "automargin": true,
           "gridcolor": "#EBF0F8",
           "linecolor": "#EBF0F8",
           "ticks": "",
           "title": {
            "standoff": 15
           },
           "zerolinecolor": "#EBF0F8",
           "zerolinewidth": 2
          }
         }
        },
        "title": {
         "font": {
          "size": 25
         },
         "text": "Red Noise",
         "x": 0.5,
         "xanchor": "center",
         "yanchor": "top"
        },
        "width": 900,
        "xaxis": {
         "anchor": "y",
         "domain": [
          0,
          1
         ],
         "title": {
          "font": {
           "size": 12
          },
          "text": "Time"
         }
        },
        "yaxis": {
         "anchor": "x",
         "domain": [
          0,
          1
         ],
         "title": {
          "font": {
           "size": 12
          },
          "text": "Value"
         }
        }
       }
      }
     },
     "metadata": {},
     "output_type": "display_data"
    }
   ],
   "source": [
    "# Setting the correlation coefficent\n",
    "r=0.9\n",
    "\n",
    "# Generate the time axis\n",
    "time = np.arange(200)\n",
    "\n",
    "# Generate white noise\n",
    "white_noise = np.random.randn(200)*100\n",
    "\n",
    "# Create Red noise by introducing correlation between sebsequent values in the white noise\n",
    "values = np.zeros(200)\n",
    "for i,v in enumerate(white_noise): # i is for number of vector, v is for value of vector\n",
    "    if i==0:\n",
    "        values[i]=v\n",
    "    else:\n",
    "        values[i]=r*values[i-1]+np.sqrt(1-r**2)*white_noise[i-1]\n",
    "        \n",
    "plot_time_series(time, values,'Red Noise')"
   ]
  },
  {
   "cell_type": "markdown",
   "metadata": {},
   "source": [
    "----\n",
    "\n",
    "# Cyclical or seasonal signals"
   ]
  },
  {
   "cell_type": "code",
   "execution_count": 79,
   "metadata": {},
   "outputs": [],
   "source": [
    "#Sinusoidal Signal with Amplitude=1.5 & Frequency=0.25\n",
    "signal_1 =ts.signals.Sinusoidal(amplitude=1.5, frequency=0.25)\n",
    "#Sinusoidal Signal with Amplitude=1 & Frequency=0. 5\n",
    "signal_2 = ts.signals.Sinusoidal(amplitude=1, frequency=0.5)"
   ]
  },
  {
   "cell_type": "code",
   "execution_count": 80,
   "metadata": {},
   "outputs": [],
   "source": [
    "white_noise = ts.noise.GaussianNoise(std=0.9)"
   ]
  },
  {
   "cell_type": "code",
   "execution_count": 81,
   "metadata": {},
   "outputs": [
    {
     "data": {
      "application/vnd.plotly.v1+json": {
       "config": {
        "plotlyServerURL": "https://plot.ly"
       },
       "data": [
        {
         "hovertemplate": "ts=Amplitude = 1.5 | Frequency = 0.25<br>Time=%{x}<br>Value=%{y}<extra></extra>",
         "legendgroup": "Amplitude = 1.5 | Frequency = 0.25",
         "line": {
          "color": "#636efa",
          "dash": "solid"
         },
         "marker": {
          "symbol": "circle"
         },
         "mode": "lines",
         "name": "Amplitude = 1.5 | Frequency = 0.25",
         "orientation": "v",
         "showlegend": true,
         "type": "scatter",
         "x": [
          0,
          0.10050251256281408,
          0.20100502512562815,
          0.30150753768844224,
          0.4020100502512563,
          0.5025125628140704,
          0.6030150753768845,
          0.7035175879396985,
          0.8040201005025126,
          0.9045226130653267,
          1.0050251256281408,
          1.105527638190955,
          1.206030150753769,
          1.306532663316583,
          1.407035175879397,
          1.5075376884422111,
          1.6080402010050252,
          1.7085427135678393,
          1.8090452261306533,
          1.9095477386934674,
          2.0100502512562817,
          2.1105527638190957,
          2.21105527638191,
          2.311557788944724,
          2.412060301507538,
          2.512562814070352,
          2.613065326633166,
          2.71356783919598,
          2.814070351758794,
          2.9145728643216082,
          3.0150753768844223,
          3.1155778894472363,
          3.2160804020100504,
          3.3165829145728645,
          3.4170854271356785,
          3.5175879396984926,
          3.6180904522613067,
          3.7185929648241207,
          3.819095477386935,
          3.919597989949749,
          4.020100502512563,
          4.120603015075377,
          4.2211055276381915,
          4.3216080402010055,
          4.42211055276382,
          4.522613065326634,
          4.623115577889448,
          4.723618090452262,
          4.824120603015076,
          4.92462311557789,
          5.025125628140704,
          5.125628140703518,
          5.226130653266332,
          5.326633165829146,
          5.42713567839196,
          5.527638190954774,
          5.628140703517588,
          5.728643216080402,
          5.8291457286432165,
          5.9296482412060305,
          6.030150753768845,
          6.130653266331659,
          6.231155778894473,
          6.331658291457287,
          6.432160804020101,
          6.532663316582915,
          6.633165829145729,
          6.733668341708543,
          6.834170854271357,
          6.934673366834171,
          7.035175879396985,
          7.135678391959799,
          7.236180904522613,
          7.336683417085427,
          7.437185929648241,
          7.5376884422110555,
          7.63819095477387,
          7.738693467336684,
          7.839195979899498,
          7.939698492462312,
          8.040201005025127,
          8.14070351758794,
          8.241206030150755,
          8.341708542713569,
          8.442211055276383,
          8.542713567839197,
          8.643216080402011,
          8.743718592964825,
          8.84422110552764,
          8.944723618090453,
          9.045226130653267,
          9.145728643216081,
          9.246231155778895,
          9.34673366834171,
          9.447236180904524,
          9.547738693467338,
          9.648241206030152,
          9.748743718592966,
          9.84924623115578,
          9.949748743718594,
          10.050251256281408,
          10.150753768844222,
          10.251256281407036,
          10.35175879396985,
          10.452261306532664,
          10.552763819095478,
          10.653266331658292,
          10.753768844221106,
          10.85427135678392,
          10.954773869346734,
          11.055276381909549,
          11.155778894472363,
          11.256281407035177,
          11.35678391959799,
          11.457286432160805,
          11.557788944723619,
          11.658291457286433,
          11.758793969849247,
          11.859296482412061,
          11.959798994974875,
          12.06030150753769,
          12.160804020100503,
          12.261306532663317,
          12.361809045226131,
          12.462311557788945,
          12.56281407035176,
          12.663316582914574,
          12.763819095477388,
          12.864321608040202,
          12.964824120603016,
          13.06532663316583,
          13.165829145728644,
          13.266331658291458,
          13.366834170854272,
          13.467336683417086,
          13.5678391959799,
          13.668341708542714,
          13.768844221105528,
          13.869346733668342,
          13.969849246231156,
          14.07035175879397,
          14.170854271356784,
          14.271356783919598,
          14.371859296482413,
          14.472361809045227,
          14.57286432160804,
          14.673366834170855,
          14.773869346733669,
          14.874371859296483,
          14.974874371859297,
          15.075376884422111,
          15.175879396984925,
          15.27638190954774,
          15.376884422110553,
          15.477386934673367,
          15.577889447236181,
          15.678391959798995,
          15.77889447236181,
          15.879396984924623,
          15.979899497487438,
          16.080402010050253,
          16.180904522613066,
          16.28140703517588,
          16.381909547738694,
          16.48241206030151,
          16.582914572864322,
          16.683417085427138,
          16.78391959798995,
          16.884422110552766,
          16.984924623115578,
          17.085427135678394,
          17.185929648241206,
          17.286432160804022,
          17.386934673366834,
          17.48743718592965,
          17.587939698492463,
          17.68844221105528,
          17.78894472361809,
          17.889447236180906,
          17.98994974874372,
          18.090452261306535,
          18.190954773869347,
          18.291457286432163,
          18.391959798994975,
          18.49246231155779,
          18.592964824120603,
          18.69346733668342,
          18.79396984924623,
          18.894472361809047,
          18.99497487437186,
          19.095477386934675,
          19.195979899497488,
          19.296482412060303,
          19.396984924623116,
          19.49748743718593,
          19.597989949748744,
          19.69849246231156,
          19.798994974874372,
          19.899497487437188,
          20
         ],
         "xaxis": "x",
         "y": [
          1.2729908483477417,
          -1.6675375618080874,
          0.499448390904149,
          -0.15031839476683362,
          0.2416795187462235,
          1.7901967850671152,
          0.21011348060102297,
          0.6115212130819997,
          1.9051958654440575,
          1.5193050398321393,
          -0.18532841584046134,
          1.4448579930279575,
          -0.2800274742527369,
          0.6290148919710968,
          2.348852949076205,
          1.1796822675457144,
          1.671147711007214,
          1.014684962868901,
          2.494209850721976,
          0.5810386057501252,
          -0.9142930634485535,
          -0.14317945115840056,
          0.9442070714371116,
          -1.2786067295011783,
          -0.9253452174096594,
          -1.9127293164807395,
          -2.1010474361569176,
          -2.4217033041972265,
          -2.035524813944471,
          -2.2765660958977048,
          -0.9074030871935623,
          -2.04068473422903,
          -0.38535850982295927,
          0.20568624038739292,
          -2.8784434056774018,
          -1.059858971177375,
          0.8952556143223183,
          -0.7909019243169613,
          0.42868044960064544,
          -1.2999216282197594,
          -0.08782609783240794,
          -0.6300787255275548,
          0.7703184794935135,
          0.06296522830603557,
          1.2194878729835659,
          0.8485527720880066,
          3.534724437043776,
          0.898564326243192,
          1.9292833823013997,
          1.1570538797852699,
          2.156378704025018,
          0.29498467824779184,
          0.4466111948375294,
          -0.6809589257576438,
          1.8249854396369556,
          2.084348858866562,
          0.5677712059867828,
          -0.7546109432434513,
          0.2923152302462245,
          0.8427129699935215,
          -0.6214851732775158,
          -0.06150767166983323,
          -1.7111732625137166,
          -0.14236510174737715,
          -2.3517045619947763,
          -1.4137705336783541,
          -1.4394367815644449,
          -0.9309390977380401,
          -3.9206108007264655,
          -2.7793598213956496,
          -1.1171414057487754,
          -2.371542291371898,
          -0.029194898209532028,
          -0.9312817722438138,
          0.133862835012434,
          -2.1288770821079757,
          -0.07262635291052566,
          -1.592306681609908,
          -0.25885203826519376,
          0.03642309205452715,
          -0.36506490508359557,
          0.4648046048351695,
          1.1748623009932708,
          1.3793516541218558,
          1.1922384430040458,
          3.7046465777923414,
          2.058197923422909,
          1.702978758177124,
          0.23482475504114753,
          0.36598320744565416,
          -0.6890841550091036,
          0.6181997349124877,
          2.236513690531729,
          -0.10522975635303355,
          0.4985841677391849,
          0.3105305019408898,
          0.6997765596479194,
          0.31398266213594617,
          -0.054198223693397385,
          -0.42495535820576646,
          1.0948382288492249,
          -0.6753570231004198,
          0.4717867206164641,
          0.5789925464621668,
          -0.5984914244908636,
          -2.1404054690220358,
          -1.3649586734555976,
          -0.8969424432784698,
          -0.9244134620511785,
          -0.47732067588405336,
          -1.1943111904559258,
          -0.8461005621483559,
          -2.183588662294188,
          -0.7964421164994984,
          -1.573460896694666,
          -1.3850304996114724,
          -1.8234588490886647,
          1.3353834680238597,
          -0.23679383750856145,
          -0.7657182344217535,
          0.4641640538734774,
          0.4608917325599666,
          0.9722030635553964,
          1.0461085508856809,
          0.9208022808899261,
          1.9065237168488856,
          1.272956453814044,
          1.6167717080248272,
          2.3306912063635963,
          0.18256140697647338,
          0.7502412989638125,
          0.5672436950049206,
          2.861624821114167,
          -0.054400682451507976,
          0.06271778153572938,
          2.5333160573896243,
          0.04814315537449998,
          -1.4067461426274623,
          -0.08759890760173145,
          0.4535617617674325,
          -1.3722793352512765,
          -0.03195394367548576,
          -2.1810933325635267,
          0.479251836380302,
          -0.8173802210591476,
          -1.0851950100888663,
          -1.0463154049610417,
          -0.036381042163581734,
          -1.6978400566624159,
          -1.931110163895432,
          -0.5372923344266222,
          -2.3793930045047302,
          -3.0572058752721745,
          -1.249309828196761,
          -0.8101170082814446,
          -0.22686500510195506,
          0.1448765555872411,
          -0.514769767899477,
          -0.6434331009873184,
          0.6087949729524947,
          -0.9907014433188727,
          -0.049668924561168504,
          -0.10353747955751325,
          0.524359103644975,
          0.9616310065506246,
          1.0678545356858409,
          2.9374093968851964,
          1.1270449656287804,
          1.3071486691703083,
          3.1223951033193504,
          2.1203201266723424,
          0.8611812082285908,
          2.2490746185749444,
          1.2679036569369628,
          -0.08630068242530253,
          0.2333546519740236,
          1.209359907091905,
          2.542509982677142,
          1.182509607376725,
          0.2595284471969907,
          -0.5628680504184337,
          -0.7013228018823437,
          -0.4552556956928034,
          -0.8741582504936617,
          -2.8001361077736546,
          -2.082869085746607,
          -1.104436648496962,
          -0.9107062158613389,
          -1.154942572245462,
          -1.6532535290214794,
          -3.1107880358199433,
          -0.3637397124345667,
          -2.1723391170211457,
          -1.1363937275862517,
          -0.7418018605868255,
          -0.778458531679614,
          -0.9278352453573238,
          -0.09124480189603923,
          -2.0514421372048783,
          0.8095540655814167
         ],
         "yaxis": "y"
        },
        {
         "hovertemplate": "ts=Amplitude = 1 | Frequency = 0.5<br>Time=%{x}<br>Value=%{y}<extra></extra>",
         "legendgroup": "Amplitude = 1 | Frequency = 0.5",
         "line": {
          "color": "#636efa",
          "dash": "dot"
         },
         "marker": {
          "symbol": "circle"
         },
         "mode": "lines",
         "name": "Amplitude = 1 | Frequency = 0.5",
         "orientation": "v",
         "showlegend": true,
         "type": "scatter",
         "x": [
          0,
          0.10050251256281408,
          0.20100502512562815,
          0.30150753768844224,
          0.4020100502512563,
          0.5025125628140704,
          0.6030150753768845,
          0.7035175879396985,
          0.8040201005025126,
          0.9045226130653267,
          1.0050251256281408,
          1.105527638190955,
          1.206030150753769,
          1.306532663316583,
          1.407035175879397,
          1.5075376884422111,
          1.6080402010050252,
          1.7085427135678393,
          1.8090452261306533,
          1.9095477386934674,
          2.0100502512562817,
          2.1105527638190957,
          2.21105527638191,
          2.311557788944724,
          2.412060301507538,
          2.512562814070352,
          2.613065326633166,
          2.71356783919598,
          2.814070351758794,
          2.9145728643216082,
          3.0150753768844223,
          3.1155778894472363,
          3.2160804020100504,
          3.3165829145728645,
          3.4170854271356785,
          3.5175879396984926,
          3.6180904522613067,
          3.7185929648241207,
          3.819095477386935,
          3.919597989949749,
          4.020100502512563,
          4.120603015075377,
          4.2211055276381915,
          4.3216080402010055,
          4.42211055276382,
          4.522613065326634,
          4.623115577889448,
          4.723618090452262,
          4.824120603015076,
          4.92462311557789,
          5.025125628140704,
          5.125628140703518,
          5.226130653266332,
          5.326633165829146,
          5.42713567839196,
          5.527638190954774,
          5.628140703517588,
          5.728643216080402,
          5.8291457286432165,
          5.9296482412060305,
          6.030150753768845,
          6.130653266331659,
          6.231155778894473,
          6.331658291457287,
          6.432160804020101,
          6.532663316582915,
          6.633165829145729,
          6.733668341708543,
          6.834170854271357,
          6.934673366834171,
          7.035175879396985,
          7.135678391959799,
          7.236180904522613,
          7.336683417085427,
          7.437185929648241,
          7.5376884422110555,
          7.63819095477387,
          7.738693467336684,
          7.839195979899498,
          7.939698492462312,
          8.040201005025127,
          8.14070351758794,
          8.241206030150755,
          8.341708542713569,
          8.442211055276383,
          8.542713567839197,
          8.643216080402011,
          8.743718592964825,
          8.84422110552764,
          8.944723618090453,
          9.045226130653267,
          9.145728643216081,
          9.246231155778895,
          9.34673366834171,
          9.447236180904524,
          9.547738693467338,
          9.648241206030152,
          9.748743718592966,
          9.84924623115578,
          9.949748743718594,
          10.050251256281408,
          10.150753768844222,
          10.251256281407036,
          10.35175879396985,
          10.452261306532664,
          10.552763819095478,
          10.653266331658292,
          10.753768844221106,
          10.85427135678392,
          10.954773869346734,
          11.055276381909549,
          11.155778894472363,
          11.256281407035177,
          11.35678391959799,
          11.457286432160805,
          11.557788944723619,
          11.658291457286433,
          11.758793969849247,
          11.859296482412061,
          11.959798994974875,
          12.06030150753769,
          12.160804020100503,
          12.261306532663317,
          12.361809045226131,
          12.462311557788945,
          12.56281407035176,
          12.663316582914574,
          12.763819095477388,
          12.864321608040202,
          12.964824120603016,
          13.06532663316583,
          13.165829145728644,
          13.266331658291458,
          13.366834170854272,
          13.467336683417086,
          13.5678391959799,
          13.668341708542714,
          13.768844221105528,
          13.869346733668342,
          13.969849246231156,
          14.07035175879397,
          14.170854271356784,
          14.271356783919598,
          14.371859296482413,
          14.472361809045227,
          14.57286432160804,
          14.673366834170855,
          14.773869346733669,
          14.874371859296483,
          14.974874371859297,
          15.075376884422111,
          15.175879396984925,
          15.27638190954774,
          15.376884422110553,
          15.477386934673367,
          15.577889447236181,
          15.678391959798995,
          15.77889447236181,
          15.879396984924623,
          15.979899497487438,
          16.080402010050253,
          16.180904522613066,
          16.28140703517588,
          16.381909547738694,
          16.48241206030151,
          16.582914572864322,
          16.683417085427138,
          16.78391959798995,
          16.884422110552766,
          16.984924623115578,
          17.085427135678394,
          17.185929648241206,
          17.286432160804022,
          17.386934673366834,
          17.48743718592965,
          17.587939698492463,
          17.68844221105528,
          17.78894472361809,
          17.889447236180906,
          17.98994974874372,
          18.090452261306535,
          18.190954773869347,
          18.291457286432163,
          18.391959798994975,
          18.49246231155779,
          18.592964824120603,
          18.69346733668342,
          18.79396984924623,
          18.894472361809047,
          18.99497487437186,
          19.095477386934675,
          19.195979899497488,
          19.296482412060303,
          19.396984924623116,
          19.49748743718593,
          19.597989949748744,
          19.69849246231156,
          19.798994974874372,
          19.899497487437188,
          20
         ],
         "xaxis": "x",
         "y": [
          0,
          0.3105180318741688,
          0.5903366919365284,
          0.8117917024210208,
          0.9529889090158392,
          0.9999688468941563,
          0.9480868435005095,
          0.802472214201578,
          0.5775211524135886,
          0.29547344963467004,
          -0.01578624201363746,
          -0.32548522651021183,
          -0.6030051071796148,
          -0.8209088751292625,
          -0.9576534697159295,
          -0.9997196336934779,
          -0.942948494867437,
          -0.7929527330827786,
          -0.5645616825119181,
          -0.28035522921701433,
          0.03156854976481153,
          0.34037130340411303,
          0.6155232409081793,
          0.829821460135726,
          0.962079363094463,
          0.9992212694012755,
          0.9375751437008252,
          0.7832356315188906,
          0.5514615120031078,
          0.265167138398679,
          -0.04734298997155772,
          -0.3551725526334282,
          -0.6278879733408582,
          -0.8385272362373773,
          -0.9662654861260218,
          -0.9984738782203788,
          -0.9319681291524349,
          -0.773323331215339,
          -0.5382239057242885,
          -0.2499129623703082,
          0.06310563131267564,
          0.3698852854165471,
          0.6400962229271074,
          0.8470240337722991,
          0.9702107955409863,
          0.9974776464163387,
          0.9261288486078411,
          0.7632183025251681,
          0.5248521627644678,
          0.23459650279236804,
          -0.0788525454074772,
          -0.3845058350320115,
          -0.6521449471151859,
          -0.8553097351604123,
          -0.9739143080855376,
          -0.9962328222710066,
          -0.9200587573381748,
          -0.7529230638333764,
          -0.5113496156423272,
          -0.21922157684769017,
          0.0945798077948444,
          0.39903055773234214,
          0.6640311431104309,
          0.863382275431224,
          0.9773751007667072,
          0.9947397160206568,
          0.9137593681374369,
          0.7424401809292821,
          0.4977196294756832,
          0.20379201629015045,
          -0.11028349891127498,
          -0.41345583365213245,
          -0.6757518486236087,
          -0.8712396427384588,
          -0.9805923110824041,
          -0.9929986997786698,
          -0.9072322509454812,
          -0.7317722663670778,
          -0.48396560114283843,
          -0.1883116664897192,
          0.12595970506772153,
          0.42777806771021165,
          0.6873041426091847,
          0.8788798788614615,
          0.9835651372363701,
          0.9910102074427918,
          0.9004790324567513,
          0.7209219788147146,
          0.47009095843600224,
          0.17278438547409689,
          -0.14160451942495256,
          -0.4419936905055816,
          -0.6986851459933072,
          -0.88630107969321,
          -0.9862928383380029,
          -0.9887747345870022,
          -0.8935013957148735,
          -0.7098920223913308,
          -0.4560991592070147,
          -0.1572140429672476,
          0.15721404296725222,
          0.4560991592070157,
          0.709892022391334,
          0.893501395714874,
          0.9887747345870023,
          0.9862928383380021,
          0.8863010796932078,
          0.6986851459933064,
          0.4419936905055806,
          0.14160451942494795,
          -0.17278438547410147,
          -0.47009095843600324,
          -0.7209219788147153,
          -0.9004790324567533,
          -0.9910102074427924,
          -0.9835651372363698,
          -0.8788798788614609,
          -0.6873041426091813,
          -0.4277780677102075,
          -0.12595970506771692,
          0.1883116664897168,
          0.48396560114283627,
          0.7317722663670786,
          0.9072322509454818,
          0.9929986997786695,
          0.9805923110824046,
          0.8712396427384582,
          0.6757518486236079,
          0.41345583365213473,
          0.11028349891127742,
          -0.20379201629015503,
          -0.49771962947568416,
          -0.7424401809292828,
          -0.9137593681374359,
          -0.9947397160206572,
          -0.977375100766707,
          -0.8633822754312235,
          -0.6640311431104328,
          -0.39903055773233786,
          -0.0945798077948433,
          0.21922157684769125,
          0.5113496156423251,
          0.7529230638333747,
          0.9200587573381752,
          0.9962328222710067,
          0.9739143080855381,
          0.8553097351604136,
          0.652144947115185,
          0.3845058350320105,
          0.07885254540747787,
          -0.23459650279236569,
          -0.5248521627644702,
          -0.7632183025251689,
          -0.9261288486078407,
          -0.9974776464163386,
          -0.9702107955409857,
          -0.8470240337722985,
          -0.640096222927108,
          -0.36988528541654936,
          -0.063105631312671,
          0.24991296237031613,
          0.5382239057242879,
          0.7733233312153419,
          0.9319681291524333,
          0.9984738782203789,
          0.966265486126022,
          0.8385272362373748,
          0.6278879733408615,
          0.3551725526334272,
          0.047342989971558384,
          -0.2651671383986835,
          -0.5514615120031042,
          -0.7832356315188913,
          -0.937575143700825,
          -0.9992212694012758,
          -0.9620793630944638,
          -0.8298214601357249,
          -0.6155232409081792,
          -0.3403713034041078,
          -0.03156854976481398,
          0.2803552292170163,
          0.5645616825119182,
          0.792952733082782,
          0.9429484948674359,
          0.999719633693478,
          0.9576534697159295,
          0.8209088751292593,
          0.603005107179617,
          0.3254852265102095,
          0.01578624201363636,
          -0.29547344963467576,
          -0.5775211524135863,
          -0.8024722142015794,
          -0.9480868435005098,
          -0.9999688468941563,
          -0.9529889090158401,
          -0.8117917024210192,
          -0.5903366919365276,
          -0.31051803187416277,
          -2.4492935982947065e-15
         ],
         "yaxis": "y"
        }
       ],
       "layout": {
        "autosize": false,
        "height": 500,
        "legend": {
         "title": {
          "text": "ts"
         },
         "tracegroupgap": 0
        },
        "margin": {
         "t": 60
        },
        "template": {
         "data": {
          "bar": [
           {
            "error_x": {
             "color": "#2a3f5f"
            },
            "error_y": {
             "color": "#2a3f5f"
            },
            "marker": {
             "line": {
              "color": "white",
              "width": 0.5
             },
             "pattern": {
              "fillmode": "overlay",
              "size": 10,
              "solidity": 0.2
             }
            },
            "type": "bar"
           }
          ],
          "barpolar": [
           {
            "marker": {
             "line": {
              "color": "white",
              "width": 0.5
             },
             "pattern": {
              "fillmode": "overlay",
              "size": 10,
              "solidity": 0.2
             }
            },
            "type": "barpolar"
           }
          ],
          "carpet": [
           {
            "aaxis": {
             "endlinecolor": "#2a3f5f",
             "gridcolor": "#C8D4E3",
             "linecolor": "#C8D4E3",
             "minorgridcolor": "#C8D4E3",
             "startlinecolor": "#2a3f5f"
            },
            "baxis": {
             "endlinecolor": "#2a3f5f",
             "gridcolor": "#C8D4E3",
             "linecolor": "#C8D4E3",
             "minorgridcolor": "#C8D4E3",
             "startlinecolor": "#2a3f5f"
            },
            "type": "carpet"
           }
          ],
          "choropleth": [
           {
            "colorbar": {
             "outlinewidth": 0,
             "ticks": ""
            },
            "type": "choropleth"
           }
          ],
          "contour": [
           {
            "colorbar": {
             "outlinewidth": 0,
             "ticks": ""
            },
            "colorscale": [
             [
              0,
              "#0d0887"
             ],
             [
              0.1111111111111111,
              "#46039f"
             ],
             [
              0.2222222222222222,
              "#7201a8"
             ],
             [
              0.3333333333333333,
              "#9c179e"
             ],
             [
              0.4444444444444444,
              "#bd3786"
             ],
             [
              0.5555555555555556,
              "#d8576b"
             ],
             [
              0.6666666666666666,
              "#ed7953"
             ],
             [
              0.7777777777777778,
              "#fb9f3a"
             ],
             [
              0.8888888888888888,
              "#fdca26"
             ],
             [
              1,
              "#f0f921"
             ]
            ],
            "type": "contour"
           }
          ],
          "contourcarpet": [
           {
            "colorbar": {
             "outlinewidth": 0,
             "ticks": ""
            },
            "type": "contourcarpet"
           }
          ],
          "heatmap": [
           {
            "colorbar": {
             "outlinewidth": 0,
             "ticks": ""
            },
            "colorscale": [
             [
              0,
              "#0d0887"
             ],
             [
              0.1111111111111111,
              "#46039f"
             ],
             [
              0.2222222222222222,
              "#7201a8"
             ],
             [
              0.3333333333333333,
              "#9c179e"
             ],
             [
              0.4444444444444444,
              "#bd3786"
             ],
             [
              0.5555555555555556,
              "#d8576b"
             ],
             [
              0.6666666666666666,
              "#ed7953"
             ],
             [
              0.7777777777777778,
              "#fb9f3a"
             ],
             [
              0.8888888888888888,
              "#fdca26"
             ],
             [
              1,
              "#f0f921"
             ]
            ],
            "type": "heatmap"
           }
          ],
          "heatmapgl": [
           {
            "colorbar": {
             "outlinewidth": 0,
             "ticks": ""
            },
            "colorscale": [
             [
              0,
              "#0d0887"
             ],
             [
              0.1111111111111111,
              "#46039f"
             ],
             [
              0.2222222222222222,
              "#7201a8"
             ],
             [
              0.3333333333333333,
              "#9c179e"
             ],
             [
              0.4444444444444444,
              "#bd3786"
             ],
             [
              0.5555555555555556,
              "#d8576b"
             ],
             [
              0.6666666666666666,
              "#ed7953"
             ],
             [
              0.7777777777777778,
              "#fb9f3a"
             ],
             [
              0.8888888888888888,
              "#fdca26"
             ],
             [
              1,
              "#f0f921"
             ]
            ],
            "type": "heatmapgl"
           }
          ],
          "histogram": [
           {
            "marker": {
             "pattern": {
              "fillmode": "overlay",
              "size": 10,
              "solidity": 0.2
             }
            },
            "type": "histogram"
           }
          ],
          "histogram2d": [
           {
            "colorbar": {
             "outlinewidth": 0,
             "ticks": ""
            },
            "colorscale": [
             [
              0,
              "#0d0887"
             ],
             [
              0.1111111111111111,
              "#46039f"
             ],
             [
              0.2222222222222222,
              "#7201a8"
             ],
             [
              0.3333333333333333,
              "#9c179e"
             ],
             [
              0.4444444444444444,
              "#bd3786"
             ],
             [
              0.5555555555555556,
              "#d8576b"
             ],
             [
              0.6666666666666666,
              "#ed7953"
             ],
             [
              0.7777777777777778,
              "#fb9f3a"
             ],
             [
              0.8888888888888888,
              "#fdca26"
             ],
             [
              1,
              "#f0f921"
             ]
            ],
            "type": "histogram2d"
           }
          ],
          "histogram2dcontour": [
           {
            "colorbar": {
             "outlinewidth": 0,
             "ticks": ""
            },
            "colorscale": [
             [
              0,
              "#0d0887"
             ],
             [
              0.1111111111111111,
              "#46039f"
             ],
             [
              0.2222222222222222,
              "#7201a8"
             ],
             [
              0.3333333333333333,
              "#9c179e"
             ],
             [
              0.4444444444444444,
              "#bd3786"
             ],
             [
              0.5555555555555556,
              "#d8576b"
             ],
             [
              0.6666666666666666,
              "#ed7953"
             ],
             [
              0.7777777777777778,
              "#fb9f3a"
             ],
             [
              0.8888888888888888,
              "#fdca26"
             ],
             [
              1,
              "#f0f921"
             ]
            ],
            "type": "histogram2dcontour"
           }
          ],
          "mesh3d": [
           {
            "colorbar": {
             "outlinewidth": 0,
             "ticks": ""
            },
            "type": "mesh3d"
           }
          ],
          "parcoords": [
           {
            "line": {
             "colorbar": {
              "outlinewidth": 0,
              "ticks": ""
             }
            },
            "type": "parcoords"
           }
          ],
          "pie": [
           {
            "automargin": true,
            "type": "pie"
           }
          ],
          "scatter": [
           {
            "fillpattern": {
             "fillmode": "overlay",
             "size": 10,
             "solidity": 0.2
            },
            "type": "scatter"
           }
          ],
          "scatter3d": [
           {
            "line": {
             "colorbar": {
              "outlinewidth": 0,
              "ticks": ""
             }
            },
            "marker": {
             "colorbar": {
              "outlinewidth": 0,
              "ticks": ""
             }
            },
            "type": "scatter3d"
           }
          ],
          "scattercarpet": [
           {
            "marker": {
             "colorbar": {
              "outlinewidth": 0,
              "ticks": ""
             }
            },
            "type": "scattercarpet"
           }
          ],
          "scattergeo": [
           {
            "marker": {
             "colorbar": {
              "outlinewidth": 0,
              "ticks": ""
             }
            },
            "type": "scattergeo"
           }
          ],
          "scattergl": [
           {
            "marker": {
             "colorbar": {
              "outlinewidth": 0,
              "ticks": ""
             }
            },
            "type": "scattergl"
           }
          ],
          "scattermapbox": [
           {
            "marker": {
             "colorbar": {
              "outlinewidth": 0,
              "ticks": ""
             }
            },
            "type": "scattermapbox"
           }
          ],
          "scatterpolar": [
           {
            "marker": {
             "colorbar": {
              "outlinewidth": 0,
              "ticks": ""
             }
            },
            "type": "scatterpolar"
           }
          ],
          "scatterpolargl": [
           {
            "marker": {
             "colorbar": {
              "outlinewidth": 0,
              "ticks": ""
             }
            },
            "type": "scatterpolargl"
           }
          ],
          "scatterternary": [
           {
            "marker": {
             "colorbar": {
              "outlinewidth": 0,
              "ticks": ""
             }
            },
            "type": "scatterternary"
           }
          ],
          "surface": [
           {
            "colorbar": {
             "outlinewidth": 0,
             "ticks": ""
            },
            "colorscale": [
             [
              0,
              "#0d0887"
             ],
             [
              0.1111111111111111,
              "#46039f"
             ],
             [
              0.2222222222222222,
              "#7201a8"
             ],
             [
              0.3333333333333333,
              "#9c179e"
             ],
             [
              0.4444444444444444,
              "#bd3786"
             ],
             [
              0.5555555555555556,
              "#d8576b"
             ],
             [
              0.6666666666666666,
              "#ed7953"
             ],
             [
              0.7777777777777778,
              "#fb9f3a"
             ],
             [
              0.8888888888888888,
              "#fdca26"
             ],
             [
              1,
              "#f0f921"
             ]
            ],
            "type": "surface"
           }
          ],
          "table": [
           {
            "cells": {
             "fill": {
              "color": "#EBF0F8"
             },
             "line": {
              "color": "white"
             }
            },
            "header": {
             "fill": {
              "color": "#C8D4E3"
             },
             "line": {
              "color": "white"
             }
            },
            "type": "table"
           }
          ]
         },
         "layout": {
          "annotationdefaults": {
           "arrowcolor": "#2a3f5f",
           "arrowhead": 0,
           "arrowwidth": 1
          },
          "autotypenumbers": "strict",
          "coloraxis": {
           "colorbar": {
            "outlinewidth": 0,
            "ticks": ""
           }
          },
          "colorscale": {
           "diverging": [
            [
             0,
             "#8e0152"
            ],
            [
             0.1,
             "#c51b7d"
            ],
            [
             0.2,
             "#de77ae"
            ],
            [
             0.3,
             "#f1b6da"
            ],
            [
             0.4,
             "#fde0ef"
            ],
            [
             0.5,
             "#f7f7f7"
            ],
            [
             0.6,
             "#e6f5d0"
            ],
            [
             0.7,
             "#b8e186"
            ],
            [
             0.8,
             "#7fbc41"
            ],
            [
             0.9,
             "#4d9221"
            ],
            [
             1,
             "#276419"
            ]
           ],
           "sequential": [
            [
             0,
             "#0d0887"
            ],
            [
             0.1111111111111111,
             "#46039f"
            ],
            [
             0.2222222222222222,
             "#7201a8"
            ],
            [
             0.3333333333333333,
             "#9c179e"
            ],
            [
             0.4444444444444444,
             "#bd3786"
            ],
            [
             0.5555555555555556,
             "#d8576b"
            ],
            [
             0.6666666666666666,
             "#ed7953"
            ],
            [
             0.7777777777777778,
             "#fb9f3a"
            ],
            [
             0.8888888888888888,
             "#fdca26"
            ],
            [
             1,
             "#f0f921"
            ]
           ],
           "sequentialminus": [
            [
             0,
             "#0d0887"
            ],
            [
             0.1111111111111111,
             "#46039f"
            ],
            [
             0.2222222222222222,
             "#7201a8"
            ],
            [
             0.3333333333333333,
             "#9c179e"
            ],
            [
             0.4444444444444444,
             "#bd3786"
            ],
            [
             0.5555555555555556,
             "#d8576b"
            ],
            [
             0.6666666666666666,
             "#ed7953"
            ],
            [
             0.7777777777777778,
             "#fb9f3a"
            ],
            [
             0.8888888888888888,
             "#fdca26"
            ],
            [
             1,
             "#f0f921"
            ]
           ]
          },
          "colorway": [
           "#636efa",
           "#EF553B",
           "#00cc96",
           "#ab63fa",
           "#FFA15A",
           "#19d3f3",
           "#FF6692",
           "#B6E880",
           "#FF97FF",
           "#FECB52"
          ],
          "font": {
           "color": "#2a3f5f"
          },
          "geo": {
           "bgcolor": "white",
           "lakecolor": "white",
           "landcolor": "white",
           "showlakes": true,
           "showland": true,
           "subunitcolor": "#C8D4E3"
          },
          "hoverlabel": {
           "align": "left"
          },
          "hovermode": "closest",
          "mapbox": {
           "style": "light"
          },
          "paper_bgcolor": "white",
          "plot_bgcolor": "white",
          "polar": {
           "angularaxis": {
            "gridcolor": "#EBF0F8",
            "linecolor": "#EBF0F8",
            "ticks": ""
           },
           "bgcolor": "white",
           "radialaxis": {
            "gridcolor": "#EBF0F8",
            "linecolor": "#EBF0F8",
            "ticks": ""
           }
          },
          "scene": {
           "xaxis": {
            "backgroundcolor": "white",
            "gridcolor": "#DFE8F3",
            "gridwidth": 2,
            "linecolor": "#EBF0F8",
            "showbackground": true,
            "ticks": "",
            "zerolinecolor": "#EBF0F8"
           },
           "yaxis": {
            "backgroundcolor": "white",
            "gridcolor": "#DFE8F3",
            "gridwidth": 2,
            "linecolor": "#EBF0F8",
            "showbackground": true,
            "ticks": "",
            "zerolinecolor": "#EBF0F8"
           },
           "zaxis": {
            "backgroundcolor": "white",
            "gridcolor": "#DFE8F3",
            "gridwidth": 2,
            "linecolor": "#EBF0F8",
            "showbackground": true,
            "ticks": "",
            "zerolinecolor": "#EBF0F8"
           }
          },
          "shapedefaults": {
           "line": {
            "color": "#2a3f5f"
           }
          },
          "ternary": {
           "aaxis": {
            "gridcolor": "#DFE8F3",
            "linecolor": "#A2B1C6",
            "ticks": ""
           },
           "baxis": {
            "gridcolor": "#DFE8F3",
            "linecolor": "#A2B1C6",
            "ticks": ""
           },
           "bgcolor": "white",
           "caxis": {
            "gridcolor": "#DFE8F3",
            "linecolor": "#A2B1C6",
            "ticks": ""
           }
          },
          "title": {
           "x": 0.05
          },
          "xaxis": {
           "automargin": true,
           "gridcolor": "#EBF0F8",
           "linecolor": "#EBF0F8",
           "ticks": "",
           "title": {
            "standoff": 15
           },
           "zerolinecolor": "#EBF0F8",
           "zerolinewidth": 2
          },
          "yaxis": {
           "automargin": true,
           "gridcolor": "#EBF0F8",
           "linecolor": "#EBF0F8",
           "ticks": "",
           "title": {
            "standoff": 15
           },
           "zerolinecolor": "#EBF0F8",
           "zerolinewidth": 2
          }
         }
        },
        "title": {
         "font": {
          "size": 25
         },
         "text": "Sinusoidal Waves",
         "x": 0.5,
         "xanchor": "center",
         "yanchor": "top"
        },
        "width": 900,
        "xaxis": {
         "anchor": "y",
         "domain": [
          0,
          1
         ],
         "title": {
          "font": {
           "size": 12
          },
          "text": "Time"
         }
        },
        "yaxis": {
         "anchor": "x",
         "domain": [
          0,
          1
         ],
         "title": {
          "font": {
           "size": 12
          },
          "text": "Value"
         }
        }
       }
      }
     },
     "metadata": {},
     "output_type": "display_data"
    }
   ],
   "source": [
    "samples_1, regular_time_samples, signals_1, errors_1 = generate_timeseries(signal=signal_1,noise=white_noise)\n",
    "samples_2, regular_time_samples, signals_2, errors_2 = generate_timeseries(signal=signal_2)\n",
    "plot_time_series(regular_time_samples,[samples_1, samples_2],\"Sinusoidal Waves\",legends=[\"Amplitude = 1.5 | Frequency = 0.25\",\n",
    "\"Amplitude = 1 | Frequency = 0.5\"])"
   ]
  },
  {
   "cell_type": "markdown",
   "metadata": {},
   "source": [
    "# Pseudo-periodic \n",
    "\n",
    "`TimeSynth` also has another signal called `PseudoPeriodic`. This is like the `Sinusoidal` class, but the frequency and amplitude itself has some stochasticity. We can see in the following code snippet that this is more realistic than the vanilla sine and cosine waves from the `Sinusoidal` class:"
   ]
  },
  {
   "cell_type": "code",
   "execution_count": 91,
   "metadata": {},
   "outputs": [
    {
     "data": {
      "application/vnd.plotly.v1+json": {
       "config": {
        "plotlyServerURL": "https://plot.ly"
       },
       "data": [
        {
         "hovertemplate": "Time=%{x}<br>Value=%{y}<extra></extra>",
         "legendgroup": "",
         "line": {
          "color": "#636efa",
          "dash": "solid"
         },
         "marker": {
          "symbol": "circle"
         },
         "mode": "lines",
         "name": "",
         "orientation": "v",
         "showlegend": false,
         "type": "scatter",
         "x": [
          0,
          0.10050251256281408,
          0.20100502512562815,
          0.30150753768844224,
          0.4020100502512563,
          0.5025125628140704,
          0.6030150753768845,
          0.7035175879396985,
          0.8040201005025126,
          0.9045226130653267,
          1.0050251256281408,
          1.105527638190955,
          1.206030150753769,
          1.306532663316583,
          1.407035175879397,
          1.5075376884422111,
          1.6080402010050252,
          1.7085427135678393,
          1.8090452261306533,
          1.9095477386934674,
          2.0100502512562817,
          2.1105527638190957,
          2.21105527638191,
          2.311557788944724,
          2.412060301507538,
          2.512562814070352,
          2.613065326633166,
          2.71356783919598,
          2.814070351758794,
          2.9145728643216082,
          3.0150753768844223,
          3.1155778894472363,
          3.2160804020100504,
          3.3165829145728645,
          3.4170854271356785,
          3.5175879396984926,
          3.6180904522613067,
          3.7185929648241207,
          3.819095477386935,
          3.919597989949749,
          4.020100502512563,
          4.120603015075377,
          4.2211055276381915,
          4.3216080402010055,
          4.42211055276382,
          4.522613065326634,
          4.623115577889448,
          4.723618090452262,
          4.824120603015076,
          4.92462311557789,
          5.025125628140704,
          5.125628140703518,
          5.226130653266332,
          5.326633165829146,
          5.42713567839196,
          5.527638190954774,
          5.628140703517588,
          5.728643216080402,
          5.8291457286432165,
          5.9296482412060305,
          6.030150753768845,
          6.130653266331659,
          6.231155778894473,
          6.331658291457287,
          6.432160804020101,
          6.532663316582915,
          6.633165829145729,
          6.733668341708543,
          6.834170854271357,
          6.934673366834171,
          7.035175879396985,
          7.135678391959799,
          7.236180904522613,
          7.336683417085427,
          7.437185929648241,
          7.5376884422110555,
          7.63819095477387,
          7.738693467336684,
          7.839195979899498,
          7.939698492462312,
          8.040201005025127,
          8.14070351758794,
          8.241206030150755,
          8.341708542713569,
          8.442211055276383,
          8.542713567839197,
          8.643216080402011,
          8.743718592964825,
          8.84422110552764,
          8.944723618090453,
          9.045226130653267,
          9.145728643216081,
          9.246231155778895,
          9.34673366834171,
          9.447236180904524,
          9.547738693467338,
          9.648241206030152,
          9.748743718592966,
          9.84924623115578,
          9.949748743718594,
          10.050251256281408,
          10.150753768844222,
          10.251256281407036,
          10.35175879396985,
          10.452261306532664,
          10.552763819095478,
          10.653266331658292,
          10.753768844221106,
          10.85427135678392,
          10.954773869346734,
          11.055276381909549,
          11.155778894472363,
          11.256281407035177,
          11.35678391959799,
          11.457286432160805,
          11.557788944723619,
          11.658291457286433,
          11.758793969849247,
          11.859296482412061,
          11.959798994974875,
          12.06030150753769,
          12.160804020100503,
          12.261306532663317,
          12.361809045226131,
          12.462311557788945,
          12.56281407035176,
          12.663316582914574,
          12.763819095477388,
          12.864321608040202,
          12.964824120603016,
          13.06532663316583,
          13.165829145728644,
          13.266331658291458,
          13.366834170854272,
          13.467336683417086,
          13.5678391959799,
          13.668341708542714,
          13.768844221105528,
          13.869346733668342,
          13.969849246231156,
          14.07035175879397,
          14.170854271356784,
          14.271356783919598,
          14.371859296482413,
          14.472361809045227,
          14.57286432160804,
          14.673366834170855,
          14.773869346733669,
          14.874371859296483,
          14.974874371859297,
          15.075376884422111,
          15.175879396984925,
          15.27638190954774,
          15.376884422110553,
          15.477386934673367,
          15.577889447236181,
          15.678391959798995,
          15.77889447236181,
          15.879396984924623,
          15.979899497487438,
          16.080402010050253,
          16.180904522613066,
          16.28140703517588,
          16.381909547738694,
          16.48241206030151,
          16.582914572864322,
          16.683417085427138,
          16.78391959798995,
          16.884422110552766,
          16.984924623115578,
          17.085427135678394,
          17.185929648241206,
          17.286432160804022,
          17.386934673366834,
          17.48743718592965,
          17.587939698492463,
          17.68844221105528,
          17.78894472361809,
          17.889447236180906,
          17.98994974874372,
          18.090452261306535,
          18.190954773869347,
          18.291457286432163,
          18.391959798994975,
          18.49246231155779,
          18.592964824120603,
          18.69346733668342,
          18.79396984924623,
          18.894472361809047,
          18.99497487437186,
          19.095477386934675,
          19.195979899497488,
          19.296482412060303,
          19.396984924623116,
          19.49748743718593,
          19.597989949748744,
          19.69849246231156,
          19.798994974874372,
          19.899497487437188,
          20
         ],
         "xaxis": "x",
         "y": [
          0,
          0.00268286440522685,
          0.07484351334982596,
          0.03803574575542342,
          0.03650476849912878,
          -0.2039503652522584,
          -0.23301637224856592,
          0.2487232160499452,
          -0.519874798721782,
          0.5026607985001276,
          0.2744836227321917,
          0.003066113255614325,
          0.40095712517515886,
          0.666168932952144,
          0.8169246141114596,
          0.5637223816953784,
          0.1079472738134505,
          -0.8702564237432546,
          0.7192863032927961,
          1.1601082328932775,
          0.7239665039912215,
          0.2938194083106159,
          0.5153912737186754,
          0.7687528850374257,
          0.8680427747073636,
          0.5558918046418752,
          -0.14462162178096305,
          0.2296504811490518,
          0.9316770324850215,
          -0.8025983277983303,
          -0.8465420087995923,
          0.24898631180257197,
          1.1493639162460594,
          0.9828488645034711,
          0.8500115677086127,
          0.7845785084825053,
          1.070448818383565,
          0.9512849880108886,
          -0.5785980377491122,
          -0.8978398403784695,
          0.8360582470025698,
          0.8885324869754503,
          0.9010742905515343,
          0.7732983494973653,
          0.817457156773975,
          0.5655756019316113,
          0.8100914604123892,
          -0.5604819597908909,
          -0.7054932821312251,
          0.8683620671569976,
          0.2113096890954419,
          0.8976508846226632,
          0.8646809158288364,
          0.9557269062238035,
          0.8018620444642109,
          1.0715842938823088,
          -0.2521882865849878,
          -0.07390854502101868,
          0.7114918972204469,
          0.6284341086486671,
          0.685118347923367,
          0.8811703657916636,
          0.17347019326347418,
          0.3318834429029926,
          -0.70807302556286,
          0.09714864865881816,
          -0.4888661333834988,
          0.3683758926617874,
          -0.9342899336461874,
          -1.0345407301970546,
          -0.12303913102651856,
          0.1064672713450855,
          0.7702737771674935,
          0.9151382451182017,
          -0.8134298727581439,
          -0.8758093192485215,
          0.7420297564211071,
          -0.8728340461692592,
          0.37148106307452766,
          0.19190716259016355,
          0.4313005485818448,
          0.42703592777912414,
          0.8880806143608418,
          0.9226261822911507,
          -0.47626704381286167,
          -0.7859526716487742,
          0.7023548074975228,
          0.8990173288970041,
          0.30738828050144107,
          0.3420345444907488,
          0.7815432163943983,
          -1.006545149034899,
          0.8090081451794502,
          0.8655537503158859,
          -1.0170444684320104,
          0.7373309630527538,
          -0.19634308472274883,
          0.3242418953735459,
          0.7074836539863277,
          -0.11966897845391399,
          0.7354443923000716,
          0.9802942668635849,
          0.3918372078843234,
          1.2448568314247528,
          0.7884613318348423,
          -0.7636546357414525,
          -0.5096470543085923,
          0.8848820070386353,
          0.3464871001907912,
          -0.6674150986816211,
          0.938633359758629,
          -0.884054111027216,
          -0.6863669303072355,
          -0.050989880278045026,
          1.0669870627332059,
          -0.8110286288063433,
          -0.6624294450981993,
          0.2817060196984225,
          0.7846988533356226,
          -0.8890471340180224,
          -0.53967436821864,
          0.6775242570524113,
          0.2843763310225345,
          1.1609169993245043,
          -0.8369892901310447,
          -0.17299879863910586,
          -0.9761265350649412,
          0.9357363981131431,
          0.09289409935028249,
          -0.22855934328266028,
          0.9376569443047422,
          -0.8042900280518093,
          -0.9647284090686775,
          -0.5245292504180878,
          0.3592766682486779,
          0.9823719089112078,
          -0.28643133373144253,
          1.0229691590269492,
          -0.8960355485092464,
          -0.9936533728438905,
          0.5960520699372684,
          1.2515033949259418,
          -0.9483755878622002,
          0.6586330923759455,
          0.860613715818454,
          1.1760891628426549,
          -0.7402015953550888,
          -0.06385650938316187,
          0.22163523303951135,
          0.7235541288141005,
          -0.83414685976051,
          -0.9832246547405725,
          -0.9933686523779777,
          -0.9427707839054901,
          -0.06571018361319284,
          -0.8055764511345657,
          0.9325415606711897,
          -0.46805153095632546,
          -1.061506923690647,
          0.3259775533506847,
          -0.4245572973325386,
          -0.9003167602719307,
          0.018695876063843767,
          0.1574869954226037,
          1.1157057239627002,
          -0.9994272298796152,
          -0.9896913933596654,
          0.3693157520569852,
          0.22283084493114394,
          -0.2018292786140246,
          -0.39338571132875294,
          0.9860865933964539,
          0.8343598244808427,
          -0.42934303309529565,
          -0.8018964805987451,
          0.7086775393395027,
          -0.12246306288111908,
          0.6009464169107182,
          -1.0992822466152459,
          0.9819862230504844,
          0.8032314452228345,
          -0.8961208247285112,
          -0.6640963121230765,
          -0.856861503518881,
          -1.0858201417331421,
          -0.830806740525513,
          0.998156812267857,
          0.5390238147540779,
          -0.4965159511562497,
          0.9833354456520594,
          1.0282614737562488,
          0.4299542907066863,
          0.7467534571948004,
          0.45707006905828185,
          -0.4758618807708982,
          0.6383596919450287,
          -0.377147632130583,
          1.0547147638062302,
          -0.40284247955462915,
          -0.8052971455338793
         ],
         "yaxis": "y"
        }
       ],
       "layout": {
        "autosize": false,
        "height": 500,
        "legend": {
         "tracegroupgap": 0
        },
        "margin": {
         "t": 60
        },
        "template": {
         "data": {
          "bar": [
           {
            "error_x": {
             "color": "#2a3f5f"
            },
            "error_y": {
             "color": "#2a3f5f"
            },
            "marker": {
             "line": {
              "color": "white",
              "width": 0.5
             },
             "pattern": {
              "fillmode": "overlay",
              "size": 10,
              "solidity": 0.2
             }
            },
            "type": "bar"
           }
          ],
          "barpolar": [
           {
            "marker": {
             "line": {
              "color": "white",
              "width": 0.5
             },
             "pattern": {
              "fillmode": "overlay",
              "size": 10,
              "solidity": 0.2
             }
            },
            "type": "barpolar"
           }
          ],
          "carpet": [
           {
            "aaxis": {
             "endlinecolor": "#2a3f5f",
             "gridcolor": "#C8D4E3",
             "linecolor": "#C8D4E3",
             "minorgridcolor": "#C8D4E3",
             "startlinecolor": "#2a3f5f"
            },
            "baxis": {
             "endlinecolor": "#2a3f5f",
             "gridcolor": "#C8D4E3",
             "linecolor": "#C8D4E3",
             "minorgridcolor": "#C8D4E3",
             "startlinecolor": "#2a3f5f"
            },
            "type": "carpet"
           }
          ],
          "choropleth": [
           {
            "colorbar": {
             "outlinewidth": 0,
             "ticks": ""
            },
            "type": "choropleth"
           }
          ],
          "contour": [
           {
            "colorbar": {
             "outlinewidth": 0,
             "ticks": ""
            },
            "colorscale": [
             [
              0,
              "#0d0887"
             ],
             [
              0.1111111111111111,
              "#46039f"
             ],
             [
              0.2222222222222222,
              "#7201a8"
             ],
             [
              0.3333333333333333,
              "#9c179e"
             ],
             [
              0.4444444444444444,
              "#bd3786"
             ],
             [
              0.5555555555555556,
              "#d8576b"
             ],
             [
              0.6666666666666666,
              "#ed7953"
             ],
             [
              0.7777777777777778,
              "#fb9f3a"
             ],
             [
              0.8888888888888888,
              "#fdca26"
             ],
             [
              1,
              "#f0f921"
             ]
            ],
            "type": "contour"
           }
          ],
          "contourcarpet": [
           {
            "colorbar": {
             "outlinewidth": 0,
             "ticks": ""
            },
            "type": "contourcarpet"
           }
          ],
          "heatmap": [
           {
            "colorbar": {
             "outlinewidth": 0,
             "ticks": ""
            },
            "colorscale": [
             [
              0,
              "#0d0887"
             ],
             [
              0.1111111111111111,
              "#46039f"
             ],
             [
              0.2222222222222222,
              "#7201a8"
             ],
             [
              0.3333333333333333,
              "#9c179e"
             ],
             [
              0.4444444444444444,
              "#bd3786"
             ],
             [
              0.5555555555555556,
              "#d8576b"
             ],
             [
              0.6666666666666666,
              "#ed7953"
             ],
             [
              0.7777777777777778,
              "#fb9f3a"
             ],
             [
              0.8888888888888888,
              "#fdca26"
             ],
             [
              1,
              "#f0f921"
             ]
            ],
            "type": "heatmap"
           }
          ],
          "heatmapgl": [
           {
            "colorbar": {
             "outlinewidth": 0,
             "ticks": ""
            },
            "colorscale": [
             [
              0,
              "#0d0887"
             ],
             [
              0.1111111111111111,
              "#46039f"
             ],
             [
              0.2222222222222222,
              "#7201a8"
             ],
             [
              0.3333333333333333,
              "#9c179e"
             ],
             [
              0.4444444444444444,
              "#bd3786"
             ],
             [
              0.5555555555555556,
              "#d8576b"
             ],
             [
              0.6666666666666666,
              "#ed7953"
             ],
             [
              0.7777777777777778,
              "#fb9f3a"
             ],
             [
              0.8888888888888888,
              "#fdca26"
             ],
             [
              1,
              "#f0f921"
             ]
            ],
            "type": "heatmapgl"
           }
          ],
          "histogram": [
           {
            "marker": {
             "pattern": {
              "fillmode": "overlay",
              "size": 10,
              "solidity": 0.2
             }
            },
            "type": "histogram"
           }
          ],
          "histogram2d": [
           {
            "colorbar": {
             "outlinewidth": 0,
             "ticks": ""
            },
            "colorscale": [
             [
              0,
              "#0d0887"
             ],
             [
              0.1111111111111111,
              "#46039f"
             ],
             [
              0.2222222222222222,
              "#7201a8"
             ],
             [
              0.3333333333333333,
              "#9c179e"
             ],
             [
              0.4444444444444444,
              "#bd3786"
             ],
             [
              0.5555555555555556,
              "#d8576b"
             ],
             [
              0.6666666666666666,
              "#ed7953"
             ],
             [
              0.7777777777777778,
              "#fb9f3a"
             ],
             [
              0.8888888888888888,
              "#fdca26"
             ],
             [
              1,
              "#f0f921"
             ]
            ],
            "type": "histogram2d"
           }
          ],
          "histogram2dcontour": [
           {
            "colorbar": {
             "outlinewidth": 0,
             "ticks": ""
            },
            "colorscale": [
             [
              0,
              "#0d0887"
             ],
             [
              0.1111111111111111,
              "#46039f"
             ],
             [
              0.2222222222222222,
              "#7201a8"
             ],
             [
              0.3333333333333333,
              "#9c179e"
             ],
             [
              0.4444444444444444,
              "#bd3786"
             ],
             [
              0.5555555555555556,
              "#d8576b"
             ],
             [
              0.6666666666666666,
              "#ed7953"
             ],
             [
              0.7777777777777778,
              "#fb9f3a"
             ],
             [
              0.8888888888888888,
              "#fdca26"
             ],
             [
              1,
              "#f0f921"
             ]
            ],
            "type": "histogram2dcontour"
           }
          ],
          "mesh3d": [
           {
            "colorbar": {
             "outlinewidth": 0,
             "ticks": ""
            },
            "type": "mesh3d"
           }
          ],
          "parcoords": [
           {
            "line": {
             "colorbar": {
              "outlinewidth": 0,
              "ticks": ""
             }
            },
            "type": "parcoords"
           }
          ],
          "pie": [
           {
            "automargin": true,
            "type": "pie"
           }
          ],
          "scatter": [
           {
            "fillpattern": {
             "fillmode": "overlay",
             "size": 10,
             "solidity": 0.2
            },
            "type": "scatter"
           }
          ],
          "scatter3d": [
           {
            "line": {
             "colorbar": {
              "outlinewidth": 0,
              "ticks": ""
             }
            },
            "marker": {
             "colorbar": {
              "outlinewidth": 0,
              "ticks": ""
             }
            },
            "type": "scatter3d"
           }
          ],
          "scattercarpet": [
           {
            "marker": {
             "colorbar": {
              "outlinewidth": 0,
              "ticks": ""
             }
            },
            "type": "scattercarpet"
           }
          ],
          "scattergeo": [
           {
            "marker": {
             "colorbar": {
              "outlinewidth": 0,
              "ticks": ""
             }
            },
            "type": "scattergeo"
           }
          ],
          "scattergl": [
           {
            "marker": {
             "colorbar": {
              "outlinewidth": 0,
              "ticks": ""
             }
            },
            "type": "scattergl"
           }
          ],
          "scattermapbox": [
           {
            "marker": {
             "colorbar": {
              "outlinewidth": 0,
              "ticks": ""
             }
            },
            "type": "scattermapbox"
           }
          ],
          "scatterpolar": [
           {
            "marker": {
             "colorbar": {
              "outlinewidth": 0,
              "ticks": ""
             }
            },
            "type": "scatterpolar"
           }
          ],
          "scatterpolargl": [
           {
            "marker": {
             "colorbar": {
              "outlinewidth": 0,
              "ticks": ""
             }
            },
            "type": "scatterpolargl"
           }
          ],
          "scatterternary": [
           {
            "marker": {
             "colorbar": {
              "outlinewidth": 0,
              "ticks": ""
             }
            },
            "type": "scatterternary"
           }
          ],
          "surface": [
           {
            "colorbar": {
             "outlinewidth": 0,
             "ticks": ""
            },
            "colorscale": [
             [
              0,
              "#0d0887"
             ],
             [
              0.1111111111111111,
              "#46039f"
             ],
             [
              0.2222222222222222,
              "#7201a8"
             ],
             [
              0.3333333333333333,
              "#9c179e"
             ],
             [
              0.4444444444444444,
              "#bd3786"
             ],
             [
              0.5555555555555556,
              "#d8576b"
             ],
             [
              0.6666666666666666,
              "#ed7953"
             ],
             [
              0.7777777777777778,
              "#fb9f3a"
             ],
             [
              0.8888888888888888,
              "#fdca26"
             ],
             [
              1,
              "#f0f921"
             ]
            ],
            "type": "surface"
           }
          ],
          "table": [
           {
            "cells": {
             "fill": {
              "color": "#EBF0F8"
             },
             "line": {
              "color": "white"
             }
            },
            "header": {
             "fill": {
              "color": "#C8D4E3"
             },
             "line": {
              "color": "white"
             }
            },
            "type": "table"
           }
          ]
         },
         "layout": {
          "annotationdefaults": {
           "arrowcolor": "#2a3f5f",
           "arrowhead": 0,
           "arrowwidth": 1
          },
          "autotypenumbers": "strict",
          "coloraxis": {
           "colorbar": {
            "outlinewidth": 0,
            "ticks": ""
           }
          },
          "colorscale": {
           "diverging": [
            [
             0,
             "#8e0152"
            ],
            [
             0.1,
             "#c51b7d"
            ],
            [
             0.2,
             "#de77ae"
            ],
            [
             0.3,
             "#f1b6da"
            ],
            [
             0.4,
             "#fde0ef"
            ],
            [
             0.5,
             "#f7f7f7"
            ],
            [
             0.6,
             "#e6f5d0"
            ],
            [
             0.7,
             "#b8e186"
            ],
            [
             0.8,
             "#7fbc41"
            ],
            [
             0.9,
             "#4d9221"
            ],
            [
             1,
             "#276419"
            ]
           ],
           "sequential": [
            [
             0,
             "#0d0887"
            ],
            [
             0.1111111111111111,
             "#46039f"
            ],
            [
             0.2222222222222222,
             "#7201a8"
            ],
            [
             0.3333333333333333,
             "#9c179e"
            ],
            [
             0.4444444444444444,
             "#bd3786"
            ],
            [
             0.5555555555555556,
             "#d8576b"
            ],
            [
             0.6666666666666666,
             "#ed7953"
            ],
            [
             0.7777777777777778,
             "#fb9f3a"
            ],
            [
             0.8888888888888888,
             "#fdca26"
            ],
            [
             1,
             "#f0f921"
            ]
           ],
           "sequentialminus": [
            [
             0,
             "#0d0887"
            ],
            [
             0.1111111111111111,
             "#46039f"
            ],
            [
             0.2222222222222222,
             "#7201a8"
            ],
            [
             0.3333333333333333,
             "#9c179e"
            ],
            [
             0.4444444444444444,
             "#bd3786"
            ],
            [
             0.5555555555555556,
             "#d8576b"
            ],
            [
             0.6666666666666666,
             "#ed7953"
            ],
            [
             0.7777777777777778,
             "#fb9f3a"
            ],
            [
             0.8888888888888888,
             "#fdca26"
            ],
            [
             1,
             "#f0f921"
            ]
           ]
          },
          "colorway": [
           "#636efa",
           "#EF553B",
           "#00cc96",
           "#ab63fa",
           "#FFA15A",
           "#19d3f3",
           "#FF6692",
           "#B6E880",
           "#FF97FF",
           "#FECB52"
          ],
          "font": {
           "color": "#2a3f5f"
          },
          "geo": {
           "bgcolor": "white",
           "lakecolor": "white",
           "landcolor": "white",
           "showlakes": true,
           "showland": true,
           "subunitcolor": "#C8D4E3"
          },
          "hoverlabel": {
           "align": "left"
          },
          "hovermode": "closest",
          "mapbox": {
           "style": "light"
          },
          "paper_bgcolor": "white",
          "plot_bgcolor": "white",
          "polar": {
           "angularaxis": {
            "gridcolor": "#EBF0F8",
            "linecolor": "#EBF0F8",
            "ticks": ""
           },
           "bgcolor": "white",
           "radialaxis": {
            "gridcolor": "#EBF0F8",
            "linecolor": "#EBF0F8",
            "ticks": ""
           }
          },
          "scene": {
           "xaxis": {
            "backgroundcolor": "white",
            "gridcolor": "#DFE8F3",
            "gridwidth": 2,
            "linecolor": "#EBF0F8",
            "showbackground": true,
            "ticks": "",
            "zerolinecolor": "#EBF0F8"
           },
           "yaxis": {
            "backgroundcolor": "white",
            "gridcolor": "#DFE8F3",
            "gridwidth": 2,
            "linecolor": "#EBF0F8",
            "showbackground": true,
            "ticks": "",
            "zerolinecolor": "#EBF0F8"
           },
           "zaxis": {
            "backgroundcolor": "white",
            "gridcolor": "#DFE8F3",
            "gridwidth": 2,
            "linecolor": "#EBF0F8",
            "showbackground": true,
            "ticks": "",
            "zerolinecolor": "#EBF0F8"
           }
          },
          "shapedefaults": {
           "line": {
            "color": "#2a3f5f"
           }
          },
          "ternary": {
           "aaxis": {
            "gridcolor": "#DFE8F3",
            "linecolor": "#A2B1C6",
            "ticks": ""
           },
           "baxis": {
            "gridcolor": "#DFE8F3",
            "linecolor": "#A2B1C6",
            "ticks": ""
           },
           "bgcolor": "white",
           "caxis": {
            "gridcolor": "#DFE8F3",
            "linecolor": "#A2B1C6",
            "ticks": ""
           }
          },
          "title": {
           "x": 0.05
          },
          "xaxis": {
           "automargin": true,
           "gridcolor": "#EBF0F8",
           "linecolor": "#EBF0F8",
           "ticks": "",
           "title": {
            "standoff": 15
           },
           "zerolinecolor": "#EBF0F8",
           "zerolinewidth": 2
          },
          "yaxis": {
           "automargin": true,
           "gridcolor": "#EBF0F8",
           "linecolor": "#EBF0F8",
           "ticks": "",
           "title": {
            "standoff": 15
           },
           "zerolinecolor": "#EBF0F8",
           "zerolinewidth": 2
          }
         }
        },
        "title": {
         "font": {
          "size": 25
         },
         "text": "Pseudo Periodic",
         "x": 0.5,
         "xanchor": "center",
         "yanchor": "top"
        },
        "width": 900,
        "xaxis": {
         "anchor": "y",
         "domain": [
          0,
          1
         ],
         "title": {
          "font": {
           "size": 12
          },
          "text": "Time"
         }
        },
        "yaxis": {
         "anchor": "x",
         "domain": [
          0,
          1
         ],
         "title": {
          "font": {
           "size": 12
          },
          "text": "Value"
         }
        }
       }
      }
     },
     "metadata": {},
     "output_type": "display_data"
    }
   ],
   "source": [
    "# PseudoPeriodic signal with Amplitude=1 & Frequency=0.1\n",
    "signal = ts.signals.PseudoPeriodic(amplitude=1, frequency=0.25)\n",
    "\n",
    "# Generating Timeseries\n",
    "samples, regular_time_samples, signals, errors = generate_timeseries(signal=signal)\n",
    "\n",
    "plot_time_series(regular_time_samples, samples, \"Pseudo Periodic\")"
   ]
  },
  {
   "cell_type": "markdown",
   "metadata": {},
   "source": [
    "----\n",
    "\n",
    "# Autoregressive signals"
   ]
  },
  {
   "cell_type": "code",
   "execution_count": 83,
   "metadata": {},
   "outputs": [
    {
     "ename": "ValueError",
     "evalue": "setting an array element with a sequence. The requested array has an inhomogeneous shape after 1 dimensions. The detected shape was (2,) + inhomogeneous part.",
     "output_type": "error",
     "traceback": [
      "\u001b[1;31m---------------------------------------------------------------------------\u001b[0m",
      "\u001b[1;31mValueError\u001b[0m                                Traceback (most recent call last)",
      "\u001b[1;32mc:\\Users\\dioni\\Documents\\GitHub\\Modern-Time-Series-Forecasting-with-Python\\Notebooks-mios\\capitulo1.ipynb Celda 18\u001b[0m line \u001b[0;36m1\n\u001b[0;32m      <a href='vscode-notebook-cell:/c%3A/Users/dioni/Documents/GitHub/Modern-Time-Series-Forecasting-with-Python/Notebooks-mios/capitulo1.ipynb#X31sZmlsZQ%3D%3D?line=8'>9</a>\u001b[0m ar_p \u001b[39m=\u001b[39m ts\u001b[39m.\u001b[39msignals\u001b[39m.\u001b[39mAutoRegressive(ar_param\u001b[39m=\u001b[39m[\u001b[39m1.5\u001b[39m, \u001b[39m-\u001b[39m\u001b[39m0.75\u001b[39m])\n\u001b[0;32m     <a href='vscode-notebook-cell:/c%3A/Users/dioni/Documents/GitHub/Modern-Time-Series-Forecasting-with-Python/Notebooks-mios/capitulo1.ipynb#X31sZmlsZQ%3D%3D?line=9'>10</a>\u001b[0m ar_p_series \u001b[39m=\u001b[39m ts\u001b[39m.\u001b[39mTimeSeries(signal_generator\u001b[39m=\u001b[39mar_p)\n\u001b[1;32m---> <a href='vscode-notebook-cell:/c%3A/Users/dioni/Documents/GitHub/Modern-Time-Series-Forecasting-with-Python/Notebooks-mios/capitulo1.ipynb#X31sZmlsZQ%3D%3D?line=10'>11</a>\u001b[0m samples \u001b[39m=\u001b[39m ar_p_series\u001b[39m.\u001b[39;49msample(regular_time_samples)\n",
      "File \u001b[1;32mc:\\Users\\dioni\\anaconda3\\envs\\modern-ts\\lib\\site-packages\\timesynth\\timeseries.py:63\u001b[0m, in \u001b[0;36mTimeSeries.sample\u001b[1;34m(self, time_vector)\u001b[0m\n\u001b[0;32m     60\u001b[0m     errors[i] \u001b[39m=\u001b[39m \u001b[39mself\u001b[39m\u001b[39m.\u001b[39mnoise_generator\u001b[39m.\u001b[39msample_next(t, samples[:i \u001b[39m-\u001b[39m \u001b[39m1\u001b[39m], errors[:i \u001b[39m-\u001b[39m \u001b[39m1\u001b[39m])\n\u001b[0;32m     62\u001b[0m \u001b[39m# Sample signal\u001b[39;00m\n\u001b[1;32m---> 63\u001b[0m signal \u001b[39m=\u001b[39m \u001b[39mself\u001b[39;49m\u001b[39m.\u001b[39;49msignal_generator\u001b[39m.\u001b[39;49msample_next(t, samples[:i \u001b[39m-\u001b[39;49m \u001b[39m1\u001b[39;49m], errors[:i \u001b[39m-\u001b[39;49m \u001b[39m1\u001b[39;49m])\n\u001b[0;32m     64\u001b[0m signals[i] \u001b[39m=\u001b[39m signal\n\u001b[0;32m     66\u001b[0m \u001b[39m# Compound signal and noise\u001b[39;00m\n",
      "File \u001b[1;32mc:\\Users\\dioni\\anaconda3\\envs\\modern-ts\\lib\\site-packages\\timesynth\\signals\\ar.py:54\u001b[0m, in \u001b[0;36mAutoRegressive.sample_next\u001b[1;34m(self, time, samples, errors)\u001b[0m\n\u001b[0;32m     52\u001b[0m ar_value \u001b[39m=\u001b[39m [\u001b[39mself\u001b[39m\u001b[39m.\u001b[39mprevious_value[i] \u001b[39m*\u001b[39m \u001b[39mself\u001b[39m\u001b[39m.\u001b[39mar_param[i] \u001b[39mfor\u001b[39;00m i \u001b[39min\u001b[39;00m \u001b[39mrange\u001b[39m(\u001b[39mlen\u001b[39m(\u001b[39mself\u001b[39m\u001b[39m.\u001b[39mar_param))]\n\u001b[0;32m     53\u001b[0m noise \u001b[39m=\u001b[39m np\u001b[39m.\u001b[39mrandom\u001b[39m.\u001b[39mnormal(loc\u001b[39m=\u001b[39m\u001b[39m0.0\u001b[39m, scale\u001b[39m=\u001b[39m\u001b[39mself\u001b[39m\u001b[39m.\u001b[39msigma, size\u001b[39m=\u001b[39m\u001b[39m1\u001b[39m)\n\u001b[1;32m---> 54\u001b[0m ar_value \u001b[39m=\u001b[39m np\u001b[39m.\u001b[39;49msum(ar_value) \u001b[39m+\u001b[39m noise\n\u001b[0;32m     55\u001b[0m \u001b[39mself\u001b[39m\u001b[39m.\u001b[39mprevious_value \u001b[39m=\u001b[39m \u001b[39mself\u001b[39m\u001b[39m.\u001b[39mprevious_value[\u001b[39m1\u001b[39m:]\u001b[39m+\u001b[39m[ar_value]\n\u001b[0;32m     56\u001b[0m \u001b[39mreturn\u001b[39;00m ar_value\n",
      "File \u001b[1;32m<__array_function__ internals>:200\u001b[0m, in \u001b[0;36msum\u001b[1;34m(*args, **kwargs)\u001b[0m\n",
      "File \u001b[1;32mc:\\Users\\dioni\\anaconda3\\envs\\modern-ts\\lib\\site-packages\\numpy\\core\\fromnumeric.py:2324\u001b[0m, in \u001b[0;36msum\u001b[1;34m(a, axis, dtype, out, keepdims, initial, where)\u001b[0m\n\u001b[0;32m   2321\u001b[0m         \u001b[39mreturn\u001b[39;00m out\n\u001b[0;32m   2322\u001b[0m     \u001b[39mreturn\u001b[39;00m res\n\u001b[1;32m-> 2324\u001b[0m \u001b[39mreturn\u001b[39;00m _wrapreduction(a, np\u001b[39m.\u001b[39;49madd, \u001b[39m'\u001b[39;49m\u001b[39msum\u001b[39;49m\u001b[39m'\u001b[39;49m, axis, dtype, out, keepdims\u001b[39m=\u001b[39;49mkeepdims,\n\u001b[0;32m   2325\u001b[0m                       initial\u001b[39m=\u001b[39;49minitial, where\u001b[39m=\u001b[39;49mwhere)\n",
      "File \u001b[1;32mc:\\Users\\dioni\\anaconda3\\envs\\modern-ts\\lib\\site-packages\\numpy\\core\\fromnumeric.py:86\u001b[0m, in \u001b[0;36m_wrapreduction\u001b[1;34m(obj, ufunc, method, axis, dtype, out, **kwargs)\u001b[0m\n\u001b[0;32m     83\u001b[0m         \u001b[39melse\u001b[39;00m:\n\u001b[0;32m     84\u001b[0m             \u001b[39mreturn\u001b[39;00m reduction(axis\u001b[39m=\u001b[39maxis, out\u001b[39m=\u001b[39mout, \u001b[39m*\u001b[39m\u001b[39m*\u001b[39mpasskwargs)\n\u001b[1;32m---> 86\u001b[0m \u001b[39mreturn\u001b[39;00m ufunc\u001b[39m.\u001b[39mreduce(obj, axis, dtype, out, \u001b[39m*\u001b[39m\u001b[39m*\u001b[39mpasskwargs)\n",
      "\u001b[1;31mValueError\u001b[0m: setting an array element with a sequence. The requested array has an inhomogeneous shape after 1 dimensions. The detected shape was (2,) + inhomogeneous part."
     ]
    }
   ],
   "source": [
    "# Autoregressive signal with parameters 1.5 and -0.75\n",
    "# y(t) = 1.5*y(t-1) - 0.75*y(t-2)\n",
    "\n",
    "# Initializing TimeSampler\n",
    "time_sampler = ts.TimeSampler(stop_time=20)\n",
    "# Sampling regular time samples\n",
    "regular_time_samples = time_sampler.sample_regular_time(num_points=500)\n",
    "\n",
    "ar_p = ts.signals.AutoRegressive(ar_param=[1.5, -0.75])\n",
    "ar_p_series = ts.TimeSeries(signal_generator=ar_p)\n",
    "samples = ar_p_series.sample(regular_time_samples)"
   ]
  },
  {
   "cell_type": "code",
   "execution_count": 106,
   "metadata": {},
   "outputs": [
    {
     "data": {
      "application/vnd.plotly.v1+json": {
       "config": {
        "plotlyServerURL": "https://plot.ly"
       },
       "data": [
        {
         "hovertemplate": "Time=%{x}<br>Value=%{y}<extra></extra>",
         "legendgroup": "",
         "line": {
          "color": "#636efa",
          "dash": "solid"
         },
         "marker": {
          "symbol": "circle"
         },
         "mode": "lines",
         "name": "",
         "orientation": "v",
         "showlegend": false,
         "type": "scatter",
         "x": [
          0,
          0.10050251256281408,
          0.20100502512562815,
          0.30150753768844224,
          0.4020100502512563,
          0.5025125628140704,
          0.6030150753768845,
          0.7035175879396985,
          0.8040201005025126,
          0.9045226130653267,
          1.0050251256281408,
          1.105527638190955,
          1.206030150753769,
          1.306532663316583,
          1.407035175879397,
          1.5075376884422111,
          1.6080402010050252,
          1.7085427135678393,
          1.8090452261306533,
          1.9095477386934674,
          2.0100502512562817,
          2.1105527638190957,
          2.21105527638191,
          2.311557788944724,
          2.412060301507538,
          2.512562814070352,
          2.613065326633166,
          2.71356783919598,
          2.814070351758794,
          2.9145728643216082,
          3.0150753768844223,
          3.1155778894472363,
          3.2160804020100504,
          3.3165829145728645,
          3.4170854271356785,
          3.5175879396984926,
          3.6180904522613067,
          3.7185929648241207,
          3.819095477386935,
          3.919597989949749,
          4.020100502512563,
          4.120603015075377,
          4.2211055276381915,
          4.3216080402010055,
          4.42211055276382,
          4.522613065326634,
          4.623115577889448,
          4.723618090452262,
          4.824120603015076,
          4.92462311557789,
          5.025125628140704,
          5.125628140703518,
          5.226130653266332,
          5.326633165829146,
          5.42713567839196,
          5.527638190954774,
          5.628140703517588,
          5.728643216080402,
          5.8291457286432165,
          5.9296482412060305,
          6.030150753768845,
          6.130653266331659,
          6.231155778894473,
          6.331658291457287,
          6.432160804020101,
          6.532663316582915,
          6.633165829145729,
          6.733668341708543,
          6.834170854271357,
          6.934673366834171,
          7.035175879396985,
          7.135678391959799,
          7.236180904522613,
          7.336683417085427,
          7.437185929648241,
          7.5376884422110555,
          7.63819095477387,
          7.738693467336684,
          7.839195979899498,
          7.939698492462312,
          8.040201005025127,
          8.14070351758794,
          8.241206030150755,
          8.341708542713569,
          8.442211055276383,
          8.542713567839197,
          8.643216080402011,
          8.743718592964825,
          8.84422110552764,
          8.944723618090453,
          9.045226130653267,
          9.145728643216081,
          9.246231155778895,
          9.34673366834171,
          9.447236180904524,
          9.547738693467338,
          9.648241206030152,
          9.748743718592966,
          9.84924623115578,
          9.949748743718594,
          10.050251256281408,
          10.150753768844222,
          10.251256281407036,
          10.35175879396985,
          10.452261306532664,
          10.552763819095478,
          10.653266331658292,
          10.753768844221106,
          10.85427135678392,
          10.954773869346734,
          11.055276381909549,
          11.155778894472363,
          11.256281407035177,
          11.35678391959799,
          11.457286432160805,
          11.557788944723619,
          11.658291457286433,
          11.758793969849247,
          11.859296482412061,
          11.959798994974875,
          12.06030150753769,
          12.160804020100503,
          12.261306532663317,
          12.361809045226131,
          12.462311557788945,
          12.56281407035176,
          12.663316582914574,
          12.763819095477388,
          12.864321608040202,
          12.964824120603016,
          13.06532663316583,
          13.165829145728644,
          13.266331658291458,
          13.366834170854272,
          13.467336683417086,
          13.5678391959799,
          13.668341708542714,
          13.768844221105528,
          13.869346733668342,
          13.969849246231156,
          14.07035175879397,
          14.170854271356784,
          14.271356783919598,
          14.371859296482413,
          14.472361809045227,
          14.57286432160804,
          14.673366834170855,
          14.773869346733669,
          14.874371859296483,
          14.974874371859297,
          15.075376884422111,
          15.175879396984925,
          15.27638190954774,
          15.376884422110553,
          15.477386934673367,
          15.577889447236181,
          15.678391959798995,
          15.77889447236181,
          15.879396984924623,
          15.979899497487438,
          16.080402010050253,
          16.180904522613066,
          16.28140703517588,
          16.381909547738694,
          16.48241206030151,
          16.582914572864322,
          16.683417085427138,
          16.78391959798995,
          16.884422110552766,
          16.984924623115578,
          17.085427135678394,
          17.185929648241206,
          17.286432160804022,
          17.386934673366834,
          17.48743718592965,
          17.587939698492463,
          17.68844221105528,
          17.78894472361809,
          17.889447236180906,
          17.98994974874372,
          18.090452261306535,
          18.190954773869347,
          18.291457286432163,
          18.391959798994975,
          18.49246231155779,
          18.592964824120603,
          18.69346733668342,
          18.79396984924623,
          18.894472361809047,
          18.99497487437186,
          19.095477386934675,
          19.195979899497488,
          19.296482412060303,
          19.396984924623116,
          19.49748743718593,
          19.597989949748744,
          19.69849246231156,
          19.798994974874372,
          19.899497487437188,
          20
         ],
         "xaxis": "x",
         "y": [
          0.5429805330153349,
          1.0771892315849145,
          0.8006074449795878,
          -0.8040286438764839,
          -0.5519900535653635,
          -1.5001647110676681,
          0.8817727796186228,
          -0.0973764847027031,
          0.4268830860719856,
          0.7177178988372105,
          0.5710253181470668,
          2.0059235059326435,
          0.4432978121690281,
          -0.7083524413706902,
          1.7375191138307107,
          1.341927387173301,
          3.1564966788472457,
          -0.46455733179832537,
          -0.29206246758980803,
          3.1957419042170776,
          1.0144483164244869,
          1.2243122433824232,
          2.573578040155831,
          1.5718083863030305,
          -1.9586039705180225,
          0.3189111285748067,
          -1.3311451520068998,
          0.03240807863616221,
          -3.3316159829289838,
          1.9257548336700558,
          -0.8727802763747777,
          1.389610222775218,
          0.7470583719005062,
          1.8209655578633042,
          0.8684190757454102,
          0.5087625230198611,
          -0.12031977707918728,
          -0.25577411460830435,
          0.7231694904601895,
          1.4867812838954082,
          -1.2224322392797395,
          0.8270696537074138,
          -2.4839374033408608,
          -0.1428502610534101,
          2.3224241901891762,
          -0.5569490963468353,
          -2.2649007211147425,
          0.6615929595306139,
          -1.4895574829757292,
          1.3591665999926577,
          2.0788804153041394,
          0.4077441968604919,
          0.9620241626338213,
          1.6373487832047249,
          -1.838621798038911,
          2.0763027960955123,
          1.2110602587434982,
          -2.1225931359685157,
          0.4206751090870142,
          1.8144818995392749,
          2.0714685471711705,
          -1.1241852200324476,
          -0.9535309184101399,
          0.23256609581041487,
          1.9790116045839423,
          0.9932024451983377,
          -1.167398488983345,
          -2.7755050366809755,
          -1.155172976545686,
          0.0887503280915059,
          -0.2743487490162472,
          0.47986068270083354,
          -1.270967209085186,
          -1.1883469991312188,
          -2.369644080626007,
          -2.2042859892781532,
          0.9781677945183701,
          0.7439172608827065,
          -1.8043175911211264,
          -2.962633159398335,
          0.09467513228052016,
          -0.44898158540308497,
          0.2305477593671268,
          -1.0481296658789343,
          -2.1593694248944466,
          -0.23979769457575287,
          -0.9754699395729807,
          1.0870452497372542,
          -3.2709319762581046,
          -0.41029222542837496,
          0.05513604016429341,
          -2.4590435869965033,
          -0.4106409462601045,
          0.2688853348649456,
          2.3582232322447565,
          -1.1660036276333083,
          3.659400091253301,
          1.7010190332425932,
          3.100498991752854,
          -0.5173398548992345,
          0.8696640494717633,
          0.7342389196925928,
          -0.8922806647931348,
          1.9725751761940664,
          -1.6522989781371764,
          -0.9919484128216491,
          -3.9562775663683336,
          1.3811004657581665,
          -2.3081459330507648,
          0.9435957048917188,
          -1.3202738717295348,
          2.3992073766957693,
          2.5865214174281927,
          -1.2853004713083058,
          -0.9214520933994035,
          -1.406346103868163,
          -2.78435162594253,
          0.5604720491223452,
          1.1791307192994807,
          -2.132444271376267,
          1.1397981751390829,
          -2.2524448506372186,
          0.9183257407375462,
          1.483089630434346,
          1.2508313292168596,
          0.10018363571658642,
          -0.2947317168734492,
          -0.7797613584088386,
          2.565724770848994,
          3.071796825105272,
          -0.41264052006879437,
          1.662288204209497,
          0.5877013724927216,
          2.8378422294199006,
          1.315238304637231,
          -1.0975594368029509,
          -0.2015697632457697,
          -1.6016971630276882,
          -1.5276436858130897,
          1.7615184208217785,
          3.594468970558021,
          -0.8546138285033542,
          -0.6809583205928632,
          1.7280111133729745,
          1.51747089007668,
          1.7572446842067324,
          -1.3055097801077742,
          -0.5551025696256342,
          -2.2731491285202345,
          1.9404614857648634,
          -0.755581153911457,
          2.3150822449634756,
          -1.4781542631571662,
          -0.0236583039012076,
          -0.4756005115278717,
          -0.8307191832057682,
          -1.3716661709299909,
          1.7438774000200334,
          -0.1925784450309853,
          -1.3951434139350947,
          0.04720628478246472,
          0.8835978457804994,
          -0.6358722448843382,
          -3.015789115719993,
          -1.1997618513041481,
          -1.0738233132587478,
          -1.188522791643268,
          0.3032447244384642,
          0.36596096720059434,
          0.7257077215885304,
          1.8650451939605452,
          -1.0905514265285352,
          -1.5459424739832528,
          -0.24507166611938444,
          2.0132812947361325,
          1.5413848074184955,
          3.0697607492310373,
          -0.8780417462793715,
          -0.5692939652206362,
          -0.9999131457104281,
          1.9655836145080583,
          -1.3805164273850608,
          0.030757056892409484,
          1.7481529490947005,
          -1.737663328435192,
          1.1679379081968637,
          0.5120203744883245,
          -1.9479395363845402,
          1.814366756829549,
          -1.0747718896130287,
          0.02741712267982399,
          -1.5026098411535993,
          2.477454953951966,
          1.15274678946688,
          -0.20303360990994246,
          1.4829284731557144,
          -1.5277784761532627,
          0.5899559474799567,
          -0.5618774181806654,
          1.5070431036818794
         ],
         "yaxis": "y"
        }
       ],
       "layout": {
        "autosize": false,
        "height": 500,
        "legend": {
         "tracegroupgap": 0
        },
        "margin": {
         "t": 60
        },
        "template": {
         "data": {
          "bar": [
           {
            "error_x": {
             "color": "#2a3f5f"
            },
            "error_y": {
             "color": "#2a3f5f"
            },
            "marker": {
             "line": {
              "color": "white",
              "width": 0.5
             },
             "pattern": {
              "fillmode": "overlay",
              "size": 10,
              "solidity": 0.2
             }
            },
            "type": "bar"
           }
          ],
          "barpolar": [
           {
            "marker": {
             "line": {
              "color": "white",
              "width": 0.5
             },
             "pattern": {
              "fillmode": "overlay",
              "size": 10,
              "solidity": 0.2
             }
            },
            "type": "barpolar"
           }
          ],
          "carpet": [
           {
            "aaxis": {
             "endlinecolor": "#2a3f5f",
             "gridcolor": "#C8D4E3",
             "linecolor": "#C8D4E3",
             "minorgridcolor": "#C8D4E3",
             "startlinecolor": "#2a3f5f"
            },
            "baxis": {
             "endlinecolor": "#2a3f5f",
             "gridcolor": "#C8D4E3",
             "linecolor": "#C8D4E3",
             "minorgridcolor": "#C8D4E3",
             "startlinecolor": "#2a3f5f"
            },
            "type": "carpet"
           }
          ],
          "choropleth": [
           {
            "colorbar": {
             "outlinewidth": 0,
             "ticks": ""
            },
            "type": "choropleth"
           }
          ],
          "contour": [
           {
            "colorbar": {
             "outlinewidth": 0,
             "ticks": ""
            },
            "colorscale": [
             [
              0,
              "#0d0887"
             ],
             [
              0.1111111111111111,
              "#46039f"
             ],
             [
              0.2222222222222222,
              "#7201a8"
             ],
             [
              0.3333333333333333,
              "#9c179e"
             ],
             [
              0.4444444444444444,
              "#bd3786"
             ],
             [
              0.5555555555555556,
              "#d8576b"
             ],
             [
              0.6666666666666666,
              "#ed7953"
             ],
             [
              0.7777777777777778,
              "#fb9f3a"
             ],
             [
              0.8888888888888888,
              "#fdca26"
             ],
             [
              1,
              "#f0f921"
             ]
            ],
            "type": "contour"
           }
          ],
          "contourcarpet": [
           {
            "colorbar": {
             "outlinewidth": 0,
             "ticks": ""
            },
            "type": "contourcarpet"
           }
          ],
          "heatmap": [
           {
            "colorbar": {
             "outlinewidth": 0,
             "ticks": ""
            },
            "colorscale": [
             [
              0,
              "#0d0887"
             ],
             [
              0.1111111111111111,
              "#46039f"
             ],
             [
              0.2222222222222222,
              "#7201a8"
             ],
             [
              0.3333333333333333,
              "#9c179e"
             ],
             [
              0.4444444444444444,
              "#bd3786"
             ],
             [
              0.5555555555555556,
              "#d8576b"
             ],
             [
              0.6666666666666666,
              "#ed7953"
             ],
             [
              0.7777777777777778,
              "#fb9f3a"
             ],
             [
              0.8888888888888888,
              "#fdca26"
             ],
             [
              1,
              "#f0f921"
             ]
            ],
            "type": "heatmap"
           }
          ],
          "heatmapgl": [
           {
            "colorbar": {
             "outlinewidth": 0,
             "ticks": ""
            },
            "colorscale": [
             [
              0,
              "#0d0887"
             ],
             [
              0.1111111111111111,
              "#46039f"
             ],
             [
              0.2222222222222222,
              "#7201a8"
             ],
             [
              0.3333333333333333,
              "#9c179e"
             ],
             [
              0.4444444444444444,
              "#bd3786"
             ],
             [
              0.5555555555555556,
              "#d8576b"
             ],
             [
              0.6666666666666666,
              "#ed7953"
             ],
             [
              0.7777777777777778,
              "#fb9f3a"
             ],
             [
              0.8888888888888888,
              "#fdca26"
             ],
             [
              1,
              "#f0f921"
             ]
            ],
            "type": "heatmapgl"
           }
          ],
          "histogram": [
           {
            "marker": {
             "pattern": {
              "fillmode": "overlay",
              "size": 10,
              "solidity": 0.2
             }
            },
            "type": "histogram"
           }
          ],
          "histogram2d": [
           {
            "colorbar": {
             "outlinewidth": 0,
             "ticks": ""
            },
            "colorscale": [
             [
              0,
              "#0d0887"
             ],
             [
              0.1111111111111111,
              "#46039f"
             ],
             [
              0.2222222222222222,
              "#7201a8"
             ],
             [
              0.3333333333333333,
              "#9c179e"
             ],
             [
              0.4444444444444444,
              "#bd3786"
             ],
             [
              0.5555555555555556,
              "#d8576b"
             ],
             [
              0.6666666666666666,
              "#ed7953"
             ],
             [
              0.7777777777777778,
              "#fb9f3a"
             ],
             [
              0.8888888888888888,
              "#fdca26"
             ],
             [
              1,
              "#f0f921"
             ]
            ],
            "type": "histogram2d"
           }
          ],
          "histogram2dcontour": [
           {
            "colorbar": {
             "outlinewidth": 0,
             "ticks": ""
            },
            "colorscale": [
             [
              0,
              "#0d0887"
             ],
             [
              0.1111111111111111,
              "#46039f"
             ],
             [
              0.2222222222222222,
              "#7201a8"
             ],
             [
              0.3333333333333333,
              "#9c179e"
             ],
             [
              0.4444444444444444,
              "#bd3786"
             ],
             [
              0.5555555555555556,
              "#d8576b"
             ],
             [
              0.6666666666666666,
              "#ed7953"
             ],
             [
              0.7777777777777778,
              "#fb9f3a"
             ],
             [
              0.8888888888888888,
              "#fdca26"
             ],
             [
              1,
              "#f0f921"
             ]
            ],
            "type": "histogram2dcontour"
           }
          ],
          "mesh3d": [
           {
            "colorbar": {
             "outlinewidth": 0,
             "ticks": ""
            },
            "type": "mesh3d"
           }
          ],
          "parcoords": [
           {
            "line": {
             "colorbar": {
              "outlinewidth": 0,
              "ticks": ""
             }
            },
            "type": "parcoords"
           }
          ],
          "pie": [
           {
            "automargin": true,
            "type": "pie"
           }
          ],
          "scatter": [
           {
            "fillpattern": {
             "fillmode": "overlay",
             "size": 10,
             "solidity": 0.2
            },
            "type": "scatter"
           }
          ],
          "scatter3d": [
           {
            "line": {
             "colorbar": {
              "outlinewidth": 0,
              "ticks": ""
             }
            },
            "marker": {
             "colorbar": {
              "outlinewidth": 0,
              "ticks": ""
             }
            },
            "type": "scatter3d"
           }
          ],
          "scattercarpet": [
           {
            "marker": {
             "colorbar": {
              "outlinewidth": 0,
              "ticks": ""
             }
            },
            "type": "scattercarpet"
           }
          ],
          "scattergeo": [
           {
            "marker": {
             "colorbar": {
              "outlinewidth": 0,
              "ticks": ""
             }
            },
            "type": "scattergeo"
           }
          ],
          "scattergl": [
           {
            "marker": {
             "colorbar": {
              "outlinewidth": 0,
              "ticks": ""
             }
            },
            "type": "scattergl"
           }
          ],
          "scattermapbox": [
           {
            "marker": {
             "colorbar": {
              "outlinewidth": 0,
              "ticks": ""
             }
            },
            "type": "scattermapbox"
           }
          ],
          "scatterpolar": [
           {
            "marker": {
             "colorbar": {
              "outlinewidth": 0,
              "ticks": ""
             }
            },
            "type": "scatterpolar"
           }
          ],
          "scatterpolargl": [
           {
            "marker": {
             "colorbar": {
              "outlinewidth": 0,
              "ticks": ""
             }
            },
            "type": "scatterpolargl"
           }
          ],
          "scatterternary": [
           {
            "marker": {
             "colorbar": {
              "outlinewidth": 0,
              "ticks": ""
             }
            },
            "type": "scatterternary"
           }
          ],
          "surface": [
           {
            "colorbar": {
             "outlinewidth": 0,
             "ticks": ""
            },
            "colorscale": [
             [
              0,
              "#0d0887"
             ],
             [
              0.1111111111111111,
              "#46039f"
             ],
             [
              0.2222222222222222,
              "#7201a8"
             ],
             [
              0.3333333333333333,
              "#9c179e"
             ],
             [
              0.4444444444444444,
              "#bd3786"
             ],
             [
              0.5555555555555556,
              "#d8576b"
             ],
             [
              0.6666666666666666,
              "#ed7953"
             ],
             [
              0.7777777777777778,
              "#fb9f3a"
             ],
             [
              0.8888888888888888,
              "#fdca26"
             ],
             [
              1,
              "#f0f921"
             ]
            ],
            "type": "surface"
           }
          ],
          "table": [
           {
            "cells": {
             "fill": {
              "color": "#EBF0F8"
             },
             "line": {
              "color": "white"
             }
            },
            "header": {
             "fill": {
              "color": "#C8D4E3"
             },
             "line": {
              "color": "white"
             }
            },
            "type": "table"
           }
          ]
         },
         "layout": {
          "annotationdefaults": {
           "arrowcolor": "#2a3f5f",
           "arrowhead": 0,
           "arrowwidth": 1
          },
          "autotypenumbers": "strict",
          "coloraxis": {
           "colorbar": {
            "outlinewidth": 0,
            "ticks": ""
           }
          },
          "colorscale": {
           "diverging": [
            [
             0,
             "#8e0152"
            ],
            [
             0.1,
             "#c51b7d"
            ],
            [
             0.2,
             "#de77ae"
            ],
            [
             0.3,
             "#f1b6da"
            ],
            [
             0.4,
             "#fde0ef"
            ],
            [
             0.5,
             "#f7f7f7"
            ],
            [
             0.6,
             "#e6f5d0"
            ],
            [
             0.7,
             "#b8e186"
            ],
            [
             0.8,
             "#7fbc41"
            ],
            [
             0.9,
             "#4d9221"
            ],
            [
             1,
             "#276419"
            ]
           ],
           "sequential": [
            [
             0,
             "#0d0887"
            ],
            [
             0.1111111111111111,
             "#46039f"
            ],
            [
             0.2222222222222222,
             "#7201a8"
            ],
            [
             0.3333333333333333,
             "#9c179e"
            ],
            [
             0.4444444444444444,
             "#bd3786"
            ],
            [
             0.5555555555555556,
             "#d8576b"
            ],
            [
             0.6666666666666666,
             "#ed7953"
            ],
            [
             0.7777777777777778,
             "#fb9f3a"
            ],
            [
             0.8888888888888888,
             "#fdca26"
            ],
            [
             1,
             "#f0f921"
            ]
           ],
           "sequentialminus": [
            [
             0,
             "#0d0887"
            ],
            [
             0.1111111111111111,
             "#46039f"
            ],
            [
             0.2222222222222222,
             "#7201a8"
            ],
            [
             0.3333333333333333,
             "#9c179e"
            ],
            [
             0.4444444444444444,
             "#bd3786"
            ],
            [
             0.5555555555555556,
             "#d8576b"
            ],
            [
             0.6666666666666666,
             "#ed7953"
            ],
            [
             0.7777777777777778,
             "#fb9f3a"
            ],
            [
             0.8888888888888888,
             "#fdca26"
            ],
            [
             1,
             "#f0f921"
            ]
           ]
          },
          "colorway": [
           "#636efa",
           "#EF553B",
           "#00cc96",
           "#ab63fa",
           "#FFA15A",
           "#19d3f3",
           "#FF6692",
           "#B6E880",
           "#FF97FF",
           "#FECB52"
          ],
          "font": {
           "color": "#2a3f5f"
          },
          "geo": {
           "bgcolor": "white",
           "lakecolor": "white",
           "landcolor": "white",
           "showlakes": true,
           "showland": true,
           "subunitcolor": "#C8D4E3"
          },
          "hoverlabel": {
           "align": "left"
          },
          "hovermode": "closest",
          "mapbox": {
           "style": "light"
          },
          "paper_bgcolor": "white",
          "plot_bgcolor": "white",
          "polar": {
           "angularaxis": {
            "gridcolor": "#EBF0F8",
            "linecolor": "#EBF0F8",
            "ticks": ""
           },
           "bgcolor": "white",
           "radialaxis": {
            "gridcolor": "#EBF0F8",
            "linecolor": "#EBF0F8",
            "ticks": ""
           }
          },
          "scene": {
           "xaxis": {
            "backgroundcolor": "white",
            "gridcolor": "#DFE8F3",
            "gridwidth": 2,
            "linecolor": "#EBF0F8",
            "showbackground": true,
            "ticks": "",
            "zerolinecolor": "#EBF0F8"
           },
           "yaxis": {
            "backgroundcolor": "white",
            "gridcolor": "#DFE8F3",
            "gridwidth": 2,
            "linecolor": "#EBF0F8",
            "showbackground": true,
            "ticks": "",
            "zerolinecolor": "#EBF0F8"
           },
           "zaxis": {
            "backgroundcolor": "white",
            "gridcolor": "#DFE8F3",
            "gridwidth": 2,
            "linecolor": "#EBF0F8",
            "showbackground": true,
            "ticks": "",
            "zerolinecolor": "#EBF0F8"
           }
          },
          "shapedefaults": {
           "line": {
            "color": "#2a3f5f"
           }
          },
          "ternary": {
           "aaxis": {
            "gridcolor": "#DFE8F3",
            "linecolor": "#A2B1C6",
            "ticks": ""
           },
           "baxis": {
            "gridcolor": "#DFE8F3",
            "linecolor": "#A2B1C6",
            "ticks": ""
           },
           "bgcolor": "white",
           "caxis": {
            "gridcolor": "#DFE8F3",
            "linecolor": "#A2B1C6",
            "ticks": ""
           }
          },
          "title": {
           "x": 0.05
          },
          "xaxis": {
           "automargin": true,
           "gridcolor": "#EBF0F8",
           "linecolor": "#EBF0F8",
           "ticks": "",
           "title": {
            "standoff": 15
           },
           "zerolinecolor": "#EBF0F8",
           "zerolinewidth": 2
          },
          "yaxis": {
           "automargin": true,
           "gridcolor": "#EBF0F8",
           "linecolor": "#EBF0F8",
           "ticks": "",
           "title": {
            "standoff": 15
           },
           "zerolinecolor": "#EBF0F8",
           "zerolinewidth": 2
          }
         }
        },
        "title": {
         "font": {
          "size": 25
         },
         "text": "Pseudo Periodic with AutoRegression and White Noise",
         "x": 0.5,
         "xanchor": "center",
         "yanchor": "top"
        },
        "width": 900,
        "xaxis": {
         "anchor": "y",
         "domain": [
          0,
          1
         ],
         "title": {
          "font": {
           "size": 12
          },
          "text": "Time"
         }
        },
        "yaxis": {
         "anchor": "x",
         "domain": [
          0,
          1
         ],
         "title": {
          "font": {
           "size": 12
          },
          "text": "Value"
         }
        }
       }
      }
     },
     "metadata": {},
     "output_type": "display_data"
    }
   ],
   "source": [
    "import timesynth as ts\n",
    "\n",
    "#Generating Pseudo Periodic Signal\n",
    "pseudo_samples, regular_time_samples, _, _ = generate_timeseries(\n",
    "    signal=ts.signals.PseudoPeriodic(amplitude=1,frequency=0.25), noise=ts.noise.GaussianNoise(std=0.3))\n",
    "\n",
    "# Generating an Autoregressive Signal\n",
    "ar_samples, regular_time_samples, _, _ = generate_timeseries(\n",
    "    signal=ts.signals.AutoRegressive(ar_param=[0.5]))\n",
    "\n",
    "# Combining the two signals using a mathematical equation\n",
    "ts = pseudo_samples*2+ar_samples\n",
    "plot_time_series(regular_time_samples, ts,\"Pseudo Periodic with AutoRegression and White Noise\")"
   ]
  },
  {
   "cell_type": "markdown",
   "metadata": {},
   "source": [
    "-----\n",
    "\n",
    "# Change in mean over time\n",
    "This is the most popular way a non-stationary time series presents itself. If there is an upward/downward\n",
    "trend in the time series, the mean across two windows of time would not be the same.\n",
    "Another way non-stationarity manifests itself is in the form of seasonality. Suppose we are looking\n",
    "at the time series of average temperature measurements in a month for the last 5 years. From our\n",
    "experience, we know that temperature peaks during summer and falls in winter. So, when we take the\n",
    "mean temperature of winter and mean temperature of summer, they will be different.\n",
    "Let's generate a time series with trend and seasonality and see how it manifests, as follows:"
   ]
  },
  {
   "cell_type": "code",
   "execution_count": 111,
   "metadata": {},
   "outputs": [
    {
     "data": {
      "application/vnd.plotly.v1+json": {
       "config": {
        "plotlyServerURL": "https://plot.ly"
       },
       "data": [
        {
         "hovertemplate": "Time=%{x}<br>Value=%{y}<extra></extra>",
         "legendgroup": "",
         "line": {
          "color": "#636efa",
          "dash": "solid"
         },
         "marker": {
          "symbol": "circle"
         },
         "mode": "lines",
         "name": "",
         "orientation": "v",
         "showlegend": false,
         "type": "scatter",
         "x": [
          0,
          0.10050251256281408,
          0.20100502512562815,
          0.30150753768844224,
          0.4020100502512563,
          0.5025125628140704,
          0.6030150753768845,
          0.7035175879396985,
          0.8040201005025126,
          0.9045226130653267,
          1.0050251256281408,
          1.105527638190955,
          1.206030150753769,
          1.306532663316583,
          1.407035175879397,
          1.5075376884422111,
          1.6080402010050252,
          1.7085427135678393,
          1.8090452261306533,
          1.9095477386934674,
          2.0100502512562817,
          2.1105527638190957,
          2.21105527638191,
          2.311557788944724,
          2.412060301507538,
          2.512562814070352,
          2.613065326633166,
          2.71356783919598,
          2.814070351758794,
          2.9145728643216082,
          3.0150753768844223,
          3.1155778894472363,
          3.2160804020100504,
          3.3165829145728645,
          3.4170854271356785,
          3.5175879396984926,
          3.6180904522613067,
          3.7185929648241207,
          3.819095477386935,
          3.919597989949749,
          4.020100502512563,
          4.120603015075377,
          4.2211055276381915,
          4.3216080402010055,
          4.42211055276382,
          4.522613065326634,
          4.623115577889448,
          4.723618090452262,
          4.824120603015076,
          4.92462311557789,
          5.025125628140704,
          5.125628140703518,
          5.226130653266332,
          5.326633165829146,
          5.42713567839196,
          5.527638190954774,
          5.628140703517588,
          5.728643216080402,
          5.8291457286432165,
          5.9296482412060305,
          6.030150753768845,
          6.130653266331659,
          6.231155778894473,
          6.331658291457287,
          6.432160804020101,
          6.532663316582915,
          6.633165829145729,
          6.733668341708543,
          6.834170854271357,
          6.934673366834171,
          7.035175879396985,
          7.135678391959799,
          7.236180904522613,
          7.336683417085427,
          7.437185929648241,
          7.5376884422110555,
          7.63819095477387,
          7.738693467336684,
          7.839195979899498,
          7.939698492462312,
          8.040201005025127,
          8.14070351758794,
          8.241206030150755,
          8.341708542713569,
          8.442211055276383,
          8.542713567839197,
          8.643216080402011,
          8.743718592964825,
          8.84422110552764,
          8.944723618090453,
          9.045226130653267,
          9.145728643216081,
          9.246231155778895,
          9.34673366834171,
          9.447236180904524,
          9.547738693467338,
          9.648241206030152,
          9.748743718592966,
          9.84924623115578,
          9.949748743718594,
          10.050251256281408,
          10.150753768844222,
          10.251256281407036,
          10.35175879396985,
          10.452261306532664,
          10.552763819095478,
          10.653266331658292,
          10.753768844221106,
          10.85427135678392,
          10.954773869346734,
          11.055276381909549,
          11.155778894472363,
          11.256281407035177,
          11.35678391959799,
          11.457286432160805,
          11.557788944723619,
          11.658291457286433,
          11.758793969849247,
          11.859296482412061,
          11.959798994974875,
          12.06030150753769,
          12.160804020100503,
          12.261306532663317,
          12.361809045226131,
          12.462311557788945,
          12.56281407035176,
          12.663316582914574,
          12.763819095477388,
          12.864321608040202,
          12.964824120603016,
          13.06532663316583,
          13.165829145728644,
          13.266331658291458,
          13.366834170854272,
          13.467336683417086,
          13.5678391959799,
          13.668341708542714,
          13.768844221105528,
          13.869346733668342,
          13.969849246231156,
          14.07035175879397,
          14.170854271356784,
          14.271356783919598,
          14.371859296482413,
          14.472361809045227,
          14.57286432160804,
          14.673366834170855,
          14.773869346733669,
          14.874371859296483,
          14.974874371859297,
          15.075376884422111,
          15.175879396984925,
          15.27638190954774,
          15.376884422110553,
          15.477386934673367,
          15.577889447236181,
          15.678391959798995,
          15.77889447236181,
          15.879396984924623,
          15.979899497487438,
          16.080402010050253,
          16.180904522613066,
          16.28140703517588,
          16.381909547738694,
          16.48241206030151,
          16.582914572864322,
          16.683417085427138,
          16.78391959798995,
          16.884422110552766,
          16.984924623115578,
          17.085427135678394,
          17.185929648241206,
          17.286432160804022,
          17.386934673366834,
          17.48743718592965,
          17.587939698492463,
          17.68844221105528,
          17.78894472361809,
          17.889447236180906,
          17.98994974874372,
          18.090452261306535,
          18.190954773869347,
          18.291457286432163,
          18.391959798994975,
          18.49246231155779,
          18.592964824120603,
          18.69346733668342,
          18.79396984924623,
          18.894472361809047,
          18.99497487437186,
          19.095477386934675,
          19.195979899497488,
          19.296482412060303,
          19.396984924623116,
          19.49748743718593,
          19.597989949748744,
          19.69849246231156,
          19.798994974874372,
          19.899497487437188,
          20
         ],
         "xaxis": "x",
         "y": [
          -0.2051070110412719,
          0.28051957235382224,
          -0.08672738692026888,
          0.26132902561666255,
          0.4931097595203303,
          1.1489102923277268,
          0.4289432649819414,
          1.4058412225073265,
          0.9106060256302629,
          0.5537344456099715,
          1.2221409089277788,
          0.8392959177535578,
          1.289583136142306,
          1.0847260604084497,
          0.8437482844649499,
          0.6831106000677319,
          0.018611068426829358,
          0.6223527790941711,
          0.5672529820358032,
          0.07316322793627021,
          0.04248333569077711,
          -0.17908877562303357,
          -0.8283502845173945,
          -0.6523113619785286,
          -1.125428875965432,
          -1.39942812550018,
          -0.3803576988012692,
          -0.7744387785833287,
          -0.9613475865879287,
          -0.7220029849568322,
          -0.9781117252308192,
          -1.397221643219059,
          -1.2888601390482395,
          -0.3000606986699078,
          -1.159096699746286,
          -0.9514468862370808,
          -0.61081061245987,
          -0.5885482426217286,
          -0.622413690069507,
          -0.209429674479677,
          0.47343335955401994,
          0.056760602126931764,
          0.6120362918465396,
          0.28775163596004494,
          0.20921575700111544,
          0.8572274060032617,
          1.058671402658401,
          1.0523573289975408,
          0.8132925023113523,
          0.7938841176131389,
          0.9854596140780718,
          1.1637772875280283,
          0.9835782927358423,
          0.9626096701338475,
          0.8269731579402276,
          0.7933518931329151,
          0.16014263081895835,
          -0.14640882694132717,
          -0.023082962224442727,
          -0.09928365629706291,
          -0.036755870762583305,
          -0.062200198696748976,
          -0.11595001422833878,
          -0.12865338801796916,
          -0.6334951738296088,
          -0.6984858937007993,
          -0.7797385144009231,
          -0.8886178785143239,
          -0.9031827039385874,
          -0.11947646376610543,
          -1.2902250991342956,
          -1.051895077996139,
          -0.9228689561085428,
          -0.8187758165443283,
          -0.7838478096799828,
          -0.6084235154233701,
          -0.12417086413298334,
          0.023601091076340064,
          0.0838478262474266,
          -0.42850881832731336,
          0.07620983861442021,
          0.276012809741864,
          0.6584083150711395,
          0.6875155794917392,
          0.49453892818639306,
          0.8462019434503016,
          1.0416721820623214,
          0.5274006077425706,
          0.996793254888147,
          0.791489128029436,
          0.7662470959109804,
          1.1907285981091111,
          0.39041919099548894,
          0.4302165501468893,
          -0.2147409241988426,
          0.4116844960814393,
          0.38627404851955477,
          0.2888382363985906,
          -0.018896907574293242,
          -0.31593829215106467,
          -0.3412321575594723,
          -0.14844381637564308,
          -0.5328525382937079,
          -0.4873108617131017,
          -0.535354313367626,
          -0.6770201632387247,
          -0.8934407032259059,
          -0.5239013274128905,
          -0.6145139376449837,
          -0.7193286550139029,
          -1.0586485982300882,
          -1.5805477316337555,
          -0.9733082405667816,
          -0.8276326309456928,
          -1.447186681064255,
          -0.7139899522702235,
          0.004568354030307753,
          -0.2967701648527764,
          -0.34438834704920906,
          -0.1852177626976103,
          -0.16871635552264594,
          0.7942062792511552,
          0.21806927703924142,
          0.5967688870529821,
          1.104795914085291,
          0.7258686808114493,
          1.1301658811863775,
          0.6150196927895291,
          0.916079579490298,
          0.9336417840990666,
          1.550442883696164,
          0.9438529185198716,
          0.3434671759497707,
          0.8106000222526167,
          0.32522573578539304,
          0.003273868881611075,
          0.9249229734597155,
          0.20378182598535952,
          0.17669877194487205,
          0.13579742793254834,
          -0.0009389087928463047,
          -0.1005964746382094,
          -0.5569793570038297,
          -0.8577318769805122,
          -0.750752696308303,
          -0.9178642349051798,
          -0.6551502292592856,
          -0.6559774186991372,
          -1.2651183464564126,
          -1.0959188837117613,
          -1.1421051693510038,
          -1.0039167875123347,
          -1.6105418100020281,
          -1.5169267700016127,
          -1.5865524037178758,
          -0.19167660013538534,
          0.30129287779068675,
          -0.45010621180259425,
          0.08683277934728839,
          -0.4663697346973268,
          0.05891109649222674,
          0.4477282808779347,
          0.23811210835878965,
          0.5424928894110752,
          0.6384341614099863,
          0.7889237148458533,
          1.0436793090952703,
          1.160946319918299,
          1.3025960829849483,
          1.1945979145812777,
          1.220368811868101,
          0.9362417307299725,
          1.2106679844158896,
          1.1545819124681667,
          0.6754827393181317,
          -0.1594929075076723,
          0.4938624695128844,
          0.4947028429974347,
          -0.1199278207823464,
          0.23713083440863184,
          0.4359298466210385,
          -0.8243951394828604,
          -0.7877965626951273,
          -0.6058681015468979,
          -0.9526641410890733,
          -0.5731776931837083,
          -0.9184434094700847,
          -0.8940373036034029,
          -1.055597975435138,
          -1.3040172482383183,
          -1.0623166518828169,
          -0.982260511250553,
          -0.9371546260331889,
          -0.9860702437967259,
          -0.9306485197013221,
          -1.0257609832472376,
          -0.24776590164668463,
          -0.1723179595201448,
          0.0031709929564104067,
          -0.263269622229009
         ],
         "yaxis": "y"
        }
       ],
       "layout": {
        "autosize": false,
        "height": 500,
        "legend": {
         "tracegroupgap": 0
        },
        "margin": {
         "t": 60
        },
        "template": {
         "data": {
          "bar": [
           {
            "error_x": {
             "color": "#2a3f5f"
            },
            "error_y": {
             "color": "#2a3f5f"
            },
            "marker": {
             "line": {
              "color": "white",
              "width": 0.5
             },
             "pattern": {
              "fillmode": "overlay",
              "size": 10,
              "solidity": 0.2
             }
            },
            "type": "bar"
           }
          ],
          "barpolar": [
           {
            "marker": {
             "line": {
              "color": "white",
              "width": 0.5
             },
             "pattern": {
              "fillmode": "overlay",
              "size": 10,
              "solidity": 0.2
             }
            },
            "type": "barpolar"
           }
          ],
          "carpet": [
           {
            "aaxis": {
             "endlinecolor": "#2a3f5f",
             "gridcolor": "#C8D4E3",
             "linecolor": "#C8D4E3",
             "minorgridcolor": "#C8D4E3",
             "startlinecolor": "#2a3f5f"
            },
            "baxis": {
             "endlinecolor": "#2a3f5f",
             "gridcolor": "#C8D4E3",
             "linecolor": "#C8D4E3",
             "minorgridcolor": "#C8D4E3",
             "startlinecolor": "#2a3f5f"
            },
            "type": "carpet"
           }
          ],
          "choropleth": [
           {
            "colorbar": {
             "outlinewidth": 0,
             "ticks": ""
            },
            "type": "choropleth"
           }
          ],
          "contour": [
           {
            "colorbar": {
             "outlinewidth": 0,
             "ticks": ""
            },
            "colorscale": [
             [
              0,
              "#0d0887"
             ],
             [
              0.1111111111111111,
              "#46039f"
             ],
             [
              0.2222222222222222,
              "#7201a8"
             ],
             [
              0.3333333333333333,
              "#9c179e"
             ],
             [
              0.4444444444444444,
              "#bd3786"
             ],
             [
              0.5555555555555556,
              "#d8576b"
             ],
             [
              0.6666666666666666,
              "#ed7953"
             ],
             [
              0.7777777777777778,
              "#fb9f3a"
             ],
             [
              0.8888888888888888,
              "#fdca26"
             ],
             [
              1,
              "#f0f921"
             ]
            ],
            "type": "contour"
           }
          ],
          "contourcarpet": [
           {
            "colorbar": {
             "outlinewidth": 0,
             "ticks": ""
            },
            "type": "contourcarpet"
           }
          ],
          "heatmap": [
           {
            "colorbar": {
             "outlinewidth": 0,
             "ticks": ""
            },
            "colorscale": [
             [
              0,
              "#0d0887"
             ],
             [
              0.1111111111111111,
              "#46039f"
             ],
             [
              0.2222222222222222,
              "#7201a8"
             ],
             [
              0.3333333333333333,
              "#9c179e"
             ],
             [
              0.4444444444444444,
              "#bd3786"
             ],
             [
              0.5555555555555556,
              "#d8576b"
             ],
             [
              0.6666666666666666,
              "#ed7953"
             ],
             [
              0.7777777777777778,
              "#fb9f3a"
             ],
             [
              0.8888888888888888,
              "#fdca26"
             ],
             [
              1,
              "#f0f921"
             ]
            ],
            "type": "heatmap"
           }
          ],
          "heatmapgl": [
           {
            "colorbar": {
             "outlinewidth": 0,
             "ticks": ""
            },
            "colorscale": [
             [
              0,
              "#0d0887"
             ],
             [
              0.1111111111111111,
              "#46039f"
             ],
             [
              0.2222222222222222,
              "#7201a8"
             ],
             [
              0.3333333333333333,
              "#9c179e"
             ],
             [
              0.4444444444444444,
              "#bd3786"
             ],
             [
              0.5555555555555556,
              "#d8576b"
             ],
             [
              0.6666666666666666,
              "#ed7953"
             ],
             [
              0.7777777777777778,
              "#fb9f3a"
             ],
             [
              0.8888888888888888,
              "#fdca26"
             ],
             [
              1,
              "#f0f921"
             ]
            ],
            "type": "heatmapgl"
           }
          ],
          "histogram": [
           {
            "marker": {
             "pattern": {
              "fillmode": "overlay",
              "size": 10,
              "solidity": 0.2
             }
            },
            "type": "histogram"
           }
          ],
          "histogram2d": [
           {
            "colorbar": {
             "outlinewidth": 0,
             "ticks": ""
            },
            "colorscale": [
             [
              0,
              "#0d0887"
             ],
             [
              0.1111111111111111,
              "#46039f"
             ],
             [
              0.2222222222222222,
              "#7201a8"
             ],
             [
              0.3333333333333333,
              "#9c179e"
             ],
             [
              0.4444444444444444,
              "#bd3786"
             ],
             [
              0.5555555555555556,
              "#d8576b"
             ],
             [
              0.6666666666666666,
              "#ed7953"
             ],
             [
              0.7777777777777778,
              "#fb9f3a"
             ],
             [
              0.8888888888888888,
              "#fdca26"
             ],
             [
              1,
              "#f0f921"
             ]
            ],
            "type": "histogram2d"
           }
          ],
          "histogram2dcontour": [
           {
            "colorbar": {
             "outlinewidth": 0,
             "ticks": ""
            },
            "colorscale": [
             [
              0,
              "#0d0887"
             ],
             [
              0.1111111111111111,
              "#46039f"
             ],
             [
              0.2222222222222222,
              "#7201a8"
             ],
             [
              0.3333333333333333,
              "#9c179e"
             ],
             [
              0.4444444444444444,
              "#bd3786"
             ],
             [
              0.5555555555555556,
              "#d8576b"
             ],
             [
              0.6666666666666666,
              "#ed7953"
             ],
             [
              0.7777777777777778,
              "#fb9f3a"
             ],
             [
              0.8888888888888888,
              "#fdca26"
             ],
             [
              1,
              "#f0f921"
             ]
            ],
            "type": "histogram2dcontour"
           }
          ],
          "mesh3d": [
           {
            "colorbar": {
             "outlinewidth": 0,
             "ticks": ""
            },
            "type": "mesh3d"
           }
          ],
          "parcoords": [
           {
            "line": {
             "colorbar": {
              "outlinewidth": 0,
              "ticks": ""
             }
            },
            "type": "parcoords"
           }
          ],
          "pie": [
           {
            "automargin": true,
            "type": "pie"
           }
          ],
          "scatter": [
           {
            "fillpattern": {
             "fillmode": "overlay",
             "size": 10,
             "solidity": 0.2
            },
            "type": "scatter"
           }
          ],
          "scatter3d": [
           {
            "line": {
             "colorbar": {
              "outlinewidth": 0,
              "ticks": ""
             }
            },
            "marker": {
             "colorbar": {
              "outlinewidth": 0,
              "ticks": ""
             }
            },
            "type": "scatter3d"
           }
          ],
          "scattercarpet": [
           {
            "marker": {
             "colorbar": {
              "outlinewidth": 0,
              "ticks": ""
             }
            },
            "type": "scattercarpet"
           }
          ],
          "scattergeo": [
           {
            "marker": {
             "colorbar": {
              "outlinewidth": 0,
              "ticks": ""
             }
            },
            "type": "scattergeo"
           }
          ],
          "scattergl": [
           {
            "marker": {
             "colorbar": {
              "outlinewidth": 0,
              "ticks": ""
             }
            },
            "type": "scattergl"
           }
          ],
          "scattermapbox": [
           {
            "marker": {
             "colorbar": {
              "outlinewidth": 0,
              "ticks": ""
             }
            },
            "type": "scattermapbox"
           }
          ],
          "scatterpolar": [
           {
            "marker": {
             "colorbar": {
              "outlinewidth": 0,
              "ticks": ""
             }
            },
            "type": "scatterpolar"
           }
          ],
          "scatterpolargl": [
           {
            "marker": {
             "colorbar": {
              "outlinewidth": 0,
              "ticks": ""
             }
            },
            "type": "scatterpolargl"
           }
          ],
          "scatterternary": [
           {
            "marker": {
             "colorbar": {
              "outlinewidth": 0,
              "ticks": ""
             }
            },
            "type": "scatterternary"
           }
          ],
          "surface": [
           {
            "colorbar": {
             "outlinewidth": 0,
             "ticks": ""
            },
            "colorscale": [
             [
              0,
              "#0d0887"
             ],
             [
              0.1111111111111111,
              "#46039f"
             ],
             [
              0.2222222222222222,
              "#7201a8"
             ],
             [
              0.3333333333333333,
              "#9c179e"
             ],
             [
              0.4444444444444444,
              "#bd3786"
             ],
             [
              0.5555555555555556,
              "#d8576b"
             ],
             [
              0.6666666666666666,
              "#ed7953"
             ],
             [
              0.7777777777777778,
              "#fb9f3a"
             ],
             [
              0.8888888888888888,
              "#fdca26"
             ],
             [
              1,
              "#f0f921"
             ]
            ],
            "type": "surface"
           }
          ],
          "table": [
           {
            "cells": {
             "fill": {
              "color": "#EBF0F8"
             },
             "line": {
              "color": "white"
             }
            },
            "header": {
             "fill": {
              "color": "#C8D4E3"
             },
             "line": {
              "color": "white"
             }
            },
            "type": "table"
           }
          ]
         },
         "layout": {
          "annotationdefaults": {
           "arrowcolor": "#2a3f5f",
           "arrowhead": 0,
           "arrowwidth": 1
          },
          "autotypenumbers": "strict",
          "coloraxis": {
           "colorbar": {
            "outlinewidth": 0,
            "ticks": ""
           }
          },
          "colorscale": {
           "diverging": [
            [
             0,
             "#8e0152"
            ],
            [
             0.1,
             "#c51b7d"
            ],
            [
             0.2,
             "#de77ae"
            ],
            [
             0.3,
             "#f1b6da"
            ],
            [
             0.4,
             "#fde0ef"
            ],
            [
             0.5,
             "#f7f7f7"
            ],
            [
             0.6,
             "#e6f5d0"
            ],
            [
             0.7,
             "#b8e186"
            ],
            [
             0.8,
             "#7fbc41"
            ],
            [
             0.9,
             "#4d9221"
            ],
            [
             1,
             "#276419"
            ]
           ],
           "sequential": [
            [
             0,
             "#0d0887"
            ],
            [
             0.1111111111111111,
             "#46039f"
            ],
            [
             0.2222222222222222,
             "#7201a8"
            ],
            [
             0.3333333333333333,
             "#9c179e"
            ],
            [
             0.4444444444444444,
             "#bd3786"
            ],
            [
             0.5555555555555556,
             "#d8576b"
            ],
            [
             0.6666666666666666,
             "#ed7953"
            ],
            [
             0.7777777777777778,
             "#fb9f3a"
            ],
            [
             0.8888888888888888,
             "#fdca26"
            ],
            [
             1,
             "#f0f921"
            ]
           ],
           "sequentialminus": [
            [
             0,
             "#0d0887"
            ],
            [
             0.1111111111111111,
             "#46039f"
            ],
            [
             0.2222222222222222,
             "#7201a8"
            ],
            [
             0.3333333333333333,
             "#9c179e"
            ],
            [
             0.4444444444444444,
             "#bd3786"
            ],
            [
             0.5555555555555556,
             "#d8576b"
            ],
            [
             0.6666666666666666,
             "#ed7953"
            ],
            [
             0.7777777777777778,
             "#fb9f3a"
            ],
            [
             0.8888888888888888,
             "#fdca26"
            ],
            [
             1,
             "#f0f921"
            ]
           ]
          },
          "colorway": [
           "#636efa",
           "#EF553B",
           "#00cc96",
           "#ab63fa",
           "#FFA15A",
           "#19d3f3",
           "#FF6692",
           "#B6E880",
           "#FF97FF",
           "#FECB52"
          ],
          "font": {
           "color": "#2a3f5f"
          },
          "geo": {
           "bgcolor": "white",
           "lakecolor": "white",
           "landcolor": "white",
           "showlakes": true,
           "showland": true,
           "subunitcolor": "#C8D4E3"
          },
          "hoverlabel": {
           "align": "left"
          },
          "hovermode": "closest",
          "mapbox": {
           "style": "light"
          },
          "paper_bgcolor": "white",
          "plot_bgcolor": "white",
          "polar": {
           "angularaxis": {
            "gridcolor": "#EBF0F8",
            "linecolor": "#EBF0F8",
            "ticks": ""
           },
           "bgcolor": "white",
           "radialaxis": {
            "gridcolor": "#EBF0F8",
            "linecolor": "#EBF0F8",
            "ticks": ""
           }
          },
          "scene": {
           "xaxis": {
            "backgroundcolor": "white",
            "gridcolor": "#DFE8F3",
            "gridwidth": 2,
            "linecolor": "#EBF0F8",
            "showbackground": true,
            "ticks": "",
            "zerolinecolor": "#EBF0F8"
           },
           "yaxis": {
            "backgroundcolor": "white",
            "gridcolor": "#DFE8F3",
            "gridwidth": 2,
            "linecolor": "#EBF0F8",
            "showbackground": true,
            "ticks": "",
            "zerolinecolor": "#EBF0F8"
           },
           "zaxis": {
            "backgroundcolor": "white",
            "gridcolor": "#DFE8F3",
            "gridwidth": 2,
            "linecolor": "#EBF0F8",
            "showbackground": true,
            "ticks": "",
            "zerolinecolor": "#EBF0F8"
           }
          },
          "shapedefaults": {
           "line": {
            "color": "#2a3f5f"
           }
          },
          "ternary": {
           "aaxis": {
            "gridcolor": "#DFE8F3",
            "linecolor": "#A2B1C6",
            "ticks": ""
           },
           "baxis": {
            "gridcolor": "#DFE8F3",
            "linecolor": "#A2B1C6",
            "ticks": ""
           },
           "bgcolor": "white",
           "caxis": {
            "gridcolor": "#DFE8F3",
            "linecolor": "#A2B1C6",
            "ticks": ""
           }
          },
          "title": {
           "x": 0.05
          },
          "xaxis": {
           "automargin": true,
           "gridcolor": "#EBF0F8",
           "linecolor": "#EBF0F8",
           "ticks": "",
           "title": {
            "standoff": 15
           },
           "zerolinecolor": "#EBF0F8",
           "zerolinewidth": 2
          },
          "yaxis": {
           "automargin": true,
           "gridcolor": "#EBF0F8",
           "linecolor": "#EBF0F8",
           "ticks": "",
           "title": {
            "standoff": 15
           },
           "zerolinecolor": "#EBF0F8",
           "zerolinewidth": 2
          }
         }
        },
        "title": {
         "font": {
          "size": 25
         },
         "text": "Sinusoidal with White Noise",
         "x": 0.5,
         "xanchor": "center",
         "yanchor": "top"
        },
        "width": 900,
        "xaxis": {
         "anchor": "y",
         "domain": [
          0,
          1
         ],
         "title": {
          "font": {
           "size": 12
          },
          "text": "Time"
         }
        },
        "yaxis": {
         "anchor": "x",
         "domain": [
          0,
          1
         ],
         "title": {
          "font": {
           "size": 12
          },
          "text": "Value"
         }
        }
       }
      }
     },
     "metadata": {},
     "output_type": "display_data"
    }
   ],
   "source": [
    "import timesynth as ts\n",
    "# Sinusoidal Signal with Amplitude=1 & Frequency=0.25\n",
    "signal=ts.signals.Sinusoidal(amplitude=1, frequency=0.25)\n",
    "# White Noise with standard deviation = 0.3\n",
    "noise=ts.noise.GaussianNoise(std=0.3)\n",
    "# Generate the time series\n",
    "sinusoidal_samples, regular_time_samples, _, _ = generate_timeseries(signal=signal, noise=noise)\n",
    "# Regular_time_samples is a linear increasing time axis and can be used as a trend\n",
    "plot_time_series(regular_time_samples,sinusoidal_samples,\"Sinusoidal with White Noise\")"
   ]
  },
  {
   "cell_type": "code",
   "execution_count": 112,
   "metadata": {},
   "outputs": [
    {
     "data": {
      "application/vnd.plotly.v1+json": {
       "config": {
        "plotlyServerURL": "https://plot.ly"
       },
       "data": [
        {
         "hovertemplate": "Time=%{x}<br>Value=%{y}<extra></extra>",
         "legendgroup": "",
         "line": {
          "color": "#636efa",
          "dash": "solid"
         },
         "marker": {
          "symbol": "circle"
         },
         "mode": "lines",
         "name": "",
         "orientation": "v",
         "showlegend": false,
         "type": "scatter",
         "x": [
          0,
          0.10050251256281408,
          0.20100502512562815,
          0.30150753768844224,
          0.4020100502512563,
          0.5025125628140704,
          0.6030150753768845,
          0.7035175879396985,
          0.8040201005025126,
          0.9045226130653267,
          1.0050251256281408,
          1.105527638190955,
          1.206030150753769,
          1.306532663316583,
          1.407035175879397,
          1.5075376884422111,
          1.6080402010050252,
          1.7085427135678393,
          1.8090452261306533,
          1.9095477386934674,
          2.0100502512562817,
          2.1105527638190957,
          2.21105527638191,
          2.311557788944724,
          2.412060301507538,
          2.512562814070352,
          2.613065326633166,
          2.71356783919598,
          2.814070351758794,
          2.9145728643216082,
          3.0150753768844223,
          3.1155778894472363,
          3.2160804020100504,
          3.3165829145728645,
          3.4170854271356785,
          3.5175879396984926,
          3.6180904522613067,
          3.7185929648241207,
          3.819095477386935,
          3.919597989949749,
          4.020100502512563,
          4.120603015075377,
          4.2211055276381915,
          4.3216080402010055,
          4.42211055276382,
          4.522613065326634,
          4.623115577889448,
          4.723618090452262,
          4.824120603015076,
          4.92462311557789,
          5.025125628140704,
          5.125628140703518,
          5.226130653266332,
          5.326633165829146,
          5.42713567839196,
          5.527638190954774,
          5.628140703517588,
          5.728643216080402,
          5.8291457286432165,
          5.9296482412060305,
          6.030150753768845,
          6.130653266331659,
          6.231155778894473,
          6.331658291457287,
          6.432160804020101,
          6.532663316582915,
          6.633165829145729,
          6.733668341708543,
          6.834170854271357,
          6.934673366834171,
          7.035175879396985,
          7.135678391959799,
          7.236180904522613,
          7.336683417085427,
          7.437185929648241,
          7.5376884422110555,
          7.63819095477387,
          7.738693467336684,
          7.839195979899498,
          7.939698492462312,
          8.040201005025127,
          8.14070351758794,
          8.241206030150755,
          8.341708542713569,
          8.442211055276383,
          8.542713567839197,
          8.643216080402011,
          8.743718592964825,
          8.84422110552764,
          8.944723618090453,
          9.045226130653267,
          9.145728643216081,
          9.246231155778895,
          9.34673366834171,
          9.447236180904524,
          9.547738693467338,
          9.648241206030152,
          9.748743718592966,
          9.84924623115578,
          9.949748743718594,
          10.050251256281408,
          10.150753768844222,
          10.251256281407036,
          10.35175879396985,
          10.452261306532664,
          10.552763819095478,
          10.653266331658292,
          10.753768844221106,
          10.85427135678392,
          10.954773869346734,
          11.055276381909549,
          11.155778894472363,
          11.256281407035177,
          11.35678391959799,
          11.457286432160805,
          11.557788944723619,
          11.658291457286433,
          11.758793969849247,
          11.859296482412061,
          11.959798994974875,
          12.06030150753769,
          12.160804020100503,
          12.261306532663317,
          12.361809045226131,
          12.462311557788945,
          12.56281407035176,
          12.663316582914574,
          12.763819095477388,
          12.864321608040202,
          12.964824120603016,
          13.06532663316583,
          13.165829145728644,
          13.266331658291458,
          13.366834170854272,
          13.467336683417086,
          13.5678391959799,
          13.668341708542714,
          13.768844221105528,
          13.869346733668342,
          13.969849246231156,
          14.07035175879397,
          14.170854271356784,
          14.271356783919598,
          14.371859296482413,
          14.472361809045227,
          14.57286432160804,
          14.673366834170855,
          14.773869346733669,
          14.874371859296483,
          14.974874371859297,
          15.075376884422111,
          15.175879396984925,
          15.27638190954774,
          15.376884422110553,
          15.477386934673367,
          15.577889447236181,
          15.678391959798995,
          15.77889447236181,
          15.879396984924623,
          15.979899497487438,
          16.080402010050253,
          16.180904522613066,
          16.28140703517588,
          16.381909547738694,
          16.48241206030151,
          16.582914572864322,
          16.683417085427138,
          16.78391959798995,
          16.884422110552766,
          16.984924623115578,
          17.085427135678394,
          17.185929648241206,
          17.286432160804022,
          17.386934673366834,
          17.48743718592965,
          17.587939698492463,
          17.68844221105528,
          17.78894472361809,
          17.889447236180906,
          17.98994974874372,
          18.090452261306535,
          18.190954773869347,
          18.291457286432163,
          18.391959798994975,
          18.49246231155779,
          18.592964824120603,
          18.69346733668342,
          18.79396984924623,
          18.894472361809047,
          18.99497487437186,
          19.095477386934675,
          19.195979899497488,
          19.296482412060303,
          19.396984924623116,
          19.49748743718593,
          19.597989949748744,
          19.69849246231156,
          19.798994974874372,
          19.899497487437188,
          20
         ],
         "xaxis": "x",
         "y": [
          -0.2051070110412719,
          0.3207205773789479,
          -0.006325376870017607,
          0.38193204069203945,
          0.6539137796208329,
          1.349915317453355,
          0.6701492951326953,
          1.687248257683206,
          1.232214065831268,
          0.9155434908361022,
          1.624150959179035,
          1.2815069730299398,
          1.7719951964438136,
          1.6073391257350829,
          1.4065623548167088,
          1.2861256754446164,
          0.6618271488288395,
          1.3057698645213067,
          1.2908710724880645,
          0.8369823234136572,
          0.8465034361932898,
          0.6651323299046047,
          0.05607182603536953,
          0.272311753599361,
          -0.1606047553624168,
          -0.3944029998720391,
          0.6648684318519973,
          0.31098835709506334,
          0.16428055411558906,
          0.44382616077181114,
          0.22791842552294972,
          -0.1509904874401644,
          -0.002427978244219142,
          1.0265724671592382,
          0.20773747110798557,
          0.45558828964231624,
          0.8364255684446527,
          0.8988889433079199,
          0.9052245008852671,
          1.3584095215002225,
          2.0814735605590453,
          1.7050018081570828,
          2.300478502901816,
          2.016394852040447,
          1.9780599781066435,
          2.666272632133915,
          2.90791763381418,
          2.9418045651784457,
          2.7429407435173827,
          2.763733363844295,
          2.9955098653343537,
          3.2140285438094356,
          3.074030554042375,
          3.093262936465506,
          2.9978274292970117,
          3.004407169514825,
          2.411398912225994,
          2.145048459490834,
          2.308575329232844,
          2.2725756401853494,
          2.3753044307449547,
          2.3900611078359146,
          2.3765122973294504,
          2.4040099285649457,
          1.9393691477784318,
          1.9145794329323667,
          1.8735278172573686,
          1.8048494581690933,
          1.8304856377699557,
          2.6543928829675636,
          1.5238452526244985,
          1.802376278787781,
          1.9716034057005025,
          2.115897550289843,
          2.191026562179314,
          2.406651861461052,
          2.931105517776565,
          3.1190784780110135,
          3.2195262182072257,
          2.7473705786576117,
          3.292290240624471,
          3.5322942167770406,
          3.9548907271314415,
          4.024198996577167,
          3.871423350296946,
          4.263287370585981,
          4.498958614223126,
          4.024888044928501,
          4.534481697099203,
          4.369378575265618,
          4.3843375481722875,
          4.849020055395544,
          4.088911653307047,
          4.168910017483573,
          3.5641535481629667,
          4.230779973468374,
          4.245570530931616,
          4.188335723835777,
          3.920801584888019,
          3.663961205336373,
          3.678868344953091,
          3.911857691162046,
          3.567649974269107,
          3.653392655874838,
          3.6455502092454397,
          3.544085364399467,
          3.3678658294374113,
          3.7776062102755525,
          3.7271946050685845,
          3.662580892724791,
          3.363461954533731,
          2.88176382615519,
          3.5292043222472897,
          3.715080936893503,
          3.135727891800067,
          3.9091256256192244,
          4.667884936944882,
          4.406747423086923,
          4.399330245915615,
          4.5987018352923394,
          4.65540424749243,
          5.658527887291357,
          5.122591890104569,
          5.541492505143435,
          6.089720537200869,
          5.750994308952153,
          6.195492514352207,
          5.720547330980485,
          6.06180822270638,
          6.119571432340273,
          6.776573536962496,
          6.210184576811329,
          5.649999839266354,
          6.157333690594326,
          5.712160409152228,
          5.430409547273571,
          6.392259656876801,
          5.711319514427571,
          5.72443746541221,
          5.723737126425011,
          5.627201794724742,
          5.567745233904505,
          5.15156335656401,
          4.891011841612453,
          5.038192027309788,
          4.911281493738037,
          5.214196504409057,
          5.253570319994331,
          4.684630397262181,
          4.894030865031958,
          4.88804558441784,
          5.066434971281636,
          4.500010953817068,
          4.6338269988426095,
          4.604402370151471,
          6.039479178759088,
          6.572649661710285,
          5.86145157714213,
          6.438591573317138,
          5.925590064297648,
          6.4910719005123285,
          6.920090089923161,
          6.750674922429143,
          7.095256708506554,
          7.23139898553059,
          7.422089543991582,
          7.717046143266126,
          7.8745141591142795,
          8.056364927206054,
          7.988567763827509,
          8.054539666139458,
          7.810613590026455,
          8.1252408487375,
          8.109355781814902,
          7.670457613689992,
          6.875682971889313,
          7.5692393539349965,
          7.6102807324446715,
          7.035851073690016,
          7.433110733906119,
          7.672110751143653,
          6.451986770064879,
          6.528786351877739,
          6.750915818051093,
          6.444320783534043,
          6.864008236464533,
          6.558943525203284,
          6.62355063609509,
          6.502190969288481,
          6.293972701510425,
          6.575874302891053,
          6.696131448548442,
          6.781438338790933,
          6.772723726052521,
          6.86834645517305,
          6.81343499665226,
          7.63163108327794,
          7.747280030429605,
          7.962969987931285,
          7.736730377770991
         ],
         "yaxis": "y"
        }
       ],
       "layout": {
        "autosize": false,
        "height": 500,
        "legend": {
         "tracegroupgap": 0
        },
        "margin": {
         "t": 60
        },
        "template": {
         "data": {
          "bar": [
           {
            "error_x": {
             "color": "#2a3f5f"
            },
            "error_y": {
             "color": "#2a3f5f"
            },
            "marker": {
             "line": {
              "color": "white",
              "width": 0.5
             },
             "pattern": {
              "fillmode": "overlay",
              "size": 10,
              "solidity": 0.2
             }
            },
            "type": "bar"
           }
          ],
          "barpolar": [
           {
            "marker": {
             "line": {
              "color": "white",
              "width": 0.5
             },
             "pattern": {
              "fillmode": "overlay",
              "size": 10,
              "solidity": 0.2
             }
            },
            "type": "barpolar"
           }
          ],
          "carpet": [
           {
            "aaxis": {
             "endlinecolor": "#2a3f5f",
             "gridcolor": "#C8D4E3",
             "linecolor": "#C8D4E3",
             "minorgridcolor": "#C8D4E3",
             "startlinecolor": "#2a3f5f"
            },
            "baxis": {
             "endlinecolor": "#2a3f5f",
             "gridcolor": "#C8D4E3",
             "linecolor": "#C8D4E3",
             "minorgridcolor": "#C8D4E3",
             "startlinecolor": "#2a3f5f"
            },
            "type": "carpet"
           }
          ],
          "choropleth": [
           {
            "colorbar": {
             "outlinewidth": 0,
             "ticks": ""
            },
            "type": "choropleth"
           }
          ],
          "contour": [
           {
            "colorbar": {
             "outlinewidth": 0,
             "ticks": ""
            },
            "colorscale": [
             [
              0,
              "#0d0887"
             ],
             [
              0.1111111111111111,
              "#46039f"
             ],
             [
              0.2222222222222222,
              "#7201a8"
             ],
             [
              0.3333333333333333,
              "#9c179e"
             ],
             [
              0.4444444444444444,
              "#bd3786"
             ],
             [
              0.5555555555555556,
              "#d8576b"
             ],
             [
              0.6666666666666666,
              "#ed7953"
             ],
             [
              0.7777777777777778,
              "#fb9f3a"
             ],
             [
              0.8888888888888888,
              "#fdca26"
             ],
             [
              1,
              "#f0f921"
             ]
            ],
            "type": "contour"
           }
          ],
          "contourcarpet": [
           {
            "colorbar": {
             "outlinewidth": 0,
             "ticks": ""
            },
            "type": "contourcarpet"
           }
          ],
          "heatmap": [
           {
            "colorbar": {
             "outlinewidth": 0,
             "ticks": ""
            },
            "colorscale": [
             [
              0,
              "#0d0887"
             ],
             [
              0.1111111111111111,
              "#46039f"
             ],
             [
              0.2222222222222222,
              "#7201a8"
             ],
             [
              0.3333333333333333,
              "#9c179e"
             ],
             [
              0.4444444444444444,
              "#bd3786"
             ],
             [
              0.5555555555555556,
              "#d8576b"
             ],
             [
              0.6666666666666666,
              "#ed7953"
             ],
             [
              0.7777777777777778,
              "#fb9f3a"
             ],
             [
              0.8888888888888888,
              "#fdca26"
             ],
             [
              1,
              "#f0f921"
             ]
            ],
            "type": "heatmap"
           }
          ],
          "heatmapgl": [
           {
            "colorbar": {
             "outlinewidth": 0,
             "ticks": ""
            },
            "colorscale": [
             [
              0,
              "#0d0887"
             ],
             [
              0.1111111111111111,
              "#46039f"
             ],
             [
              0.2222222222222222,
              "#7201a8"
             ],
             [
              0.3333333333333333,
              "#9c179e"
             ],
             [
              0.4444444444444444,
              "#bd3786"
             ],
             [
              0.5555555555555556,
              "#d8576b"
             ],
             [
              0.6666666666666666,
              "#ed7953"
             ],
             [
              0.7777777777777778,
              "#fb9f3a"
             ],
             [
              0.8888888888888888,
              "#fdca26"
             ],
             [
              1,
              "#f0f921"
             ]
            ],
            "type": "heatmapgl"
           }
          ],
          "histogram": [
           {
            "marker": {
             "pattern": {
              "fillmode": "overlay",
              "size": 10,
              "solidity": 0.2
             }
            },
            "type": "histogram"
           }
          ],
          "histogram2d": [
           {
            "colorbar": {
             "outlinewidth": 0,
             "ticks": ""
            },
            "colorscale": [
             [
              0,
              "#0d0887"
             ],
             [
              0.1111111111111111,
              "#46039f"
             ],
             [
              0.2222222222222222,
              "#7201a8"
             ],
             [
              0.3333333333333333,
              "#9c179e"
             ],
             [
              0.4444444444444444,
              "#bd3786"
             ],
             [
              0.5555555555555556,
              "#d8576b"
             ],
             [
              0.6666666666666666,
              "#ed7953"
             ],
             [
              0.7777777777777778,
              "#fb9f3a"
             ],
             [
              0.8888888888888888,
              "#fdca26"
             ],
             [
              1,
              "#f0f921"
             ]
            ],
            "type": "histogram2d"
           }
          ],
          "histogram2dcontour": [
           {
            "colorbar": {
             "outlinewidth": 0,
             "ticks": ""
            },
            "colorscale": [
             [
              0,
              "#0d0887"
             ],
             [
              0.1111111111111111,
              "#46039f"
             ],
             [
              0.2222222222222222,
              "#7201a8"
             ],
             [
              0.3333333333333333,
              "#9c179e"
             ],
             [
              0.4444444444444444,
              "#bd3786"
             ],
             [
              0.5555555555555556,
              "#d8576b"
             ],
             [
              0.6666666666666666,
              "#ed7953"
             ],
             [
              0.7777777777777778,
              "#fb9f3a"
             ],
             [
              0.8888888888888888,
              "#fdca26"
             ],
             [
              1,
              "#f0f921"
             ]
            ],
            "type": "histogram2dcontour"
           }
          ],
          "mesh3d": [
           {
            "colorbar": {
             "outlinewidth": 0,
             "ticks": ""
            },
            "type": "mesh3d"
           }
          ],
          "parcoords": [
           {
            "line": {
             "colorbar": {
              "outlinewidth": 0,
              "ticks": ""
             }
            },
            "type": "parcoords"
           }
          ],
          "pie": [
           {
            "automargin": true,
            "type": "pie"
           }
          ],
          "scatter": [
           {
            "fillpattern": {
             "fillmode": "overlay",
             "size": 10,
             "solidity": 0.2
            },
            "type": "scatter"
           }
          ],
          "scatter3d": [
           {
            "line": {
             "colorbar": {
              "outlinewidth": 0,
              "ticks": ""
             }
            },
            "marker": {
             "colorbar": {
              "outlinewidth": 0,
              "ticks": ""
             }
            },
            "type": "scatter3d"
           }
          ],
          "scattercarpet": [
           {
            "marker": {
             "colorbar": {
              "outlinewidth": 0,
              "ticks": ""
             }
            },
            "type": "scattercarpet"
           }
          ],
          "scattergeo": [
           {
            "marker": {
             "colorbar": {
              "outlinewidth": 0,
              "ticks": ""
             }
            },
            "type": "scattergeo"
           }
          ],
          "scattergl": [
           {
            "marker": {
             "colorbar": {
              "outlinewidth": 0,
              "ticks": ""
             }
            },
            "type": "scattergl"
           }
          ],
          "scattermapbox": [
           {
            "marker": {
             "colorbar": {
              "outlinewidth": 0,
              "ticks": ""
             }
            },
            "type": "scattermapbox"
           }
          ],
          "scatterpolar": [
           {
            "marker": {
             "colorbar": {
              "outlinewidth": 0,
              "ticks": ""
             }
            },
            "type": "scatterpolar"
           }
          ],
          "scatterpolargl": [
           {
            "marker": {
             "colorbar": {
              "outlinewidth": 0,
              "ticks": ""
             }
            },
            "type": "scatterpolargl"
           }
          ],
          "scatterternary": [
           {
            "marker": {
             "colorbar": {
              "outlinewidth": 0,
              "ticks": ""
             }
            },
            "type": "scatterternary"
           }
          ],
          "surface": [
           {
            "colorbar": {
             "outlinewidth": 0,
             "ticks": ""
            },
            "colorscale": [
             [
              0,
              "#0d0887"
             ],
             [
              0.1111111111111111,
              "#46039f"
             ],
             [
              0.2222222222222222,
              "#7201a8"
             ],
             [
              0.3333333333333333,
              "#9c179e"
             ],
             [
              0.4444444444444444,
              "#bd3786"
             ],
             [
              0.5555555555555556,
              "#d8576b"
             ],
             [
              0.6666666666666666,
              "#ed7953"
             ],
             [
              0.7777777777777778,
              "#fb9f3a"
             ],
             [
              0.8888888888888888,
              "#fdca26"
             ],
             [
              1,
              "#f0f921"
             ]
            ],
            "type": "surface"
           }
          ],
          "table": [
           {
            "cells": {
             "fill": {
              "color": "#EBF0F8"
             },
             "line": {
              "color": "white"
             }
            },
            "header": {
             "fill": {
              "color": "#C8D4E3"
             },
             "line": {
              "color": "white"
             }
            },
            "type": "table"
           }
          ]
         },
         "layout": {
          "annotationdefaults": {
           "arrowcolor": "#2a3f5f",
           "arrowhead": 0,
           "arrowwidth": 1
          },
          "autotypenumbers": "strict",
          "coloraxis": {
           "colorbar": {
            "outlinewidth": 0,
            "ticks": ""
           }
          },
          "colorscale": {
           "diverging": [
            [
             0,
             "#8e0152"
            ],
            [
             0.1,
             "#c51b7d"
            ],
            [
             0.2,
             "#de77ae"
            ],
            [
             0.3,
             "#f1b6da"
            ],
            [
             0.4,
             "#fde0ef"
            ],
            [
             0.5,
             "#f7f7f7"
            ],
            [
             0.6,
             "#e6f5d0"
            ],
            [
             0.7,
             "#b8e186"
            ],
            [
             0.8,
             "#7fbc41"
            ],
            [
             0.9,
             "#4d9221"
            ],
            [
             1,
             "#276419"
            ]
           ],
           "sequential": [
            [
             0,
             "#0d0887"
            ],
            [
             0.1111111111111111,
             "#46039f"
            ],
            [
             0.2222222222222222,
             "#7201a8"
            ],
            [
             0.3333333333333333,
             "#9c179e"
            ],
            [
             0.4444444444444444,
             "#bd3786"
            ],
            [
             0.5555555555555556,
             "#d8576b"
            ],
            [
             0.6666666666666666,
             "#ed7953"
            ],
            [
             0.7777777777777778,
             "#fb9f3a"
            ],
            [
             0.8888888888888888,
             "#fdca26"
            ],
            [
             1,
             "#f0f921"
            ]
           ],
           "sequentialminus": [
            [
             0,
             "#0d0887"
            ],
            [
             0.1111111111111111,
             "#46039f"
            ],
            [
             0.2222222222222222,
             "#7201a8"
            ],
            [
             0.3333333333333333,
             "#9c179e"
            ],
            [
             0.4444444444444444,
             "#bd3786"
            ],
            [
             0.5555555555555556,
             "#d8576b"
            ],
            [
             0.6666666666666666,
             "#ed7953"
            ],
            [
             0.7777777777777778,
             "#fb9f3a"
            ],
            [
             0.8888888888888888,
             "#fdca26"
            ],
            [
             1,
             "#f0f921"
            ]
           ]
          },
          "colorway": [
           "#636efa",
           "#EF553B",
           "#00cc96",
           "#ab63fa",
           "#FFA15A",
           "#19d3f3",
           "#FF6692",
           "#B6E880",
           "#FF97FF",
           "#FECB52"
          ],
          "font": {
           "color": "#2a3f5f"
          },
          "geo": {
           "bgcolor": "white",
           "lakecolor": "white",
           "landcolor": "white",
           "showlakes": true,
           "showland": true,
           "subunitcolor": "#C8D4E3"
          },
          "hoverlabel": {
           "align": "left"
          },
          "hovermode": "closest",
          "mapbox": {
           "style": "light"
          },
          "paper_bgcolor": "white",
          "plot_bgcolor": "white",
          "polar": {
           "angularaxis": {
            "gridcolor": "#EBF0F8",
            "linecolor": "#EBF0F8",
            "ticks": ""
           },
           "bgcolor": "white",
           "radialaxis": {
            "gridcolor": "#EBF0F8",
            "linecolor": "#EBF0F8",
            "ticks": ""
           }
          },
          "scene": {
           "xaxis": {
            "backgroundcolor": "white",
            "gridcolor": "#DFE8F3",
            "gridwidth": 2,
            "linecolor": "#EBF0F8",
            "showbackground": true,
            "ticks": "",
            "zerolinecolor": "#EBF0F8"
           },
           "yaxis": {
            "backgroundcolor": "white",
            "gridcolor": "#DFE8F3",
            "gridwidth": 2,
            "linecolor": "#EBF0F8",
            "showbackground": true,
            "ticks": "",
            "zerolinecolor": "#EBF0F8"
           },
           "zaxis": {
            "backgroundcolor": "white",
            "gridcolor": "#DFE8F3",
            "gridwidth": 2,
            "linecolor": "#EBF0F8",
            "showbackground": true,
            "ticks": "",
            "zerolinecolor": "#EBF0F8"
           }
          },
          "shapedefaults": {
           "line": {
            "color": "#2a3f5f"
           }
          },
          "ternary": {
           "aaxis": {
            "gridcolor": "#DFE8F3",
            "linecolor": "#A2B1C6",
            "ticks": ""
           },
           "baxis": {
            "gridcolor": "#DFE8F3",
            "linecolor": "#A2B1C6",
            "ticks": ""
           },
           "bgcolor": "white",
           "caxis": {
            "gridcolor": "#DFE8F3",
            "linecolor": "#A2B1C6",
            "ticks": ""
           }
          },
          "title": {
           "x": 0.05
          },
          "xaxis": {
           "automargin": true,
           "gridcolor": "#EBF0F8",
           "linecolor": "#EBF0F8",
           "ticks": "",
           "title": {
            "standoff": 15
           },
           "zerolinecolor": "#EBF0F8",
           "zerolinewidth": 2
          },
          "yaxis": {
           "automargin": true,
           "gridcolor": "#EBF0F8",
           "linecolor": "#EBF0F8",
           "ticks": "",
           "title": {
            "standoff": 15
           },
           "zerolinecolor": "#EBF0F8",
           "zerolinewidth": 2
          }
         }
        },
        "title": {
         "font": {
          "size": 25
         },
         "text": "Sinusoidal with Trend and White Noise",
         "x": 0.5,
         "xanchor": "center",
         "yanchor": "top"
        },
        "width": 900,
        "xaxis": {
         "anchor": "y",
         "domain": [
          0,
          1
         ],
         "title": {
          "font": {
           "size": 12
          },
          "text": "Time"
         }
        },
        "yaxis": {
         "anchor": "x",
         "domain": [
          0,
          1
         ],
         "title": {
          "font": {
           "size": 12
          },
          "text": "Value"
         }
        }
       }
      }
     },
     "metadata": {},
     "output_type": "display_data"
    }
   ],
   "source": [
    "trend = regular_time_samples*0.4\n",
    "# Combining the signal and trend\n",
    "ts_2 = sinusoidal_samples+trend\n",
    "plot_time_series(regular_time_samples,ts_2,\"Sinusoidal with Trend and White Noise\")\n"
   ]
  },
  {
   "cell_type": "code",
   "execution_count": 114,
   "metadata": {},
   "outputs": [
    {
     "data": {
      "text/plain": [
       "8.0"
      ]
     },
     "execution_count": 114,
     "metadata": {},
     "output_type": "execute_result"
    }
   ],
   "source": [
    "20*0.4"
   ]
  }
 ],
 "metadata": {
  "kernelspec": {
   "display_name": "modern-ts",
   "language": "python",
   "name": "python3"
  },
  "language_info": {
   "codemirror_mode": {
    "name": "ipython",
    "version": 3
   },
   "file_extension": ".py",
   "mimetype": "text/x-python",
   "name": "python",
   "nbconvert_exporter": "python",
   "pygments_lexer": "ipython3",
   "version": "3.9.18"
  }
 },
 "nbformat": 4,
 "nbformat_minor": 2
}
